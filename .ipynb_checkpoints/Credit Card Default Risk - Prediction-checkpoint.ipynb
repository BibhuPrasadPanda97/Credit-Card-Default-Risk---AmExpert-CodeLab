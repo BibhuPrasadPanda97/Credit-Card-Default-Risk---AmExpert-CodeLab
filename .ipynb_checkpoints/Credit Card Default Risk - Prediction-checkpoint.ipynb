{
 "cells": [
  {
   "cell_type": "markdown",
   "metadata": {},
   "source": [
    "# Credit Card Default Risk - Prediction"
   ]
  },
  {
   "cell_type": "markdown",
   "metadata": {},
   "source": [
    "## Import Libraries and Data"
   ]
  },
  {
   "cell_type": "code",
   "execution_count": 1,
   "metadata": {
    "execution": {
     "iopub.execute_input": "2021-12-05T10:36:53.136295Z",
     "iopub.status.busy": "2021-12-05T10:36:53.135594Z",
     "iopub.status.idle": "2021-12-05T10:36:54.654809Z",
     "shell.execute_reply": "2021-12-05T10:36:54.653926Z",
     "shell.execute_reply.started": "2021-12-05T10:36:53.136189Z"
    }
   },
   "outputs": [],
   "source": [
    "import numpy as np\n",
    "import pandas as pd\n",
    "\n",
    "import matplotlib.pyplot as plt\n",
    "import seaborn as sns\n",
    "\n",
    "from imblearn.over_sampling import SMOTE\n",
    "from sklearn.preprocessing import LabelEncoder, StandardScaler\n",
    "from sklearn.model_selection import train_test_split\n",
    "from sklearn.linear_model import LogisticRegression\n",
    "from sklearn import metrics\n",
    "from sklearn.metrics import confusion_matrix, accuracy_score, classification_report, plot_roc_curve, f1_score\n",
    "\n",
    "from sklearn.neighbors import KNeighborsClassifier\n",
    "from sklearn.ensemble import RandomForestClassifier\n",
    "from sklearn.model_selection import GridSearchCV\n",
    "from xgboost import XGBClassifier"
   ]
  },
  {
   "cell_type": "code",
   "execution_count": 2,
   "metadata": {
    "execution": {
     "iopub.execute_input": "2021-12-05T10:36:54.658988Z",
     "iopub.status.busy": "2021-12-05T10:36:54.658529Z",
     "iopub.status.idle": "2021-12-05T10:36:54.662920Z",
     "shell.execute_reply": "2021-12-05T10:36:54.662114Z",
     "shell.execute_reply.started": "2021-12-05T10:36:54.658953Z"
    }
   },
   "outputs": [],
   "source": [
    "# import warings\n",
    "import warnings\n",
    "warnings.filterwarnings('ignore')"
   ]
  },
  {
   "cell_type": "code",
   "execution_count": 3,
   "metadata": {
    "execution": {
     "iopub.execute_input": "2021-12-05T10:36:54.664227Z",
     "iopub.status.busy": "2021-12-05T10:36:54.663998Z",
     "iopub.status.idle": "2021-12-05T10:36:54.903410Z",
     "shell.execute_reply": "2021-12-05T10:36:54.902618Z",
     "shell.execute_reply.started": "2021-12-05T10:36:54.664199Z"
    },
    "scrolled": true
   },
   "outputs": [
    {
     "data": {
      "text/html": [
       "<div>\n",
       "<style scoped>\n",
       "    .dataframe tbody tr th:only-of-type {\n",
       "        vertical-align: middle;\n",
       "    }\n",
       "\n",
       "    .dataframe tbody tr th {\n",
       "        vertical-align: top;\n",
       "    }\n",
       "\n",
       "    .dataframe thead th {\n",
       "        text-align: right;\n",
       "    }\n",
       "</style>\n",
       "<table border=\"1\" class=\"dataframe\">\n",
       "  <thead>\n",
       "    <tr style=\"text-align: right;\">\n",
       "      <th></th>\n",
       "      <th>customer_id</th>\n",
       "      <th>name</th>\n",
       "      <th>age</th>\n",
       "      <th>gender</th>\n",
       "      <th>owns_car</th>\n",
       "      <th>owns_house</th>\n",
       "      <th>no_of_children</th>\n",
       "      <th>net_yearly_income</th>\n",
       "      <th>no_of_days_employed</th>\n",
       "      <th>occupation_type</th>\n",
       "      <th>total_family_members</th>\n",
       "      <th>migrant_worker</th>\n",
       "      <th>yearly_debt_payments</th>\n",
       "      <th>credit_limit</th>\n",
       "      <th>credit_limit_used(%)</th>\n",
       "      <th>credit_score</th>\n",
       "      <th>prev_defaults</th>\n",
       "      <th>default_in_last_6months</th>\n",
       "      <th>credit_card_default</th>\n",
       "    </tr>\n",
       "  </thead>\n",
       "  <tbody>\n",
       "    <tr>\n",
       "      <th>0</th>\n",
       "      <td>CST_115179</td>\n",
       "      <td>ita Bose</td>\n",
       "      <td>46</td>\n",
       "      <td>F</td>\n",
       "      <td>N</td>\n",
       "      <td>Y</td>\n",
       "      <td>0.0</td>\n",
       "      <td>107934.04</td>\n",
       "      <td>612.0</td>\n",
       "      <td>Unknown</td>\n",
       "      <td>1.0</td>\n",
       "      <td>1.0</td>\n",
       "      <td>33070.28</td>\n",
       "      <td>18690.93</td>\n",
       "      <td>73</td>\n",
       "      <td>544.0</td>\n",
       "      <td>2</td>\n",
       "      <td>1</td>\n",
       "      <td>1</td>\n",
       "    </tr>\n",
       "    <tr>\n",
       "      <th>1</th>\n",
       "      <td>CST_121920</td>\n",
       "      <td>Alper Jonathan</td>\n",
       "      <td>29</td>\n",
       "      <td>M</td>\n",
       "      <td>N</td>\n",
       "      <td>Y</td>\n",
       "      <td>0.0</td>\n",
       "      <td>109862.62</td>\n",
       "      <td>2771.0</td>\n",
       "      <td>Laborers</td>\n",
       "      <td>2.0</td>\n",
       "      <td>0.0</td>\n",
       "      <td>15329.53</td>\n",
       "      <td>37745.19</td>\n",
       "      <td>52</td>\n",
       "      <td>857.0</td>\n",
       "      <td>0</td>\n",
       "      <td>0</td>\n",
       "      <td>0</td>\n",
       "    </tr>\n",
       "    <tr>\n",
       "      <th>2</th>\n",
       "      <td>CST_109330</td>\n",
       "      <td>Umesh Desai</td>\n",
       "      <td>37</td>\n",
       "      <td>M</td>\n",
       "      <td>N</td>\n",
       "      <td>Y</td>\n",
       "      <td>0.0</td>\n",
       "      <td>230153.17</td>\n",
       "      <td>204.0</td>\n",
       "      <td>Laborers</td>\n",
       "      <td>2.0</td>\n",
       "      <td>0.0</td>\n",
       "      <td>48416.60</td>\n",
       "      <td>41598.36</td>\n",
       "      <td>43</td>\n",
       "      <td>650.0</td>\n",
       "      <td>0</td>\n",
       "      <td>0</td>\n",
       "      <td>0</td>\n",
       "    </tr>\n",
       "    <tr>\n",
       "      <th>3</th>\n",
       "      <td>CST_128288</td>\n",
       "      <td>Rie</td>\n",
       "      <td>39</td>\n",
       "      <td>F</td>\n",
       "      <td>N</td>\n",
       "      <td>Y</td>\n",
       "      <td>0.0</td>\n",
       "      <td>122325.82</td>\n",
       "      <td>11941.0</td>\n",
       "      <td>Core staff</td>\n",
       "      <td>2.0</td>\n",
       "      <td>0.0</td>\n",
       "      <td>22574.36</td>\n",
       "      <td>32627.76</td>\n",
       "      <td>20</td>\n",
       "      <td>754.0</td>\n",
       "      <td>0</td>\n",
       "      <td>0</td>\n",
       "      <td>0</td>\n",
       "    </tr>\n",
       "    <tr>\n",
       "      <th>4</th>\n",
       "      <td>CST_151355</td>\n",
       "      <td>McCool</td>\n",
       "      <td>46</td>\n",
       "      <td>M</td>\n",
       "      <td>Y</td>\n",
       "      <td>Y</td>\n",
       "      <td>0.0</td>\n",
       "      <td>387286.00</td>\n",
       "      <td>1459.0</td>\n",
       "      <td>Core staff</td>\n",
       "      <td>1.0</td>\n",
       "      <td>0.0</td>\n",
       "      <td>38282.95</td>\n",
       "      <td>52950.64</td>\n",
       "      <td>75</td>\n",
       "      <td>927.0</td>\n",
       "      <td>0</td>\n",
       "      <td>0</td>\n",
       "      <td>0</td>\n",
       "    </tr>\n",
       "  </tbody>\n",
       "</table>\n",
       "</div>"
      ],
      "text/plain": [
       "  customer_id            name  age gender owns_car owns_house  no_of_children  \\\n",
       "0  CST_115179        ita Bose   46      F        N          Y             0.0   \n",
       "1  CST_121920  Alper Jonathan   29      M        N          Y             0.0   \n",
       "2  CST_109330     Umesh Desai   37      M        N          Y             0.0   \n",
       "3  CST_128288             Rie   39      F        N          Y             0.0   \n",
       "4  CST_151355          McCool   46      M        Y          Y             0.0   \n",
       "\n",
       "   net_yearly_income  no_of_days_employed occupation_type  \\\n",
       "0          107934.04                612.0         Unknown   \n",
       "1          109862.62               2771.0        Laborers   \n",
       "2          230153.17                204.0        Laborers   \n",
       "3          122325.82              11941.0      Core staff   \n",
       "4          387286.00               1459.0      Core staff   \n",
       "\n",
       "   total_family_members  migrant_worker  yearly_debt_payments  credit_limit  \\\n",
       "0                   1.0             1.0              33070.28      18690.93   \n",
       "1                   2.0             0.0              15329.53      37745.19   \n",
       "2                   2.0             0.0              48416.60      41598.36   \n",
       "3                   2.0             0.0              22574.36      32627.76   \n",
       "4                   1.0             0.0              38282.95      52950.64   \n",
       "\n",
       "   credit_limit_used(%)  credit_score  prev_defaults  default_in_last_6months  \\\n",
       "0                    73         544.0              2                        1   \n",
       "1                    52         857.0              0                        0   \n",
       "2                    43         650.0              0                        0   \n",
       "3                    20         754.0              0                        0   \n",
       "4                    75         927.0              0                        0   \n",
       "\n",
       "   credit_card_default  \n",
       "0                    1  \n",
       "1                    0  \n",
       "2                    0  \n",
       "3                    0  \n",
       "4                    0  "
      ]
     },
     "execution_count": 3,
     "metadata": {},
     "output_type": "execute_result"
    }
   ],
   "source": [
    "train_data = pd.read_csv('dataset/train.csv')\n",
    "train_data.head()"
   ]
  },
  {
   "cell_type": "code",
   "execution_count": 4,
   "metadata": {
    "execution": {
     "iopub.execute_input": "2021-12-05T10:36:54.906333Z",
     "iopub.status.busy": "2021-12-05T10:36:54.905977Z",
     "iopub.status.idle": "2021-12-05T10:36:54.978511Z",
     "shell.execute_reply": "2021-12-05T10:36:54.977647Z",
     "shell.execute_reply.started": "2021-12-05T10:36:54.906292Z"
    }
   },
   "outputs": [
    {
     "data": {
      "text/html": [
       "<div>\n",
       "<style scoped>\n",
       "    .dataframe tbody tr th:only-of-type {\n",
       "        vertical-align: middle;\n",
       "    }\n",
       "\n",
       "    .dataframe tbody tr th {\n",
       "        vertical-align: top;\n",
       "    }\n",
       "\n",
       "    .dataframe thead th {\n",
       "        text-align: right;\n",
       "    }\n",
       "</style>\n",
       "<table border=\"1\" class=\"dataframe\">\n",
       "  <thead>\n",
       "    <tr style=\"text-align: right;\">\n",
       "      <th></th>\n",
       "      <th>customer_id</th>\n",
       "      <th>name</th>\n",
       "      <th>age</th>\n",
       "      <th>gender</th>\n",
       "      <th>owns_car</th>\n",
       "      <th>owns_house</th>\n",
       "      <th>no_of_children</th>\n",
       "      <th>net_yearly_income</th>\n",
       "      <th>no_of_days_employed</th>\n",
       "      <th>occupation_type</th>\n",
       "      <th>total_family_members</th>\n",
       "      <th>migrant_worker</th>\n",
       "      <th>yearly_debt_payments</th>\n",
       "      <th>credit_limit</th>\n",
       "      <th>credit_limit_used(%)</th>\n",
       "      <th>credit_score</th>\n",
       "      <th>prev_defaults</th>\n",
       "      <th>default_in_last_6months</th>\n",
       "    </tr>\n",
       "  </thead>\n",
       "  <tbody>\n",
       "    <tr>\n",
       "      <th>0</th>\n",
       "      <td>CST_142525</td>\n",
       "      <td>Siva</td>\n",
       "      <td>52</td>\n",
       "      <td>F</td>\n",
       "      <td>Y</td>\n",
       "      <td>N</td>\n",
       "      <td>0.0</td>\n",
       "      <td>232640.53</td>\n",
       "      <td>998.0</td>\n",
       "      <td>Unknown</td>\n",
       "      <td>2.0</td>\n",
       "      <td>0.0</td>\n",
       "      <td>14406.73</td>\n",
       "      <td>26524.40</td>\n",
       "      <td>4</td>\n",
       "      <td>779.0</td>\n",
       "      <td>0</td>\n",
       "      <td>0</td>\n",
       "    </tr>\n",
       "    <tr>\n",
       "      <th>1</th>\n",
       "      <td>CST_129215</td>\n",
       "      <td>Scott</td>\n",
       "      <td>48</td>\n",
       "      <td>F</td>\n",
       "      <td>N</td>\n",
       "      <td>N</td>\n",
       "      <td>1.0</td>\n",
       "      <td>284396.79</td>\n",
       "      <td>1338.0</td>\n",
       "      <td>Unknown</td>\n",
       "      <td>3.0</td>\n",
       "      <td>0.0</td>\n",
       "      <td>57479.99</td>\n",
       "      <td>68998.72</td>\n",
       "      <td>70</td>\n",
       "      <td>806.0</td>\n",
       "      <td>0</td>\n",
       "      <td>0</td>\n",
       "    </tr>\n",
       "    <tr>\n",
       "      <th>2</th>\n",
       "      <td>CST_138443</td>\n",
       "      <td>Victoria</td>\n",
       "      <td>50</td>\n",
       "      <td>F</td>\n",
       "      <td>N</td>\n",
       "      <td>N</td>\n",
       "      <td>1.0</td>\n",
       "      <td>149419.28</td>\n",
       "      <td>1210.0</td>\n",
       "      <td>Unknown</td>\n",
       "      <td>3.0</td>\n",
       "      <td>0.0</td>\n",
       "      <td>21611.01</td>\n",
       "      <td>25187.80</td>\n",
       "      <td>71</td>\n",
       "      <td>528.0</td>\n",
       "      <td>2</td>\n",
       "      <td>0</td>\n",
       "    </tr>\n",
       "    <tr>\n",
       "      <th>3</th>\n",
       "      <td>CST_123812</td>\n",
       "      <td>John McCrank</td>\n",
       "      <td>30</td>\n",
       "      <td>F</td>\n",
       "      <td>N</td>\n",
       "      <td>N</td>\n",
       "      <td>1.0</td>\n",
       "      <td>160437.54</td>\n",
       "      <td>503.0</td>\n",
       "      <td>Laborers</td>\n",
       "      <td>2.0</td>\n",
       "      <td>1.0</td>\n",
       "      <td>28990.76</td>\n",
       "      <td>29179.39</td>\n",
       "      <td>9</td>\n",
       "      <td>815.0</td>\n",
       "      <td>0</td>\n",
       "      <td>0</td>\n",
       "    </tr>\n",
       "    <tr>\n",
       "      <th>4</th>\n",
       "      <td>CST_144450</td>\n",
       "      <td>Martinne</td>\n",
       "      <td>52</td>\n",
       "      <td>M</td>\n",
       "      <td>N</td>\n",
       "      <td>Y</td>\n",
       "      <td>0.0</td>\n",
       "      <td>233480.37</td>\n",
       "      <td>157.0</td>\n",
       "      <td>Laborers</td>\n",
       "      <td>2.0</td>\n",
       "      <td>1.0</td>\n",
       "      <td>54213.72</td>\n",
       "      <td>82331.82</td>\n",
       "      <td>82</td>\n",
       "      <td>613.0</td>\n",
       "      <td>1</td>\n",
       "      <td>1</td>\n",
       "    </tr>\n",
       "  </tbody>\n",
       "</table>\n",
       "</div>"
      ],
      "text/plain": [
       "  customer_id          name  age gender owns_car owns_house  no_of_children  \\\n",
       "0  CST_142525          Siva   52      F        Y          N             0.0   \n",
       "1  CST_129215         Scott   48      F        N          N             1.0   \n",
       "2  CST_138443      Victoria   50      F        N          N             1.0   \n",
       "3  CST_123812  John McCrank   30      F        N          N             1.0   \n",
       "4  CST_144450      Martinne   52      M        N          Y             0.0   \n",
       "\n",
       "   net_yearly_income  no_of_days_employed occupation_type  \\\n",
       "0          232640.53                998.0         Unknown   \n",
       "1          284396.79               1338.0         Unknown   \n",
       "2          149419.28               1210.0         Unknown   \n",
       "3          160437.54                503.0        Laborers   \n",
       "4          233480.37                157.0        Laborers   \n",
       "\n",
       "   total_family_members  migrant_worker  yearly_debt_payments  credit_limit  \\\n",
       "0                   2.0             0.0              14406.73      26524.40   \n",
       "1                   3.0             0.0              57479.99      68998.72   \n",
       "2                   3.0             0.0              21611.01      25187.80   \n",
       "3                   2.0             1.0              28990.76      29179.39   \n",
       "4                   2.0             1.0              54213.72      82331.82   \n",
       "\n",
       "   credit_limit_used(%)  credit_score  prev_defaults  default_in_last_6months  \n",
       "0                     4         779.0              0                        0  \n",
       "1                    70         806.0              0                        0  \n",
       "2                    71         528.0              2                        0  \n",
       "3                     9         815.0              0                        0  \n",
       "4                    82         613.0              1                        1  "
      ]
     },
     "execution_count": 4,
     "metadata": {},
     "output_type": "execute_result"
    }
   ],
   "source": [
    "test_data = pd.read_csv('dataset/test.csv')\n",
    "test_data.head()"
   ]
  },
  {
   "cell_type": "markdown",
   "metadata": {},
   "source": [
    "### Inspect data and treat data"
   ]
  },
  {
   "cell_type": "code",
   "execution_count": 5,
   "metadata": {
    "execution": {
     "iopub.execute_input": "2021-12-05T10:36:54.980626Z",
     "iopub.status.busy": "2021-12-05T10:36:54.979931Z",
     "iopub.status.idle": "2021-12-05T10:36:54.985027Z",
     "shell.execute_reply": "2021-12-05T10:36:54.984487Z",
     "shell.execute_reply.started": "2021-12-05T10:36:54.980577Z"
    }
   },
   "outputs": [
    {
     "name": "stdout",
     "output_type": "stream",
     "text": [
      "(45528, 19)\n",
      "45528\n"
     ]
    }
   ],
   "source": [
    "# check shape and length\n",
    "print(train_data.shape)\n",
    "print(len(train_data))"
   ]
  },
  {
   "cell_type": "code",
   "execution_count": 6,
   "metadata": {
    "execution": {
     "iopub.execute_input": "2021-12-05T10:36:54.986489Z",
     "iopub.status.busy": "2021-12-05T10:36:54.986286Z",
     "iopub.status.idle": "2021-12-05T10:36:54.996487Z",
     "shell.execute_reply": "2021-12-05T10:36:54.995930Z",
     "shell.execute_reply.started": "2021-12-05T10:36:54.986464Z"
    }
   },
   "outputs": [
    {
     "name": "stdout",
     "output_type": "stream",
     "text": [
      "(11383, 18)\n",
      "11383\n"
     ]
    }
   ],
   "source": [
    "print(test_data.shape)\n",
    "print(len(test_data))"
   ]
  },
  {
   "cell_type": "code",
   "execution_count": 7,
   "metadata": {
    "execution": {
     "iopub.execute_input": "2021-12-05T10:36:54.997734Z",
     "iopub.status.busy": "2021-12-05T10:36:54.997471Z",
     "iopub.status.idle": "2021-12-05T10:36:55.057265Z",
     "shell.execute_reply": "2021-12-05T10:36:55.056463Z",
     "shell.execute_reply.started": "2021-12-05T10:36:54.997706Z"
    }
   },
   "outputs": [
    {
     "name": "stdout",
     "output_type": "stream",
     "text": [
      "<class 'pandas.core.frame.DataFrame'>\n",
      "RangeIndex: 45528 entries, 0 to 45527\n",
      "Data columns (total 19 columns):\n",
      " #   Column                   Non-Null Count  Dtype  \n",
      "---  ------                   --------------  -----  \n",
      " 0   customer_id              45528 non-null  object \n",
      " 1   name                     45528 non-null  object \n",
      " 2   age                      45528 non-null  int64  \n",
      " 3   gender                   45528 non-null  object \n",
      " 4   owns_car                 44981 non-null  object \n",
      " 5   owns_house               45528 non-null  object \n",
      " 6   no_of_children           44754 non-null  float64\n",
      " 7   net_yearly_income        45528 non-null  float64\n",
      " 8   no_of_days_employed      45065 non-null  float64\n",
      " 9   occupation_type          45528 non-null  object \n",
      " 10  total_family_members     45445 non-null  float64\n",
      " 11  migrant_worker           45441 non-null  float64\n",
      " 12  yearly_debt_payments     45433 non-null  float64\n",
      " 13  credit_limit             45528 non-null  float64\n",
      " 14  credit_limit_used(%)     45528 non-null  int64  \n",
      " 15  credit_score             45520 non-null  float64\n",
      " 16  prev_defaults            45528 non-null  int64  \n",
      " 17  default_in_last_6months  45528 non-null  int64  \n",
      " 18  credit_card_default      45528 non-null  int64  \n",
      "dtypes: float64(8), int64(5), object(6)\n",
      "memory usage: 6.6+ MB\n"
     ]
    }
   ],
   "source": [
    "train_data.info()"
   ]
  },
  {
   "cell_type": "code",
   "execution_count": 8,
   "metadata": {
    "execution": {
     "iopub.execute_input": "2021-12-05T10:36:55.058665Z",
     "iopub.status.busy": "2021-12-05T10:36:55.058376Z",
     "iopub.status.idle": "2021-12-05T10:36:55.097724Z",
     "shell.execute_reply": "2021-12-05T10:36:55.096797Z",
     "shell.execute_reply.started": "2021-12-05T10:36:55.058637Z"
    }
   },
   "outputs": [
    {
     "data": {
      "text/plain": [
       "customer_id                0.000000\n",
       "name                       0.000000\n",
       "age                        0.000000\n",
       "gender                     0.000000\n",
       "owns_car                   1.201458\n",
       "owns_house                 0.000000\n",
       "no_of_children             1.700053\n",
       "net_yearly_income          0.000000\n",
       "no_of_days_employed        1.016957\n",
       "occupation_type            0.000000\n",
       "total_family_members       0.182305\n",
       "migrant_worker             0.191091\n",
       "yearly_debt_payments       0.208663\n",
       "credit_limit               0.000000\n",
       "credit_limit_used(%)       0.000000\n",
       "credit_score               0.017572\n",
       "prev_defaults              0.000000\n",
       "default_in_last_6months    0.000000\n",
       "credit_card_default        0.000000\n",
       "dtype: float64"
      ]
     },
     "execution_count": 8,
     "metadata": {},
     "output_type": "execute_result"
    }
   ],
   "source": [
    "# check for null values\n",
    "train_data.isna().mean()*100"
   ]
  },
  {
   "cell_type": "code",
   "execution_count": 9,
   "metadata": {
    "execution": {
     "iopub.execute_input": "2021-12-05T10:36:55.099509Z",
     "iopub.status.busy": "2021-12-05T10:36:55.099110Z",
     "iopub.status.idle": "2021-12-05T10:36:55.142135Z",
     "shell.execute_reply": "2021-12-05T10:36:55.141266Z",
     "shell.execute_reply.started": "2021-12-05T10:36:55.099466Z"
    }
   },
   "outputs": [
    {
     "data": {
      "text/plain": [
       "customer_id                  0\n",
       "name                         0\n",
       "age                          0\n",
       "gender                       0\n",
       "owns_car                   547\n",
       "owns_house                   0\n",
       "no_of_children             774\n",
       "net_yearly_income            0\n",
       "no_of_days_employed        463\n",
       "occupation_type              0\n",
       "total_family_members        83\n",
       "migrant_worker              87\n",
       "yearly_debt_payments        95\n",
       "credit_limit                 0\n",
       "credit_limit_used(%)         0\n",
       "credit_score                 8\n",
       "prev_defaults                0\n",
       "default_in_last_6months      0\n",
       "credit_card_default          0\n",
       "dtype: int64"
      ]
     },
     "execution_count": 9,
     "metadata": {},
     "output_type": "execute_result"
    }
   ],
   "source": [
    "train_data.isna().sum()"
   ]
  },
  {
   "cell_type": "markdown",
   "metadata": {},
   "source": [
    "Check for data imbalance"
   ]
  },
  {
   "cell_type": "code",
   "execution_count": 10,
   "metadata": {
    "execution": {
     "iopub.execute_input": "2021-12-05T10:36:55.145908Z",
     "iopub.status.busy": "2021-12-05T10:36:55.145676Z",
     "iopub.status.idle": "2021-12-05T10:36:55.153422Z",
     "shell.execute_reply": "2021-12-05T10:36:55.152877Z",
     "shell.execute_reply.started": "2021-12-05T10:36:55.145874Z"
    }
   },
   "outputs": [
    {
     "data": {
      "text/plain": [
       "0    91.879722\n",
       "1     8.120278\n",
       "Name: credit_card_default, dtype: float64"
      ]
     },
     "execution_count": 10,
     "metadata": {},
     "output_type": "execute_result"
    }
   ],
   "source": [
    "# check data imbalance\n",
    "train_data.credit_card_default.value_counts(normalize=True)*100"
   ]
  },
  {
   "cell_type": "code",
   "execution_count": 11,
   "metadata": {
    "execution": {
     "iopub.execute_input": "2021-12-05T10:36:55.155440Z",
     "iopub.status.busy": "2021-12-05T10:36:55.154878Z",
     "iopub.status.idle": "2021-12-05T10:36:55.183710Z",
     "shell.execute_reply": "2021-12-05T10:36:55.183000Z",
     "shell.execute_reply.started": "2021-12-05T10:36:55.155403Z"
    }
   },
   "outputs": [
    {
     "data": {
      "text/html": [
       "<div>\n",
       "<style scoped>\n",
       "    .dataframe tbody tr th:only-of-type {\n",
       "        vertical-align: middle;\n",
       "    }\n",
       "\n",
       "    .dataframe tbody tr th {\n",
       "        vertical-align: top;\n",
       "    }\n",
       "\n",
       "    .dataframe thead th {\n",
       "        text-align: right;\n",
       "    }\n",
       "</style>\n",
       "<table border=\"1\" class=\"dataframe\">\n",
       "  <thead>\n",
       "    <tr style=\"text-align: right;\">\n",
       "      <th></th>\n",
       "      <th>customer_id</th>\n",
       "      <th>name</th>\n",
       "      <th>age</th>\n",
       "      <th>gender</th>\n",
       "      <th>owns_car</th>\n",
       "      <th>owns_house</th>\n",
       "      <th>no_of_children</th>\n",
       "      <th>net_yearly_income</th>\n",
       "      <th>no_of_days_employed</th>\n",
       "      <th>occupation_type</th>\n",
       "      <th>total_family_members</th>\n",
       "      <th>migrant_worker</th>\n",
       "      <th>yearly_debt_payments</th>\n",
       "      <th>credit_limit</th>\n",
       "      <th>credit_limit_used(%)</th>\n",
       "      <th>credit_score</th>\n",
       "      <th>prev_defaults</th>\n",
       "      <th>default_in_last_6months</th>\n",
       "      <th>credit_card_default</th>\n",
       "    </tr>\n",
       "  </thead>\n",
       "  <tbody>\n",
       "    <tr>\n",
       "      <th>0</th>\n",
       "      <td>CST_115179</td>\n",
       "      <td>ita Bose</td>\n",
       "      <td>46</td>\n",
       "      <td>F</td>\n",
       "      <td>N</td>\n",
       "      <td>Y</td>\n",
       "      <td>0.0</td>\n",
       "      <td>107934.04</td>\n",
       "      <td>612.0</td>\n",
       "      <td>Unknown</td>\n",
       "      <td>1.0</td>\n",
       "      <td>1.0</td>\n",
       "      <td>33070.28</td>\n",
       "      <td>18690.93</td>\n",
       "      <td>73</td>\n",
       "      <td>544.0</td>\n",
       "      <td>2</td>\n",
       "      <td>1</td>\n",
       "      <td>1</td>\n",
       "    </tr>\n",
       "    <tr>\n",
       "      <th>1</th>\n",
       "      <td>CST_121920</td>\n",
       "      <td>Alper Jonathan</td>\n",
       "      <td>29</td>\n",
       "      <td>M</td>\n",
       "      <td>N</td>\n",
       "      <td>Y</td>\n",
       "      <td>0.0</td>\n",
       "      <td>109862.62</td>\n",
       "      <td>2771.0</td>\n",
       "      <td>Laborers</td>\n",
       "      <td>2.0</td>\n",
       "      <td>0.0</td>\n",
       "      <td>15329.53</td>\n",
       "      <td>37745.19</td>\n",
       "      <td>52</td>\n",
       "      <td>857.0</td>\n",
       "      <td>0</td>\n",
       "      <td>0</td>\n",
       "      <td>0</td>\n",
       "    </tr>\n",
       "    <tr>\n",
       "      <th>2</th>\n",
       "      <td>CST_109330</td>\n",
       "      <td>Umesh Desai</td>\n",
       "      <td>37</td>\n",
       "      <td>M</td>\n",
       "      <td>N</td>\n",
       "      <td>Y</td>\n",
       "      <td>0.0</td>\n",
       "      <td>230153.17</td>\n",
       "      <td>204.0</td>\n",
       "      <td>Laborers</td>\n",
       "      <td>2.0</td>\n",
       "      <td>0.0</td>\n",
       "      <td>48416.60</td>\n",
       "      <td>41598.36</td>\n",
       "      <td>43</td>\n",
       "      <td>650.0</td>\n",
       "      <td>0</td>\n",
       "      <td>0</td>\n",
       "      <td>0</td>\n",
       "    </tr>\n",
       "    <tr>\n",
       "      <th>3</th>\n",
       "      <td>CST_128288</td>\n",
       "      <td>Rie</td>\n",
       "      <td>39</td>\n",
       "      <td>F</td>\n",
       "      <td>N</td>\n",
       "      <td>Y</td>\n",
       "      <td>0.0</td>\n",
       "      <td>122325.82</td>\n",
       "      <td>11941.0</td>\n",
       "      <td>Core staff</td>\n",
       "      <td>2.0</td>\n",
       "      <td>0.0</td>\n",
       "      <td>22574.36</td>\n",
       "      <td>32627.76</td>\n",
       "      <td>20</td>\n",
       "      <td>754.0</td>\n",
       "      <td>0</td>\n",
       "      <td>0</td>\n",
       "      <td>0</td>\n",
       "    </tr>\n",
       "    <tr>\n",
       "      <th>4</th>\n",
       "      <td>CST_151355</td>\n",
       "      <td>McCool</td>\n",
       "      <td>46</td>\n",
       "      <td>M</td>\n",
       "      <td>Y</td>\n",
       "      <td>Y</td>\n",
       "      <td>0.0</td>\n",
       "      <td>387286.00</td>\n",
       "      <td>1459.0</td>\n",
       "      <td>Core staff</td>\n",
       "      <td>1.0</td>\n",
       "      <td>0.0</td>\n",
       "      <td>38282.95</td>\n",
       "      <td>52950.64</td>\n",
       "      <td>75</td>\n",
       "      <td>927.0</td>\n",
       "      <td>0</td>\n",
       "      <td>0</td>\n",
       "      <td>0</td>\n",
       "    </tr>\n",
       "  </tbody>\n",
       "</table>\n",
       "</div>"
      ],
      "text/plain": [
       "  customer_id            name  age gender owns_car owns_house  no_of_children  \\\n",
       "0  CST_115179        ita Bose   46      F        N          Y             0.0   \n",
       "1  CST_121920  Alper Jonathan   29      M        N          Y             0.0   \n",
       "2  CST_109330     Umesh Desai   37      M        N          Y             0.0   \n",
       "3  CST_128288             Rie   39      F        N          Y             0.0   \n",
       "4  CST_151355          McCool   46      M        Y          Y             0.0   \n",
       "\n",
       "   net_yearly_income  no_of_days_employed occupation_type  \\\n",
       "0          107934.04                612.0         Unknown   \n",
       "1          109862.62               2771.0        Laborers   \n",
       "2          230153.17                204.0        Laborers   \n",
       "3          122325.82              11941.0      Core staff   \n",
       "4          387286.00               1459.0      Core staff   \n",
       "\n",
       "   total_family_members  migrant_worker  yearly_debt_payments  credit_limit  \\\n",
       "0                   1.0             1.0              33070.28      18690.93   \n",
       "1                   2.0             0.0              15329.53      37745.19   \n",
       "2                   2.0             0.0              48416.60      41598.36   \n",
       "3                   2.0             0.0              22574.36      32627.76   \n",
       "4                   1.0             0.0              38282.95      52950.64   \n",
       "\n",
       "   credit_limit_used(%)  credit_score  prev_defaults  default_in_last_6months  \\\n",
       "0                    73         544.0              2                        1   \n",
       "1                    52         857.0              0                        0   \n",
       "2                    43         650.0              0                        0   \n",
       "3                    20         754.0              0                        0   \n",
       "4                    75         927.0              0                        0   \n",
       "\n",
       "   credit_card_default  \n",
       "0                    1  \n",
       "1                    0  \n",
       "2                    0  \n",
       "3                    0  \n",
       "4                    0  "
      ]
     },
     "execution_count": 11,
     "metadata": {},
     "output_type": "execute_result"
    }
   ],
   "source": [
    "train_data.head()"
   ]
  },
  {
   "cell_type": "code",
   "execution_count": 12,
   "metadata": {
    "execution": {
     "iopub.execute_input": "2021-12-05T10:36:55.185159Z",
     "iopub.status.busy": "2021-12-05T10:36:55.184967Z",
     "iopub.status.idle": "2021-12-05T10:36:55.312192Z",
     "shell.execute_reply": "2021-12-05T10:36:55.311301Z",
     "shell.execute_reply.started": "2021-12-05T10:36:55.185135Z"
    }
   },
   "outputs": [
    {
     "name": "stdout",
     "output_type": "stream",
     "text": [
      "Column Name: gender\n",
      "F      29957\n",
      "M      15570\n",
      "XNA        1\n",
      "Name: gender, dtype: int64\n",
      "**************************************************\n",
      "Column Name: owns_car\n",
      "N    29743\n",
      "Y    15238\n",
      "Name: owns_car, dtype: int64\n",
      "**************************************************\n",
      "Column Name: owns_house\n",
      "Y    31642\n",
      "N    13886\n",
      "Name: owns_house, dtype: int64\n",
      "**************************************************\n",
      "Column Name: no_of_children\n",
      "0.0    31241\n",
      "1.0     8985\n",
      "2.0     3862\n",
      "3.0      584\n",
      "4.0       60\n",
      "5.0       13\n",
      "6.0        6\n",
      "8.0        1\n",
      "7.0        1\n",
      "9.0        1\n",
      "Name: no_of_children, dtype: int64\n",
      "**************************************************\n",
      "Column Name: occupation_type\n",
      "Unknown                  14299\n",
      "Laborers                  8134\n",
      "Sales staff               4725\n",
      "Core staff                4062\n",
      "Managers                  3168\n",
      "Drivers                   2747\n",
      "High skill tech staff     1682\n",
      "Accountants               1474\n",
      "Medicine staff            1275\n",
      "Security staff            1025\n",
      "Cooking staff              902\n",
      "Cleaning staff             665\n",
      "Private service staff      387\n",
      "Low-skill Laborers         336\n",
      "Waiters/barmen staff       203\n",
      "Secretaries                199\n",
      "Realty agents              101\n",
      "HR staff                    78\n",
      "IT staff                    66\n",
      "Name: occupation_type, dtype: int64\n",
      "**************************************************\n",
      "Column Name: total_family_members\n",
      "2.0     23455\n",
      "1.0      9913\n",
      "3.0      7812\n",
      "4.0      3623\n",
      "5.0       564\n",
      "6.0        57\n",
      "7.0        12\n",
      "8.0         6\n",
      "10.0        2\n",
      "9.0         1\n",
      "Name: total_family_members, dtype: int64\n",
      "**************************************************\n",
      "Column Name: migrant_worker\n",
      "0.0    37302\n",
      "1.0     8139\n",
      "Name: migrant_worker, dtype: int64\n",
      "**************************************************\n",
      "Column Name: prev_defaults\n",
      "0    43060\n",
      "1     2172\n",
      "2      296\n",
      "Name: prev_defaults, dtype: int64\n",
      "**************************************************\n",
      "Column Name: default_in_last_6months\n",
      "0    43227\n",
      "1     2301\n",
      "Name: default_in_last_6months, dtype: int64\n",
      "**************************************************\n",
      "Column Name: credit_card_default\n",
      "0    41831\n",
      "1     3697\n",
      "Name: credit_card_default, dtype: int64\n",
      "**************************************************\n"
     ]
    }
   ],
   "source": [
    "# get all categorical features\n",
    "cols = train_data.columns \n",
    "\n",
    "for i in cols:\n",
    "    if len(train_data[i].value_counts())<=20:\n",
    "        print(\"Column Name:\",i)\n",
    "        print(train_data[i].value_counts())\n",
    "        print(\"*\"*50)"
   ]
  },
  {
   "cell_type": "markdown",
   "metadata": {},
   "source": [
    "As there are missing values mostly less than 2%, so, let us impute all missing values with statistical way.\n",
    "<br>\n",
    "That is, FillNA by MODE if it is categorical variable and FillNA by MEDIAN if it is numerical variable"
   ]
  },
  {
   "cell_type": "code",
   "execution_count": 13,
   "metadata": {
    "execution": {
     "iopub.execute_input": "2021-12-05T10:36:55.313583Z",
     "iopub.status.busy": "2021-12-05T10:36:55.313358Z",
     "iopub.status.idle": "2021-12-05T10:36:55.353777Z",
     "shell.execute_reply": "2021-12-05T10:36:55.353014Z",
     "shell.execute_reply.started": "2021-12-05T10:36:55.313553Z"
    }
   },
   "outputs": [
    {
     "data": {
      "text/plain": [
       "no_of_children             774\n",
       "owns_car                   547\n",
       "no_of_days_employed        463\n",
       "yearly_debt_payments        95\n",
       "migrant_worker              87\n",
       "total_family_members        83\n",
       "credit_score                 8\n",
       "customer_id                  0\n",
       "default_in_last_6months      0\n",
       "prev_defaults                0\n",
       "dtype: int64"
      ]
     },
     "execution_count": 13,
     "metadata": {},
     "output_type": "execute_result"
    }
   ],
   "source": [
    "train_data.isna().sum().sort_values(ascending=False).head(10)"
   ]
  },
  {
   "cell_type": "code",
   "execution_count": 14,
   "metadata": {
    "execution": {
     "iopub.execute_input": "2021-12-05T10:36:55.355368Z",
     "iopub.status.busy": "2021-12-05T10:36:55.355073Z",
     "iopub.status.idle": "2021-12-05T10:36:55.385024Z",
     "shell.execute_reply": "2021-12-05T10:36:55.384492Z",
     "shell.execute_reply.started": "2021-12-05T10:36:55.355335Z"
    }
   },
   "outputs": [
    {
     "data": {
      "text/html": [
       "<div>\n",
       "<style scoped>\n",
       "    .dataframe tbody tr th:only-of-type {\n",
       "        vertical-align: middle;\n",
       "    }\n",
       "\n",
       "    .dataframe tbody tr th {\n",
       "        vertical-align: top;\n",
       "    }\n",
       "\n",
       "    .dataframe thead th {\n",
       "        text-align: right;\n",
       "    }\n",
       "</style>\n",
       "<table border=\"1\" class=\"dataframe\">\n",
       "  <thead>\n",
       "    <tr style=\"text-align: right;\">\n",
       "      <th></th>\n",
       "      <th>customer_id</th>\n",
       "      <th>name</th>\n",
       "      <th>age</th>\n",
       "      <th>gender</th>\n",
       "      <th>owns_car</th>\n",
       "      <th>owns_house</th>\n",
       "      <th>no_of_children</th>\n",
       "      <th>net_yearly_income</th>\n",
       "      <th>no_of_days_employed</th>\n",
       "      <th>occupation_type</th>\n",
       "      <th>total_family_members</th>\n",
       "      <th>migrant_worker</th>\n",
       "      <th>yearly_debt_payments</th>\n",
       "      <th>credit_limit</th>\n",
       "      <th>credit_limit_used(%)</th>\n",
       "      <th>credit_score</th>\n",
       "      <th>prev_defaults</th>\n",
       "      <th>default_in_last_6months</th>\n",
       "      <th>credit_card_default</th>\n",
       "    </tr>\n",
       "  </thead>\n",
       "  <tbody>\n",
       "    <tr>\n",
       "      <th>28498</th>\n",
       "      <td>CST_144669</td>\n",
       "      <td>ernard</td>\n",
       "      <td>52</td>\n",
       "      <td>XNA</td>\n",
       "      <td>N</td>\n",
       "      <td>Y</td>\n",
       "      <td>2.0</td>\n",
       "      <td>203596.95</td>\n",
       "      <td>2806.0</td>\n",
       "      <td>Low-skill Laborers</td>\n",
       "      <td>4.0</td>\n",
       "      <td>0.0</td>\n",
       "      <td>14700.2</td>\n",
       "      <td>65487.34</td>\n",
       "      <td>40</td>\n",
       "      <td>669.0</td>\n",
       "      <td>0</td>\n",
       "      <td>0</td>\n",
       "      <td>0</td>\n",
       "    </tr>\n",
       "  </tbody>\n",
       "</table>\n",
       "</div>"
      ],
      "text/plain": [
       "      customer_id    name  age gender owns_car owns_house  no_of_children  \\\n",
       "28498  CST_144669  ernard   52    XNA        N          Y             2.0   \n",
       "\n",
       "       net_yearly_income  no_of_days_employed     occupation_type  \\\n",
       "28498          203596.95               2806.0  Low-skill Laborers   \n",
       "\n",
       "       total_family_members  migrant_worker  yearly_debt_payments  \\\n",
       "28498                   4.0             0.0               14700.2   \n",
       "\n",
       "       credit_limit  credit_limit_used(%)  credit_score  prev_defaults  \\\n",
       "28498      65487.34                    40         669.0              0   \n",
       "\n",
       "       default_in_last_6months  credit_card_default  \n",
       "28498                        0                    0  "
      ]
     },
     "execution_count": 14,
     "metadata": {},
     "output_type": "execute_result"
    }
   ],
   "source": [
    "train_data[train_data['gender'] == 'XNA']"
   ]
  },
  {
   "cell_type": "code",
   "execution_count": 15,
   "metadata": {
    "execution": {
     "iopub.execute_input": "2021-12-05T10:36:55.386886Z",
     "iopub.status.busy": "2021-12-05T10:36:55.386361Z",
     "iopub.status.idle": "2021-12-05T10:36:55.413988Z",
     "shell.execute_reply": "2021-12-05T10:36:55.413452Z",
     "shell.execute_reply.started": "2021-12-05T10:36:55.386841Z"
    }
   },
   "outputs": [
    {
     "data": {
      "text/plain": [
       "F    29957\n",
       "M    15571\n",
       "Name: gender, dtype: int64"
      ]
     },
     "execution_count": 15,
     "metadata": {},
     "output_type": "execute_result"
    }
   ],
   "source": [
    "# change it to M as the name pronunces as Male\n",
    "train_data['gender'] = train_data['gender'].apply(lambda x: 'M' if x=='XNA' else x)\n",
    "train_data['gender'].value_counts()"
   ]
  },
  {
   "cell_type": "markdown",
   "metadata": {},
   "source": [
    "impute <i>no_of_children</i> using mode of the data"
   ]
  },
  {
   "cell_type": "code",
   "execution_count": 16,
   "metadata": {
    "execution": {
     "iopub.execute_input": "2021-12-05T10:36:55.415495Z",
     "iopub.status.busy": "2021-12-05T10:36:55.414827Z",
     "iopub.status.idle": "2021-12-05T10:36:55.420290Z",
     "shell.execute_reply": "2021-12-05T10:36:55.419500Z",
     "shell.execute_reply.started": "2021-12-05T10:36:55.415464Z"
    }
   },
   "outputs": [],
   "source": [
    "# fill no_of_children with mode of the data\n",
    "train_data['no_of_children'].fillna(train_data['no_of_children'].mode()[0], inplace=True)"
   ]
  },
  {
   "cell_type": "markdown",
   "metadata": {},
   "source": [
    "impute <i>owns_car</i> using mode of the data"
   ]
  },
  {
   "cell_type": "code",
   "execution_count": 17,
   "metadata": {
    "execution": {
     "iopub.execute_input": "2021-12-05T10:36:55.421905Z",
     "iopub.status.busy": "2021-12-05T10:36:55.421489Z",
     "iopub.status.idle": "2021-12-05T10:36:55.443902Z",
     "shell.execute_reply": "2021-12-05T10:36:55.443146Z",
     "shell.execute_reply.started": "2021-12-05T10:36:55.421876Z"
    }
   },
   "outputs": [],
   "source": [
    "# fill owns_car with mode of the data\n",
    "train_data['owns_car'].fillna(train_data['owns_car'].mode()[0], inplace=True)"
   ]
  },
  {
   "cell_type": "markdown",
   "metadata": {},
   "source": [
    "impute <i>no_of_days_employed</i> using Median based on <i>occupation_type</i> of the data"
   ]
  },
  {
   "cell_type": "code",
   "execution_count": 18,
   "metadata": {
    "execution": {
     "iopub.execute_input": "2021-12-05T10:36:55.445900Z",
     "iopub.status.busy": "2021-12-05T10:36:55.445502Z",
     "iopub.status.idle": "2021-12-05T10:36:55.467510Z",
     "shell.execute_reply": "2021-12-05T10:36:55.466790Z",
     "shell.execute_reply.started": "2021-12-05T10:36:55.445856Z"
    }
   },
   "outputs": [
    {
     "data": {
      "text/plain": [
       "occupation_type\n",
       "Accountants                1822.0\n",
       "Cleaning staff             1509.0\n",
       "Cooking staff              1429.5\n",
       "Core staff                 1883.0\n",
       "Drivers                    1342.0\n",
       "HR staff                   1528.0\n",
       "High skill tech staff      1728.0\n",
       "IT staff                   1747.0\n",
       "Laborers                   1687.0\n",
       "Low-skill Laborers          983.0\n",
       "Managers                   2118.0\n",
       "Medicine staff             2826.0\n",
       "Private service staff      1718.0\n",
       "Realty agents              1390.0\n",
       "Sales staff                1276.0\n",
       "Secretaries                2001.5\n",
       "Security staff             1419.0\n",
       "Unknown                  365241.0\n",
       "Waiters/barmen staff       1258.0\n",
       "Name: no_of_days_employed, dtype: float64"
      ]
     },
     "execution_count": 18,
     "metadata": {},
     "output_type": "execute_result"
    }
   ],
   "source": [
    "# impute 'no_of_days_employed' with median based on 'occupation_type'\n",
    "occp_days_employed = train_data.groupby(by='occupation_type')['no_of_days_employed'].median()\n",
    "occp_days_employed"
   ]
  },
  {
   "cell_type": "code",
   "execution_count": 19,
   "metadata": {
    "execution": {
     "iopub.execute_input": "2021-12-05T10:36:55.469051Z",
     "iopub.status.busy": "2021-12-05T10:36:55.468835Z",
     "iopub.status.idle": "2021-12-05T10:36:55.474165Z",
     "shell.execute_reply": "2021-12-05T10:36:55.473301Z",
     "shell.execute_reply.started": "2021-12-05T10:36:55.469025Z"
    }
   },
   "outputs": [
    {
     "data": {
      "text/plain": [
       "1822.0"
      ]
     },
     "execution_count": 19,
     "metadata": {},
     "output_type": "execute_result"
    }
   ],
   "source": [
    "occp_days_employed['Accountants']"
   ]
  },
  {
   "cell_type": "code",
   "execution_count": 20,
   "metadata": {
    "execution": {
     "iopub.execute_input": "2021-12-05T10:36:55.475800Z",
     "iopub.status.busy": "2021-12-05T10:36:55.475115Z",
     "iopub.status.idle": "2021-12-05T10:36:55.625029Z",
     "shell.execute_reply": "2021-12-05T10:36:55.624074Z",
     "shell.execute_reply.started": "2021-12-05T10:36:55.475766Z"
    }
   },
   "outputs": [],
   "source": [
    "# impute 'no_of_days_employed' with median based on 'occupation_type'\n",
    "for i in occp_days_employed.index:\n",
    "    train_data['no_of_days_employed'] = np.where((train_data['no_of_days_employed'].isna()) & (train_data['occupation_type'] == i), occp_days_employed[i], train_data['no_of_days_employed'])"
   ]
  },
  {
   "cell_type": "code",
   "execution_count": 21,
   "metadata": {
    "execution": {
     "iopub.execute_input": "2021-12-05T10:36:55.626236Z",
     "iopub.status.busy": "2021-12-05T10:36:55.626025Z",
     "iopub.status.idle": "2021-12-05T10:36:55.632537Z",
     "shell.execute_reply": "2021-12-05T10:36:55.631788Z",
     "shell.execute_reply.started": "2021-12-05T10:36:55.626212Z"
    }
   },
   "outputs": [
    {
     "data": {
      "text/plain": [
       "0"
      ]
     },
     "execution_count": 21,
     "metadata": {},
     "output_type": "execute_result"
    }
   ],
   "source": [
    "train_data.no_of_days_employed.isna().sum()"
   ]
  },
  {
   "cell_type": "markdown",
   "metadata": {},
   "source": [
    "impute <i>yearly_debt_payments</i> using Median based on <i>credit_card_default</i> of the data"
   ]
  },
  {
   "cell_type": "code",
   "execution_count": 22,
   "metadata": {
    "execution": {
     "iopub.execute_input": "2021-12-05T10:36:55.634110Z",
     "iopub.status.busy": "2021-12-05T10:36:55.633896Z",
     "iopub.status.idle": "2021-12-05T10:36:55.647437Z",
     "shell.execute_reply": "2021-12-05T10:36:55.646622Z",
     "shell.execute_reply.started": "2021-12-05T10:36:55.634075Z"
    }
   },
   "outputs": [
    {
     "data": {
      "text/plain": [
       "credit_card_default\n",
       "0    29076.84\n",
       "1    29133.40\n",
       "Name: yearly_debt_payments, dtype: float64"
      ]
     },
     "execution_count": 22,
     "metadata": {},
     "output_type": "execute_result"
    }
   ],
   "source": [
    "# impute 'yearly_debt_payments' with median based on 'credit_card_default'\n",
    "yearDebt_credit = train_data.groupby(by='credit_card_default')['yearly_debt_payments'].median()\n",
    "yearDebt_credit"
   ]
  },
  {
   "cell_type": "code",
   "execution_count": 23,
   "metadata": {
    "execution": {
     "iopub.execute_input": "2021-12-05T10:36:55.648712Z",
     "iopub.status.busy": "2021-12-05T10:36:55.648477Z",
     "iopub.status.idle": "2021-12-05T10:36:55.655568Z",
     "shell.execute_reply": "2021-12-05T10:36:55.654843Z",
     "shell.execute_reply.started": "2021-12-05T10:36:55.648683Z"
    }
   },
   "outputs": [],
   "source": [
    "# impute 'yearly_debt_payments' with median based on 'credit_card_default'\n",
    "for i in yearDebt_credit.index:\n",
    "    train_data['yearly_debt_payments'] = np.where((train_data['yearly_debt_payments'].isna()) & (train_data['credit_card_default'] == i), yearDebt_credit[i], train_data['yearly_debt_payments'])"
   ]
  },
  {
   "cell_type": "code",
   "execution_count": 24,
   "metadata": {
    "execution": {
     "iopub.execute_input": "2021-12-05T10:36:55.657788Z",
     "iopub.status.busy": "2021-12-05T10:36:55.657057Z",
     "iopub.status.idle": "2021-12-05T10:36:55.667009Z",
     "shell.execute_reply": "2021-12-05T10:36:55.666125Z",
     "shell.execute_reply.started": "2021-12-05T10:36:55.657751Z"
    }
   },
   "outputs": [
    {
     "data": {
      "text/plain": [
       "0"
      ]
     },
     "execution_count": 24,
     "metadata": {},
     "output_type": "execute_result"
    }
   ],
   "source": [
    "train_data['yearly_debt_payments'].isna().sum()"
   ]
  },
  {
   "cell_type": "markdown",
   "metadata": {},
   "source": [
    "Let's check any more null values pending in features"
   ]
  },
  {
   "cell_type": "code",
   "execution_count": 25,
   "metadata": {
    "execution": {
     "iopub.execute_input": "2021-12-05T10:36:55.669283Z",
     "iopub.status.busy": "2021-12-05T10:36:55.668658Z",
     "iopub.status.idle": "2021-12-05T10:36:55.711133Z",
     "shell.execute_reply": "2021-12-05T10:36:55.710589Z",
     "shell.execute_reply.started": "2021-12-05T10:36:55.669241Z"
    }
   },
   "outputs": [
    {
     "data": {
      "text/plain": [
       "migrant_worker             87\n",
       "total_family_members       83\n",
       "credit_score                8\n",
       "customer_id                 0\n",
       "default_in_last_6months     0\n",
       "prev_defaults               0\n",
       "credit_limit_used(%)        0\n",
       "credit_limit                0\n",
       "yearly_debt_payments        0\n",
       "occupation_type             0\n",
       "dtype: int64"
      ]
     },
     "execution_count": 25,
     "metadata": {},
     "output_type": "execute_result"
    }
   ],
   "source": [
    "train_data.isna().sum().sort_values(ascending=False).head(10)"
   ]
  },
  {
   "cell_type": "markdown",
   "metadata": {},
   "source": [
    "impute <i>migrant_worker</i> using Mode of the data"
   ]
  },
  {
   "cell_type": "code",
   "execution_count": 26,
   "metadata": {
    "execution": {
     "iopub.execute_input": "2021-12-05T10:36:55.712438Z",
     "iopub.status.busy": "2021-12-05T10:36:55.712117Z",
     "iopub.status.idle": "2021-12-05T10:36:55.718842Z",
     "shell.execute_reply": "2021-12-05T10:36:55.718001Z",
     "shell.execute_reply.started": "2021-12-05T10:36:55.712410Z"
    }
   },
   "outputs": [
    {
     "data": {
      "text/plain": [
       "0.0"
      ]
     },
     "execution_count": 26,
     "metadata": {},
     "output_type": "execute_result"
    }
   ],
   "source": [
    "train_data['migrant_worker'].mode()[0]"
   ]
  },
  {
   "cell_type": "code",
   "execution_count": 27,
   "metadata": {
    "execution": {
     "iopub.execute_input": "2021-12-05T10:36:55.720301Z",
     "iopub.status.busy": "2021-12-05T10:36:55.720016Z",
     "iopub.status.idle": "2021-12-05T10:36:55.732418Z",
     "shell.execute_reply": "2021-12-05T10:36:55.731685Z",
     "shell.execute_reply.started": "2021-12-05T10:36:55.720272Z"
    }
   },
   "outputs": [
    {
     "data": {
      "text/plain": [
       "0"
      ]
     },
     "execution_count": 27,
     "metadata": {},
     "output_type": "execute_result"
    }
   ],
   "source": [
    "# imputing with mode of the data\n",
    "train_data['migrant_worker'].fillna(train_data['migrant_worker'].mode()[0], inplace=True)\n",
    "\n",
    "# check null values count\n",
    "train_data['migrant_worker'].isna().sum()"
   ]
  },
  {
   "cell_type": "markdown",
   "metadata": {},
   "source": [
    "impute <i>total_family_members</i> using Mode of the data"
   ]
  },
  {
   "cell_type": "code",
   "execution_count": 28,
   "metadata": {
    "execution": {
     "iopub.execute_input": "2021-12-05T10:36:55.739699Z",
     "iopub.status.busy": "2021-12-05T10:36:55.739121Z",
     "iopub.status.idle": "2021-12-05T10:36:55.745536Z",
     "shell.execute_reply": "2021-12-05T10:36:55.744679Z",
     "shell.execute_reply.started": "2021-12-05T10:36:55.739667Z"
    }
   },
   "outputs": [
    {
     "data": {
      "text/plain": [
       "2.0"
      ]
     },
     "execution_count": 28,
     "metadata": {},
     "output_type": "execute_result"
    }
   ],
   "source": [
    "train_data['total_family_members'].mode()[0]"
   ]
  },
  {
   "cell_type": "code",
   "execution_count": 29,
   "metadata": {
    "execution": {
     "iopub.execute_input": "2021-12-05T10:36:55.747208Z",
     "iopub.status.busy": "2021-12-05T10:36:55.746927Z",
     "iopub.status.idle": "2021-12-05T10:36:55.761863Z",
     "shell.execute_reply": "2021-12-05T10:36:55.760902Z",
     "shell.execute_reply.started": "2021-12-05T10:36:55.747170Z"
    }
   },
   "outputs": [
    {
     "data": {
      "text/plain": [
       "0"
      ]
     },
     "execution_count": 29,
     "metadata": {},
     "output_type": "execute_result"
    }
   ],
   "source": [
    "# imputing with mode of the data\n",
    "train_data['total_family_members'].fillna(train_data['total_family_members'].mode()[0], inplace=True)\n",
    "\n",
    "# check null values count\n",
    "train_data['total_family_members'].isna().sum()"
   ]
  },
  {
   "cell_type": "markdown",
   "metadata": {},
   "source": [
    "impute <i>credit_score</i> using Median based on <i>credit_card_default</i> of the data"
   ]
  },
  {
   "cell_type": "code",
   "execution_count": 30,
   "metadata": {
    "execution": {
     "iopub.execute_input": "2021-12-05T10:36:55.763029Z",
     "iopub.status.busy": "2021-12-05T10:36:55.762831Z",
     "iopub.status.idle": "2021-12-05T10:36:55.777432Z",
     "shell.execute_reply": "2021-12-05T10:36:55.776895Z",
     "shell.execute_reply.started": "2021-12-05T10:36:55.763004Z"
    }
   },
   "outputs": [
    {
     "data": {
      "text/plain": [
       "credit_card_default\n",
       "0    799.0\n",
       "1    599.0\n",
       "Name: credit_score, dtype: float64"
      ]
     },
     "execution_count": 30,
     "metadata": {},
     "output_type": "execute_result"
    }
   ],
   "source": [
    "# check medians of credit_score wrt credit_card_default\n",
    "cred_score = train_data.groupby(by='credit_card_default')['credit_score'].median()\n",
    "cred_score"
   ]
  },
  {
   "cell_type": "code",
   "execution_count": 31,
   "metadata": {
    "execution": {
     "iopub.execute_input": "2021-12-05T10:36:55.779026Z",
     "iopub.status.busy": "2021-12-05T10:36:55.778596Z",
     "iopub.status.idle": "2021-12-05T10:36:55.788979Z",
     "shell.execute_reply": "2021-12-05T10:36:55.788434Z",
     "shell.execute_reply.started": "2021-12-05T10:36:55.778995Z"
    }
   },
   "outputs": [
    {
     "data": {
      "text/plain": [
       "0"
      ]
     },
     "execution_count": 31,
     "metadata": {},
     "output_type": "execute_result"
    }
   ],
   "source": [
    "# impute 'credit_score' with median based on 'credit_card_default'\n",
    "for i in cred_score.index:\n",
    "    train_data['credit_score'] = np.where((train_data['credit_score'].isna()) & (train_data['credit_card_default'] == i), cred_score[i], train_data['credit_score'])\n",
    "\n",
    "# check for null values in 'credit_score'\n",
    "train_data['credit_score'].isna().sum()"
   ]
  },
  {
   "cell_type": "markdown",
   "metadata": {},
   "source": [
    "**Check for Null values in the Data Set**"
   ]
  },
  {
   "cell_type": "code",
   "execution_count": 32,
   "metadata": {
    "execution": {
     "iopub.execute_input": "2021-12-05T10:36:55.790367Z",
     "iopub.status.busy": "2021-12-05T10:36:55.790022Z",
     "iopub.status.idle": "2021-12-05T10:36:55.836577Z",
     "shell.execute_reply": "2021-12-05T10:36:55.835671Z",
     "shell.execute_reply.started": "2021-12-05T10:36:55.790337Z"
    }
   },
   "outputs": [
    {
     "data": {
      "text/plain": [
       "customer_id                0.0\n",
       "name                       0.0\n",
       "age                        0.0\n",
       "gender                     0.0\n",
       "owns_car                   0.0\n",
       "owns_house                 0.0\n",
       "no_of_children             0.0\n",
       "net_yearly_income          0.0\n",
       "no_of_days_employed        0.0\n",
       "occupation_type            0.0\n",
       "total_family_members       0.0\n",
       "migrant_worker             0.0\n",
       "yearly_debt_payments       0.0\n",
       "credit_limit               0.0\n",
       "credit_limit_used(%)       0.0\n",
       "credit_score               0.0\n",
       "prev_defaults              0.0\n",
       "default_in_last_6months    0.0\n",
       "credit_card_default        0.0\n",
       "dtype: float64"
      ]
     },
     "execution_count": 32,
     "metadata": {},
     "output_type": "execute_result"
    }
   ],
   "source": [
    "train_data.isna().mean()*100"
   ]
  },
  {
   "cell_type": "markdown",
   "metadata": {},
   "source": [
    "## EDA"
   ]
  },
  {
   "cell_type": "code",
   "execution_count": 33,
   "metadata": {
    "execution": {
     "iopub.execute_input": "2021-12-05T10:36:55.838251Z",
     "iopub.status.busy": "2021-12-05T10:36:55.838012Z",
     "iopub.status.idle": "2021-12-05T10:36:55.868566Z",
     "shell.execute_reply": "2021-12-05T10:36:55.868015Z",
     "shell.execute_reply.started": "2021-12-05T10:36:55.838221Z"
    }
   },
   "outputs": [
    {
     "data": {
      "text/html": [
       "<div>\n",
       "<style scoped>\n",
       "    .dataframe tbody tr th:only-of-type {\n",
       "        vertical-align: middle;\n",
       "    }\n",
       "\n",
       "    .dataframe tbody tr th {\n",
       "        vertical-align: top;\n",
       "    }\n",
       "\n",
       "    .dataframe thead th {\n",
       "        text-align: right;\n",
       "    }\n",
       "</style>\n",
       "<table border=\"1\" class=\"dataframe\">\n",
       "  <thead>\n",
       "    <tr style=\"text-align: right;\">\n",
       "      <th></th>\n",
       "      <th>customer_id</th>\n",
       "      <th>name</th>\n",
       "      <th>age</th>\n",
       "      <th>gender</th>\n",
       "      <th>owns_car</th>\n",
       "      <th>owns_house</th>\n",
       "      <th>no_of_children</th>\n",
       "      <th>net_yearly_income</th>\n",
       "      <th>no_of_days_employed</th>\n",
       "      <th>occupation_type</th>\n",
       "      <th>total_family_members</th>\n",
       "      <th>migrant_worker</th>\n",
       "      <th>yearly_debt_payments</th>\n",
       "      <th>credit_limit</th>\n",
       "      <th>credit_limit_used(%)</th>\n",
       "      <th>credit_score</th>\n",
       "      <th>prev_defaults</th>\n",
       "      <th>default_in_last_6months</th>\n",
       "      <th>credit_card_default</th>\n",
       "    </tr>\n",
       "  </thead>\n",
       "  <tbody>\n",
       "    <tr>\n",
       "      <th>0</th>\n",
       "      <td>CST_115179</td>\n",
       "      <td>ita Bose</td>\n",
       "      <td>46</td>\n",
       "      <td>F</td>\n",
       "      <td>N</td>\n",
       "      <td>Y</td>\n",
       "      <td>0.0</td>\n",
       "      <td>107934.04</td>\n",
       "      <td>612.0</td>\n",
       "      <td>Unknown</td>\n",
       "      <td>1.0</td>\n",
       "      <td>1.0</td>\n",
       "      <td>33070.28</td>\n",
       "      <td>18690.93</td>\n",
       "      <td>73</td>\n",
       "      <td>544.0</td>\n",
       "      <td>2</td>\n",
       "      <td>1</td>\n",
       "      <td>1</td>\n",
       "    </tr>\n",
       "    <tr>\n",
       "      <th>1</th>\n",
       "      <td>CST_121920</td>\n",
       "      <td>Alper Jonathan</td>\n",
       "      <td>29</td>\n",
       "      <td>M</td>\n",
       "      <td>N</td>\n",
       "      <td>Y</td>\n",
       "      <td>0.0</td>\n",
       "      <td>109862.62</td>\n",
       "      <td>2771.0</td>\n",
       "      <td>Laborers</td>\n",
       "      <td>2.0</td>\n",
       "      <td>0.0</td>\n",
       "      <td>15329.53</td>\n",
       "      <td>37745.19</td>\n",
       "      <td>52</td>\n",
       "      <td>857.0</td>\n",
       "      <td>0</td>\n",
       "      <td>0</td>\n",
       "      <td>0</td>\n",
       "    </tr>\n",
       "    <tr>\n",
       "      <th>2</th>\n",
       "      <td>CST_109330</td>\n",
       "      <td>Umesh Desai</td>\n",
       "      <td>37</td>\n",
       "      <td>M</td>\n",
       "      <td>N</td>\n",
       "      <td>Y</td>\n",
       "      <td>0.0</td>\n",
       "      <td>230153.17</td>\n",
       "      <td>204.0</td>\n",
       "      <td>Laborers</td>\n",
       "      <td>2.0</td>\n",
       "      <td>0.0</td>\n",
       "      <td>48416.60</td>\n",
       "      <td>41598.36</td>\n",
       "      <td>43</td>\n",
       "      <td>650.0</td>\n",
       "      <td>0</td>\n",
       "      <td>0</td>\n",
       "      <td>0</td>\n",
       "    </tr>\n",
       "    <tr>\n",
       "      <th>3</th>\n",
       "      <td>CST_128288</td>\n",
       "      <td>Rie</td>\n",
       "      <td>39</td>\n",
       "      <td>F</td>\n",
       "      <td>N</td>\n",
       "      <td>Y</td>\n",
       "      <td>0.0</td>\n",
       "      <td>122325.82</td>\n",
       "      <td>11941.0</td>\n",
       "      <td>Core staff</td>\n",
       "      <td>2.0</td>\n",
       "      <td>0.0</td>\n",
       "      <td>22574.36</td>\n",
       "      <td>32627.76</td>\n",
       "      <td>20</td>\n",
       "      <td>754.0</td>\n",
       "      <td>0</td>\n",
       "      <td>0</td>\n",
       "      <td>0</td>\n",
       "    </tr>\n",
       "    <tr>\n",
       "      <th>4</th>\n",
       "      <td>CST_151355</td>\n",
       "      <td>McCool</td>\n",
       "      <td>46</td>\n",
       "      <td>M</td>\n",
       "      <td>Y</td>\n",
       "      <td>Y</td>\n",
       "      <td>0.0</td>\n",
       "      <td>387286.00</td>\n",
       "      <td>1459.0</td>\n",
       "      <td>Core staff</td>\n",
       "      <td>1.0</td>\n",
       "      <td>0.0</td>\n",
       "      <td>38282.95</td>\n",
       "      <td>52950.64</td>\n",
       "      <td>75</td>\n",
       "      <td>927.0</td>\n",
       "      <td>0</td>\n",
       "      <td>0</td>\n",
       "      <td>0</td>\n",
       "    </tr>\n",
       "    <tr>\n",
       "      <th>5</th>\n",
       "      <td>CST_123268</td>\n",
       "      <td>Sarah Marsh</td>\n",
       "      <td>46</td>\n",
       "      <td>F</td>\n",
       "      <td>Y</td>\n",
       "      <td>N</td>\n",
       "      <td>0.0</td>\n",
       "      <td>252765.91</td>\n",
       "      <td>2898.0</td>\n",
       "      <td>Accountants</td>\n",
       "      <td>2.0</td>\n",
       "      <td>1.0</td>\n",
       "      <td>37046.86</td>\n",
       "      <td>40245.64</td>\n",
       "      <td>19</td>\n",
       "      <td>937.0</td>\n",
       "      <td>0</td>\n",
       "      <td>0</td>\n",
       "      <td>0</td>\n",
       "    </tr>\n",
       "    <tr>\n",
       "      <th>6</th>\n",
       "      <td>CST_127502</td>\n",
       "      <td>Mason</td>\n",
       "      <td>38</td>\n",
       "      <td>M</td>\n",
       "      <td>N</td>\n",
       "      <td>Y</td>\n",
       "      <td>1.0</td>\n",
       "      <td>262389.20</td>\n",
       "      <td>5541.0</td>\n",
       "      <td>High skill tech staff</td>\n",
       "      <td>3.0</td>\n",
       "      <td>0.0</td>\n",
       "      <td>50839.39</td>\n",
       "      <td>41311.08</td>\n",
       "      <td>42</td>\n",
       "      <td>733.0</td>\n",
       "      <td>0</td>\n",
       "      <td>0</td>\n",
       "      <td>0</td>\n",
       "    </tr>\n",
       "    <tr>\n",
       "      <th>7</th>\n",
       "      <td>CST_151722</td>\n",
       "      <td>Saba</td>\n",
       "      <td>46</td>\n",
       "      <td>F</td>\n",
       "      <td>Y</td>\n",
       "      <td>Y</td>\n",
       "      <td>1.0</td>\n",
       "      <td>241211.39</td>\n",
       "      <td>1448.0</td>\n",
       "      <td>Core staff</td>\n",
       "      <td>3.0</td>\n",
       "      <td>0.0</td>\n",
       "      <td>30008.46</td>\n",
       "      <td>32209.22</td>\n",
       "      <td>91</td>\n",
       "      <td>906.0</td>\n",
       "      <td>0</td>\n",
       "      <td>0</td>\n",
       "      <td>0</td>\n",
       "    </tr>\n",
       "    <tr>\n",
       "      <th>8</th>\n",
       "      <td>CST_133768</td>\n",
       "      <td>Ashutosh</td>\n",
       "      <td>40</td>\n",
       "      <td>F</td>\n",
       "      <td>N</td>\n",
       "      <td>Y</td>\n",
       "      <td>0.0</td>\n",
       "      <td>210091.43</td>\n",
       "      <td>11551.0</td>\n",
       "      <td>Laborers</td>\n",
       "      <td>2.0</td>\n",
       "      <td>0.0</td>\n",
       "      <td>21521.89</td>\n",
       "      <td>65037.74</td>\n",
       "      <td>14</td>\n",
       "      <td>783.0</td>\n",
       "      <td>0</td>\n",
       "      <td>0</td>\n",
       "      <td>0</td>\n",
       "    </tr>\n",
       "    <tr>\n",
       "      <th>9</th>\n",
       "      <td>CST_111670</td>\n",
       "      <td>David Milliken</td>\n",
       "      <td>39</td>\n",
       "      <td>F</td>\n",
       "      <td>Y</td>\n",
       "      <td>Y</td>\n",
       "      <td>2.0</td>\n",
       "      <td>207109.13</td>\n",
       "      <td>2791.0</td>\n",
       "      <td>High skill tech staff</td>\n",
       "      <td>4.0</td>\n",
       "      <td>0.0</td>\n",
       "      <td>9509.10</td>\n",
       "      <td>28425.52</td>\n",
       "      <td>14</td>\n",
       "      <td>666.0</td>\n",
       "      <td>0</td>\n",
       "      <td>0</td>\n",
       "      <td>0</td>\n",
       "    </tr>\n",
       "  </tbody>\n",
       "</table>\n",
       "</div>"
      ],
      "text/plain": [
       "  customer_id            name  age gender owns_car owns_house  no_of_children  \\\n",
       "0  CST_115179        ita Bose   46      F        N          Y             0.0   \n",
       "1  CST_121920  Alper Jonathan   29      M        N          Y             0.0   \n",
       "2  CST_109330     Umesh Desai   37      M        N          Y             0.0   \n",
       "3  CST_128288             Rie   39      F        N          Y             0.0   \n",
       "4  CST_151355          McCool   46      M        Y          Y             0.0   \n",
       "5  CST_123268     Sarah Marsh   46      F        Y          N             0.0   \n",
       "6  CST_127502           Mason   38      M        N          Y             1.0   \n",
       "7  CST_151722            Saba   46      F        Y          Y             1.0   \n",
       "8  CST_133768        Ashutosh   40      F        N          Y             0.0   \n",
       "9  CST_111670  David Milliken   39      F        Y          Y             2.0   \n",
       "\n",
       "   net_yearly_income  no_of_days_employed        occupation_type  \\\n",
       "0          107934.04                612.0                Unknown   \n",
       "1          109862.62               2771.0               Laborers   \n",
       "2          230153.17                204.0               Laborers   \n",
       "3          122325.82              11941.0             Core staff   \n",
       "4          387286.00               1459.0             Core staff   \n",
       "5          252765.91               2898.0            Accountants   \n",
       "6          262389.20               5541.0  High skill tech staff   \n",
       "7          241211.39               1448.0             Core staff   \n",
       "8          210091.43              11551.0               Laborers   \n",
       "9          207109.13               2791.0  High skill tech staff   \n",
       "\n",
       "   total_family_members  migrant_worker  yearly_debt_payments  credit_limit  \\\n",
       "0                   1.0             1.0              33070.28      18690.93   \n",
       "1                   2.0             0.0              15329.53      37745.19   \n",
       "2                   2.0             0.0              48416.60      41598.36   \n",
       "3                   2.0             0.0              22574.36      32627.76   \n",
       "4                   1.0             0.0              38282.95      52950.64   \n",
       "5                   2.0             1.0              37046.86      40245.64   \n",
       "6                   3.0             0.0              50839.39      41311.08   \n",
       "7                   3.0             0.0              30008.46      32209.22   \n",
       "8                   2.0             0.0              21521.89      65037.74   \n",
       "9                   4.0             0.0               9509.10      28425.52   \n",
       "\n",
       "   credit_limit_used(%)  credit_score  prev_defaults  default_in_last_6months  \\\n",
       "0                    73         544.0              2                        1   \n",
       "1                    52         857.0              0                        0   \n",
       "2                    43         650.0              0                        0   \n",
       "3                    20         754.0              0                        0   \n",
       "4                    75         927.0              0                        0   \n",
       "5                    19         937.0              0                        0   \n",
       "6                    42         733.0              0                        0   \n",
       "7                    91         906.0              0                        0   \n",
       "8                    14         783.0              0                        0   \n",
       "9                    14         666.0              0                        0   \n",
       "\n",
       "   credit_card_default  \n",
       "0                    1  \n",
       "1                    0  \n",
       "2                    0  \n",
       "3                    0  \n",
       "4                    0  \n",
       "5                    0  \n",
       "6                    0  \n",
       "7                    0  \n",
       "8                    0  \n",
       "9                    0  "
      ]
     },
     "execution_count": 33,
     "metadata": {},
     "output_type": "execute_result"
    }
   ],
   "source": [
    "train_data.head(10)"
   ]
  },
  {
   "cell_type": "code",
   "execution_count": 34,
   "metadata": {
    "execution": {
     "iopub.execute_input": "2021-12-05T10:36:55.870004Z",
     "iopub.status.busy": "2021-12-05T10:36:55.869663Z",
     "iopub.status.idle": "2021-12-05T10:36:56.024770Z",
     "shell.execute_reply": "2021-12-05T10:36:56.023993Z",
     "shell.execute_reply.started": "2021-12-05T10:36:55.869971Z"
    }
   },
   "outputs": [
    {
     "data": {
      "image/png": "[encoded data removed]",
      "text/plain": [
       "<Figure size 432x288 with 1 Axes>"
      ]
     },
     "metadata": {},
     "output_type": "display_data"
    }
   ],
   "source": [
    "# Ploting Credit_default ratio\n",
    "total_default_values = train_data.credit_card_default.value_counts(ascending=True).values\n",
    "\n",
    "plt.figure()\n",
    "plt.pie(total_default_values, labels=['Defaulter', 'Not Defaulter'], autopct='%1.1f%%', shadow=True)\n",
    "plt.title('Defaulter Ratio', fontsize=18)\n",
    "plt.show()"
   ]
  },
  {
   "cell_type": "code",
   "execution_count": 35,
   "metadata": {
    "execution": {
     "iopub.execute_input": "2021-12-05T10:36:56.026121Z",
     "iopub.status.busy": "2021-12-05T10:36:56.025774Z",
     "iopub.status.idle": "2021-12-05T10:36:56.504565Z",
     "shell.execute_reply": "2021-12-05T10:36:56.504003Z",
     "shell.execute_reply.started": "2021-12-05T10:36:56.026090Z"
    }
   },
   "outputs": [
    {
     "data": {
      "image/png": "[encoded data removed]",
      "text/plain": [
       "<Figure size 432x288 with 1 Axes>"
      ]
     },
     "metadata": {
      "needs_background": "light"
     },
     "output_type": "display_data"
    }
   ],
   "source": [
    "# visualize AGE feature - distplot\n",
    "plt.figure()\n",
    "sns.distplot(train_data['age'])\n",
    "plt.show()"
   ]
  },
  {
   "cell_type": "code",
   "execution_count": 36,
   "metadata": {
    "execution": {
     "iopub.execute_input": "2021-12-05T10:36:56.505949Z",
     "iopub.status.busy": "2021-12-05T10:36:56.505624Z",
     "iopub.status.idle": "2021-12-05T10:36:56.687075Z",
     "shell.execute_reply": "2021-12-05T10:36:56.686534Z",
     "shell.execute_reply.started": "2021-12-05T10:36:56.505922Z"
    }
   },
   "outputs": [
    {
     "data": {
      "image/png": "[encoded data removed]",
      "text/plain": [
       "<Figure size 504x432 with 1 Axes>"
      ]
     },
     "metadata": {
      "needs_background": "light"
     },
     "output_type": "display_data"
    }
   ],
   "source": [
    "# boxplot of credit_defaulter-credit_score\n",
    "plt.figure(figsize=[7,6])\n",
    "sns.boxplot(train_data['credit_card_default'], train_data['credit_score'])\n",
    "plt.show()"
   ]
  },
  {
   "cell_type": "code",
   "execution_count": 37,
   "metadata": {
    "execution": {
     "iopub.execute_input": "2021-12-05T10:36:56.688393Z",
     "iopub.status.busy": "2021-12-05T10:36:56.688102Z",
     "iopub.status.idle": "2021-12-05T10:36:56.874549Z",
     "shell.execute_reply": "2021-12-05T10:36:56.873753Z",
     "shell.execute_reply.started": "2021-12-05T10:36:56.688365Z"
    }
   },
   "outputs": [
    {
     "data": {
      "image/png": "[encoded data removed]",
      "text/plain": [
       "<Figure size 504x432 with 1 Axes>"
      ]
     },
     "metadata": {
      "needs_background": "light"
     },
     "output_type": "display_data"
    }
   ],
   "source": [
    "# boxplot of credit_defaulter-credit_limit_utilization\n",
    "plt.figure(figsize=[7,6])\n",
    "sns.boxplot(train_data['credit_card_default'], train_data['credit_limit_used(%)'])\n",
    "plt.show()"
   ]
  },
  {
   "cell_type": "code",
   "execution_count": 38,
   "metadata": {
    "execution": {
     "iopub.execute_input": "2021-12-05T10:36:56.875864Z",
     "iopub.status.busy": "2021-12-05T10:36:56.875632Z",
     "iopub.status.idle": "2021-12-05T10:36:58.971389Z",
     "shell.execute_reply": "2021-12-05T10:36:58.970510Z",
     "shell.execute_reply.started": "2021-12-05T10:36:56.875836Z"
    }
   },
   "outputs": [
    {
     "data": {
      "image/png": "[encoded data removed]",
      "text/plain": [
       "<Figure size 1296x576 with 1 Axes>"
      ]
     },
     "metadata": {
      "needs_background": "light"
     },
     "output_type": "display_data"
    }
   ],
   "source": [
    "# barplots for occupation types wrt credit_default\n",
    "plt.figure(figsize=[18,8])\n",
    "sns.barplot(x=train_data['occupation_type'], y=train_data['net_yearly_income'], hue=train_data['credit_card_default'])\n",
    "plt.xticks(rotation=45)\n",
    "plt.show()"
   ]
  },
  {
   "cell_type": "code",
   "execution_count": null,
   "metadata": {},
   "outputs": [],
   "source": []
  },
  {
   "cell_type": "code",
   "execution_count": 39,
   "metadata": {
    "execution": {
     "iopub.execute_input": "2021-12-05T10:36:58.972925Z",
     "iopub.status.busy": "2021-12-05T10:36:58.972641Z",
     "iopub.status.idle": "2021-12-05T10:36:59.217907Z",
     "shell.execute_reply": "2021-12-05T10:36:59.217020Z",
     "shell.execute_reply.started": "2021-12-05T10:36:58.972883Z"
    }
   },
   "outputs": [
    {
     "data": {
      "image/png": "[encoded data removed]",
      "text/plain": [
       "<Figure size 504x432 with 1 Axes>"
      ]
     },
     "metadata": {
      "needs_background": "light"
     },
     "output_type": "display_data"
    }
   ],
   "source": [
    "# male or female defaulters\n",
    "plt.figure(figsize=[7,6])\n",
    "sns.countplot(train_data['gender'], hue=train_data['credit_card_default'])\n",
    "plt.show()"
   ]
  },
  {
   "cell_type": "markdown",
   "metadata": {},
   "source": [
    "**Check outliers for continuous valued features**"
   ]
  },
  {
   "cell_type": "code",
   "execution_count": 40,
   "metadata": {
    "execution": {
     "iopub.execute_input": "2021-12-05T10:36:59.220909Z",
     "iopub.status.busy": "2021-12-05T10:36:59.219156Z",
     "iopub.status.idle": "2021-12-05T10:36:59.245625Z",
     "shell.execute_reply": "2021-12-05T10:36:59.244708Z",
     "shell.execute_reply.started": "2021-12-05T10:36:59.220866Z"
    },
    "scrolled": true
   },
   "outputs": [
    {
     "data": {
      "text/html": [
       "<div>\n",
       "<style scoped>\n",
       "    .dataframe tbody tr th:only-of-type {\n",
       "        vertical-align: middle;\n",
       "    }\n",
       "\n",
       "    .dataframe tbody tr th {\n",
       "        vertical-align: top;\n",
       "    }\n",
       "\n",
       "    .dataframe thead th {\n",
       "        text-align: right;\n",
       "    }\n",
       "</style>\n",
       "<table border=\"1\" class=\"dataframe\">\n",
       "  <thead>\n",
       "    <tr style=\"text-align: right;\">\n",
       "      <th></th>\n",
       "      <th>customer_id</th>\n",
       "      <th>name</th>\n",
       "      <th>age</th>\n",
       "      <th>gender</th>\n",
       "      <th>owns_car</th>\n",
       "      <th>owns_house</th>\n",
       "      <th>no_of_children</th>\n",
       "      <th>net_yearly_income</th>\n",
       "      <th>no_of_days_employed</th>\n",
       "      <th>occupation_type</th>\n",
       "      <th>total_family_members</th>\n",
       "      <th>migrant_worker</th>\n",
       "      <th>yearly_debt_payments</th>\n",
       "      <th>credit_limit</th>\n",
       "      <th>credit_limit_used(%)</th>\n",
       "      <th>credit_score</th>\n",
       "      <th>prev_defaults</th>\n",
       "      <th>default_in_last_6months</th>\n",
       "      <th>credit_card_default</th>\n",
       "    </tr>\n",
       "  </thead>\n",
       "  <tbody>\n",
       "    <tr>\n",
       "      <th>0</th>\n",
       "      <td>CST_115179</td>\n",
       "      <td>ita Bose</td>\n",
       "      <td>46</td>\n",
       "      <td>F</td>\n",
       "      <td>N</td>\n",
       "      <td>Y</td>\n",
       "      <td>0.0</td>\n",
       "      <td>107934.04</td>\n",
       "      <td>612.0</td>\n",
       "      <td>Unknown</td>\n",
       "      <td>1.0</td>\n",
       "      <td>1.0</td>\n",
       "      <td>33070.28</td>\n",
       "      <td>18690.93</td>\n",
       "      <td>73</td>\n",
       "      <td>544.0</td>\n",
       "      <td>2</td>\n",
       "      <td>1</td>\n",
       "      <td>1</td>\n",
       "    </tr>\n",
       "    <tr>\n",
       "      <th>1</th>\n",
       "      <td>CST_121920</td>\n",
       "      <td>Alper Jonathan</td>\n",
       "      <td>29</td>\n",
       "      <td>M</td>\n",
       "      <td>N</td>\n",
       "      <td>Y</td>\n",
       "      <td>0.0</td>\n",
       "      <td>109862.62</td>\n",
       "      <td>2771.0</td>\n",
       "      <td>Laborers</td>\n",
       "      <td>2.0</td>\n",
       "      <td>0.0</td>\n",
       "      <td>15329.53</td>\n",
       "      <td>37745.19</td>\n",
       "      <td>52</td>\n",
       "      <td>857.0</td>\n",
       "      <td>0</td>\n",
       "      <td>0</td>\n",
       "      <td>0</td>\n",
       "    </tr>\n",
       "    <tr>\n",
       "      <th>2</th>\n",
       "      <td>CST_109330</td>\n",
       "      <td>Umesh Desai</td>\n",
       "      <td>37</td>\n",
       "      <td>M</td>\n",
       "      <td>N</td>\n",
       "      <td>Y</td>\n",
       "      <td>0.0</td>\n",
       "      <td>230153.17</td>\n",
       "      <td>204.0</td>\n",
       "      <td>Laborers</td>\n",
       "      <td>2.0</td>\n",
       "      <td>0.0</td>\n",
       "      <td>48416.60</td>\n",
       "      <td>41598.36</td>\n",
       "      <td>43</td>\n",
       "      <td>650.0</td>\n",
       "      <td>0</td>\n",
       "      <td>0</td>\n",
       "      <td>0</td>\n",
       "    </tr>\n",
       "    <tr>\n",
       "      <th>3</th>\n",
       "      <td>CST_128288</td>\n",
       "      <td>Rie</td>\n",
       "      <td>39</td>\n",
       "      <td>F</td>\n",
       "      <td>N</td>\n",
       "      <td>Y</td>\n",
       "      <td>0.0</td>\n",
       "      <td>122325.82</td>\n",
       "      <td>11941.0</td>\n",
       "      <td>Core staff</td>\n",
       "      <td>2.0</td>\n",
       "      <td>0.0</td>\n",
       "      <td>22574.36</td>\n",
       "      <td>32627.76</td>\n",
       "      <td>20</td>\n",
       "      <td>754.0</td>\n",
       "      <td>0</td>\n",
       "      <td>0</td>\n",
       "      <td>0</td>\n",
       "    </tr>\n",
       "    <tr>\n",
       "      <th>4</th>\n",
       "      <td>CST_151355</td>\n",
       "      <td>McCool</td>\n",
       "      <td>46</td>\n",
       "      <td>M</td>\n",
       "      <td>Y</td>\n",
       "      <td>Y</td>\n",
       "      <td>0.0</td>\n",
       "      <td>387286.00</td>\n",
       "      <td>1459.0</td>\n",
       "      <td>Core staff</td>\n",
       "      <td>1.0</td>\n",
       "      <td>0.0</td>\n",
       "      <td>38282.95</td>\n",
       "      <td>52950.64</td>\n",
       "      <td>75</td>\n",
       "      <td>927.0</td>\n",
       "      <td>0</td>\n",
       "      <td>0</td>\n",
       "      <td>0</td>\n",
       "    </tr>\n",
       "  </tbody>\n",
       "</table>\n",
       "</div>"
      ],
      "text/plain": [
       "  customer_id            name  age gender owns_car owns_house  no_of_children  \\\n",
       "0  CST_115179        ita Bose   46      F        N          Y             0.0   \n",
       "1  CST_121920  Alper Jonathan   29      M        N          Y             0.0   \n",
       "2  CST_109330     Umesh Desai   37      M        N          Y             0.0   \n",
       "3  CST_128288             Rie   39      F        N          Y             0.0   \n",
       "4  CST_151355          McCool   46      M        Y          Y             0.0   \n",
       "\n",
       "   net_yearly_income  no_of_days_employed occupation_type  \\\n",
       "0          107934.04                612.0         Unknown   \n",
       "1          109862.62               2771.0        Laborers   \n",
       "2          230153.17                204.0        Laborers   \n",
       "3          122325.82              11941.0      Core staff   \n",
       "4          387286.00               1459.0      Core staff   \n",
       "\n",
       "   total_family_members  migrant_worker  yearly_debt_payments  credit_limit  \\\n",
       "0                   1.0             1.0              33070.28      18690.93   \n",
       "1                   2.0             0.0              15329.53      37745.19   \n",
       "2                   2.0             0.0              48416.60      41598.36   \n",
       "3                   2.0             0.0              22574.36      32627.76   \n",
       "4                   1.0             0.0              38282.95      52950.64   \n",
       "\n",
       "   credit_limit_used(%)  credit_score  prev_defaults  default_in_last_6months  \\\n",
       "0                    73         544.0              2                        1   \n",
       "1                    52         857.0              0                        0   \n",
       "2                    43         650.0              0                        0   \n",
       "3                    20         754.0              0                        0   \n",
       "4                    75         927.0              0                        0   \n",
       "\n",
       "   credit_card_default  \n",
       "0                    1  \n",
       "1                    0  \n",
       "2                    0  \n",
       "3                    0  \n",
       "4                    0  "
      ]
     },
     "execution_count": 40,
     "metadata": {},
     "output_type": "execute_result"
    }
   ],
   "source": [
    "train_data.head()"
   ]
  },
  {
   "cell_type": "code",
   "execution_count": 41,
   "metadata": {
    "execution": {
     "iopub.execute_input": "2021-12-05T10:36:59.247249Z",
     "iopub.status.busy": "2021-12-05T10:36:59.246881Z",
     "iopub.status.idle": "2021-12-05T10:36:59.891543Z",
     "shell.execute_reply": "2021-12-05T10:36:59.890656Z",
     "shell.execute_reply.started": "2021-12-05T10:36:59.247204Z"
    }
   },
   "outputs": [
    {
     "data": {
      "image/png": "[encoded data removed]",
      "text/plain": [
       "<Figure size 1152x864 with 5 Axes>"
      ]
     },
     "metadata": {
      "needs_background": "light"
     },
     "output_type": "display_data"
    }
   ],
   "source": [
    "# boxplot of all continuous variables\n",
    "\n",
    "plt.figure(figsize=[16, 12])\n",
    "plt.subplot(2,3,1)\n",
    "train_data['net_yearly_income'].plot.box()\n",
    "plt.title('net_yearly_income Box Plot')\n",
    "\n",
    "plt.subplot(2,3,2)\n",
    "train_data['no_of_days_employed'].plot.box()\n",
    "plt.title('no_of_days_employed Box Plot')\n",
    "\n",
    "plt.subplot(2,3,3)\n",
    "train_data['yearly_debt_payments'].plot.box()\n",
    "plt.title('yearly_debt_payments Box Plot')\n",
    "\n",
    "plt.subplot(2,3,4)\n",
    "train_data['credit_limit'].plot.box()\n",
    "plt.title('credit_limit Box Plot')\n",
    "\n",
    "plt.subplot(2,3,5)\n",
    "train_data['credit_score'].plot.box()\n",
    "plt.title('credit_score Box Plot')\n",
    "plt.show()"
   ]
  },
  {
   "cell_type": "markdown",
   "metadata": {},
   "source": [
    "Check and treat outliers for 'net_yearly_income'"
   ]
  },
  {
   "cell_type": "code",
   "execution_count": 42,
   "metadata": {
    "execution": {
     "iopub.execute_input": "2021-12-05T10:36:59.892952Z",
     "iopub.status.busy": "2021-12-05T10:36:59.892667Z",
     "iopub.status.idle": "2021-12-05T10:37:00.418361Z",
     "shell.execute_reply": "2021-12-05T10:37:00.417768Z",
     "shell.execute_reply.started": "2021-12-05T10:36:59.892921Z"
    }
   },
   "outputs": [
    {
     "data": {
      "image/png": "[encoded data removed]",
      "text/plain": [
       "<Figure size 432x288 with 1 Axes>"
      ]
     },
     "metadata": {
      "needs_background": "light"
     },
     "output_type": "display_data"
    }
   ],
   "source": [
    "# net_yearly_income distribution plot\n",
    "sns.distplot(train_data['net_yearly_income'])\n",
    "plt.show()"
   ]
  },
  {
   "cell_type": "code",
   "execution_count": 43,
   "metadata": {
    "execution": {
     "iopub.execute_input": "2021-12-05T10:37:00.420040Z",
     "iopub.status.busy": "2021-12-05T10:37:00.419302Z",
     "iopub.status.idle": "2021-12-05T10:37:00.431279Z",
     "shell.execute_reply": "2021-12-05T10:37:00.430303Z",
     "shell.execute_reply.started": "2021-12-05T10:37:00.420008Z"
    }
   },
   "outputs": [
    {
     "data": {
      "text/plain": [
       "0.250    1.263458e+05\n",
       "0.500    1.717149e+05\n",
       "0.750    2.406038e+05\n",
       "0.990    5.779015e+05\n",
       "0.998    9.060748e+05\n",
       "1.000    1.407590e+08\n",
       "Name: net_yearly_income, dtype: float64"
      ]
     },
     "execution_count": 43,
     "metadata": {},
     "output_type": "execute_result"
    }
   ],
   "source": [
    "train_data['net_yearly_income'].quantile([0.25, 0.5, 0.75, 0.99, 0.998, 1.0])"
   ]
  },
  {
   "cell_type": "code",
   "execution_count": 44,
   "metadata": {
    "execution": {
     "iopub.execute_input": "2021-12-05T10:37:00.432908Z",
     "iopub.status.busy": "2021-12-05T10:37:00.432688Z",
     "iopub.status.idle": "2021-12-05T10:37:00.469177Z",
     "shell.execute_reply": "2021-12-05T10:37:00.468640Z",
     "shell.execute_reply.started": "2021-12-05T10:37:00.432880Z"
    }
   },
   "outputs": [
    {
     "data": {
      "text/html": [
       "<div>\n",
       "<style scoped>\n",
       "    .dataframe tbody tr th:only-of-type {\n",
       "        vertical-align: middle;\n",
       "    }\n",
       "\n",
       "    .dataframe tbody tr th {\n",
       "        vertical-align: top;\n",
       "    }\n",
       "\n",
       "    .dataframe thead th {\n",
       "        text-align: right;\n",
       "    }\n",
       "</style>\n",
       "<table border=\"1\" class=\"dataframe\">\n",
       "  <thead>\n",
       "    <tr style=\"text-align: right;\">\n",
       "      <th></th>\n",
       "      <th>customer_id</th>\n",
       "      <th>name</th>\n",
       "      <th>age</th>\n",
       "      <th>gender</th>\n",
       "      <th>owns_car</th>\n",
       "      <th>owns_house</th>\n",
       "      <th>no_of_children</th>\n",
       "      <th>net_yearly_income</th>\n",
       "      <th>no_of_days_employed</th>\n",
       "      <th>occupation_type</th>\n",
       "      <th>total_family_members</th>\n",
       "      <th>migrant_worker</th>\n",
       "      <th>yearly_debt_payments</th>\n",
       "      <th>credit_limit</th>\n",
       "      <th>credit_limit_used(%)</th>\n",
       "      <th>credit_score</th>\n",
       "      <th>prev_defaults</th>\n",
       "      <th>default_in_last_6months</th>\n",
       "      <th>credit_card_default</th>\n",
       "    </tr>\n",
       "  </thead>\n",
       "  <tbody>\n",
       "    <tr>\n",
       "      <th>1247</th>\n",
       "      <td>CST_135358</td>\n",
       "      <td>Olivia</td>\n",
       "      <td>36</td>\n",
       "      <td>M</td>\n",
       "      <td>Y</td>\n",
       "      <td>N</td>\n",
       "      <td>0.0</td>\n",
       "      <td>1013421.02</td>\n",
       "      <td>65.0</td>\n",
       "      <td>Managers</td>\n",
       "      <td>2.0</td>\n",
       "      <td>0.0</td>\n",
       "      <td>75840.29</td>\n",
       "      <td>157938.53</td>\n",
       "      <td>1</td>\n",
       "      <td>840.0</td>\n",
       "      <td>0</td>\n",
       "      <td>0</td>\n",
       "      <td>0</td>\n",
       "    </tr>\n",
       "    <tr>\n",
       "      <th>1779</th>\n",
       "      <td>CST_148941</td>\n",
       "      <td>Damouni</td>\n",
       "      <td>35</td>\n",
       "      <td>F</td>\n",
       "      <td>N</td>\n",
       "      <td>N</td>\n",
       "      <td>0.0</td>\n",
       "      <td>978559.07</td>\n",
       "      <td>2456.0</td>\n",
       "      <td>Accountants</td>\n",
       "      <td>1.0</td>\n",
       "      <td>0.0</td>\n",
       "      <td>47607.58</td>\n",
       "      <td>215405.86</td>\n",
       "      <td>75</td>\n",
       "      <td>927.0</td>\n",
       "      <td>0</td>\n",
       "      <td>0</td>\n",
       "      <td>0</td>\n",
       "    </tr>\n",
       "    <tr>\n",
       "      <th>2267</th>\n",
       "      <td>CST_160056</td>\n",
       "      <td>Stempel</td>\n",
       "      <td>30</td>\n",
       "      <td>F</td>\n",
       "      <td>N</td>\n",
       "      <td>N</td>\n",
       "      <td>0.0</td>\n",
       "      <td>955727.98</td>\n",
       "      <td>3948.0</td>\n",
       "      <td>Accountants</td>\n",
       "      <td>2.0</td>\n",
       "      <td>0.0</td>\n",
       "      <td>75489.03</td>\n",
       "      <td>221929.39</td>\n",
       "      <td>33</td>\n",
       "      <td>800.0</td>\n",
       "      <td>0</td>\n",
       "      <td>0</td>\n",
       "      <td>0</td>\n",
       "    </tr>\n",
       "    <tr>\n",
       "      <th>3085</th>\n",
       "      <td>CST_103838</td>\n",
       "      <td>Harry Papachristou</td>\n",
       "      <td>38</td>\n",
       "      <td>M</td>\n",
       "      <td>Y</td>\n",
       "      <td>Y</td>\n",
       "      <td>0.0</td>\n",
       "      <td>1016754.28</td>\n",
       "      <td>1502.0</td>\n",
       "      <td>Unknown</td>\n",
       "      <td>1.0</td>\n",
       "      <td>0.0</td>\n",
       "      <td>67821.69</td>\n",
       "      <td>219584.74</td>\n",
       "      <td>51</td>\n",
       "      <td>891.0</td>\n",
       "      <td>0</td>\n",
       "      <td>0</td>\n",
       "      <td>0</td>\n",
       "    </tr>\n",
       "    <tr>\n",
       "      <th>3344</th>\n",
       "      <td>CST_150511</td>\n",
       "      <td>Gralla</td>\n",
       "      <td>25</td>\n",
       "      <td>M</td>\n",
       "      <td>Y</td>\n",
       "      <td>Y</td>\n",
       "      <td>0.0</td>\n",
       "      <td>1245944.27</td>\n",
       "      <td>9523.0</td>\n",
       "      <td>Managers</td>\n",
       "      <td>1.0</td>\n",
       "      <td>0.0</td>\n",
       "      <td>55128.93</td>\n",
       "      <td>248347.92</td>\n",
       "      <td>27</td>\n",
       "      <td>828.0</td>\n",
       "      <td>0</td>\n",
       "      <td>0</td>\n",
       "      <td>0</td>\n",
       "    </tr>\n",
       "    <tr>\n",
       "      <th>...</th>\n",
       "      <td>...</td>\n",
       "      <td>...</td>\n",
       "      <td>...</td>\n",
       "      <td>...</td>\n",
       "      <td>...</td>\n",
       "      <td>...</td>\n",
       "      <td>...</td>\n",
       "      <td>...</td>\n",
       "      <td>...</td>\n",
       "      <td>...</td>\n",
       "      <td>...</td>\n",
       "      <td>...</td>\n",
       "      <td>...</td>\n",
       "      <td>...</td>\n",
       "      <td>...</td>\n",
       "      <td>...</td>\n",
       "      <td>...</td>\n",
       "      <td>...</td>\n",
       "      <td>...</td>\n",
       "    </tr>\n",
       "    <tr>\n",
       "      <th>44446</th>\n",
       "      <td>CST_165896</td>\n",
       "      <td>Kim</td>\n",
       "      <td>26</td>\n",
       "      <td>F</td>\n",
       "      <td>Y</td>\n",
       "      <td>N</td>\n",
       "      <td>0.0</td>\n",
       "      <td>977927.55</td>\n",
       "      <td>4120.0</td>\n",
       "      <td>Sales staff</td>\n",
       "      <td>1.0</td>\n",
       "      <td>0.0</td>\n",
       "      <td>83358.84</td>\n",
       "      <td>251670.25</td>\n",
       "      <td>34</td>\n",
       "      <td>944.0</td>\n",
       "      <td>0</td>\n",
       "      <td>0</td>\n",
       "      <td>0</td>\n",
       "    </tr>\n",
       "    <tr>\n",
       "      <th>44633</th>\n",
       "      <td>CST_157471</td>\n",
       "      <td>Ferreira-Marques</td>\n",
       "      <td>40</td>\n",
       "      <td>F</td>\n",
       "      <td>Y</td>\n",
       "      <td>N</td>\n",
       "      <td>0.0</td>\n",
       "      <td>4433825.02</td>\n",
       "      <td>865.0</td>\n",
       "      <td>Unknown</td>\n",
       "      <td>2.0</td>\n",
       "      <td>1.0</td>\n",
       "      <td>78971.72</td>\n",
       "      <td>548115.45</td>\n",
       "      <td>19</td>\n",
       "      <td>837.0</td>\n",
       "      <td>0</td>\n",
       "      <td>0</td>\n",
       "      <td>0</td>\n",
       "    </tr>\n",
       "    <tr>\n",
       "      <th>45116</th>\n",
       "      <td>CST_125599</td>\n",
       "      <td>\"John ODonnell\"</td>\n",
       "      <td>23</td>\n",
       "      <td>M</td>\n",
       "      <td>N</td>\n",
       "      <td>Y</td>\n",
       "      <td>0.0</td>\n",
       "      <td>1012150.16</td>\n",
       "      <td>3265.0</td>\n",
       "      <td>Managers</td>\n",
       "      <td>2.0</td>\n",
       "      <td>0.0</td>\n",
       "      <td>83782.01</td>\n",
       "      <td>267512.16</td>\n",
       "      <td>4</td>\n",
       "      <td>714.0</td>\n",
       "      <td>0</td>\n",
       "      <td>0</td>\n",
       "      <td>0</td>\n",
       "    </tr>\n",
       "    <tr>\n",
       "      <th>45158</th>\n",
       "      <td>CST_147033</td>\n",
       "      <td>Kihara</td>\n",
       "      <td>33</td>\n",
       "      <td>M</td>\n",
       "      <td>Y</td>\n",
       "      <td>N</td>\n",
       "      <td>2.0</td>\n",
       "      <td>984019.98</td>\n",
       "      <td>2488.0</td>\n",
       "      <td>Unknown</td>\n",
       "      <td>4.0</td>\n",
       "      <td>1.0</td>\n",
       "      <td>72571.25</td>\n",
       "      <td>315461.88</td>\n",
       "      <td>29</td>\n",
       "      <td>789.0</td>\n",
       "      <td>0</td>\n",
       "      <td>0</td>\n",
       "      <td>0</td>\n",
       "    </tr>\n",
       "    <tr>\n",
       "      <th>45386</th>\n",
       "      <td>CST_133631</td>\n",
       "      <td>David</td>\n",
       "      <td>33</td>\n",
       "      <td>M</td>\n",
       "      <td>Y</td>\n",
       "      <td>Y</td>\n",
       "      <td>0.0</td>\n",
       "      <td>963669.25</td>\n",
       "      <td>4160.0</td>\n",
       "      <td>Managers</td>\n",
       "      <td>2.0</td>\n",
       "      <td>1.0</td>\n",
       "      <td>54304.52</td>\n",
       "      <td>258464.20</td>\n",
       "      <td>83</td>\n",
       "      <td>775.0</td>\n",
       "      <td>0</td>\n",
       "      <td>0</td>\n",
       "      <td>0</td>\n",
       "    </tr>\n",
       "  </tbody>\n",
       "</table>\n",
       "<p>92 rows × 19 columns</p>\n",
       "</div>"
      ],
      "text/plain": [
       "      customer_id                name  age gender owns_car owns_house  \\\n",
       "1247   CST_135358              Olivia   36      M        Y          N   \n",
       "1779   CST_148941             Damouni   35      F        N          N   \n",
       "2267   CST_160056             Stempel   30      F        N          N   \n",
       "3085   CST_103838  Harry Papachristou   38      M        Y          Y   \n",
       "3344   CST_150511              Gralla   25      M        Y          Y   \n",
       "...           ...                 ...  ...    ...      ...        ...   \n",
       "44446  CST_165896                 Kim   26      F        Y          N   \n",
       "44633  CST_157471    Ferreira-Marques   40      F        Y          N   \n",
       "45116  CST_125599     \"John ODonnell\"   23      M        N          Y   \n",
       "45158  CST_147033              Kihara   33      M        Y          N   \n",
       "45386  CST_133631               David   33      M        Y          Y   \n",
       "\n",
       "       no_of_children  net_yearly_income  no_of_days_employed occupation_type  \\\n",
       "1247              0.0         1013421.02                 65.0        Managers   \n",
       "1779              0.0          978559.07               2456.0     Accountants   \n",
       "2267              0.0          955727.98               3948.0     Accountants   \n",
       "3085              0.0         1016754.28               1502.0         Unknown   \n",
       "3344              0.0         1245944.27               9523.0        Managers   \n",
       "...               ...                ...                  ...             ...   \n",
       "44446             0.0          977927.55               4120.0     Sales staff   \n",
       "44633             0.0         4433825.02                865.0         Unknown   \n",
       "45116             0.0         1012150.16               3265.0        Managers   \n",
       "45158             2.0          984019.98               2488.0         Unknown   \n",
       "45386             0.0          963669.25               4160.0        Managers   \n",
       "\n",
       "       total_family_members  migrant_worker  yearly_debt_payments  \\\n",
       "1247                    2.0             0.0              75840.29   \n",
       "1779                    1.0             0.0              47607.58   \n",
       "2267                    2.0             0.0              75489.03   \n",
       "3085                    1.0             0.0              67821.69   \n",
       "3344                    1.0             0.0              55128.93   \n",
       "...                     ...             ...                   ...   \n",
       "44446                   1.0             0.0              83358.84   \n",
       "44633                   2.0             1.0              78971.72   \n",
       "45116                   2.0             0.0              83782.01   \n",
       "45158                   4.0             1.0              72571.25   \n",
       "45386                   2.0             1.0              54304.52   \n",
       "\n",
       "       credit_limit  credit_limit_used(%)  credit_score  prev_defaults  \\\n",
       "1247      157938.53                     1         840.0              0   \n",
       "1779      215405.86                    75         927.0              0   \n",
       "2267      221929.39                    33         800.0              0   \n",
       "3085      219584.74                    51         891.0              0   \n",
       "3344      248347.92                    27         828.0              0   \n",
       "...             ...                   ...           ...            ...   \n",
       "44446     251670.25                    34         944.0              0   \n",
       "44633     548115.45                    19         837.0              0   \n",
       "45116     267512.16                     4         714.0              0   \n",
       "45158     315461.88                    29         789.0              0   \n",
       "45386     258464.20                    83         775.0              0   \n",
       "\n",
       "       default_in_last_6months  credit_card_default  \n",
       "1247                         0                    0  \n",
       "1779                         0                    0  \n",
       "2267                         0                    0  \n",
       "3085                         0                    0  \n",
       "3344                         0                    0  \n",
       "...                        ...                  ...  \n",
       "44446                        0                    0  \n",
       "44633                        0                    0  \n",
       "45116                        0                    0  \n",
       "45158                        0                    0  \n",
       "45386                        0                    0  \n",
       "\n",
       "[92 rows x 19 columns]"
      ]
     },
     "execution_count": 44,
     "metadata": {},
     "output_type": "execute_result"
    }
   ],
   "source": [
    "train_data[train_data['net_yearly_income']>train_data['net_yearly_income'].quantile(0.998)]"
   ]
  },
  {
   "cell_type": "markdown",
   "metadata": {},
   "source": [
    "Remove the outlier that are more than 99.8% quantile or net_yearly_income"
   ]
  },
  {
   "cell_type": "code",
   "execution_count": 45,
   "metadata": {
    "execution": {
     "iopub.execute_input": "2021-12-05T10:37:00.470597Z",
     "iopub.status.busy": "2021-12-05T10:37:00.470211Z",
     "iopub.status.idle": "2021-12-05T10:37:00.482289Z",
     "shell.execute_reply": "2021-12-05T10:37:00.481552Z",
     "shell.execute_reply.started": "2021-12-05T10:37:00.470568Z"
    }
   },
   "outputs": [],
   "source": [
    "train_data = train_data[train_data['net_yearly_income']<=train_data['net_yearly_income'].quantile(0.998)]"
   ]
  },
  {
   "cell_type": "code",
   "execution_count": 46,
   "metadata": {
    "execution": {
     "iopub.execute_input": "2021-12-05T10:37:00.484120Z",
     "iopub.status.busy": "2021-12-05T10:37:00.483819Z",
     "iopub.status.idle": "2021-12-05T10:37:01.003987Z",
     "shell.execute_reply": "2021-12-05T10:37:01.003099Z",
     "shell.execute_reply.started": "2021-12-05T10:37:00.484075Z"
    }
   },
   "outputs": [
    {
     "data": {
      "image/png": "[encoded data removed]",
      "text/plain": [
       "<Figure size 432x288 with 1 Axes>"
      ]
     },
     "metadata": {
      "needs_background": "light"
     },
     "output_type": "display_data"
    }
   ],
   "source": [
    "# net_yearly_income distribution plot\n",
    "sns.distplot(train_data['net_yearly_income'])\n",
    "plt.show()"
   ]
  },
  {
   "cell_type": "code",
   "execution_count": 47,
   "metadata": {
    "execution": {
     "iopub.execute_input": "2021-12-05T10:37:01.005379Z",
     "iopub.status.busy": "2021-12-05T10:37:01.005142Z",
     "iopub.status.idle": "2021-12-05T10:37:01.628726Z",
     "shell.execute_reply": "2021-12-05T10:37:01.627908Z",
     "shell.execute_reply.started": "2021-12-05T10:37:01.005349Z"
    }
   },
   "outputs": [
    {
     "data": {
      "image/png": "[encoded data removed]",
      "text/plain": [
       "<Figure size 1152x864 with 5 Axes>"
      ]
     },
     "metadata": {
      "needs_background": "light"
     },
     "output_type": "display_data"
    }
   ],
   "source": [
    "# boxplot of all continuous variables\n",
    "\n",
    "plt.figure(figsize=[16, 12])\n",
    "plt.subplot(2,3,1)\n",
    "train_data['net_yearly_income'].plot.box()\n",
    "plt.title('net_yearly_income Box Plot')\n",
    "\n",
    "plt.subplot(2,3,2)\n",
    "train_data['no_of_days_employed'].plot.box()\n",
    "plt.title('no_of_days_employed Box Plot')\n",
    "\n",
    "plt.subplot(2,3,3)\n",
    "train_data['yearly_debt_payments'].plot.box()\n",
    "plt.title('yearly_debt_payments Box Plot')\n",
    "\n",
    "plt.subplot(2,3,4)\n",
    "train_data['credit_limit'].plot.box()\n",
    "plt.title('credit_limit Box Plot')\n",
    "\n",
    "plt.subplot(2,3,5)\n",
    "train_data['credit_score'].plot.box()\n",
    "plt.title('credit_score Box Plot')\n",
    "plt.show()"
   ]
  },
  {
   "cell_type": "markdown",
   "metadata": {},
   "source": [
    "Check and treat outliers for 'no_of_days_employed'"
   ]
  },
  {
   "cell_type": "code",
   "execution_count": 48,
   "metadata": {
    "execution": {
     "iopub.execute_input": "2021-12-05T10:37:01.630071Z",
     "iopub.status.busy": "2021-12-05T10:37:01.629865Z",
     "iopub.status.idle": "2021-12-05T10:37:02.111741Z",
     "shell.execute_reply": "2021-12-05T10:37:02.110818Z",
     "shell.execute_reply.started": "2021-12-05T10:37:01.630045Z"
    }
   },
   "outputs": [
    {
     "data": {
      "image/png": "[encoded data removed]",
      "text/plain": [
       "<Figure size 432x288 with 1 Axes>"
      ]
     },
     "metadata": {
      "needs_background": "light"
     },
     "output_type": "display_data"
    }
   ],
   "source": [
    "# no_of_days_employed distribution plot\n",
    "sns.distplot(train_data['no_of_days_employed'])\n",
    "plt.show()"
   ]
  },
  {
   "cell_type": "code",
   "execution_count": 49,
   "metadata": {
    "execution": {
     "iopub.execute_input": "2021-12-05T10:37:02.113019Z",
     "iopub.status.busy": "2021-12-05T10:37:02.112790Z",
     "iopub.status.idle": "2021-12-05T10:37:02.123496Z",
     "shell.execute_reply": "2021-12-05T10:37:02.122562Z",
     "shell.execute_reply.started": "2021-12-05T10:37:02.112992Z"
    }
   },
   "outputs": [
    {
     "data": {
      "text/plain": [
       "0.2500       946.000\n",
       "0.5000      2208.000\n",
       "0.7500      5854.000\n",
       "0.8185     14890.795\n",
       "0.9900    365252.000\n",
       "1.0000    365252.000\n",
       "Name: no_of_days_employed, dtype: float64"
      ]
     },
     "execution_count": 49,
     "metadata": {},
     "output_type": "execute_result"
    }
   ],
   "source": [
    "train_data['no_of_days_employed'].quantile([0.25, 0.5, 0.75, 0.8185, 0.99, 1.0])"
   ]
  },
  {
   "cell_type": "markdown",
   "metadata": {},
   "source": [
    "From the above no_of_days_employed feature, there are vales like 365252 days. Which means around 1000 years and makes no sense.\n",
    "<br>\n",
    "So removing those outliers also."
   ]
  },
  {
   "cell_type": "code",
   "execution_count": 50,
   "metadata": {
    "execution": {
     "iopub.execute_input": "2021-12-05T10:37:02.125029Z",
     "iopub.status.busy": "2021-12-05T10:37:02.124816Z",
     "iopub.status.idle": "2021-12-05T10:37:02.162629Z",
     "shell.execute_reply": "2021-12-05T10:37:02.161919Z",
     "shell.execute_reply.started": "2021-12-05T10:37:02.125002Z"
    }
   },
   "outputs": [
    {
     "data": {
      "text/html": [
       "<div>\n",
       "<style scoped>\n",
       "    .dataframe tbody tr th:only-of-type {\n",
       "        vertical-align: middle;\n",
       "    }\n",
       "\n",
       "    .dataframe tbody tr th {\n",
       "        vertical-align: top;\n",
       "    }\n",
       "\n",
       "    .dataframe thead th {\n",
       "        text-align: right;\n",
       "    }\n",
       "</style>\n",
       "<table border=\"1\" class=\"dataframe\">\n",
       "  <thead>\n",
       "    <tr style=\"text-align: right;\">\n",
       "      <th></th>\n",
       "      <th>customer_id</th>\n",
       "      <th>name</th>\n",
       "      <th>age</th>\n",
       "      <th>gender</th>\n",
       "      <th>owns_car</th>\n",
       "      <th>owns_house</th>\n",
       "      <th>no_of_children</th>\n",
       "      <th>net_yearly_income</th>\n",
       "      <th>no_of_days_employed</th>\n",
       "      <th>occupation_type</th>\n",
       "      <th>total_family_members</th>\n",
       "      <th>migrant_worker</th>\n",
       "      <th>yearly_debt_payments</th>\n",
       "      <th>credit_limit</th>\n",
       "      <th>credit_limit_used(%)</th>\n",
       "      <th>credit_score</th>\n",
       "      <th>prev_defaults</th>\n",
       "      <th>default_in_last_6months</th>\n",
       "      <th>credit_card_default</th>\n",
       "    </tr>\n",
       "  </thead>\n",
       "  <tbody>\n",
       "    <tr>\n",
       "      <th>12</th>\n",
       "      <td>CST_147654</td>\n",
       "      <td>Baker</td>\n",
       "      <td>39</td>\n",
       "      <td>F</td>\n",
       "      <td>N</td>\n",
       "      <td>Y</td>\n",
       "      <td>0.0</td>\n",
       "      <td>68421.10</td>\n",
       "      <td>365247.0</td>\n",
       "      <td>Unknown</td>\n",
       "      <td>2.0</td>\n",
       "      <td>0.0</td>\n",
       "      <td>13781.53</td>\n",
       "      <td>17110.01</td>\n",
       "      <td>72</td>\n",
       "      <td>643.0</td>\n",
       "      <td>1</td>\n",
       "      <td>1</td>\n",
       "      <td>1</td>\n",
       "    </tr>\n",
       "    <tr>\n",
       "      <th>29</th>\n",
       "      <td>CST_149142</td>\n",
       "      <td>ODonnell\"</td>\n",
       "      <td>26</td>\n",
       "      <td>M</td>\n",
       "      <td>Y</td>\n",
       "      <td>N</td>\n",
       "      <td>0.0</td>\n",
       "      <td>172067.42</td>\n",
       "      <td>365251.0</td>\n",
       "      <td>Unknown</td>\n",
       "      <td>2.0</td>\n",
       "      <td>0.0</td>\n",
       "      <td>24199.23</td>\n",
       "      <td>22155.88</td>\n",
       "      <td>49</td>\n",
       "      <td>886.0</td>\n",
       "      <td>0</td>\n",
       "      <td>0</td>\n",
       "      <td>0</td>\n",
       "    </tr>\n",
       "    <tr>\n",
       "      <th>32</th>\n",
       "      <td>CST_119708</td>\n",
       "      <td>Anna Driver</td>\n",
       "      <td>32</td>\n",
       "      <td>M</td>\n",
       "      <td>Y</td>\n",
       "      <td>N</td>\n",
       "      <td>0.0</td>\n",
       "      <td>206413.69</td>\n",
       "      <td>365247.0</td>\n",
       "      <td>Unknown</td>\n",
       "      <td>2.0</td>\n",
       "      <td>0.0</td>\n",
       "      <td>22419.59</td>\n",
       "      <td>74423.73</td>\n",
       "      <td>72</td>\n",
       "      <td>766.0</td>\n",
       "      <td>0</td>\n",
       "      <td>0</td>\n",
       "      <td>0</td>\n",
       "    </tr>\n",
       "    <tr>\n",
       "      <th>45</th>\n",
       "      <td>CST_105775</td>\n",
       "      <td>Diane Bartz</td>\n",
       "      <td>50</td>\n",
       "      <td>F</td>\n",
       "      <td>Y</td>\n",
       "      <td>Y</td>\n",
       "      <td>0.0</td>\n",
       "      <td>173396.95</td>\n",
       "      <td>365241.0</td>\n",
       "      <td>Unknown</td>\n",
       "      <td>1.0</td>\n",
       "      <td>0.0</td>\n",
       "      <td>10764.89</td>\n",
       "      <td>28296.94</td>\n",
       "      <td>3</td>\n",
       "      <td>811.0</td>\n",
       "      <td>0</td>\n",
       "      <td>0</td>\n",
       "      <td>0</td>\n",
       "    </tr>\n",
       "    <tr>\n",
       "      <th>48</th>\n",
       "      <td>CST_165701</td>\n",
       "      <td>da</td>\n",
       "      <td>48</td>\n",
       "      <td>F</td>\n",
       "      <td>N</td>\n",
       "      <td>N</td>\n",
       "      <td>0.0</td>\n",
       "      <td>145514.36</td>\n",
       "      <td>365240.0</td>\n",
       "      <td>Unknown</td>\n",
       "      <td>1.0</td>\n",
       "      <td>0.0</td>\n",
       "      <td>27222.39</td>\n",
       "      <td>39851.78</td>\n",
       "      <td>22</td>\n",
       "      <td>717.0</td>\n",
       "      <td>0</td>\n",
       "      <td>0</td>\n",
       "      <td>0</td>\n",
       "    </tr>\n",
       "    <tr>\n",
       "      <th>...</th>\n",
       "      <td>...</td>\n",
       "      <td>...</td>\n",
       "      <td>...</td>\n",
       "      <td>...</td>\n",
       "      <td>...</td>\n",
       "      <td>...</td>\n",
       "      <td>...</td>\n",
       "      <td>...</td>\n",
       "      <td>...</td>\n",
       "      <td>...</td>\n",
       "      <td>...</td>\n",
       "      <td>...</td>\n",
       "      <td>...</td>\n",
       "      <td>...</td>\n",
       "      <td>...</td>\n",
       "      <td>...</td>\n",
       "      <td>...</td>\n",
       "      <td>...</td>\n",
       "      <td>...</td>\n",
       "    </tr>\n",
       "    <tr>\n",
       "      <th>45509</th>\n",
       "      <td>CST_160135</td>\n",
       "      <td>Sullivan</td>\n",
       "      <td>28</td>\n",
       "      <td>F</td>\n",
       "      <td>N</td>\n",
       "      <td>N</td>\n",
       "      <td>0.0</td>\n",
       "      <td>109872.55</td>\n",
       "      <td>365252.0</td>\n",
       "      <td>Unknown</td>\n",
       "      <td>2.0</td>\n",
       "      <td>0.0</td>\n",
       "      <td>17022.95</td>\n",
       "      <td>23985.85</td>\n",
       "      <td>56</td>\n",
       "      <td>798.0</td>\n",
       "      <td>0</td>\n",
       "      <td>0</td>\n",
       "      <td>0</td>\n",
       "    </tr>\n",
       "    <tr>\n",
       "      <th>45510</th>\n",
       "      <td>CST_116622</td>\n",
       "      <td>Fredrik Dahl</td>\n",
       "      <td>38</td>\n",
       "      <td>F</td>\n",
       "      <td>N</td>\n",
       "      <td>Y</td>\n",
       "      <td>0.0</td>\n",
       "      <td>52827.82</td>\n",
       "      <td>365242.0</td>\n",
       "      <td>Unknown</td>\n",
       "      <td>2.0</td>\n",
       "      <td>0.0</td>\n",
       "      <td>19245.70</td>\n",
       "      <td>13756.60</td>\n",
       "      <td>13</td>\n",
       "      <td>907.0</td>\n",
       "      <td>0</td>\n",
       "      <td>0</td>\n",
       "      <td>0</td>\n",
       "    </tr>\n",
       "    <tr>\n",
       "      <th>45512</th>\n",
       "      <td>CST_101246</td>\n",
       "      <td>Emily Kaiser</td>\n",
       "      <td>24</td>\n",
       "      <td>F</td>\n",
       "      <td>N</td>\n",
       "      <td>Y</td>\n",
       "      <td>0.0</td>\n",
       "      <td>140729.06</td>\n",
       "      <td>365251.0</td>\n",
       "      <td>Unknown</td>\n",
       "      <td>2.0</td>\n",
       "      <td>0.0</td>\n",
       "      <td>18350.70</td>\n",
       "      <td>15661.53</td>\n",
       "      <td>27</td>\n",
       "      <td>752.0</td>\n",
       "      <td>0</td>\n",
       "      <td>0</td>\n",
       "      <td>0</td>\n",
       "    </tr>\n",
       "    <tr>\n",
       "      <th>45513</th>\n",
       "      <td>CST_120555</td>\n",
       "      <td>\"John ODonnell\"</td>\n",
       "      <td>49</td>\n",
       "      <td>M</td>\n",
       "      <td>N</td>\n",
       "      <td>Y</td>\n",
       "      <td>0.0</td>\n",
       "      <td>223193.44</td>\n",
       "      <td>365242.0</td>\n",
       "      <td>Unknown</td>\n",
       "      <td>2.0</td>\n",
       "      <td>0.0</td>\n",
       "      <td>19881.38</td>\n",
       "      <td>48985.19</td>\n",
       "      <td>72</td>\n",
       "      <td>940.0</td>\n",
       "      <td>0</td>\n",
       "      <td>0</td>\n",
       "      <td>0</td>\n",
       "    </tr>\n",
       "    <tr>\n",
       "      <th>45521</th>\n",
       "      <td>CST_161068</td>\n",
       "      <td>Dye</td>\n",
       "      <td>48</td>\n",
       "      <td>F</td>\n",
       "      <td>N</td>\n",
       "      <td>Y</td>\n",
       "      <td>0.0</td>\n",
       "      <td>89435.47</td>\n",
       "      <td>365249.0</td>\n",
       "      <td>Unknown</td>\n",
       "      <td>2.0</td>\n",
       "      <td>0.0</td>\n",
       "      <td>31233.88</td>\n",
       "      <td>21850.77</td>\n",
       "      <td>36</td>\n",
       "      <td>879.0</td>\n",
       "      <td>0</td>\n",
       "      <td>0</td>\n",
       "      <td>0</td>\n",
       "    </tr>\n",
       "  </tbody>\n",
       "</table>\n",
       "<p>8247 rows × 19 columns</p>\n",
       "</div>"
      ],
      "text/plain": [
       "      customer_id             name  age gender owns_car owns_house  \\\n",
       "12     CST_147654            Baker   39      F        N          Y   \n",
       "29     CST_149142        ODonnell\"   26      M        Y          N   \n",
       "32     CST_119708      Anna Driver   32      M        Y          N   \n",
       "45     CST_105775      Diane Bartz   50      F        Y          Y   \n",
       "48     CST_165701               da   48      F        N          N   \n",
       "...           ...              ...  ...    ...      ...        ...   \n",
       "45509  CST_160135         Sullivan   28      F        N          N   \n",
       "45510  CST_116622     Fredrik Dahl   38      F        N          Y   \n",
       "45512  CST_101246     Emily Kaiser   24      F        N          Y   \n",
       "45513  CST_120555  \"John ODonnell\"   49      M        N          Y   \n",
       "45521  CST_161068              Dye   48      F        N          Y   \n",
       "\n",
       "       no_of_children  net_yearly_income  no_of_days_employed occupation_type  \\\n",
       "12                0.0           68421.10             365247.0         Unknown   \n",
       "29                0.0          172067.42             365251.0         Unknown   \n",
       "32                0.0          206413.69             365247.0         Unknown   \n",
       "45                0.0          173396.95             365241.0         Unknown   \n",
       "48                0.0          145514.36             365240.0         Unknown   \n",
       "...               ...                ...                  ...             ...   \n",
       "45509             0.0          109872.55             365252.0         Unknown   \n",
       "45510             0.0           52827.82             365242.0         Unknown   \n",
       "45512             0.0          140729.06             365251.0         Unknown   \n",
       "45513             0.0          223193.44             365242.0         Unknown   \n",
       "45521             0.0           89435.47             365249.0         Unknown   \n",
       "\n",
       "       total_family_members  migrant_worker  yearly_debt_payments  \\\n",
       "12                      2.0             0.0              13781.53   \n",
       "29                      2.0             0.0              24199.23   \n",
       "32                      2.0             0.0              22419.59   \n",
       "45                      1.0             0.0              10764.89   \n",
       "48                      1.0             0.0              27222.39   \n",
       "...                     ...             ...                   ...   \n",
       "45509                   2.0             0.0              17022.95   \n",
       "45510                   2.0             0.0              19245.70   \n",
       "45512                   2.0             0.0              18350.70   \n",
       "45513                   2.0             0.0              19881.38   \n",
       "45521                   2.0             0.0              31233.88   \n",
       "\n",
       "       credit_limit  credit_limit_used(%)  credit_score  prev_defaults  \\\n",
       "12         17110.01                    72         643.0              1   \n",
       "29         22155.88                    49         886.0              0   \n",
       "32         74423.73                    72         766.0              0   \n",
       "45         28296.94                     3         811.0              0   \n",
       "48         39851.78                    22         717.0              0   \n",
       "...             ...                   ...           ...            ...   \n",
       "45509      23985.85                    56         798.0              0   \n",
       "45510      13756.60                    13         907.0              0   \n",
       "45512      15661.53                    27         752.0              0   \n",
       "45513      48985.19                    72         940.0              0   \n",
       "45521      21850.77                    36         879.0              0   \n",
       "\n",
       "       default_in_last_6months  credit_card_default  \n",
       "12                           1                    1  \n",
       "29                           0                    0  \n",
       "32                           0                    0  \n",
       "45                           0                    0  \n",
       "48                           0                    0  \n",
       "...                        ...                  ...  \n",
       "45509                        0                    0  \n",
       "45510                        0                    0  \n",
       "45512                        0                    0  \n",
       "45513                        0                    0  \n",
       "45521                        0                    0  \n",
       "\n",
       "[8247 rows x 19 columns]"
      ]
     },
     "execution_count": 50,
     "metadata": {},
     "output_type": "execute_result"
    }
   ],
   "source": [
    "# check data greater than 81.85%ile of no_of_days_employed feature\n",
    "new_trainTEST_data = train_data[train_data['no_of_days_employed']>train_data['no_of_days_employed'].quantile(0.8185)]\n",
    "new_trainTEST_data"
   ]
  },
  {
   "cell_type": "code",
   "execution_count": 51,
   "metadata": {
    "execution": {
     "iopub.execute_input": "2021-12-05T10:37:02.164043Z",
     "iopub.status.busy": "2021-12-05T10:37:02.163844Z",
     "iopub.status.idle": "2021-12-05T10:37:02.172477Z",
     "shell.execute_reply": "2021-12-05T10:37:02.171647Z",
     "shell.execute_reply.started": "2021-12-05T10:37:02.164018Z"
    }
   },
   "outputs": [
    {
     "data": {
      "text/plain": [
       "0    94.591973\n",
       "1     5.408027\n",
       "Name: credit_card_default, dtype: float64"
      ]
     },
     "execution_count": 51,
     "metadata": {},
     "output_type": "execute_result"
    }
   ],
   "source": [
    "new_trainTEST_data.credit_card_default.value_counts(normalize=True)*100"
   ]
  },
  {
   "cell_type": "code",
   "execution_count": 52,
   "metadata": {
    "execution": {
     "iopub.execute_input": "2021-12-05T10:37:02.174354Z",
     "iopub.status.busy": "2021-12-05T10:37:02.173896Z",
     "iopub.status.idle": "2021-12-05T10:37:02.188903Z",
     "shell.execute_reply": "2021-12-05T10:37:02.188014Z",
     "shell.execute_reply.started": "2021-12-05T10:37:02.174308Z"
    }
   },
   "outputs": [],
   "source": [
    "new_trainTEST_data_final = train_data[train_data['no_of_days_employed']<=train_data['no_of_days_employed'].quantile(0.8185)]"
   ]
  },
  {
   "cell_type": "code",
   "execution_count": 53,
   "metadata": {
    "execution": {
     "iopub.execute_input": "2021-12-05T10:37:02.190673Z",
     "iopub.status.busy": "2021-12-05T10:37:02.190011Z",
     "iopub.status.idle": "2021-12-05T10:37:02.199557Z",
     "shell.execute_reply": "2021-12-05T10:37:02.198748Z",
     "shell.execute_reply.started": "2021-12-05T10:37:02.190641Z"
    }
   },
   "outputs": [
    {
     "data": {
      "text/plain": [
       "0    91.274302\n",
       "1     8.725698\n",
       "Name: credit_card_default, dtype: float64"
      ]
     },
     "execution_count": 53,
     "metadata": {},
     "output_type": "execute_result"
    }
   ],
   "source": [
    "new_trainTEST_data_final.credit_card_default.value_counts(normalize=True)*100"
   ]
  },
  {
   "cell_type": "markdown",
   "metadata": {},
   "source": [
    "**Let us remove those 20% of the outliers in our initial training and proceed with the remaining 81.85%ile as the the data imbalance percentage doesn't change even after droping those data points**"
   ]
  },
  {
   "cell_type": "code",
   "execution_count": 54,
   "metadata": {
    "execution": {
     "iopub.execute_input": "2021-12-05T10:37:02.201242Z",
     "iopub.status.busy": "2021-12-05T10:37:02.200927Z",
     "iopub.status.idle": "2021-12-05T10:37:02.219835Z",
     "shell.execute_reply": "2021-12-05T10:37:02.218810Z",
     "shell.execute_reply.started": "2021-12-05T10:37:02.201201Z"
    }
   },
   "outputs": [],
   "source": [
    "# remove outliers greater than 81.85%ile of no_of_days_employed\n",
    "train_data = train_data[train_data['no_of_days_employed']<=train_data['no_of_days_employed'].quantile(0.8185)]"
   ]
  },
  {
   "cell_type": "code",
   "execution_count": 55,
   "metadata": {
    "execution": {
     "iopub.execute_input": "2021-12-05T10:37:02.221450Z",
     "iopub.status.busy": "2021-12-05T10:37:02.221073Z",
     "iopub.status.idle": "2021-12-05T10:37:02.226988Z",
     "shell.execute_reply": "2021-12-05T10:37:02.226217Z",
     "shell.execute_reply.started": "2021-12-05T10:37:02.221409Z"
    }
   },
   "outputs": [
    {
     "data": {
      "text/plain": [
       "(37189, 19)"
      ]
     },
     "execution_count": 55,
     "metadata": {},
     "output_type": "execute_result"
    }
   ],
   "source": [
    "# check the shape of remaining data\n",
    "train_data.shape"
   ]
  },
  {
   "cell_type": "code",
   "execution_count": 56,
   "metadata": {
    "execution": {
     "iopub.execute_input": "2021-12-05T10:37:02.228889Z",
     "iopub.status.busy": "2021-12-05T10:37:02.228422Z",
     "iopub.status.idle": "2021-12-05T10:37:02.991984Z",
     "shell.execute_reply": "2021-12-05T10:37:02.991132Z",
     "shell.execute_reply.started": "2021-12-05T10:37:02.228846Z"
    }
   },
   "outputs": [
    {
     "data": {
      "image/png": "[encoded data removed]",
      "text/plain": [
       "<Figure size 1080x720 with 5 Axes>"
      ]
     },
     "metadata": {
      "needs_background": "light"
     },
     "output_type": "display_data"
    }
   ],
   "source": [
    "# boxplot of all continuous variables\n",
    "\n",
    "plt.figure(figsize=[15, 10])\n",
    "plt.subplot(2,3,1)\n",
    "train_data['net_yearly_income'].plot.box()\n",
    "plt.title('net_yearly_income Box Plot')\n",
    "\n",
    "plt.subplot(2,3,2)\n",
    "train_data['no_of_days_employed'].plot.box()\n",
    "plt.title('no_of_days_employed Box Plot')\n",
    "\n",
    "plt.subplot(2,3,3)\n",
    "train_data['yearly_debt_payments'].plot.box()\n",
    "plt.title('yearly_debt_payments Box Plot')\n",
    "\n",
    "plt.subplot(2,3,4)\n",
    "train_data['credit_limit'].plot.box()\n",
    "plt.title('credit_limit Box Plot')\n",
    "\n",
    "plt.subplot(2,3,5)\n",
    "train_data['credit_score'].plot.box()\n",
    "plt.title('credit_score Box Plot')\n",
    "plt.show()"
   ]
  },
  {
   "cell_type": "code",
   "execution_count": 57,
   "metadata": {
    "execution": {
     "iopub.execute_input": "2021-12-05T10:37:02.993896Z",
     "iopub.status.busy": "2021-12-05T10:37:02.993425Z",
     "iopub.status.idle": "2021-12-05T10:37:03.018026Z",
     "shell.execute_reply": "2021-12-05T10:37:03.017211Z",
     "shell.execute_reply.started": "2021-12-05T10:37:02.993854Z"
    }
   },
   "outputs": [
    {
     "data": {
      "text/html": [
       "<div>\n",
       "<style scoped>\n",
       "    .dataframe tbody tr th:only-of-type {\n",
       "        vertical-align: middle;\n",
       "    }\n",
       "\n",
       "    .dataframe tbody tr th {\n",
       "        vertical-align: top;\n",
       "    }\n",
       "\n",
       "    .dataframe thead th {\n",
       "        text-align: right;\n",
       "    }\n",
       "</style>\n",
       "<table border=\"1\" class=\"dataframe\">\n",
       "  <thead>\n",
       "    <tr style=\"text-align: right;\">\n",
       "      <th></th>\n",
       "      <th>customer_id</th>\n",
       "      <th>name</th>\n",
       "      <th>age</th>\n",
       "      <th>gender</th>\n",
       "      <th>owns_car</th>\n",
       "      <th>owns_house</th>\n",
       "      <th>no_of_children</th>\n",
       "      <th>net_yearly_income</th>\n",
       "      <th>no_of_days_employed</th>\n",
       "      <th>occupation_type</th>\n",
       "      <th>total_family_members</th>\n",
       "      <th>migrant_worker</th>\n",
       "      <th>yearly_debt_payments</th>\n",
       "      <th>credit_limit</th>\n",
       "      <th>credit_limit_used(%)</th>\n",
       "      <th>credit_score</th>\n",
       "      <th>prev_defaults</th>\n",
       "      <th>default_in_last_6months</th>\n",
       "      <th>credit_card_default</th>\n",
       "    </tr>\n",
       "  </thead>\n",
       "  <tbody>\n",
       "    <tr>\n",
       "      <th>0</th>\n",
       "      <td>CST_115179</td>\n",
       "      <td>ita Bose</td>\n",
       "      <td>46</td>\n",
       "      <td>F</td>\n",
       "      <td>N</td>\n",
       "      <td>Y</td>\n",
       "      <td>0.0</td>\n",
       "      <td>107934.04</td>\n",
       "      <td>612.0</td>\n",
       "      <td>Unknown</td>\n",
       "      <td>1.0</td>\n",
       "      <td>1.0</td>\n",
       "      <td>33070.28</td>\n",
       "      <td>18690.93</td>\n",
       "      <td>73</td>\n",
       "      <td>544.0</td>\n",
       "      <td>2</td>\n",
       "      <td>1</td>\n",
       "      <td>1</td>\n",
       "    </tr>\n",
       "    <tr>\n",
       "      <th>1</th>\n",
       "      <td>CST_121920</td>\n",
       "      <td>Alper Jonathan</td>\n",
       "      <td>29</td>\n",
       "      <td>M</td>\n",
       "      <td>N</td>\n",
       "      <td>Y</td>\n",
       "      <td>0.0</td>\n",
       "      <td>109862.62</td>\n",
       "      <td>2771.0</td>\n",
       "      <td>Laborers</td>\n",
       "      <td>2.0</td>\n",
       "      <td>0.0</td>\n",
       "      <td>15329.53</td>\n",
       "      <td>37745.19</td>\n",
       "      <td>52</td>\n",
       "      <td>857.0</td>\n",
       "      <td>0</td>\n",
       "      <td>0</td>\n",
       "      <td>0</td>\n",
       "    </tr>\n",
       "    <tr>\n",
       "      <th>2</th>\n",
       "      <td>CST_109330</td>\n",
       "      <td>Umesh Desai</td>\n",
       "      <td>37</td>\n",
       "      <td>M</td>\n",
       "      <td>N</td>\n",
       "      <td>Y</td>\n",
       "      <td>0.0</td>\n",
       "      <td>230153.17</td>\n",
       "      <td>204.0</td>\n",
       "      <td>Laborers</td>\n",
       "      <td>2.0</td>\n",
       "      <td>0.0</td>\n",
       "      <td>48416.60</td>\n",
       "      <td>41598.36</td>\n",
       "      <td>43</td>\n",
       "      <td>650.0</td>\n",
       "      <td>0</td>\n",
       "      <td>0</td>\n",
       "      <td>0</td>\n",
       "    </tr>\n",
       "    <tr>\n",
       "      <th>3</th>\n",
       "      <td>CST_128288</td>\n",
       "      <td>Rie</td>\n",
       "      <td>39</td>\n",
       "      <td>F</td>\n",
       "      <td>N</td>\n",
       "      <td>Y</td>\n",
       "      <td>0.0</td>\n",
       "      <td>122325.82</td>\n",
       "      <td>11941.0</td>\n",
       "      <td>Core staff</td>\n",
       "      <td>2.0</td>\n",
       "      <td>0.0</td>\n",
       "      <td>22574.36</td>\n",
       "      <td>32627.76</td>\n",
       "      <td>20</td>\n",
       "      <td>754.0</td>\n",
       "      <td>0</td>\n",
       "      <td>0</td>\n",
       "      <td>0</td>\n",
       "    </tr>\n",
       "    <tr>\n",
       "      <th>4</th>\n",
       "      <td>CST_151355</td>\n",
       "      <td>McCool</td>\n",
       "      <td>46</td>\n",
       "      <td>M</td>\n",
       "      <td>Y</td>\n",
       "      <td>Y</td>\n",
       "      <td>0.0</td>\n",
       "      <td>387286.00</td>\n",
       "      <td>1459.0</td>\n",
       "      <td>Core staff</td>\n",
       "      <td>1.0</td>\n",
       "      <td>0.0</td>\n",
       "      <td>38282.95</td>\n",
       "      <td>52950.64</td>\n",
       "      <td>75</td>\n",
       "      <td>927.0</td>\n",
       "      <td>0</td>\n",
       "      <td>0</td>\n",
       "      <td>0</td>\n",
       "    </tr>\n",
       "  </tbody>\n",
       "</table>\n",
       "</div>"
      ],
      "text/plain": [
       "  customer_id            name  age gender owns_car owns_house  no_of_children  \\\n",
       "0  CST_115179        ita Bose   46      F        N          Y             0.0   \n",
       "1  CST_121920  Alper Jonathan   29      M        N          Y             0.0   \n",
       "2  CST_109330     Umesh Desai   37      M        N          Y             0.0   \n",
       "3  CST_128288             Rie   39      F        N          Y             0.0   \n",
       "4  CST_151355          McCool   46      M        Y          Y             0.0   \n",
       "\n",
       "   net_yearly_income  no_of_days_employed occupation_type  \\\n",
       "0          107934.04                612.0         Unknown   \n",
       "1          109862.62               2771.0        Laborers   \n",
       "2          230153.17                204.0        Laborers   \n",
       "3          122325.82              11941.0      Core staff   \n",
       "4          387286.00               1459.0      Core staff   \n",
       "\n",
       "   total_family_members  migrant_worker  yearly_debt_payments  credit_limit  \\\n",
       "0                   1.0             1.0              33070.28      18690.93   \n",
       "1                   2.0             0.0              15329.53      37745.19   \n",
       "2                   2.0             0.0              48416.60      41598.36   \n",
       "3                   2.0             0.0              22574.36      32627.76   \n",
       "4                   1.0             0.0              38282.95      52950.64   \n",
       "\n",
       "   credit_limit_used(%)  credit_score  prev_defaults  default_in_last_6months  \\\n",
       "0                    73         544.0              2                        1   \n",
       "1                    52         857.0              0                        0   \n",
       "2                    43         650.0              0                        0   \n",
       "3                    20         754.0              0                        0   \n",
       "4                    75         927.0              0                        0   \n",
       "\n",
       "   credit_card_default  \n",
       "0                    1  \n",
       "1                    0  \n",
       "2                    0  \n",
       "3                    0  \n",
       "4                    0  "
      ]
     },
     "execution_count": 57,
     "metadata": {},
     "output_type": "execute_result"
    }
   ],
   "source": [
    "train_data.head()"
   ]
  },
  {
   "cell_type": "code",
   "execution_count": null,
   "metadata": {},
   "outputs": [],
   "source": []
  },
  {
   "cell_type": "markdown",
   "metadata": {},
   "source": [
    "### Data Preparation"
   ]
  },
  {
   "cell_type": "code",
   "execution_count": 58,
   "metadata": {
    "execution": {
     "iopub.execute_input": "2021-12-05T10:37:03.020221Z",
     "iopub.status.busy": "2021-12-05T10:37:03.020008Z",
     "iopub.status.idle": "2021-12-05T10:37:03.049289Z",
     "shell.execute_reply": "2021-12-05T10:37:03.048580Z",
     "shell.execute_reply.started": "2021-12-05T10:37:03.020194Z"
    }
   },
   "outputs": [
    {
     "data": {
      "text/html": [
       "<div>\n",
       "<style scoped>\n",
       "    .dataframe tbody tr th:only-of-type {\n",
       "        vertical-align: middle;\n",
       "    }\n",
       "\n",
       "    .dataframe tbody tr th {\n",
       "        vertical-align: top;\n",
       "    }\n",
       "\n",
       "    .dataframe thead th {\n",
       "        text-align: right;\n",
       "    }\n",
       "</style>\n",
       "<table border=\"1\" class=\"dataframe\">\n",
       "  <thead>\n",
       "    <tr style=\"text-align: right;\">\n",
       "      <th></th>\n",
       "      <th>age</th>\n",
       "      <th>gender</th>\n",
       "      <th>owns_car</th>\n",
       "      <th>owns_house</th>\n",
       "      <th>no_of_children</th>\n",
       "      <th>net_yearly_income</th>\n",
       "      <th>no_of_days_employed</th>\n",
       "      <th>occupation_type</th>\n",
       "      <th>total_family_members</th>\n",
       "      <th>migrant_worker</th>\n",
       "      <th>yearly_debt_payments</th>\n",
       "      <th>credit_limit</th>\n",
       "      <th>credit_limit_used(%)</th>\n",
       "      <th>credit_score</th>\n",
       "      <th>prev_defaults</th>\n",
       "      <th>default_in_last_6months</th>\n",
       "      <th>credit_card_default</th>\n",
       "    </tr>\n",
       "  </thead>\n",
       "  <tbody>\n",
       "    <tr>\n",
       "      <th>0</th>\n",
       "      <td>46</td>\n",
       "      <td>F</td>\n",
       "      <td>N</td>\n",
       "      <td>Y</td>\n",
       "      <td>0.0</td>\n",
       "      <td>107934.04</td>\n",
       "      <td>612.0</td>\n",
       "      <td>Unknown</td>\n",
       "      <td>1.0</td>\n",
       "      <td>1.0</td>\n",
       "      <td>33070.28</td>\n",
       "      <td>18690.93</td>\n",
       "      <td>73</td>\n",
       "      <td>544.0</td>\n",
       "      <td>2</td>\n",
       "      <td>1</td>\n",
       "      <td>1</td>\n",
       "    </tr>\n",
       "    <tr>\n",
       "      <th>1</th>\n",
       "      <td>29</td>\n",
       "      <td>M</td>\n",
       "      <td>N</td>\n",
       "      <td>Y</td>\n",
       "      <td>0.0</td>\n",
       "      <td>109862.62</td>\n",
       "      <td>2771.0</td>\n",
       "      <td>Laborers</td>\n",
       "      <td>2.0</td>\n",
       "      <td>0.0</td>\n",
       "      <td>15329.53</td>\n",
       "      <td>37745.19</td>\n",
       "      <td>52</td>\n",
       "      <td>857.0</td>\n",
       "      <td>0</td>\n",
       "      <td>0</td>\n",
       "      <td>0</td>\n",
       "    </tr>\n",
       "    <tr>\n",
       "      <th>2</th>\n",
       "      <td>37</td>\n",
       "      <td>M</td>\n",
       "      <td>N</td>\n",
       "      <td>Y</td>\n",
       "      <td>0.0</td>\n",
       "      <td>230153.17</td>\n",
       "      <td>204.0</td>\n",
       "      <td>Laborers</td>\n",
       "      <td>2.0</td>\n",
       "      <td>0.0</td>\n",
       "      <td>48416.60</td>\n",
       "      <td>41598.36</td>\n",
       "      <td>43</td>\n",
       "      <td>650.0</td>\n",
       "      <td>0</td>\n",
       "      <td>0</td>\n",
       "      <td>0</td>\n",
       "    </tr>\n",
       "    <tr>\n",
       "      <th>3</th>\n",
       "      <td>39</td>\n",
       "      <td>F</td>\n",
       "      <td>N</td>\n",
       "      <td>Y</td>\n",
       "      <td>0.0</td>\n",
       "      <td>122325.82</td>\n",
       "      <td>11941.0</td>\n",
       "      <td>Core staff</td>\n",
       "      <td>2.0</td>\n",
       "      <td>0.0</td>\n",
       "      <td>22574.36</td>\n",
       "      <td>32627.76</td>\n",
       "      <td>20</td>\n",
       "      <td>754.0</td>\n",
       "      <td>0</td>\n",
       "      <td>0</td>\n",
       "      <td>0</td>\n",
       "    </tr>\n",
       "    <tr>\n",
       "      <th>4</th>\n",
       "      <td>46</td>\n",
       "      <td>M</td>\n",
       "      <td>Y</td>\n",
       "      <td>Y</td>\n",
       "      <td>0.0</td>\n",
       "      <td>387286.00</td>\n",
       "      <td>1459.0</td>\n",
       "      <td>Core staff</td>\n",
       "      <td>1.0</td>\n",
       "      <td>0.0</td>\n",
       "      <td>38282.95</td>\n",
       "      <td>52950.64</td>\n",
       "      <td>75</td>\n",
       "      <td>927.0</td>\n",
       "      <td>0</td>\n",
       "      <td>0</td>\n",
       "      <td>0</td>\n",
       "    </tr>\n",
       "  </tbody>\n",
       "</table>\n",
       "</div>"
      ],
      "text/plain": [
       "   age gender owns_car owns_house  no_of_children  net_yearly_income  \\\n",
       "0   46      F        N          Y             0.0          107934.04   \n",
       "1   29      M        N          Y             0.0          109862.62   \n",
       "2   37      M        N          Y             0.0          230153.17   \n",
       "3   39      F        N          Y             0.0          122325.82   \n",
       "4   46      M        Y          Y             0.0          387286.00   \n",
       "\n",
       "   no_of_days_employed occupation_type  total_family_members  migrant_worker  \\\n",
       "0                612.0         Unknown                   1.0             1.0   \n",
       "1               2771.0        Laborers                   2.0             0.0   \n",
       "2                204.0        Laborers                   2.0             0.0   \n",
       "3              11941.0      Core staff                   2.0             0.0   \n",
       "4               1459.0      Core staff                   1.0             0.0   \n",
       "\n",
       "   yearly_debt_payments  credit_limit  credit_limit_used(%)  credit_score  \\\n",
       "0              33070.28      18690.93                    73         544.0   \n",
       "1              15329.53      37745.19                    52         857.0   \n",
       "2              48416.60      41598.36                    43         650.0   \n",
       "3              22574.36      32627.76                    20         754.0   \n",
       "4              38282.95      52950.64                    75         927.0   \n",
       "\n",
       "   prev_defaults  default_in_last_6months  credit_card_default  \n",
       "0              2                        1                    1  \n",
       "1              0                        0                    0  \n",
       "2              0                        0                    0  \n",
       "3              0                        0                    0  \n",
       "4              0                        0                    0  "
      ]
     },
     "execution_count": 58,
     "metadata": {},
     "output_type": "execute_result"
    }
   ],
   "source": [
    "# dropping text columns that aren't necessary like 'customer_id' and 'name'\n",
    "train_data.drop(['customer_id', 'name'], axis=1, inplace=True)\n",
    "train_data.head()"
   ]
  },
  {
   "cell_type": "markdown",
   "metadata": {},
   "source": [
    "**Encode Categorical Column labels with value between 0 and n_classes-1**"
   ]
  },
  {
   "cell_type": "code",
   "execution_count": 59,
   "metadata": {
    "execution": {
     "iopub.execute_input": "2021-12-05T10:37:03.050578Z",
     "iopub.status.busy": "2021-12-05T10:37:03.050373Z",
     "iopub.status.idle": "2021-12-05T10:37:03.129503Z",
     "shell.execute_reply": "2021-12-05T10:37:03.128744Z",
     "shell.execute_reply.started": "2021-12-05T10:37:03.050553Z"
    }
   },
   "outputs": [
    {
     "data": {
      "text/html": [
       "<div>\n",
       "<style scoped>\n",
       "    .dataframe tbody tr th:only-of-type {\n",
       "        vertical-align: middle;\n",
       "    }\n",
       "\n",
       "    .dataframe tbody tr th {\n",
       "        vertical-align: top;\n",
       "    }\n",
       "\n",
       "    .dataframe thead th {\n",
       "        text-align: right;\n",
       "    }\n",
       "</style>\n",
       "<table border=\"1\" class=\"dataframe\">\n",
       "  <thead>\n",
       "    <tr style=\"text-align: right;\">\n",
       "      <th></th>\n",
       "      <th>age</th>\n",
       "      <th>gender</th>\n",
       "      <th>owns_car</th>\n",
       "      <th>owns_house</th>\n",
       "      <th>no_of_children</th>\n",
       "      <th>net_yearly_income</th>\n",
       "      <th>no_of_days_employed</th>\n",
       "      <th>occupation_type</th>\n",
       "      <th>total_family_members</th>\n",
       "      <th>migrant_worker</th>\n",
       "      <th>yearly_debt_payments</th>\n",
       "      <th>credit_limit</th>\n",
       "      <th>credit_limit_used(%)</th>\n",
       "      <th>credit_score</th>\n",
       "      <th>prev_defaults</th>\n",
       "      <th>default_in_last_6months</th>\n",
       "      <th>credit_card_default</th>\n",
       "    </tr>\n",
       "  </thead>\n",
       "  <tbody>\n",
       "    <tr>\n",
       "      <th>0</th>\n",
       "      <td>46</td>\n",
       "      <td>0</td>\n",
       "      <td>0</td>\n",
       "      <td>1</td>\n",
       "      <td>0.0</td>\n",
       "      <td>107934.04</td>\n",
       "      <td>612.0</td>\n",
       "      <td>17</td>\n",
       "      <td>1.0</td>\n",
       "      <td>1.0</td>\n",
       "      <td>33070.28</td>\n",
       "      <td>18690.93</td>\n",
       "      <td>73</td>\n",
       "      <td>544.0</td>\n",
       "      <td>2</td>\n",
       "      <td>1</td>\n",
       "      <td>1</td>\n",
       "    </tr>\n",
       "    <tr>\n",
       "      <th>1</th>\n",
       "      <td>29</td>\n",
       "      <td>1</td>\n",
       "      <td>0</td>\n",
       "      <td>1</td>\n",
       "      <td>0.0</td>\n",
       "      <td>109862.62</td>\n",
       "      <td>2771.0</td>\n",
       "      <td>8</td>\n",
       "      <td>2.0</td>\n",
       "      <td>0.0</td>\n",
       "      <td>15329.53</td>\n",
       "      <td>37745.19</td>\n",
       "      <td>52</td>\n",
       "      <td>857.0</td>\n",
       "      <td>0</td>\n",
       "      <td>0</td>\n",
       "      <td>0</td>\n",
       "    </tr>\n",
       "    <tr>\n",
       "      <th>2</th>\n",
       "      <td>37</td>\n",
       "      <td>1</td>\n",
       "      <td>0</td>\n",
       "      <td>1</td>\n",
       "      <td>0.0</td>\n",
       "      <td>230153.17</td>\n",
       "      <td>204.0</td>\n",
       "      <td>8</td>\n",
       "      <td>2.0</td>\n",
       "      <td>0.0</td>\n",
       "      <td>48416.60</td>\n",
       "      <td>41598.36</td>\n",
       "      <td>43</td>\n",
       "      <td>650.0</td>\n",
       "      <td>0</td>\n",
       "      <td>0</td>\n",
       "      <td>0</td>\n",
       "    </tr>\n",
       "    <tr>\n",
       "      <th>3</th>\n",
       "      <td>39</td>\n",
       "      <td>0</td>\n",
       "      <td>0</td>\n",
       "      <td>1</td>\n",
       "      <td>0.0</td>\n",
       "      <td>122325.82</td>\n",
       "      <td>11941.0</td>\n",
       "      <td>3</td>\n",
       "      <td>2.0</td>\n",
       "      <td>0.0</td>\n",
       "      <td>22574.36</td>\n",
       "      <td>32627.76</td>\n",
       "      <td>20</td>\n",
       "      <td>754.0</td>\n",
       "      <td>0</td>\n",
       "      <td>0</td>\n",
       "      <td>0</td>\n",
       "    </tr>\n",
       "    <tr>\n",
       "      <th>4</th>\n",
       "      <td>46</td>\n",
       "      <td>1</td>\n",
       "      <td>1</td>\n",
       "      <td>1</td>\n",
       "      <td>0.0</td>\n",
       "      <td>387286.00</td>\n",
       "      <td>1459.0</td>\n",
       "      <td>3</td>\n",
       "      <td>1.0</td>\n",
       "      <td>0.0</td>\n",
       "      <td>38282.95</td>\n",
       "      <td>52950.64</td>\n",
       "      <td>75</td>\n",
       "      <td>927.0</td>\n",
       "      <td>0</td>\n",
       "      <td>0</td>\n",
       "      <td>0</td>\n",
       "    </tr>\n",
       "  </tbody>\n",
       "</table>\n",
       "</div>"
      ],
      "text/plain": [
       "   age  gender  owns_car  owns_house  no_of_children  net_yearly_income  \\\n",
       "0   46       0         0           1             0.0          107934.04   \n",
       "1   29       1         0           1             0.0          109862.62   \n",
       "2   37       1         0           1             0.0          230153.17   \n",
       "3   39       0         0           1             0.0          122325.82   \n",
       "4   46       1         1           1             0.0          387286.00   \n",
       "\n",
       "   no_of_days_employed  occupation_type  total_family_members  migrant_worker  \\\n",
       "0                612.0               17                   1.0             1.0   \n",
       "1               2771.0                8                   2.0             0.0   \n",
       "2                204.0                8                   2.0             0.0   \n",
       "3              11941.0                3                   2.0             0.0   \n",
       "4               1459.0                3                   1.0             0.0   \n",
       "\n",
       "   yearly_debt_payments  credit_limit  credit_limit_used(%)  credit_score  \\\n",
       "0              33070.28      18690.93                    73         544.0   \n",
       "1              15329.53      37745.19                    52         857.0   \n",
       "2              48416.60      41598.36                    43         650.0   \n",
       "3              22574.36      32627.76                    20         754.0   \n",
       "4              38282.95      52950.64                    75         927.0   \n",
       "\n",
       "   prev_defaults  default_in_last_6months  credit_card_default  \n",
       "0              2                        1                    1  \n",
       "1              0                        0                    0  \n",
       "2              0                        0                    0  \n",
       "3              0                        0                    0  \n",
       "4              0                        0                    0  "
      ]
     },
     "execution_count": 59,
     "metadata": {},
     "output_type": "execute_result"
    }
   ],
   "source": [
    "lm = LabelEncoder()\n",
    "\n",
    "# get categorical columns\n",
    "cat_cols = train_data.select_dtypes(include=['object']).columns\n",
    "\n",
    "# encode labels for categorical columns\n",
    "for i in cat_cols:\n",
    "    train_data[i] = lm.fit_transform(train_data[i])\n",
    "    \n",
    "train_data.head()"
   ]
  },
  {
   "cell_type": "markdown",
   "metadata": {},
   "source": [
    "## Train-Test Split"
   ]
  },
  {
   "cell_type": "code",
   "execution_count": 60,
   "metadata": {
    "execution": {
     "iopub.execute_input": "2021-12-05T10:37:03.130889Z",
     "iopub.status.busy": "2021-12-05T10:37:03.130654Z",
     "iopub.status.idle": "2021-12-05T10:37:03.177419Z",
     "shell.execute_reply": "2021-12-05T10:37:03.175665Z",
     "shell.execute_reply.started": "2021-12-05T10:37:03.130860Z"
    }
   },
   "outputs": [
    {
     "name": "stdout",
     "output_type": "stream",
     "text": [
      "X= (26032, 16) (11157, 16)\n",
      "y= (26032,) (11157,)\n"
     ]
    }
   ],
   "source": [
    "# split train-test data\n",
    "X = train_data.drop(['credit_card_default'], axis=1)\n",
    "y = train_data['credit_card_default']\n",
    "\n",
    "X_train, X_test, y_train, y_test = train_test_split(X, y, test_size=0.3, stratify=y, random_state=100)\n",
    "\n",
    "print(\"X=\",X_train.shape, X_test.shape)\n",
    "print(\"y=\",y_train.shape, y_test.shape)"
   ]
  },
  {
   "cell_type": "markdown",
   "metadata": {},
   "source": [
    "### Feature Scaling"
   ]
  },
  {
   "cell_type": "code",
   "execution_count": 61,
   "metadata": {
    "execution": {
     "iopub.execute_input": "2021-12-05T10:37:03.178832Z",
     "iopub.status.busy": "2021-12-05T10:37:03.178466Z",
     "iopub.status.idle": "2021-12-05T10:37:03.214594Z",
     "shell.execute_reply": "2021-12-05T10:37:03.213903Z",
     "shell.execute_reply.started": "2021-12-05T10:37:03.178799Z"
    }
   },
   "outputs": [],
   "source": [
    "# scaling the features to standardize\n",
    "scaler = StandardScaler()\n",
    "\n",
    "cols = X_train.columns\n",
    "X_train[cols] = scaler.fit_transform(X_train[cols])\n",
    "X_test[cols] = scaler.transform(X_test[cols])"
   ]
  },
  {
   "cell_type": "code",
   "execution_count": 62,
   "metadata": {
    "execution": {
     "iopub.execute_input": "2021-12-05T10:37:03.218150Z",
     "iopub.status.busy": "2021-12-05T10:37:03.217929Z",
     "iopub.status.idle": "2021-12-05T10:37:03.238638Z",
     "shell.execute_reply": "2021-12-05T10:37:03.237746Z",
     "shell.execute_reply.started": "2021-12-05T10:37:03.218124Z"
    }
   },
   "outputs": [
    {
     "data": {
      "text/html": [
       "<div>\n",
       "<style scoped>\n",
       "    .dataframe tbody tr th:only-of-type {\n",
       "        vertical-align: middle;\n",
       "    }\n",
       "\n",
       "    .dataframe tbody tr th {\n",
       "        vertical-align: top;\n",
       "    }\n",
       "\n",
       "    .dataframe thead th {\n",
       "        text-align: right;\n",
       "    }\n",
       "</style>\n",
       "<table border=\"1\" class=\"dataframe\">\n",
       "  <thead>\n",
       "    <tr style=\"text-align: right;\">\n",
       "      <th></th>\n",
       "      <th>age</th>\n",
       "      <th>gender</th>\n",
       "      <th>owns_car</th>\n",
       "      <th>owns_house</th>\n",
       "      <th>no_of_children</th>\n",
       "      <th>net_yearly_income</th>\n",
       "      <th>no_of_days_employed</th>\n",
       "      <th>occupation_type</th>\n",
       "      <th>total_family_members</th>\n",
       "      <th>migrant_worker</th>\n",
       "      <th>yearly_debt_payments</th>\n",
       "      <th>credit_limit</th>\n",
       "      <th>credit_limit_used(%)</th>\n",
       "      <th>credit_score</th>\n",
       "      <th>prev_defaults</th>\n",
       "      <th>default_in_last_6months</th>\n",
       "    </tr>\n",
       "  </thead>\n",
       "  <tbody>\n",
       "    <tr>\n",
       "      <th>40446</th>\n",
       "      <td>1.366010</td>\n",
       "      <td>-0.775740</td>\n",
       "      <td>1.308199</td>\n",
       "      <td>-1.464876</td>\n",
       "      <td>-0.651571</td>\n",
       "      <td>-1.511499</td>\n",
       "      <td>-0.447058</td>\n",
       "      <td>0.883327</td>\n",
       "      <td>-1.335451</td>\n",
       "      <td>-0.52805</td>\n",
       "      <td>-1.249964</td>\n",
       "      <td>-1.173813</td>\n",
       "      <td>-1.619284</td>\n",
       "      <td>-0.470474</td>\n",
       "      <td>-0.238892</td>\n",
       "      <td>-0.240824</td>\n",
       "    </tr>\n",
       "    <tr>\n",
       "      <th>37043</th>\n",
       "      <td>1.051866</td>\n",
       "      <td>-0.775740</td>\n",
       "      <td>1.308199</td>\n",
       "      <td>0.682652</td>\n",
       "      <td>-0.651571</td>\n",
       "      <td>-0.313942</td>\n",
       "      <td>0.255419</td>\n",
       "      <td>-0.634643</td>\n",
       "      <td>-0.272318</td>\n",
       "      <td>-0.52805</td>\n",
       "      <td>0.664051</td>\n",
       "      <td>-0.145278</td>\n",
       "      <td>0.185636</td>\n",
       "      <td>0.894001</td>\n",
       "      <td>-0.238892</td>\n",
       "      <td>-0.240824</td>\n",
       "    </tr>\n",
       "    <tr>\n",
       "      <th>8788</th>\n",
       "      <td>1.366010</td>\n",
       "      <td>1.289092</td>\n",
       "      <td>1.308199</td>\n",
       "      <td>-1.464876</td>\n",
       "      <td>-0.651571</td>\n",
       "      <td>-0.415310</td>\n",
       "      <td>1.691993</td>\n",
       "      <td>-1.014135</td>\n",
       "      <td>-0.272318</td>\n",
       "      <td>1.89376</td>\n",
       "      <td>0.479446</td>\n",
       "      <td>-0.579513</td>\n",
       "      <td>0.832683</td>\n",
       "      <td>-0.638562</td>\n",
       "      <td>-0.238892</td>\n",
       "      <td>-0.240824</td>\n",
       "    </tr>\n",
       "    <tr>\n",
       "      <th>29771</th>\n",
       "      <td>-1.356573</td>\n",
       "      <td>-0.775740</td>\n",
       "      <td>1.308199</td>\n",
       "      <td>0.682652</td>\n",
       "      <td>1.985713</td>\n",
       "      <td>0.502028</td>\n",
       "      <td>0.387881</td>\n",
       "      <td>-0.634643</td>\n",
       "      <td>1.853949</td>\n",
       "      <td>1.89376</td>\n",
       "      <td>1.266854</td>\n",
       "      <td>-0.439191</td>\n",
       "      <td>-0.086804</td>\n",
       "      <td>0.172214</td>\n",
       "      <td>-0.238892</td>\n",
       "      <td>-0.240824</td>\n",
       "    </tr>\n",
       "    <tr>\n",
       "      <th>16477</th>\n",
       "      <td>-1.251859</td>\n",
       "      <td>-0.775740</td>\n",
       "      <td>-0.764410</td>\n",
       "      <td>0.682652</td>\n",
       "      <td>-0.651571</td>\n",
       "      <td>-0.371635</td>\n",
       "      <td>0.633577</td>\n",
       "      <td>0.124342</td>\n",
       "      <td>-0.272318</td>\n",
       "      <td>1.89376</td>\n",
       "      <td>-0.278067</td>\n",
       "      <td>-0.941824</td>\n",
       "      <td>-0.188970</td>\n",
       "      <td>0.399626</td>\n",
       "      <td>-0.238892</td>\n",
       "      <td>-0.240824</td>\n",
       "    </tr>\n",
       "  </tbody>\n",
       "</table>\n",
       "</div>"
      ],
      "text/plain": [
       "            age    gender  owns_car  owns_house  no_of_children  \\\n",
       "40446  1.366010 -0.775740  1.308199   -1.464876       -0.651571   \n",
       "37043  1.051866 -0.775740  1.308199    0.682652       -0.651571   \n",
       "8788   1.366010  1.289092  1.308199   -1.464876       -0.651571   \n",
       "29771 -1.356573 -0.775740  1.308199    0.682652        1.985713   \n",
       "16477 -1.251859 -0.775740 -0.764410    0.682652       -0.651571   \n",
       "\n",
       "       net_yearly_income  no_of_days_employed  occupation_type  \\\n",
       "40446          -1.511499            -0.447058         0.883327   \n",
       "37043          -0.313942             0.255419        -0.634643   \n",
       "8788           -0.415310             1.691993        -1.014135   \n",
       "29771           0.502028             0.387881        -0.634643   \n",
       "16477          -0.371635             0.633577         0.124342   \n",
       "\n",
       "       total_family_members  migrant_worker  yearly_debt_payments  \\\n",
       "40446             -1.335451        -0.52805             -1.249964   \n",
       "37043             -0.272318        -0.52805              0.664051   \n",
       "8788              -0.272318         1.89376              0.479446   \n",
       "29771              1.853949         1.89376              1.266854   \n",
       "16477             -0.272318         1.89376             -0.278067   \n",
       "\n",
       "       credit_limit  credit_limit_used(%)  credit_score  prev_defaults  \\\n",
       "40446     -1.173813             -1.619284     -0.470474      -0.238892   \n",
       "37043     -0.145278              0.185636      0.894001      -0.238892   \n",
       "8788      -0.579513              0.832683     -0.638562      -0.238892   \n",
       "29771     -0.439191             -0.086804      0.172214      -0.238892   \n",
       "16477     -0.941824             -0.188970      0.399626      -0.238892   \n",
       "\n",
       "       default_in_last_6months  \n",
       "40446                -0.240824  \n",
       "37043                -0.240824  \n",
       "8788                 -0.240824  \n",
       "29771                -0.240824  \n",
       "16477                -0.240824  "
      ]
     },
     "execution_count": 62,
     "metadata": {},
     "output_type": "execute_result"
    }
   ],
   "source": [
    "X_train.head()"
   ]
  },
  {
   "cell_type": "markdown",
   "metadata": {},
   "source": [
    "#### Data Imbalance Handling"
   ]
  },
  {
   "cell_type": "markdown",
   "metadata": {},
   "source": [
    "Using SMOTE method, we can balance the data w.r.t. credit_card_default variable and proceed further"
   ]
  },
  {
   "cell_type": "code",
   "execution_count": 63,
   "metadata": {
    "execution": {
     "iopub.execute_input": "2021-12-05T10:37:03.239952Z",
     "iopub.status.busy": "2021-12-05T10:37:03.239744Z",
     "iopub.status.idle": "2021-12-05T10:37:03.405195Z",
     "shell.execute_reply": "2021-12-05T10:37:03.404448Z",
     "shell.execute_reply.started": "2021-12-05T10:37:03.239925Z"
    }
   },
   "outputs": [],
   "source": [
    "# initialize SMOTE method\n",
    "sm = SMOTE(random_state=42)\n",
    "X_train,y_train = sm.fit_resample(X_train,y_train)"
   ]
  },
  {
   "cell_type": "code",
   "execution_count": 64,
   "metadata": {
    "execution": {
     "iopub.execute_input": "2021-12-05T10:37:03.406496Z",
     "iopub.status.busy": "2021-12-05T10:37:03.406281Z",
     "iopub.status.idle": "2021-12-05T10:37:03.411817Z",
     "shell.execute_reply": "2021-12-05T10:37:03.411036Z",
     "shell.execute_reply.started": "2021-12-05T10:37:03.406470Z"
    }
   },
   "outputs": [
    {
     "name": "stdout",
     "output_type": "stream",
     "text": [
      "Dimension of X_train_sm Shape: (47522, 16)\n",
      "Dimension of y_train_sm Shape: (47522,)\n"
     ]
    }
   ],
   "source": [
    "print(\"Dimension of X_train_sm Shape:\", X_train.shape)\n",
    "print(\"Dimension of y_train_sm Shape:\", y_train.shape)"
   ]
  },
  {
   "cell_type": "code",
   "execution_count": 65,
   "metadata": {
    "execution": {
     "iopub.execute_input": "2021-12-05T10:37:03.413155Z",
     "iopub.status.busy": "2021-12-05T10:37:03.412925Z",
     "iopub.status.idle": "2021-12-05T10:37:03.441088Z",
     "shell.execute_reply": "2021-12-05T10:37:03.440310Z",
     "shell.execute_reply.started": "2021-12-05T10:37:03.413117Z"
    }
   },
   "outputs": [
    {
     "name": "stdout",
     "output_type": "stream",
     "text": [
      "X_train.shape: (47522, 16)\n",
      "y_train.shape: (47522,)\n"
     ]
    },
    {
     "data": {
      "text/html": [
       "<div>\n",
       "<style scoped>\n",
       "    .dataframe tbody tr th:only-of-type {\n",
       "        vertical-align: middle;\n",
       "    }\n",
       "\n",
       "    .dataframe tbody tr th {\n",
       "        vertical-align: top;\n",
       "    }\n",
       "\n",
       "    .dataframe thead th {\n",
       "        text-align: right;\n",
       "    }\n",
       "</style>\n",
       "<table border=\"1\" class=\"dataframe\">\n",
       "  <thead>\n",
       "    <tr style=\"text-align: right;\">\n",
       "      <th></th>\n",
       "      <th>age</th>\n",
       "      <th>gender</th>\n",
       "      <th>owns_car</th>\n",
       "      <th>owns_house</th>\n",
       "      <th>no_of_children</th>\n",
       "      <th>net_yearly_income</th>\n",
       "      <th>no_of_days_employed</th>\n",
       "      <th>occupation_type</th>\n",
       "      <th>total_family_members</th>\n",
       "      <th>migrant_worker</th>\n",
       "      <th>yearly_debt_payments</th>\n",
       "      <th>credit_limit</th>\n",
       "      <th>credit_limit_used(%)</th>\n",
       "      <th>credit_score</th>\n",
       "      <th>prev_defaults</th>\n",
       "      <th>default_in_last_6months</th>\n",
       "    </tr>\n",
       "  </thead>\n",
       "  <tbody>\n",
       "    <tr>\n",
       "      <th>0</th>\n",
       "      <td>1.366010</td>\n",
       "      <td>-0.775740</td>\n",
       "      <td>1.308199</td>\n",
       "      <td>-1.464876</td>\n",
       "      <td>-0.651571</td>\n",
       "      <td>-1.511499</td>\n",
       "      <td>-0.447058</td>\n",
       "      <td>0.883327</td>\n",
       "      <td>-1.335451</td>\n",
       "      <td>-0.52805</td>\n",
       "      <td>-1.249964</td>\n",
       "      <td>-1.173813</td>\n",
       "      <td>-1.619284</td>\n",
       "      <td>-0.470474</td>\n",
       "      <td>-0.238892</td>\n",
       "      <td>-0.240824</td>\n",
       "    </tr>\n",
       "    <tr>\n",
       "      <th>1</th>\n",
       "      <td>1.051866</td>\n",
       "      <td>-0.775740</td>\n",
       "      <td>1.308199</td>\n",
       "      <td>0.682652</td>\n",
       "      <td>-0.651571</td>\n",
       "      <td>-0.313942</td>\n",
       "      <td>0.255419</td>\n",
       "      <td>-0.634643</td>\n",
       "      <td>-0.272318</td>\n",
       "      <td>-0.52805</td>\n",
       "      <td>0.664051</td>\n",
       "      <td>-0.145278</td>\n",
       "      <td>0.185636</td>\n",
       "      <td>0.894001</td>\n",
       "      <td>-0.238892</td>\n",
       "      <td>-0.240824</td>\n",
       "    </tr>\n",
       "    <tr>\n",
       "      <th>2</th>\n",
       "      <td>1.366010</td>\n",
       "      <td>1.289092</td>\n",
       "      <td>1.308199</td>\n",
       "      <td>-1.464876</td>\n",
       "      <td>-0.651571</td>\n",
       "      <td>-0.415310</td>\n",
       "      <td>1.691993</td>\n",
       "      <td>-1.014135</td>\n",
       "      <td>-0.272318</td>\n",
       "      <td>1.89376</td>\n",
       "      <td>0.479446</td>\n",
       "      <td>-0.579513</td>\n",
       "      <td>0.832683</td>\n",
       "      <td>-0.638562</td>\n",
       "      <td>-0.238892</td>\n",
       "      <td>-0.240824</td>\n",
       "    </tr>\n",
       "    <tr>\n",
       "      <th>3</th>\n",
       "      <td>-1.356573</td>\n",
       "      <td>-0.775740</td>\n",
       "      <td>1.308199</td>\n",
       "      <td>0.682652</td>\n",
       "      <td>1.985713</td>\n",
       "      <td>0.502028</td>\n",
       "      <td>0.387881</td>\n",
       "      <td>-0.634643</td>\n",
       "      <td>1.853949</td>\n",
       "      <td>1.89376</td>\n",
       "      <td>1.266854</td>\n",
       "      <td>-0.439191</td>\n",
       "      <td>-0.086804</td>\n",
       "      <td>0.172214</td>\n",
       "      <td>-0.238892</td>\n",
       "      <td>-0.240824</td>\n",
       "    </tr>\n",
       "    <tr>\n",
       "      <th>4</th>\n",
       "      <td>-1.251859</td>\n",
       "      <td>-0.775740</td>\n",
       "      <td>-0.764410</td>\n",
       "      <td>0.682652</td>\n",
       "      <td>-0.651571</td>\n",
       "      <td>-0.371635</td>\n",
       "      <td>0.633577</td>\n",
       "      <td>0.124342</td>\n",
       "      <td>-0.272318</td>\n",
       "      <td>1.89376</td>\n",
       "      <td>-0.278067</td>\n",
       "      <td>-0.941824</td>\n",
       "      <td>-0.188970</td>\n",
       "      <td>0.399626</td>\n",
       "      <td>-0.238892</td>\n",
       "      <td>-0.240824</td>\n",
       "    </tr>\n",
       "  </tbody>\n",
       "</table>\n",
       "</div>"
      ],
      "text/plain": [
       "        age    gender  owns_car  owns_house  no_of_children  \\\n",
       "0  1.366010 -0.775740  1.308199   -1.464876       -0.651571   \n",
       "1  1.051866 -0.775740  1.308199    0.682652       -0.651571   \n",
       "2  1.366010  1.289092  1.308199   -1.464876       -0.651571   \n",
       "3 -1.356573 -0.775740  1.308199    0.682652        1.985713   \n",
       "4 -1.251859 -0.775740 -0.764410    0.682652       -0.651571   \n",
       "\n",
       "   net_yearly_income  no_of_days_employed  occupation_type  \\\n",
       "0          -1.511499            -0.447058         0.883327   \n",
       "1          -0.313942             0.255419        -0.634643   \n",
       "2          -0.415310             1.691993        -1.014135   \n",
       "3           0.502028             0.387881        -0.634643   \n",
       "4          -0.371635             0.633577         0.124342   \n",
       "\n",
       "   total_family_members  migrant_worker  yearly_debt_payments  credit_limit  \\\n",
       "0             -1.335451        -0.52805             -1.249964     -1.173813   \n",
       "1             -0.272318        -0.52805              0.664051     -0.145278   \n",
       "2             -0.272318         1.89376              0.479446     -0.579513   \n",
       "3              1.853949         1.89376              1.266854     -0.439191   \n",
       "4             -0.272318         1.89376             -0.278067     -0.941824   \n",
       "\n",
       "   credit_limit_used(%)  credit_score  prev_defaults  default_in_last_6months  \n",
       "0             -1.619284     -0.470474      -0.238892                -0.240824  \n",
       "1              0.185636      0.894001      -0.238892                -0.240824  \n",
       "2              0.832683     -0.638562      -0.238892                -0.240824  \n",
       "3             -0.086804      0.172214      -0.238892                -0.240824  \n",
       "4             -0.188970      0.399626      -0.238892                -0.240824  "
      ]
     },
     "execution_count": 65,
     "metadata": {},
     "output_type": "execute_result"
    }
   ],
   "source": [
    "X_train = pd.DataFrame(data=X_train, columns=cols)\n",
    "print(\"X_train.shape:\",X_train.shape)\n",
    "y_train = pd.Series(y_train)\n",
    "print(\"y_train.shape:\",y_train.shape)\n",
    "X_train.head()"
   ]
  },
  {
   "cell_type": "markdown",
   "metadata": {},
   "source": [
    "## Logistic Regression"
   ]
  },
  {
   "cell_type": "code",
   "execution_count": 66,
   "metadata": {
    "execution": {
     "iopub.execute_input": "2021-12-05T10:37:03.443005Z",
     "iopub.status.busy": "2021-12-05T10:37:03.442521Z",
     "iopub.status.idle": "2021-12-05T10:37:03.862959Z",
     "shell.execute_reply": "2021-12-05T10:37:03.862123Z",
     "shell.execute_reply.started": "2021-12-05T10:37:03.442944Z"
    }
   },
   "outputs": [
    {
     "data": {
      "text/plain": [
       "LogisticRegression()"
      ]
     },
     "execution_count": 66,
     "metadata": {},
     "output_type": "execute_result"
    }
   ],
   "source": [
    "# initialize LogisticRegression and fit the model\n",
    "logreg = LogisticRegression()\n",
    "logreg.fit(X_train, y_train)"
   ]
  },
  {
   "cell_type": "code",
   "execution_count": 67,
   "metadata": {
    "execution": {
     "iopub.execute_input": "2021-12-05T10:37:03.865133Z",
     "iopub.status.busy": "2021-12-05T10:37:03.864517Z",
     "iopub.status.idle": "2021-12-05T10:37:03.877015Z",
     "shell.execute_reply": "2021-12-05T10:37:03.876164Z",
     "shell.execute_reply.started": "2021-12-05T10:37:03.865090Z"
    }
   },
   "outputs": [],
   "source": [
    "# evaluation function\n",
    "def evaluation(model):\n",
    "    y_train_pred = model.predict(X_train)\n",
    "    y_test_pred = model.predict(X_test)\n",
    "    print(\"=\"*50)\n",
    "    print(confusion_matrix(y_train, y_train_pred))\n",
    "    print(classification_report(y_train, y_train_pred))\n",
    "    print(\"Accuracy of TRAIN data:\", 100*accuracy_score(y_train, y_train_pred))\n",
    "    print(\"F1_Score of TRAIN data:\", 100*f1_score(y_train, y_train_pred, average=\"macro\"))\n",
    "    print(\"=\"*50)\n",
    "    print(confusion_matrix(y_test, y_test_pred))\n",
    "    print(classification_report(y_test, y_test_pred))\n",
    "    print(\"Accuracy of TEST data:\", 100*accuracy_score(y_test, y_test_pred))\n",
    "    print(\"F1_Score of TEST data:\", 100*f1_score(y_test, y_test_pred, average=\"macro\"))\n",
    "    print(\"=\"*50)\n",
    "    \n",
    "    # Plot ROC_AUC Curve\n",
    "    plot_roc_curve(model, X_test, y_test)\n",
    "    plt.title('ROC_AUC Curve', fontsize=16)\n",
    "    plt.show()"
   ]
  },
  {
   "cell_type": "markdown",
   "metadata": {},
   "source": [
    "**Prediction**"
   ]
  },
  {
   "cell_type": "code",
   "execution_count": 68,
   "metadata": {
    "execution": {
     "iopub.execute_input": "2021-12-05T10:37:03.879265Z",
     "iopub.status.busy": "2021-12-05T10:37:03.878714Z",
     "iopub.status.idle": "2021-12-05T10:37:04.358308Z",
     "shell.execute_reply": "2021-12-05T10:37:04.357387Z",
     "shell.execute_reply.started": "2021-12-05T10:37:03.879221Z"
    }
   },
   "outputs": [
    {
     "name": "stdout",
     "output_type": "stream",
     "text": [
      "==================================================\n",
      "[[22608  1153]\n",
      " [  628 23133]]\n",
      "              precision    recall  f1-score   support\n",
      "\n",
      "           0       0.97      0.95      0.96     23761\n",
      "           1       0.95      0.97      0.96     23761\n",
      "\n",
      "    accuracy                           0.96     47522\n",
      "   macro avg       0.96      0.96      0.96     47522\n",
      "weighted avg       0.96      0.96      0.96     47522\n",
      "\n",
      "Accuracy of TRAIN data: 96.25226211018055\n",
      "F1_Score of TRAIN data: 96.25180465199385\n",
      "==================================================\n",
      "[[9726  457]\n",
      " [  57  917]]\n",
      "              precision    recall  f1-score   support\n",
      "\n",
      "           0       0.99      0.96      0.97     10183\n",
      "           1       0.67      0.94      0.78       974\n",
      "\n",
      "    accuracy                           0.95     11157\n",
      "   macro avg       0.83      0.95      0.88     11157\n",
      "weighted avg       0.97      0.95      0.96     11157\n",
      "\n",
      "Accuracy of TEST data: 95.39302679931882\n",
      "F1_Score of TEST data: 87.7673262604349\n",
      "==================================================\n"
     ]
    },
    {
     "data": {
      "image/png": "[encoded data removed]",
      "text/plain": [
       "<Figure size 432x288 with 1 Axes>"
      ]
     },
     "metadata": {
      "needs_background": "light"
     },
     "output_type": "display_data"
    }
   ],
   "source": [
    "# prediction\n",
    "evaluation(logreg)"
   ]
  },
  {
   "cell_type": "markdown",
   "metadata": {},
   "source": [
    "## Random Forest"
   ]
  },
  {
   "cell_type": "markdown",
   "metadata": {},
   "source": [
    "**Using Hyper-parameter Tuning**"
   ]
  },
  {
   "cell_type": "code",
   "execution_count": 69,
   "metadata": {
    "execution": {
     "iopub.execute_input": "2021-12-05T10:37:04.402305Z",
     "iopub.status.busy": "2021-12-05T10:37:04.402015Z",
     "iopub.status.idle": "2021-12-05T10:37:04.411999Z",
     "shell.execute_reply": "2021-12-05T10:37:04.411205Z",
     "shell.execute_reply.started": "2021-12-05T10:37:04.402265Z"
    }
   },
   "outputs": [],
   "source": [
    "params = {\n",
    "    'max_depth': [10, 16, 20, 30],\n",
    "    'min_samples_leaf': [10, 30, 50, 80, 100],\n",
    "    'max_features': [14, 15, 16],\n",
    "    'n_estimators': [30, 50, 100, 200]}\n",
    "\n",
    "rfm_basic = RandomForestClassifier(random_state=42, oob_score=True)\n",
    "\n",
    "grid_search = GridSearchCV(estimator=rfm_basic, param_grid=params,\n",
    "                          cv=5, n_jobs=-1, verbose=1, scoring=\"accuracy\")"
   ]
  },
  {
   "cell_type": "code",
   "execution_count": 70,
   "metadata": {
    "execution": {
     "iopub.execute_input": "2021-12-05T10:37:04.414147Z",
     "iopub.status.busy": "2021-12-05T10:37:04.413323Z",
     "iopub.status.idle": "2021-12-05T11:52:44.861204Z",
     "shell.execute_reply": "2021-12-05T11:52:44.860212Z",
     "shell.execute_reply.started": "2021-12-05T10:37:04.414102Z"
    }
   },
   "outputs": [
    {
     "name": "stdout",
     "output_type": "stream",
     "text": [
      "Fitting 5 folds for each of 240 candidates, totalling 1200 fits\n",
      "Wall time: 41min 35s\n"
     ]
    },
    {
     "data": {
      "text/plain": [
       "GridSearchCV(cv=5,\n",
       "             estimator=RandomForestClassifier(oob_score=True, random_state=42),\n",
       "             n_jobs=-1,\n",
       "             param_grid={'max_depth': [10, 16, 20, 30],\n",
       "                         'max_features': [14, 15, 16],\n",
       "                         'min_samples_leaf': [10, 30, 50, 80, 100],\n",
       "                         'n_estimators': [30, 50, 100, 200]},\n",
       "             scoring='accuracy', verbose=1)"
      ]
     },
     "execution_count": 70,
     "metadata": {},
     "output_type": "execute_result"
    }
   ],
   "source": [
    "%%time\n",
    "grid_search.fit(X_train, y_train)"
   ]
  },
  {
   "cell_type": "code",
   "execution_count": 71,
   "metadata": {
    "execution": {
     "iopub.execute_input": "2021-12-05T11:56:04.763346Z",
     "iopub.status.busy": "2021-12-05T11:56:04.762799Z",
     "iopub.status.idle": "2021-12-05T11:56:04.769043Z",
     "shell.execute_reply": "2021-12-05T11:56:04.768533Z",
     "shell.execute_reply.started": "2021-12-05T11:56:04.763309Z"
    }
   },
   "outputs": [
    {
     "data": {
      "text/plain": [
       "RandomForestClassifier(max_depth=20, max_features=15, min_samples_leaf=10,\n",
       "                       n_estimators=30, oob_score=True, random_state=42)"
      ]
     },
     "execution_count": 71,
     "metadata": {},
     "output_type": "execute_result"
    }
   ],
   "source": [
    "rfm_best = grid_search.best_estimator_\n",
    "rfm_best"
   ]
  },
  {
   "cell_type": "code",
   "execution_count": 72,
   "metadata": {
    "execution": {
     "iopub.execute_input": "2021-12-05T11:56:38.474479Z",
     "iopub.status.busy": "2021-12-05T11:56:38.473821Z",
     "iopub.status.idle": "2021-12-05T11:56:39.000386Z",
     "shell.execute_reply": "2021-12-05T11:56:38.999543Z",
     "shell.execute_reply.started": "2021-12-05T11:56:38.474446Z"
    }
   },
   "outputs": [
    {
     "name": "stdout",
     "output_type": "stream",
     "text": [
      "==================================================\n",
      "[[23164   597]\n",
      " [   39 23722]]\n",
      "              precision    recall  f1-score   support\n",
      "\n",
      "           0       1.00      0.97      0.99     23761\n",
      "           1       0.98      1.00      0.99     23761\n",
      "\n",
      "    accuracy                           0.99     47522\n",
      "   macro avg       0.99      0.99      0.99     47522\n",
      "weighted avg       0.99      0.99      0.99     47522\n",
      "\n",
      "Accuracy of TRAIN data: 98.66167248853162\n",
      "F1_Score of TRAIN data: 98.66148794396416\n",
      "==================================================\n",
      "[[9830  353]\n",
      " [  75  899]]\n",
      "              precision    recall  f1-score   support\n",
      "\n",
      "           0       0.99      0.97      0.98     10183\n",
      "           1       0.72      0.92      0.81       974\n",
      "\n",
      "    accuracy                           0.96     11157\n",
      "   macro avg       0.86      0.94      0.89     11157\n",
      "weighted avg       0.97      0.96      0.96     11157\n",
      "\n",
      "Accuracy of TEST data: 96.16384332705925\n",
      "F1_Score of TEST data: 89.3210305920795\n",
      "==================================================\n"
     ]
    },
    {
     "data": {
      "image/png": "[encoded data removed]",
      "text/plain": [
       "<Figure size 432x288 with 1 Axes>"
      ]
     },
     "metadata": {
      "needs_background": "light"
     },
     "output_type": "display_data"
    }
   ],
   "source": [
    "# prediction and model evaluation\n",
    "evaluation(rfm_best)"
   ]
  },
  {
   "cell_type": "markdown",
   "metadata": {},
   "source": [
    "## Predict on Actual TEST Data"
   ]
  },
  {
   "cell_type": "code",
   "execution_count": 73,
   "metadata": {
    "execution": {
     "iopub.execute_input": "2021-12-05T11:52:44.891022Z",
     "iopub.status.busy": "2021-12-05T11:52:44.890530Z",
     "iopub.status.idle": "2021-12-05T11:52:44.919988Z",
     "shell.execute_reply": "2021-12-05T11:52:44.919193Z",
     "shell.execute_reply.started": "2021-12-05T11:52:44.890991Z"
    }
   },
   "outputs": [
    {
     "data": {
      "text/html": [
       "<div>\n",
       "<style scoped>\n",
       "    .dataframe tbody tr th:only-of-type {\n",
       "        vertical-align: middle;\n",
       "    }\n",
       "\n",
       "    .dataframe tbody tr th {\n",
       "        vertical-align: top;\n",
       "    }\n",
       "\n",
       "    .dataframe thead th {\n",
       "        text-align: right;\n",
       "    }\n",
       "</style>\n",
       "<table border=\"1\" class=\"dataframe\">\n",
       "  <thead>\n",
       "    <tr style=\"text-align: right;\">\n",
       "      <th></th>\n",
       "      <th>customer_id</th>\n",
       "      <th>name</th>\n",
       "      <th>age</th>\n",
       "      <th>gender</th>\n",
       "      <th>owns_car</th>\n",
       "      <th>owns_house</th>\n",
       "      <th>no_of_children</th>\n",
       "      <th>net_yearly_income</th>\n",
       "      <th>no_of_days_employed</th>\n",
       "      <th>occupation_type</th>\n",
       "      <th>total_family_members</th>\n",
       "      <th>migrant_worker</th>\n",
       "      <th>yearly_debt_payments</th>\n",
       "      <th>credit_limit</th>\n",
       "      <th>credit_limit_used(%)</th>\n",
       "      <th>credit_score</th>\n",
       "      <th>prev_defaults</th>\n",
       "      <th>default_in_last_6months</th>\n",
       "    </tr>\n",
       "  </thead>\n",
       "  <tbody>\n",
       "    <tr>\n",
       "      <th>0</th>\n",
       "      <td>CST_142525</td>\n",
       "      <td>Siva</td>\n",
       "      <td>52</td>\n",
       "      <td>F</td>\n",
       "      <td>Y</td>\n",
       "      <td>N</td>\n",
       "      <td>0.0</td>\n",
       "      <td>232640.53</td>\n",
       "      <td>998.0</td>\n",
       "      <td>Unknown</td>\n",
       "      <td>2.0</td>\n",
       "      <td>0.0</td>\n",
       "      <td>14406.73</td>\n",
       "      <td>26524.40</td>\n",
       "      <td>4</td>\n",
       "      <td>779.0</td>\n",
       "      <td>0</td>\n",
       "      <td>0</td>\n",
       "    </tr>\n",
       "    <tr>\n",
       "      <th>1</th>\n",
       "      <td>CST_129215</td>\n",
       "      <td>Scott</td>\n",
       "      <td>48</td>\n",
       "      <td>F</td>\n",
       "      <td>N</td>\n",
       "      <td>N</td>\n",
       "      <td>1.0</td>\n",
       "      <td>284396.79</td>\n",
       "      <td>1338.0</td>\n",
       "      <td>Unknown</td>\n",
       "      <td>3.0</td>\n",
       "      <td>0.0</td>\n",
       "      <td>57479.99</td>\n",
       "      <td>68998.72</td>\n",
       "      <td>70</td>\n",
       "      <td>806.0</td>\n",
       "      <td>0</td>\n",
       "      <td>0</td>\n",
       "    </tr>\n",
       "    <tr>\n",
       "      <th>2</th>\n",
       "      <td>CST_138443</td>\n",
       "      <td>Victoria</td>\n",
       "      <td>50</td>\n",
       "      <td>F</td>\n",
       "      <td>N</td>\n",
       "      <td>N</td>\n",
       "      <td>1.0</td>\n",
       "      <td>149419.28</td>\n",
       "      <td>1210.0</td>\n",
       "      <td>Unknown</td>\n",
       "      <td>3.0</td>\n",
       "      <td>0.0</td>\n",
       "      <td>21611.01</td>\n",
       "      <td>25187.80</td>\n",
       "      <td>71</td>\n",
       "      <td>528.0</td>\n",
       "      <td>2</td>\n",
       "      <td>0</td>\n",
       "    </tr>\n",
       "    <tr>\n",
       "      <th>3</th>\n",
       "      <td>CST_123812</td>\n",
       "      <td>John McCrank</td>\n",
       "      <td>30</td>\n",
       "      <td>F</td>\n",
       "      <td>N</td>\n",
       "      <td>N</td>\n",
       "      <td>1.0</td>\n",
       "      <td>160437.54</td>\n",
       "      <td>503.0</td>\n",
       "      <td>Laborers</td>\n",
       "      <td>2.0</td>\n",
       "      <td>1.0</td>\n",
       "      <td>28990.76</td>\n",
       "      <td>29179.39</td>\n",
       "      <td>9</td>\n",
       "      <td>815.0</td>\n",
       "      <td>0</td>\n",
       "      <td>0</td>\n",
       "    </tr>\n",
       "    <tr>\n",
       "      <th>4</th>\n",
       "      <td>CST_144450</td>\n",
       "      <td>Martinne</td>\n",
       "      <td>52</td>\n",
       "      <td>M</td>\n",
       "      <td>N</td>\n",
       "      <td>Y</td>\n",
       "      <td>0.0</td>\n",
       "      <td>233480.37</td>\n",
       "      <td>157.0</td>\n",
       "      <td>Laborers</td>\n",
       "      <td>2.0</td>\n",
       "      <td>1.0</td>\n",
       "      <td>54213.72</td>\n",
       "      <td>82331.82</td>\n",
       "      <td>82</td>\n",
       "      <td>613.0</td>\n",
       "      <td>1</td>\n",
       "      <td>1</td>\n",
       "    </tr>\n",
       "  </tbody>\n",
       "</table>\n",
       "</div>"
      ],
      "text/plain": [
       "  customer_id          name  age gender owns_car owns_house  no_of_children  \\\n",
       "0  CST_142525          Siva   52      F        Y          N             0.0   \n",
       "1  CST_129215         Scott   48      F        N          N             1.0   \n",
       "2  CST_138443      Victoria   50      F        N          N             1.0   \n",
       "3  CST_123812  John McCrank   30      F        N          N             1.0   \n",
       "4  CST_144450      Martinne   52      M        N          Y             0.0   \n",
       "\n",
       "   net_yearly_income  no_of_days_employed occupation_type  \\\n",
       "0          232640.53                998.0         Unknown   \n",
       "1          284396.79               1338.0         Unknown   \n",
       "2          149419.28               1210.0         Unknown   \n",
       "3          160437.54                503.0        Laborers   \n",
       "4          233480.37                157.0        Laborers   \n",
       "\n",
       "   total_family_members  migrant_worker  yearly_debt_payments  credit_limit  \\\n",
       "0                   2.0             0.0              14406.73      26524.40   \n",
       "1                   3.0             0.0              57479.99      68998.72   \n",
       "2                   3.0             0.0              21611.01      25187.80   \n",
       "3                   2.0             1.0              28990.76      29179.39   \n",
       "4                   2.0             1.0              54213.72      82331.82   \n",
       "\n",
       "   credit_limit_used(%)  credit_score  prev_defaults  default_in_last_6months  \n",
       "0                     4         779.0              0                        0  \n",
       "1                    70         806.0              0                        0  \n",
       "2                    71         528.0              2                        0  \n",
       "3                     9         815.0              0                        0  \n",
       "4                    82         613.0              1                        1  "
      ]
     },
     "execution_count": 73,
     "metadata": {},
     "output_type": "execute_result"
    }
   ],
   "source": [
    "test_data.head()"
   ]
  },
  {
   "cell_type": "code",
   "execution_count": 74,
   "metadata": {
    "execution": {
     "iopub.execute_input": "2021-12-05T11:52:44.922422Z",
     "iopub.status.busy": "2021-12-05T11:52:44.921457Z",
     "iopub.status.idle": "2021-12-05T11:52:44.933855Z",
     "shell.execute_reply": "2021-12-05T11:52:44.933159Z",
     "shell.execute_reply.started": "2021-12-05T11:52:44.922376Z"
    }
   },
   "outputs": [
    {
     "data": {
      "text/plain": [
       "(11383, 18)"
      ]
     },
     "execution_count": 74,
     "metadata": {},
     "output_type": "execute_result"
    }
   ],
   "source": [
    "test_data.shape"
   ]
  },
  {
   "cell_type": "code",
   "execution_count": 75,
   "metadata": {
    "execution": {
     "iopub.execute_input": "2021-12-05T11:52:44.935428Z",
     "iopub.status.busy": "2021-12-05T11:52:44.935036Z",
     "iopub.status.idle": "2021-12-05T11:52:44.957596Z",
     "shell.execute_reply": "2021-12-05T11:52:44.956836Z",
     "shell.execute_reply.started": "2021-12-05T11:52:44.935399Z"
    }
   },
   "outputs": [
    {
     "data": {
      "text/plain": [
       "customer_id                0.000000\n",
       "name                       0.000000\n",
       "age                        0.000000\n",
       "gender                     0.000000\n",
       "owns_car                   1.159624\n",
       "owns_house                 0.000000\n",
       "no_of_children             1.669156\n",
       "net_yearly_income          0.000000\n",
       "no_of_days_employed        0.922428\n",
       "occupation_type            0.000000\n",
       "total_family_members       0.272336\n",
       "migrant_worker             0.228411\n",
       "yearly_debt_payments       0.193271\n",
       "credit_limit               0.000000\n",
       "credit_limit_used(%)       0.000000\n",
       "credit_score               0.026355\n",
       "prev_defaults              0.000000\n",
       "default_in_last_6months    0.000000\n",
       "dtype: float64"
      ]
     },
     "execution_count": 75,
     "metadata": {},
     "output_type": "execute_result"
    }
   ],
   "source": [
    "test_data.isna().mean()*100"
   ]
  },
  {
   "cell_type": "code",
   "execution_count": 76,
   "metadata": {
    "execution": {
     "iopub.execute_input": "2021-12-05T11:52:44.958993Z",
     "iopub.status.busy": "2021-12-05T11:52:44.958670Z",
     "iopub.status.idle": "2021-12-05T11:52:44.975248Z",
     "shell.execute_reply": "2021-12-05T11:52:44.974719Z",
     "shell.execute_reply.started": "2021-12-05T11:52:44.958965Z"
    }
   },
   "outputs": [
    {
     "data": {
      "text/plain": [
       "no_of_children          190\n",
       "owns_car                132\n",
       "no_of_days_employed     105\n",
       "total_family_members     31\n",
       "migrant_worker           26\n",
       "yearly_debt_payments     22\n",
       "credit_score              3\n",
       "customer_id               0\n",
       "prev_defaults             0\n",
       "credit_limit_used(%)      0\n",
       "dtype: int64"
      ]
     },
     "execution_count": 76,
     "metadata": {},
     "output_type": "execute_result"
    }
   ],
   "source": [
    "test_data.isna().sum().sort_values(ascending=False).head(10)"
   ]
  },
  {
   "cell_type": "markdown",
   "metadata": {},
   "source": [
    "impute <i>no_of_children</i> with mode of the data\n",
    "\n",
    "impute <i>owns_car</i> using mode of the data\n",
    "\n",
    "impute <i>no_of_days_employed</i> using median of the data"
   ]
  },
  {
   "cell_type": "code",
   "execution_count": 77,
   "metadata": {
    "execution": {
     "iopub.execute_input": "2021-12-05T11:52:44.976511Z",
     "iopub.status.busy": "2021-12-05T11:52:44.976207Z",
     "iopub.status.idle": "2021-12-05T11:52:44.987144Z",
     "shell.execute_reply": "2021-12-05T11:52:44.986402Z",
     "shell.execute_reply.started": "2021-12-05T11:52:44.976484Z"
    }
   },
   "outputs": [],
   "source": [
    "# fill no_of_children with mode of the data\n",
    "test_data['no_of_children'].fillna(test_data['no_of_children'].mode()[0], inplace=True)\n",
    "\n",
    "# fill owns_car with mode of the data\n",
    "test_data['owns_car'].fillna(test_data['owns_car'].mode()[0], inplace=True)\n",
    "\n",
    "# fill no_of_days_employed with median of the data\n",
    "test_data['no_of_days_employed'].fillna(test_data['no_of_days_employed'].median(), inplace=True)"
   ]
  },
  {
   "cell_type": "markdown",
   "metadata": {},
   "source": [
    "impute <i>total_family_members</i> with mode, <i>migrant_worker</i> with mode, <i>yearly_debt_payments</i> with median and <i>credit_score</i> with median"
   ]
  },
  {
   "cell_type": "code",
   "execution_count": 78,
   "metadata": {
    "execution": {
     "iopub.execute_input": "2021-12-05T11:52:44.996081Z",
     "iopub.status.busy": "2021-12-05T11:52:44.995815Z",
     "iopub.status.idle": "2021-12-05T11:52:45.005214Z",
     "shell.execute_reply": "2021-12-05T11:52:45.004668Z",
     "shell.execute_reply.started": "2021-12-05T11:52:44.996050Z"
    }
   },
   "outputs": [],
   "source": [
    "# fillna wrt to their medians and modes\n",
    "test_data['total_family_members'].fillna(test_data['total_family_members'].mode()[0], inplace=True)\n",
    "test_data['migrant_worker'].fillna(test_data['migrant_worker'].mode()[0], inplace=True)\n",
    "test_data['yearly_debt_payments'].fillna(test_data['yearly_debt_payments'].median(), inplace=True)\n",
    "test_data['credit_score'].fillna(test_data['credit_score'].median(), inplace=True)"
   ]
  },
  {
   "cell_type": "code",
   "execution_count": 79,
   "metadata": {
    "execution": {
     "iopub.execute_input": "2021-12-05T11:52:45.007037Z",
     "iopub.status.busy": "2021-12-05T11:52:45.006300Z",
     "iopub.status.idle": "2021-12-05T11:52:45.027245Z",
     "shell.execute_reply": "2021-12-05T11:52:45.026676Z",
     "shell.execute_reply.started": "2021-12-05T11:52:45.006991Z"
    }
   },
   "outputs": [
    {
     "data": {
      "text/plain": [
       "customer_id                0\n",
       "name                       0\n",
       "age                        0\n",
       "gender                     0\n",
       "owns_car                   0\n",
       "owns_house                 0\n",
       "no_of_children             0\n",
       "net_yearly_income          0\n",
       "no_of_days_employed        0\n",
       "occupation_type            0\n",
       "total_family_members       0\n",
       "migrant_worker             0\n",
       "yearly_debt_payments       0\n",
       "credit_limit               0\n",
       "credit_limit_used(%)       0\n",
       "credit_score               0\n",
       "prev_defaults              0\n",
       "default_in_last_6months    0\n",
       "dtype: int64"
      ]
     },
     "execution_count": 79,
     "metadata": {},
     "output_type": "execute_result"
    }
   ],
   "source": [
    "# check for null values\n",
    "test_data.isna().sum()"
   ]
  },
  {
   "cell_type": "code",
   "execution_count": 80,
   "metadata": {
    "execution": {
     "iopub.execute_input": "2021-12-05T11:52:45.028823Z",
     "iopub.status.busy": "2021-12-05T11:52:45.028112Z",
     "iopub.status.idle": "2021-12-05T11:52:45.051721Z",
     "shell.execute_reply": "2021-12-05T11:52:45.050835Z",
     "shell.execute_reply.started": "2021-12-05T11:52:45.028789Z"
    }
   },
   "outputs": [
    {
     "data": {
      "text/html": [
       "<div>\n",
       "<style scoped>\n",
       "    .dataframe tbody tr th:only-of-type {\n",
       "        vertical-align: middle;\n",
       "    }\n",
       "\n",
       "    .dataframe tbody tr th {\n",
       "        vertical-align: top;\n",
       "    }\n",
       "\n",
       "    .dataframe thead th {\n",
       "        text-align: right;\n",
       "    }\n",
       "</style>\n",
       "<table border=\"1\" class=\"dataframe\">\n",
       "  <thead>\n",
       "    <tr style=\"text-align: right;\">\n",
       "      <th></th>\n",
       "      <th>customer_id</th>\n",
       "      <th>name</th>\n",
       "      <th>age</th>\n",
       "      <th>gender</th>\n",
       "      <th>owns_car</th>\n",
       "      <th>owns_house</th>\n",
       "      <th>no_of_children</th>\n",
       "      <th>net_yearly_income</th>\n",
       "      <th>no_of_days_employed</th>\n",
       "      <th>occupation_type</th>\n",
       "      <th>total_family_members</th>\n",
       "      <th>migrant_worker</th>\n",
       "      <th>yearly_debt_payments</th>\n",
       "      <th>credit_limit</th>\n",
       "      <th>credit_limit_used(%)</th>\n",
       "      <th>credit_score</th>\n",
       "      <th>prev_defaults</th>\n",
       "      <th>default_in_last_6months</th>\n",
       "    </tr>\n",
       "  </thead>\n",
       "  <tbody>\n",
       "    <tr>\n",
       "      <th>0</th>\n",
       "      <td>CST_142525</td>\n",
       "      <td>Siva</td>\n",
       "      <td>52</td>\n",
       "      <td>F</td>\n",
       "      <td>Y</td>\n",
       "      <td>N</td>\n",
       "      <td>0.0</td>\n",
       "      <td>232640.53</td>\n",
       "      <td>998.0</td>\n",
       "      <td>Unknown</td>\n",
       "      <td>2.0</td>\n",
       "      <td>0.0</td>\n",
       "      <td>14406.73</td>\n",
       "      <td>26524.40</td>\n",
       "      <td>4</td>\n",
       "      <td>779.0</td>\n",
       "      <td>0</td>\n",
       "      <td>0</td>\n",
       "    </tr>\n",
       "    <tr>\n",
       "      <th>1</th>\n",
       "      <td>CST_129215</td>\n",
       "      <td>Scott</td>\n",
       "      <td>48</td>\n",
       "      <td>F</td>\n",
       "      <td>N</td>\n",
       "      <td>N</td>\n",
       "      <td>1.0</td>\n",
       "      <td>284396.79</td>\n",
       "      <td>1338.0</td>\n",
       "      <td>Unknown</td>\n",
       "      <td>3.0</td>\n",
       "      <td>0.0</td>\n",
       "      <td>57479.99</td>\n",
       "      <td>68998.72</td>\n",
       "      <td>70</td>\n",
       "      <td>806.0</td>\n",
       "      <td>0</td>\n",
       "      <td>0</td>\n",
       "    </tr>\n",
       "    <tr>\n",
       "      <th>2</th>\n",
       "      <td>CST_138443</td>\n",
       "      <td>Victoria</td>\n",
       "      <td>50</td>\n",
       "      <td>F</td>\n",
       "      <td>N</td>\n",
       "      <td>N</td>\n",
       "      <td>1.0</td>\n",
       "      <td>149419.28</td>\n",
       "      <td>1210.0</td>\n",
       "      <td>Unknown</td>\n",
       "      <td>3.0</td>\n",
       "      <td>0.0</td>\n",
       "      <td>21611.01</td>\n",
       "      <td>25187.80</td>\n",
       "      <td>71</td>\n",
       "      <td>528.0</td>\n",
       "      <td>2</td>\n",
       "      <td>0</td>\n",
       "    </tr>\n",
       "    <tr>\n",
       "      <th>3</th>\n",
       "      <td>CST_123812</td>\n",
       "      <td>John McCrank</td>\n",
       "      <td>30</td>\n",
       "      <td>F</td>\n",
       "      <td>N</td>\n",
       "      <td>N</td>\n",
       "      <td>1.0</td>\n",
       "      <td>160437.54</td>\n",
       "      <td>503.0</td>\n",
       "      <td>Laborers</td>\n",
       "      <td>2.0</td>\n",
       "      <td>1.0</td>\n",
       "      <td>28990.76</td>\n",
       "      <td>29179.39</td>\n",
       "      <td>9</td>\n",
       "      <td>815.0</td>\n",
       "      <td>0</td>\n",
       "      <td>0</td>\n",
       "    </tr>\n",
       "    <tr>\n",
       "      <th>4</th>\n",
       "      <td>CST_144450</td>\n",
       "      <td>Martinne</td>\n",
       "      <td>52</td>\n",
       "      <td>M</td>\n",
       "      <td>N</td>\n",
       "      <td>Y</td>\n",
       "      <td>0.0</td>\n",
       "      <td>233480.37</td>\n",
       "      <td>157.0</td>\n",
       "      <td>Laborers</td>\n",
       "      <td>2.0</td>\n",
       "      <td>1.0</td>\n",
       "      <td>54213.72</td>\n",
       "      <td>82331.82</td>\n",
       "      <td>82</td>\n",
       "      <td>613.0</td>\n",
       "      <td>1</td>\n",
       "      <td>1</td>\n",
       "    </tr>\n",
       "  </tbody>\n",
       "</table>\n",
       "</div>"
      ],
      "text/plain": [
       "  customer_id          name  age gender owns_car owns_house  no_of_children  \\\n",
       "0  CST_142525          Siva   52      F        Y          N             0.0   \n",
       "1  CST_129215         Scott   48      F        N          N             1.0   \n",
       "2  CST_138443      Victoria   50      F        N          N             1.0   \n",
       "3  CST_123812  John McCrank   30      F        N          N             1.0   \n",
       "4  CST_144450      Martinne   52      M        N          Y             0.0   \n",
       "\n",
       "   net_yearly_income  no_of_days_employed occupation_type  \\\n",
       "0          232640.53                998.0         Unknown   \n",
       "1          284396.79               1338.0         Unknown   \n",
       "2          149419.28               1210.0         Unknown   \n",
       "3          160437.54                503.0        Laborers   \n",
       "4          233480.37                157.0        Laborers   \n",
       "\n",
       "   total_family_members  migrant_worker  yearly_debt_payments  credit_limit  \\\n",
       "0                   2.0             0.0              14406.73      26524.40   \n",
       "1                   3.0             0.0              57479.99      68998.72   \n",
       "2                   3.0             0.0              21611.01      25187.80   \n",
       "3                   2.0             1.0              28990.76      29179.39   \n",
       "4                   2.0             1.0              54213.72      82331.82   \n",
       "\n",
       "   credit_limit_used(%)  credit_score  prev_defaults  default_in_last_6months  \n",
       "0                     4         779.0              0                        0  \n",
       "1                    70         806.0              0                        0  \n",
       "2                    71         528.0              2                        0  \n",
       "3                     9         815.0              0                        0  \n",
       "4                    82         613.0              1                        1  "
      ]
     },
     "execution_count": 80,
     "metadata": {},
     "output_type": "execute_result"
    }
   ],
   "source": [
    "test_data.head()"
   ]
  },
  {
   "cell_type": "code",
   "execution_count": 81,
   "metadata": {
    "execution": {
     "iopub.execute_input": "2021-12-05T11:52:45.053703Z",
     "iopub.status.busy": "2021-12-05T11:52:45.053202Z",
     "iopub.status.idle": "2021-12-05T11:52:45.111868Z",
     "shell.execute_reply": "2021-12-05T11:52:45.111265Z",
     "shell.execute_reply.started": "2021-12-05T11:52:45.053659Z"
    }
   },
   "outputs": [
    {
     "name": "stdout",
     "output_type": "stream",
     "text": [
      "Column Name: gender\n",
      "F      7443\n",
      "M      3939\n",
      "XNA       1\n",
      "Name: gender, dtype: int64\n",
      "**************************************************\n",
      "Column Name: owns_car\n",
      "N    7504\n",
      "Y    3879\n",
      "Name: owns_car, dtype: int64\n",
      "**************************************************\n",
      "Column Name: owns_house\n",
      "Y    7861\n",
      "N    3522\n",
      "Name: owns_house, dtype: int64\n",
      "**************************************************\n",
      "Column Name: no_of_children\n",
      "0.0     8015\n",
      "1.0     2248\n",
      "2.0      957\n",
      "3.0      138\n",
      "4.0       19\n",
      "5.0        4\n",
      "11.0       1\n",
      "7.0        1\n",
      "Name: no_of_children, dtype: int64\n",
      "**************************************************\n",
      "Column Name: occupation_type\n",
      "Unknown                  3546\n",
      "Laborers                 2071\n",
      "Sales staff              1176\n",
      "Core staff               1018\n",
      "Managers                  806\n",
      "Drivers                   703\n",
      "High skill tech staff     405\n",
      "Accountants               365\n",
      "Medicine staff            318\n",
      "Security staff            252\n",
      "Cooking staff             208\n",
      "Cleaning staff            164\n",
      "Private service staff     109\n",
      "Low-skill Laborers         61\n",
      "Waiters/barmen staff       47\n",
      "Secretaries                42\n",
      "Realty agents              33\n",
      "HR staff                   31\n",
      "IT staff                   28\n",
      "Name: occupation_type, dtype: int64\n",
      "**************************************************\n",
      "Column Name: total_family_members\n",
      "2.0     5866\n",
      "1.0     2493\n",
      "3.0     1961\n",
      "4.0      907\n",
      "5.0      131\n",
      "6.0       19\n",
      "7.0        4\n",
      "9.0        1\n",
      "13.0       1\n",
      "Name: total_family_members, dtype: int64\n",
      "**************************************************\n",
      "Column Name: migrant_worker\n",
      "0.0    9361\n",
      "1.0    2022\n",
      "Name: migrant_worker, dtype: int64\n",
      "**************************************************\n",
      "Column Name: prev_defaults\n",
      "0    10796\n",
      "1      513\n",
      "2       74\n",
      "Name: prev_defaults, dtype: int64\n",
      "**************************************************\n",
      "Column Name: default_in_last_6months\n",
      "0    10829\n",
      "1      554\n",
      "Name: default_in_last_6months, dtype: int64\n",
      "**************************************************\n"
     ]
    }
   ],
   "source": [
    "# get all categorical features\n",
    "cols = test_data.columns \n",
    "\n",
    "for i in cols:\n",
    "    if len(test_data[i].value_counts())<=20:\n",
    "        print(\"Column Name:\",i)\n",
    "        print(test_data[i].value_counts())\n",
    "        print(\"*\"*50)"
   ]
  },
  {
   "cell_type": "code",
   "execution_count": 82,
   "metadata": {
    "execution": {
     "iopub.execute_input": "2021-12-05T11:52:45.113604Z",
     "iopub.status.busy": "2021-12-05T11:52:45.113001Z",
     "iopub.status.idle": "2021-12-05T11:52:45.135104Z",
     "shell.execute_reply": "2021-12-05T11:52:45.134521Z",
     "shell.execute_reply.started": "2021-12-05T11:52:45.113567Z"
    }
   },
   "outputs": [
    {
     "data": {
      "text/html": [
       "<div>\n",
       "<style scoped>\n",
       "    .dataframe tbody tr th:only-of-type {\n",
       "        vertical-align: middle;\n",
       "    }\n",
       "\n",
       "    .dataframe tbody tr th {\n",
       "        vertical-align: top;\n",
       "    }\n",
       "\n",
       "    .dataframe thead th {\n",
       "        text-align: right;\n",
       "    }\n",
       "</style>\n",
       "<table border=\"1\" class=\"dataframe\">\n",
       "  <thead>\n",
       "    <tr style=\"text-align: right;\">\n",
       "      <th></th>\n",
       "      <th>customer_id</th>\n",
       "      <th>name</th>\n",
       "      <th>age</th>\n",
       "      <th>gender</th>\n",
       "      <th>owns_car</th>\n",
       "      <th>owns_house</th>\n",
       "      <th>no_of_children</th>\n",
       "      <th>net_yearly_income</th>\n",
       "      <th>no_of_days_employed</th>\n",
       "      <th>occupation_type</th>\n",
       "      <th>total_family_members</th>\n",
       "      <th>migrant_worker</th>\n",
       "      <th>yearly_debt_payments</th>\n",
       "      <th>credit_limit</th>\n",
       "      <th>credit_limit_used(%)</th>\n",
       "      <th>credit_score</th>\n",
       "      <th>prev_defaults</th>\n",
       "      <th>default_in_last_6months</th>\n",
       "    </tr>\n",
       "  </thead>\n",
       "  <tbody>\n",
       "    <tr>\n",
       "      <th>3510</th>\n",
       "      <td>CST_141289</td>\n",
       "      <td>Jan</td>\n",
       "      <td>25</td>\n",
       "      <td>XNA</td>\n",
       "      <td>Y</td>\n",
       "      <td>Y</td>\n",
       "      <td>0.0</td>\n",
       "      <td>219109.11</td>\n",
       "      <td>10041.0</td>\n",
       "      <td>Unknown</td>\n",
       "      <td>2.0</td>\n",
       "      <td>0.0</td>\n",
       "      <td>22295.99</td>\n",
       "      <td>27709.34</td>\n",
       "      <td>3</td>\n",
       "      <td>807.0</td>\n",
       "      <td>0</td>\n",
       "      <td>0</td>\n",
       "    </tr>\n",
       "  </tbody>\n",
       "</table>\n",
       "</div>"
      ],
      "text/plain": [
       "     customer_id name  age gender owns_car owns_house  no_of_children  \\\n",
       "3510  CST_141289  Jan   25    XNA        Y          Y             0.0   \n",
       "\n",
       "      net_yearly_income  no_of_days_employed occupation_type  \\\n",
       "3510          219109.11              10041.0         Unknown   \n",
       "\n",
       "      total_family_members  migrant_worker  yearly_debt_payments  \\\n",
       "3510                   2.0             0.0              22295.99   \n",
       "\n",
       "      credit_limit  credit_limit_used(%)  credit_score  prev_defaults  \\\n",
       "3510      27709.34                     3         807.0              0   \n",
       "\n",
       "      default_in_last_6months  \n",
       "3510                        0  "
      ]
     },
     "execution_count": 82,
     "metadata": {},
     "output_type": "execute_result"
    }
   ],
   "source": [
    "test_data[test_data['gender'] == 'XNA']"
   ]
  },
  {
   "cell_type": "code",
   "execution_count": 83,
   "metadata": {
    "execution": {
     "iopub.execute_input": "2021-12-05T11:52:45.136728Z",
     "iopub.status.busy": "2021-12-05T11:52:45.136081Z",
     "iopub.status.idle": "2021-12-05T11:52:45.150980Z",
     "shell.execute_reply": "2021-12-05T11:52:45.150043Z",
     "shell.execute_reply.started": "2021-12-05T11:52:45.136693Z"
    }
   },
   "outputs": [
    {
     "data": {
      "text/plain": [
       "F    7444\n",
       "M    3939\n",
       "Name: gender, dtype: int64"
      ]
     },
     "execution_count": 83,
     "metadata": {},
     "output_type": "execute_result"
    }
   ],
   "source": [
    "# lets impute with F as its mode of the feature\n",
    "test_data['gender'] = test_data['gender'].apply(lambda x: 'F' if x=='XNA' else x)\n",
    "test_data['gender'].value_counts()"
   ]
  },
  {
   "cell_type": "code",
   "execution_count": 84,
   "metadata": {
    "execution": {
     "iopub.execute_input": "2021-12-05T11:52:45.152759Z",
     "iopub.status.busy": "2021-12-05T11:52:45.152479Z",
     "iopub.status.idle": "2021-12-05T11:52:45.157105Z",
     "shell.execute_reply": "2021-12-05T11:52:45.156567Z",
     "shell.execute_reply.started": "2021-12-05T11:52:45.152728Z"
    }
   },
   "outputs": [],
   "source": [
    "# get the cutomer_id column to new dataframe and drop in the original data fram\n",
    "final_df = pd.DataFrame(test_data.customer_id)"
   ]
  },
  {
   "cell_type": "code",
   "execution_count": 85,
   "metadata": {
    "execution": {
     "iopub.execute_input": "2021-12-05T11:52:45.158841Z",
     "iopub.status.busy": "2021-12-05T11:52:45.158279Z",
     "iopub.status.idle": "2021-12-05T11:52:45.185439Z",
     "shell.execute_reply": "2021-12-05T11:52:45.184566Z",
     "shell.execute_reply.started": "2021-12-05T11:52:45.158804Z"
    }
   },
   "outputs": [
    {
     "data": {
      "text/html": [
       "<div>\n",
       "<style scoped>\n",
       "    .dataframe tbody tr th:only-of-type {\n",
       "        vertical-align: middle;\n",
       "    }\n",
       "\n",
       "    .dataframe tbody tr th {\n",
       "        vertical-align: top;\n",
       "    }\n",
       "\n",
       "    .dataframe thead th {\n",
       "        text-align: right;\n",
       "    }\n",
       "</style>\n",
       "<table border=\"1\" class=\"dataframe\">\n",
       "  <thead>\n",
       "    <tr style=\"text-align: right;\">\n",
       "      <th></th>\n",
       "      <th>age</th>\n",
       "      <th>gender</th>\n",
       "      <th>owns_car</th>\n",
       "      <th>owns_house</th>\n",
       "      <th>no_of_children</th>\n",
       "      <th>net_yearly_income</th>\n",
       "      <th>no_of_days_employed</th>\n",
       "      <th>occupation_type</th>\n",
       "      <th>total_family_members</th>\n",
       "      <th>migrant_worker</th>\n",
       "      <th>yearly_debt_payments</th>\n",
       "      <th>credit_limit</th>\n",
       "      <th>credit_limit_used(%)</th>\n",
       "      <th>credit_score</th>\n",
       "      <th>prev_defaults</th>\n",
       "      <th>default_in_last_6months</th>\n",
       "    </tr>\n",
       "  </thead>\n",
       "  <tbody>\n",
       "    <tr>\n",
       "      <th>0</th>\n",
       "      <td>52</td>\n",
       "      <td>F</td>\n",
       "      <td>Y</td>\n",
       "      <td>N</td>\n",
       "      <td>0.0</td>\n",
       "      <td>232640.53</td>\n",
       "      <td>998.0</td>\n",
       "      <td>Unknown</td>\n",
       "      <td>2.0</td>\n",
       "      <td>0.0</td>\n",
       "      <td>14406.73</td>\n",
       "      <td>26524.40</td>\n",
       "      <td>4</td>\n",
       "      <td>779.0</td>\n",
       "      <td>0</td>\n",
       "      <td>0</td>\n",
       "    </tr>\n",
       "    <tr>\n",
       "      <th>1</th>\n",
       "      <td>48</td>\n",
       "      <td>F</td>\n",
       "      <td>N</td>\n",
       "      <td>N</td>\n",
       "      <td>1.0</td>\n",
       "      <td>284396.79</td>\n",
       "      <td>1338.0</td>\n",
       "      <td>Unknown</td>\n",
       "      <td>3.0</td>\n",
       "      <td>0.0</td>\n",
       "      <td>57479.99</td>\n",
       "      <td>68998.72</td>\n",
       "      <td>70</td>\n",
       "      <td>806.0</td>\n",
       "      <td>0</td>\n",
       "      <td>0</td>\n",
       "    </tr>\n",
       "    <tr>\n",
       "      <th>2</th>\n",
       "      <td>50</td>\n",
       "      <td>F</td>\n",
       "      <td>N</td>\n",
       "      <td>N</td>\n",
       "      <td>1.0</td>\n",
       "      <td>149419.28</td>\n",
       "      <td>1210.0</td>\n",
       "      <td>Unknown</td>\n",
       "      <td>3.0</td>\n",
       "      <td>0.0</td>\n",
       "      <td>21611.01</td>\n",
       "      <td>25187.80</td>\n",
       "      <td>71</td>\n",
       "      <td>528.0</td>\n",
       "      <td>2</td>\n",
       "      <td>0</td>\n",
       "    </tr>\n",
       "    <tr>\n",
       "      <th>3</th>\n",
       "      <td>30</td>\n",
       "      <td>F</td>\n",
       "      <td>N</td>\n",
       "      <td>N</td>\n",
       "      <td>1.0</td>\n",
       "      <td>160437.54</td>\n",
       "      <td>503.0</td>\n",
       "      <td>Laborers</td>\n",
       "      <td>2.0</td>\n",
       "      <td>1.0</td>\n",
       "      <td>28990.76</td>\n",
       "      <td>29179.39</td>\n",
       "      <td>9</td>\n",
       "      <td>815.0</td>\n",
       "      <td>0</td>\n",
       "      <td>0</td>\n",
       "    </tr>\n",
       "    <tr>\n",
       "      <th>4</th>\n",
       "      <td>52</td>\n",
       "      <td>M</td>\n",
       "      <td>N</td>\n",
       "      <td>Y</td>\n",
       "      <td>0.0</td>\n",
       "      <td>233480.37</td>\n",
       "      <td>157.0</td>\n",
       "      <td>Laborers</td>\n",
       "      <td>2.0</td>\n",
       "      <td>1.0</td>\n",
       "      <td>54213.72</td>\n",
       "      <td>82331.82</td>\n",
       "      <td>82</td>\n",
       "      <td>613.0</td>\n",
       "      <td>1</td>\n",
       "      <td>1</td>\n",
       "    </tr>\n",
       "  </tbody>\n",
       "</table>\n",
       "</div>"
      ],
      "text/plain": [
       "   age gender owns_car owns_house  no_of_children  net_yearly_income  \\\n",
       "0   52      F        Y          N             0.0          232640.53   \n",
       "1   48      F        N          N             1.0          284396.79   \n",
       "2   50      F        N          N             1.0          149419.28   \n",
       "3   30      F        N          N             1.0          160437.54   \n",
       "4   52      M        N          Y             0.0          233480.37   \n",
       "\n",
       "   no_of_days_employed occupation_type  total_family_members  migrant_worker  \\\n",
       "0                998.0         Unknown                   2.0             0.0   \n",
       "1               1338.0         Unknown                   3.0             0.0   \n",
       "2               1210.0         Unknown                   3.0             0.0   \n",
       "3                503.0        Laborers                   2.0             1.0   \n",
       "4                157.0        Laborers                   2.0             1.0   \n",
       "\n",
       "   yearly_debt_payments  credit_limit  credit_limit_used(%)  credit_score  \\\n",
       "0              14406.73      26524.40                     4         779.0   \n",
       "1              57479.99      68998.72                    70         806.0   \n",
       "2              21611.01      25187.80                    71         528.0   \n",
       "3              28990.76      29179.39                     9         815.0   \n",
       "4              54213.72      82331.82                    82         613.0   \n",
       "\n",
       "   prev_defaults  default_in_last_6months  \n",
       "0              0                        0  \n",
       "1              0                        0  \n",
       "2              2                        0  \n",
       "3              0                        0  \n",
       "4              1                        1  "
      ]
     },
     "execution_count": 85,
     "metadata": {},
     "output_type": "execute_result"
    }
   ],
   "source": [
    "test_data.drop(['customer_id', 'name'], axis=1, inplace=True)\n",
    "test_data.head()"
   ]
  },
  {
   "cell_type": "markdown",
   "metadata": {},
   "source": [
    "### Data Preparation"
   ]
  },
  {
   "cell_type": "markdown",
   "metadata": {},
   "source": [
    "#### Label Encoding"
   ]
  },
  {
   "cell_type": "code",
   "execution_count": 86,
   "metadata": {
    "execution": {
     "iopub.execute_input": "2021-12-05T11:52:45.187444Z",
     "iopub.status.busy": "2021-12-05T11:52:45.186742Z",
     "iopub.status.idle": "2021-12-05T11:52:45.231237Z",
     "shell.execute_reply": "2021-12-05T11:52:45.230570Z",
     "shell.execute_reply.started": "2021-12-05T11:52:45.187398Z"
    }
   },
   "outputs": [
    {
     "data": {
      "text/html": [
       "<div>\n",
       "<style scoped>\n",
       "    .dataframe tbody tr th:only-of-type {\n",
       "        vertical-align: middle;\n",
       "    }\n",
       "\n",
       "    .dataframe tbody tr th {\n",
       "        vertical-align: top;\n",
       "    }\n",
       "\n",
       "    .dataframe thead th {\n",
       "        text-align: right;\n",
       "    }\n",
       "</style>\n",
       "<table border=\"1\" class=\"dataframe\">\n",
       "  <thead>\n",
       "    <tr style=\"text-align: right;\">\n",
       "      <th></th>\n",
       "      <th>age</th>\n",
       "      <th>gender</th>\n",
       "      <th>owns_car</th>\n",
       "      <th>owns_house</th>\n",
       "      <th>no_of_children</th>\n",
       "      <th>net_yearly_income</th>\n",
       "      <th>no_of_days_employed</th>\n",
       "      <th>occupation_type</th>\n",
       "      <th>total_family_members</th>\n",
       "      <th>migrant_worker</th>\n",
       "      <th>yearly_debt_payments</th>\n",
       "      <th>credit_limit</th>\n",
       "      <th>credit_limit_used(%)</th>\n",
       "      <th>credit_score</th>\n",
       "      <th>prev_defaults</th>\n",
       "      <th>default_in_last_6months</th>\n",
       "    </tr>\n",
       "  </thead>\n",
       "  <tbody>\n",
       "    <tr>\n",
       "      <th>0</th>\n",
       "      <td>52</td>\n",
       "      <td>0</td>\n",
       "      <td>1</td>\n",
       "      <td>0</td>\n",
       "      <td>0.0</td>\n",
       "      <td>232640.53</td>\n",
       "      <td>998.0</td>\n",
       "      <td>17</td>\n",
       "      <td>2.0</td>\n",
       "      <td>0.0</td>\n",
       "      <td>14406.73</td>\n",
       "      <td>26524.40</td>\n",
       "      <td>4</td>\n",
       "      <td>779.0</td>\n",
       "      <td>0</td>\n",
       "      <td>0</td>\n",
       "    </tr>\n",
       "    <tr>\n",
       "      <th>1</th>\n",
       "      <td>48</td>\n",
       "      <td>0</td>\n",
       "      <td>0</td>\n",
       "      <td>0</td>\n",
       "      <td>1.0</td>\n",
       "      <td>284396.79</td>\n",
       "      <td>1338.0</td>\n",
       "      <td>17</td>\n",
       "      <td>3.0</td>\n",
       "      <td>0.0</td>\n",
       "      <td>57479.99</td>\n",
       "      <td>68998.72</td>\n",
       "      <td>70</td>\n",
       "      <td>806.0</td>\n",
       "      <td>0</td>\n",
       "      <td>0</td>\n",
       "    </tr>\n",
       "    <tr>\n",
       "      <th>2</th>\n",
       "      <td>50</td>\n",
       "      <td>0</td>\n",
       "      <td>0</td>\n",
       "      <td>0</td>\n",
       "      <td>1.0</td>\n",
       "      <td>149419.28</td>\n",
       "      <td>1210.0</td>\n",
       "      <td>17</td>\n",
       "      <td>3.0</td>\n",
       "      <td>0.0</td>\n",
       "      <td>21611.01</td>\n",
       "      <td>25187.80</td>\n",
       "      <td>71</td>\n",
       "      <td>528.0</td>\n",
       "      <td>2</td>\n",
       "      <td>0</td>\n",
       "    </tr>\n",
       "    <tr>\n",
       "      <th>3</th>\n",
       "      <td>30</td>\n",
       "      <td>0</td>\n",
       "      <td>0</td>\n",
       "      <td>0</td>\n",
       "      <td>1.0</td>\n",
       "      <td>160437.54</td>\n",
       "      <td>503.0</td>\n",
       "      <td>8</td>\n",
       "      <td>2.0</td>\n",
       "      <td>1.0</td>\n",
       "      <td>28990.76</td>\n",
       "      <td>29179.39</td>\n",
       "      <td>9</td>\n",
       "      <td>815.0</td>\n",
       "      <td>0</td>\n",
       "      <td>0</td>\n",
       "    </tr>\n",
       "    <tr>\n",
       "      <th>4</th>\n",
       "      <td>52</td>\n",
       "      <td>1</td>\n",
       "      <td>0</td>\n",
       "      <td>1</td>\n",
       "      <td>0.0</td>\n",
       "      <td>233480.37</td>\n",
       "      <td>157.0</td>\n",
       "      <td>8</td>\n",
       "      <td>2.0</td>\n",
       "      <td>1.0</td>\n",
       "      <td>54213.72</td>\n",
       "      <td>82331.82</td>\n",
       "      <td>82</td>\n",
       "      <td>613.0</td>\n",
       "      <td>1</td>\n",
       "      <td>1</td>\n",
       "    </tr>\n",
       "  </tbody>\n",
       "</table>\n",
       "</div>"
      ],
      "text/plain": [
       "   age  gender  owns_car  owns_house  no_of_children  net_yearly_income  \\\n",
       "0   52       0         1           0             0.0          232640.53   \n",
       "1   48       0         0           0             1.0          284396.79   \n",
       "2   50       0         0           0             1.0          149419.28   \n",
       "3   30       0         0           0             1.0          160437.54   \n",
       "4   52       1         0           1             0.0          233480.37   \n",
       "\n",
       "   no_of_days_employed  occupation_type  total_family_members  migrant_worker  \\\n",
       "0                998.0               17                   2.0             0.0   \n",
       "1               1338.0               17                   3.0             0.0   \n",
       "2               1210.0               17                   3.0             0.0   \n",
       "3                503.0                8                   2.0             1.0   \n",
       "4                157.0                8                   2.0             1.0   \n",
       "\n",
       "   yearly_debt_payments  credit_limit  credit_limit_used(%)  credit_score  \\\n",
       "0              14406.73      26524.40                     4         779.0   \n",
       "1              57479.99      68998.72                    70         806.0   \n",
       "2              21611.01      25187.80                    71         528.0   \n",
       "3              28990.76      29179.39                     9         815.0   \n",
       "4              54213.72      82331.82                    82         613.0   \n",
       "\n",
       "   prev_defaults  default_in_last_6months  \n",
       "0              0                        0  \n",
       "1              0                        0  \n",
       "2              2                        0  \n",
       "3              0                        0  \n",
       "4              1                        1  "
      ]
     },
     "execution_count": 86,
     "metadata": {},
     "output_type": "execute_result"
    }
   ],
   "source": [
    "# get categorical columns\n",
    "cat_cols_test = test_data.select_dtypes(include=['object']).columns\n",
    "\n",
    "# encode labels for categorical columns\n",
    "for i in cat_cols_test:\n",
    "    test_data[i] = lm.fit_transform(test_data[i])\n",
    "    \n",
    "test_data.head()"
   ]
  },
  {
   "cell_type": "code",
   "execution_count": 87,
   "metadata": {
    "execution": {
     "iopub.execute_input": "2021-12-05T11:52:45.232747Z",
     "iopub.status.busy": "2021-12-05T11:52:45.232247Z",
     "iopub.status.idle": "2021-12-05T11:52:45.252365Z",
     "shell.execute_reply": "2021-12-05T11:52:45.251840Z",
     "shell.execute_reply.started": "2021-12-05T11:52:45.232712Z"
    },
    "scrolled": true
   },
   "outputs": [
    {
     "data": {
      "text/html": [
       "<div>\n",
       "<style scoped>\n",
       "    .dataframe tbody tr th:only-of-type {\n",
       "        vertical-align: middle;\n",
       "    }\n",
       "\n",
       "    .dataframe tbody tr th {\n",
       "        vertical-align: top;\n",
       "    }\n",
       "\n",
       "    .dataframe thead th {\n",
       "        text-align: right;\n",
       "    }\n",
       "</style>\n",
       "<table border=\"1\" class=\"dataframe\">\n",
       "  <thead>\n",
       "    <tr style=\"text-align: right;\">\n",
       "      <th></th>\n",
       "      <th>age</th>\n",
       "      <th>gender</th>\n",
       "      <th>owns_car</th>\n",
       "      <th>owns_house</th>\n",
       "      <th>no_of_children</th>\n",
       "      <th>net_yearly_income</th>\n",
       "      <th>no_of_days_employed</th>\n",
       "      <th>occupation_type</th>\n",
       "      <th>total_family_members</th>\n",
       "      <th>migrant_worker</th>\n",
       "      <th>yearly_debt_payments</th>\n",
       "      <th>credit_limit</th>\n",
       "      <th>credit_limit_used(%)</th>\n",
       "      <th>credit_score</th>\n",
       "      <th>prev_defaults</th>\n",
       "      <th>default_in_last_6months</th>\n",
       "    </tr>\n",
       "  </thead>\n",
       "  <tbody>\n",
       "    <tr>\n",
       "      <th>0</th>\n",
       "      <td>52</td>\n",
       "      <td>0</td>\n",
       "      <td>1</td>\n",
       "      <td>0</td>\n",
       "      <td>0.0</td>\n",
       "      <td>232640.53</td>\n",
       "      <td>998.0</td>\n",
       "      <td>17</td>\n",
       "      <td>2.0</td>\n",
       "      <td>0.0</td>\n",
       "      <td>14406.73</td>\n",
       "      <td>26524.40</td>\n",
       "      <td>4</td>\n",
       "      <td>779.0</td>\n",
       "      <td>0</td>\n",
       "      <td>0</td>\n",
       "    </tr>\n",
       "    <tr>\n",
       "      <th>1</th>\n",
       "      <td>48</td>\n",
       "      <td>0</td>\n",
       "      <td>0</td>\n",
       "      <td>0</td>\n",
       "      <td>1.0</td>\n",
       "      <td>284396.79</td>\n",
       "      <td>1338.0</td>\n",
       "      <td>17</td>\n",
       "      <td>3.0</td>\n",
       "      <td>0.0</td>\n",
       "      <td>57479.99</td>\n",
       "      <td>68998.72</td>\n",
       "      <td>70</td>\n",
       "      <td>806.0</td>\n",
       "      <td>0</td>\n",
       "      <td>0</td>\n",
       "    </tr>\n",
       "    <tr>\n",
       "      <th>2</th>\n",
       "      <td>50</td>\n",
       "      <td>0</td>\n",
       "      <td>0</td>\n",
       "      <td>0</td>\n",
       "      <td>1.0</td>\n",
       "      <td>149419.28</td>\n",
       "      <td>1210.0</td>\n",
       "      <td>17</td>\n",
       "      <td>3.0</td>\n",
       "      <td>0.0</td>\n",
       "      <td>21611.01</td>\n",
       "      <td>25187.80</td>\n",
       "      <td>71</td>\n",
       "      <td>528.0</td>\n",
       "      <td>2</td>\n",
       "      <td>0</td>\n",
       "    </tr>\n",
       "    <tr>\n",
       "      <th>3</th>\n",
       "      <td>30</td>\n",
       "      <td>0</td>\n",
       "      <td>0</td>\n",
       "      <td>0</td>\n",
       "      <td>1.0</td>\n",
       "      <td>160437.54</td>\n",
       "      <td>503.0</td>\n",
       "      <td>8</td>\n",
       "      <td>2.0</td>\n",
       "      <td>1.0</td>\n",
       "      <td>28990.76</td>\n",
       "      <td>29179.39</td>\n",
       "      <td>9</td>\n",
       "      <td>815.0</td>\n",
       "      <td>0</td>\n",
       "      <td>0</td>\n",
       "    </tr>\n",
       "    <tr>\n",
       "      <th>4</th>\n",
       "      <td>52</td>\n",
       "      <td>1</td>\n",
       "      <td>0</td>\n",
       "      <td>1</td>\n",
       "      <td>0.0</td>\n",
       "      <td>233480.37</td>\n",
       "      <td>157.0</td>\n",
       "      <td>8</td>\n",
       "      <td>2.0</td>\n",
       "      <td>1.0</td>\n",
       "      <td>54213.72</td>\n",
       "      <td>82331.82</td>\n",
       "      <td>82</td>\n",
       "      <td>613.0</td>\n",
       "      <td>1</td>\n",
       "      <td>1</td>\n",
       "    </tr>\n",
       "  </tbody>\n",
       "</table>\n",
       "</div>"
      ],
      "text/plain": [
       "   age  gender  owns_car  owns_house  no_of_children  net_yearly_income  \\\n",
       "0   52       0         1           0             0.0          232640.53   \n",
       "1   48       0         0           0             1.0          284396.79   \n",
       "2   50       0         0           0             1.0          149419.28   \n",
       "3   30       0         0           0             1.0          160437.54   \n",
       "4   52       1         0           1             0.0          233480.37   \n",
       "\n",
       "   no_of_days_employed  occupation_type  total_family_members  migrant_worker  \\\n",
       "0                998.0               17                   2.0             0.0   \n",
       "1               1338.0               17                   3.0             0.0   \n",
       "2               1210.0               17                   3.0             0.0   \n",
       "3                503.0                8                   2.0             1.0   \n",
       "4                157.0                8                   2.0             1.0   \n",
       "\n",
       "   yearly_debt_payments  credit_limit  credit_limit_used(%)  credit_score  \\\n",
       "0              14406.73      26524.40                     4         779.0   \n",
       "1              57479.99      68998.72                    70         806.0   \n",
       "2              21611.01      25187.80                    71         528.0   \n",
       "3              28990.76      29179.39                     9         815.0   \n",
       "4              54213.72      82331.82                    82         613.0   \n",
       "\n",
       "   prev_defaults  default_in_last_6months  \n",
       "0              0                        0  \n",
       "1              0                        0  \n",
       "2              2                        0  \n",
       "3              0                        0  \n",
       "4              1                        1  "
      ]
     },
     "execution_count": 87,
     "metadata": {},
     "output_type": "execute_result"
    }
   ],
   "source": [
    "test_data.head()"
   ]
  },
  {
   "cell_type": "code",
   "execution_count": 88,
   "metadata": {
    "execution": {
     "iopub.execute_input": "2021-12-05T11:52:45.253701Z",
     "iopub.status.busy": "2021-12-05T11:52:45.253365Z",
     "iopub.status.idle": "2021-12-05T11:52:45.264405Z",
     "shell.execute_reply": "2021-12-05T11:52:45.263647Z",
     "shell.execute_reply.started": "2021-12-05T11:52:45.253662Z"
    }
   },
   "outputs": [
    {
     "data": {
      "text/plain": [
       "Index(['age', 'gender', 'owns_car', 'owns_house', 'no_of_children',\n",
       "       'net_yearly_income', 'no_of_days_employed', 'occupation_type',\n",
       "       'total_family_members', 'migrant_worker', 'yearly_debt_payments',\n",
       "       'credit_limit', 'credit_limit_used(%)', 'credit_score', 'prev_defaults',\n",
       "       'default_in_last_6months'],\n",
       "      dtype='object')"
      ]
     },
     "execution_count": 88,
     "metadata": {},
     "output_type": "execute_result"
    }
   ],
   "source": [
    "cols_test = test_data.columns\n",
    "cols_test"
   ]
  },
  {
   "cell_type": "markdown",
   "metadata": {},
   "source": [
    "#### Feature Scaling"
   ]
  },
  {
   "cell_type": "code",
   "execution_count": 89,
   "metadata": {
    "execution": {
     "iopub.execute_input": "2021-12-05T11:52:45.265781Z",
     "iopub.status.busy": "2021-12-05T11:52:45.265564Z",
     "iopub.status.idle": "2021-12-05T11:52:45.297673Z",
     "shell.execute_reply": "2021-12-05T11:52:45.296142Z",
     "shell.execute_reply.started": "2021-12-05T11:52:45.265754Z"
    }
   },
   "outputs": [
    {
     "data": {
      "text/html": [
       "<div>\n",
       "<style scoped>\n",
       "    .dataframe tbody tr th:only-of-type {\n",
       "        vertical-align: middle;\n",
       "    }\n",
       "\n",
       "    .dataframe tbody tr th {\n",
       "        vertical-align: top;\n",
       "    }\n",
       "\n",
       "    .dataframe thead th {\n",
       "        text-align: right;\n",
       "    }\n",
       "</style>\n",
       "<table border=\"1\" class=\"dataframe\">\n",
       "  <thead>\n",
       "    <tr style=\"text-align: right;\">\n",
       "      <th></th>\n",
       "      <th>age</th>\n",
       "      <th>gender</th>\n",
       "      <th>owns_car</th>\n",
       "      <th>owns_house</th>\n",
       "      <th>no_of_children</th>\n",
       "      <th>net_yearly_income</th>\n",
       "      <th>no_of_days_employed</th>\n",
       "      <th>occupation_type</th>\n",
       "      <th>total_family_members</th>\n",
       "      <th>migrant_worker</th>\n",
       "      <th>yearly_debt_payments</th>\n",
       "      <th>credit_limit</th>\n",
       "      <th>credit_limit_used(%)</th>\n",
       "      <th>credit_score</th>\n",
       "      <th>prev_defaults</th>\n",
       "      <th>default_in_last_6months</th>\n",
       "    </tr>\n",
       "  </thead>\n",
       "  <tbody>\n",
       "    <tr>\n",
       "      <th>0</th>\n",
       "      <td>1.366010</td>\n",
       "      <td>-0.775740</td>\n",
       "      <td>1.308199</td>\n",
       "      <td>-1.464876</td>\n",
       "      <td>-0.651571</td>\n",
       "      <td>0.278856</td>\n",
       "      <td>-0.597466</td>\n",
       "      <td>1.452566</td>\n",
       "      <td>-0.272318</td>\n",
       "      <td>-0.52805</td>\n",
       "      <td>-1.041777</td>\n",
       "      <td>-0.634093</td>\n",
       "      <td>-1.653339</td>\n",
       "      <td>-0.015649</td>\n",
       "      <td>-0.238892</td>\n",
       "      <td>-0.240824</td>\n",
       "    </tr>\n",
       "    <tr>\n",
       "      <th>1</th>\n",
       "      <td>0.947151</td>\n",
       "      <td>-0.775740</td>\n",
       "      <td>-0.764410</td>\n",
       "      <td>-1.464876</td>\n",
       "      <td>0.667071</td>\n",
       "      <td>0.773723</td>\n",
       "      <td>-0.452185</td>\n",
       "      <td>1.452566</td>\n",
       "      <td>0.790816</td>\n",
       "      <td>-0.52805</td>\n",
       "      <td>1.437874</td>\n",
       "      <td>0.898963</td>\n",
       "      <td>0.594298</td>\n",
       "      <td>0.251314</td>\n",
       "      <td>-0.238892</td>\n",
       "      <td>-0.240824</td>\n",
       "    </tr>\n",
       "    <tr>\n",
       "      <th>2</th>\n",
       "      <td>1.156581</td>\n",
       "      <td>-0.775740</td>\n",
       "      <td>-0.764410</td>\n",
       "      <td>-1.464876</td>\n",
       "      <td>0.667071</td>\n",
       "      <td>-0.516864</td>\n",
       "      <td>-0.506879</td>\n",
       "      <td>1.452566</td>\n",
       "      <td>0.790816</td>\n",
       "      <td>-0.52805</td>\n",
       "      <td>-0.627040</td>\n",
       "      <td>-0.682336</td>\n",
       "      <td>0.628353</td>\n",
       "      <td>-2.497412</td>\n",
       "      <td>7.060226</td>\n",
       "      <td>-0.240824</td>\n",
       "    </tr>\n",
       "    <tr>\n",
       "      <th>3</th>\n",
       "      <td>-0.937714</td>\n",
       "      <td>-0.775740</td>\n",
       "      <td>-0.764410</td>\n",
       "      <td>-1.464876</td>\n",
       "      <td>0.667071</td>\n",
       "      <td>-0.411513</td>\n",
       "      <td>-0.808978</td>\n",
       "      <td>-0.255150</td>\n",
       "      <td>-0.272318</td>\n",
       "      <td>1.89376</td>\n",
       "      <td>-0.202201</td>\n",
       "      <td>-0.538265</td>\n",
       "      <td>-1.483064</td>\n",
       "      <td>0.340301</td>\n",
       "      <td>-0.238892</td>\n",
       "      <td>-0.240824</td>\n",
       "    </tr>\n",
       "    <tr>\n",
       "      <th>4</th>\n",
       "      <td>1.366010</td>\n",
       "      <td>1.289092</td>\n",
       "      <td>-0.764410</td>\n",
       "      <td>0.682652</td>\n",
       "      <td>-0.651571</td>\n",
       "      <td>0.286886</td>\n",
       "      <td>-0.956823</td>\n",
       "      <td>-0.255150</td>\n",
       "      <td>-0.272318</td>\n",
       "      <td>1.89376</td>\n",
       "      <td>1.249841</td>\n",
       "      <td>1.380205</td>\n",
       "      <td>1.002959</td>\n",
       "      <td>-1.656974</td>\n",
       "      <td>3.410667</td>\n",
       "      <td>4.152405</td>\n",
       "    </tr>\n",
       "  </tbody>\n",
       "</table>\n",
       "</div>"
      ],
      "text/plain": [
       "        age    gender  owns_car  owns_house  no_of_children  \\\n",
       "0  1.366010 -0.775740  1.308199   -1.464876       -0.651571   \n",
       "1  0.947151 -0.775740 -0.764410   -1.464876        0.667071   \n",
       "2  1.156581 -0.775740 -0.764410   -1.464876        0.667071   \n",
       "3 -0.937714 -0.775740 -0.764410   -1.464876        0.667071   \n",
       "4  1.366010  1.289092 -0.764410    0.682652       -0.651571   \n",
       "\n",
       "   net_yearly_income  no_of_days_employed  occupation_type  \\\n",
       "0           0.278856            -0.597466         1.452566   \n",
       "1           0.773723            -0.452185         1.452566   \n",
       "2          -0.516864            -0.506879         1.452566   \n",
       "3          -0.411513            -0.808978        -0.255150   \n",
       "4           0.286886            -0.956823        -0.255150   \n",
       "\n",
       "   total_family_members  migrant_worker  yearly_debt_payments  credit_limit  \\\n",
       "0             -0.272318        -0.52805             -1.041777     -0.634093   \n",
       "1              0.790816        -0.52805              1.437874      0.898963   \n",
       "2              0.790816        -0.52805             -0.627040     -0.682336   \n",
       "3             -0.272318         1.89376             -0.202201     -0.538265   \n",
       "4             -0.272318         1.89376              1.249841      1.380205   \n",
       "\n",
       "   credit_limit_used(%)  credit_score  prev_defaults  default_in_last_6months  \n",
       "0             -1.653339     -0.015649      -0.238892                -0.240824  \n",
       "1              0.594298      0.251314      -0.238892                -0.240824  \n",
       "2              0.628353     -2.497412       7.060226                -0.240824  \n",
       "3             -1.483064      0.340301      -0.238892                -0.240824  \n",
       "4              1.002959     -1.656974       3.410667                 4.152405  "
      ]
     },
     "execution_count": 89,
     "metadata": {},
     "output_type": "execute_result"
    }
   ],
   "source": [
    "cols_test = test_data.columns\n",
    "\n",
    "test_data[cols_test] = scaler.transform(test_data[cols_test])\n",
    "test_data.head()"
   ]
  },
  {
   "cell_type": "markdown",
   "metadata": {},
   "source": [
    "#### Logitic Regression Prediction"
   ]
  },
  {
   "cell_type": "code",
   "execution_count": 90,
   "metadata": {
    "execution": {
     "iopub.execute_input": "2021-12-05T11:52:45.300746Z",
     "iopub.status.busy": "2021-12-05T11:52:45.300482Z",
     "iopub.status.idle": "2021-12-05T11:52:45.311803Z",
     "shell.execute_reply": "2021-12-05T11:52:45.310904Z",
     "shell.execute_reply.started": "2021-12-05T11:52:45.300717Z"
    }
   },
   "outputs": [
    {
     "data": {
      "text/plain": [
       "array([0, 0, 1, 0, 1, 0, 0, 0, 0, 0], dtype=int64)"
      ]
     },
     "execution_count": 90,
     "metadata": {},
     "output_type": "execute_result"
    }
   ],
   "source": [
    "predicted_target = logreg.predict(test_data)\n",
    "predicted_target[:10]"
   ]
  },
  {
   "cell_type": "code",
   "execution_count": 91,
   "metadata": {
    "execution": {
     "iopub.execute_input": "2021-12-05T11:52:45.314195Z",
     "iopub.status.busy": "2021-12-05T11:52:45.313654Z",
     "iopub.status.idle": "2021-12-05T11:52:45.325783Z",
     "shell.execute_reply": "2021-12-05T11:52:45.324854Z",
     "shell.execute_reply.started": "2021-12-05T11:52:45.314153Z"
    }
   },
   "outputs": [],
   "source": [
    "final_df['credit_card_default'] = predicted_target"
   ]
  },
  {
   "cell_type": "code",
   "execution_count": 99,
   "metadata": {
    "execution": {
     "iopub.execute_input": "2021-12-05T11:52:45.328338Z",
     "iopub.status.busy": "2021-12-05T11:52:45.327666Z",
     "iopub.status.idle": "2021-12-05T11:52:45.344228Z",
     "shell.execute_reply": "2021-12-05T11:52:45.343153Z",
     "shell.execute_reply.started": "2021-12-05T11:52:45.328291Z"
    }
   },
   "outputs": [
    {
     "data": {
      "text/html": [
       "<div>\n",
       "<style scoped>\n",
       "    .dataframe tbody tr th:only-of-type {\n",
       "        vertical-align: middle;\n",
       "    }\n",
       "\n",
       "    .dataframe tbody tr th {\n",
       "        vertical-align: top;\n",
       "    }\n",
       "\n",
       "    .dataframe thead th {\n",
       "        text-align: right;\n",
       "    }\n",
       "</style>\n",
       "<table border=\"1\" class=\"dataframe\">\n",
       "  <thead>\n",
       "    <tr style=\"text-align: right;\">\n",
       "      <th></th>\n",
       "      <th>customer_id</th>\n",
       "      <th>credit_card_default</th>\n",
       "    </tr>\n",
       "  </thead>\n",
       "  <tbody>\n",
       "    <tr>\n",
       "      <th>0</th>\n",
       "      <td>CST_142525</td>\n",
       "      <td>0</td>\n",
       "    </tr>\n",
       "    <tr>\n",
       "      <th>1</th>\n",
       "      <td>CST_129215</td>\n",
       "      <td>0</td>\n",
       "    </tr>\n",
       "    <tr>\n",
       "      <th>2</th>\n",
       "      <td>CST_138443</td>\n",
       "      <td>1</td>\n",
       "    </tr>\n",
       "    <tr>\n",
       "      <th>3</th>\n",
       "      <td>CST_123812</td>\n",
       "      <td>0</td>\n",
       "    </tr>\n",
       "    <tr>\n",
       "      <th>4</th>\n",
       "      <td>CST_144450</td>\n",
       "      <td>1</td>\n",
       "    </tr>\n",
       "  </tbody>\n",
       "</table>\n",
       "</div>"
      ],
      "text/plain": [
       "  customer_id  credit_card_default\n",
       "0  CST_142525                    0\n",
       "1  CST_129215                    0\n",
       "2  CST_138443                    1\n",
       "3  CST_123812                    0\n",
       "4  CST_144450                    1"
      ]
     },
     "execution_count": 99,
     "metadata": {},
     "output_type": "execute_result"
    }
   ],
   "source": [
    "final_df.head()"
   ]
  },
  {
   "cell_type": "code",
   "execution_count": 93,
   "metadata": {
    "execution": {
     "iopub.execute_input": "2021-12-05T11:52:45.346460Z",
     "iopub.status.busy": "2021-12-05T11:52:45.345920Z",
     "iopub.status.idle": "2021-12-05T11:52:45.350100Z",
     "shell.execute_reply": "2021-12-05T11:52:45.349341Z",
     "shell.execute_reply.started": "2021-12-05T11:52:45.346417Z"
    }
   },
   "outputs": [],
   "source": [
    "# # save it to file and submit\n",
    "# final_df.to_csv('LogRegg_submission.csv', index=False)\n",
    "# print('Output Saved to CSV File!!')"
   ]
  },
  {
   "cell_type": "markdown",
   "metadata": {},
   "source": [
    "#### Random Forest Prediction"
   ]
  },
  {
   "cell_type": "code",
   "execution_count": 100,
   "metadata": {},
   "outputs": [
    {
     "data": {
      "text/plain": [
       "array([0, 0, 1, 0, 1, 0, 0, 0, 0, 0], dtype=int64)"
      ]
     },
     "execution_count": 100,
     "metadata": {},
     "output_type": "execute_result"
    }
   ],
   "source": [
    "random_final_df = pd.DataFrame(final_df['customer_id'])\n",
    "\n",
    "random_predicted_target = rfm_best.predict(test_data)\n",
    "random_predicted_target[:10]"
   ]
  },
  {
   "cell_type": "code",
   "execution_count": 101,
   "metadata": {},
   "outputs": [],
   "source": [
    "random_final_df['credit_card_default'] = random_predicted_target"
   ]
  },
  {
   "cell_type": "code",
   "execution_count": 102,
   "metadata": {},
   "outputs": [
    {
     "data": {
      "text/html": [
       "<div>\n",
       "<style scoped>\n",
       "    .dataframe tbody tr th:only-of-type {\n",
       "        vertical-align: middle;\n",
       "    }\n",
       "\n",
       "    .dataframe tbody tr th {\n",
       "        vertical-align: top;\n",
       "    }\n",
       "\n",
       "    .dataframe thead th {\n",
       "        text-align: right;\n",
       "    }\n",
       "</style>\n",
       "<table border=\"1\" class=\"dataframe\">\n",
       "  <thead>\n",
       "    <tr style=\"text-align: right;\">\n",
       "      <th></th>\n",
       "      <th>customer_id</th>\n",
       "      <th>credit_card_default</th>\n",
       "    </tr>\n",
       "  </thead>\n",
       "  <tbody>\n",
       "    <tr>\n",
       "      <th>0</th>\n",
       "      <td>CST_142525</td>\n",
       "      <td>0</td>\n",
       "    </tr>\n",
       "    <tr>\n",
       "      <th>1</th>\n",
       "      <td>CST_129215</td>\n",
       "      <td>0</td>\n",
       "    </tr>\n",
       "    <tr>\n",
       "      <th>2</th>\n",
       "      <td>CST_138443</td>\n",
       "      <td>1</td>\n",
       "    </tr>\n",
       "    <tr>\n",
       "      <th>3</th>\n",
       "      <td>CST_123812</td>\n",
       "      <td>0</td>\n",
       "    </tr>\n",
       "    <tr>\n",
       "      <th>4</th>\n",
       "      <td>CST_144450</td>\n",
       "      <td>1</td>\n",
       "    </tr>\n",
       "  </tbody>\n",
       "</table>\n",
       "</div>"
      ],
      "text/plain": [
       "  customer_id  credit_card_default\n",
       "0  CST_142525                    0\n",
       "1  CST_129215                    0\n",
       "2  CST_138443                    1\n",
       "3  CST_123812                    0\n",
       "4  CST_144450                    1"
      ]
     },
     "execution_count": 102,
     "metadata": {},
     "output_type": "execute_result"
    }
   ],
   "source": [
    "random_final_df.head()"
   ]
  },
  {
   "cell_type": "code",
   "execution_count": 103,
   "metadata": {},
   "outputs": [
    {
     "name": "stdout",
     "output_type": "stream",
     "text": [
      "Output Saved to CSV File!!\n"
     ]
    }
   ],
   "source": [
    "# # save it to file and submit\n",
    "# final_df.to_csv('RandomForest_submission.csv', index=False)\n",
    "# print('Output Saved to CSV File!!')"
   ]
  },
  {
   "cell_type": "markdown",
   "metadata": {},
   "source": [
    "## Here We came to know that both outputs generated by LogReg and RandomForest are same."
   ]
  }
 ],
 "metadata": {
  "kernelspec": {
   "display_name": "Python 3",
   "language": "python",
   "name": "python3"
  },
  "language_info": {
   "codemirror_mode": {
    "name": "ipython",
    "version": 3
   },
   "file_extension": ".py",
   "mimetype": "text/x-python",
   "name": "python",
   "nbconvert_exporter": "python",
   "pygments_lexer": "ipython3",
   "version": "3.8.8"
  }
 },
 "nbformat": 4,
 "nbformat_minor": 4
}
