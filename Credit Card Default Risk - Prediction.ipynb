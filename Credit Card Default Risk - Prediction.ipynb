{
 "cells": [
  {
   "cell_type": "markdown",
   "metadata": {},
   "source": [
    "# Credit Card Default Risk - Prediction"
   ]
  },
  {
   "cell_type": "markdown",
   "metadata": {},
   "source": [
    "## Import Libraries and Data"
   ]
  },
  {
   "cell_type": "code",
   "execution_count": 1,
   "metadata": {
    "execution": {
     "iopub.execute_input": "2021-12-05T10:36:53.136295Z",
     "iopub.status.busy": "2021-12-05T10:36:53.135594Z",
     "iopub.status.idle": "2021-12-05T10:36:54.654809Z",
     "shell.execute_reply": "2021-12-05T10:36:54.653926Z",
     "shell.execute_reply.started": "2021-12-05T10:36:53.136189Z"
    }
   },
   "outputs": [],
   "source": [
    "import numpy as np\n",
    "import pandas as pd\n",
    "\n",
    "import matplotlib.pyplot as plt\n",
    "import seaborn as sns\n",
    "\n",
    "from imblearn.over_sampling import SMOTE\n",
    "from sklearn.preprocessing import LabelEncoder, StandardScaler, MinMaxScaler\n",
    "from sklearn.model_selection import train_test_split\n",
    "from sklearn.linear_model import LogisticRegression\n",
    "from sklearn import metrics\n",
    "from sklearn.metrics import confusion_matrix, accuracy_score, classification_report, plot_roc_curve, f1_score\n",
    "\n",
    "from sklearn.neighbors import KNeighborsClassifier\n",
    "from sklearn.ensemble import RandomForestClassifier\n",
    "from sklearn.model_selection import GridSearchCV\n",
    "from xgboost import XGBClassifier\n",
    "\n",
    "import tensorflow as tf\n",
    "from tensorflow import keras"
   ]
  },
  {
   "cell_type": "code",
   "execution_count": 2,
   "metadata": {
    "execution": {
     "iopub.execute_input": "2021-12-05T10:36:54.658988Z",
     "iopub.status.busy": "2021-12-05T10:36:54.658529Z",
     "iopub.status.idle": "2021-12-05T10:36:54.662920Z",
     "shell.execute_reply": "2021-12-05T10:36:54.662114Z",
     "shell.execute_reply.started": "2021-12-05T10:36:54.658953Z"
    }
   },
   "outputs": [],
   "source": [
    "# import warings\n",
    "import warnings\n",
    "warnings.filterwarnings('ignore')"
   ]
  },
  {
   "cell_type": "code",
   "execution_count": 3,
   "metadata": {
    "execution": {
     "iopub.execute_input": "2021-12-05T10:36:54.664227Z",
     "iopub.status.busy": "2021-12-05T10:36:54.663998Z",
     "iopub.status.idle": "2021-12-05T10:36:54.903410Z",
     "shell.execute_reply": "2021-12-05T10:36:54.902618Z",
     "shell.execute_reply.started": "2021-12-05T10:36:54.664199Z"
    },
    "scrolled": true
   },
   "outputs": [
    {
     "data": {
      "text/html": [
       "<div>\n",
       "<style scoped>\n",
       "    .dataframe tbody tr th:only-of-type {\n",
       "        vertical-align: middle;\n",
       "    }\n",
       "\n",
       "    .dataframe tbody tr th {\n",
       "        vertical-align: top;\n",
       "    }\n",
       "\n",
       "    .dataframe thead th {\n",
       "        text-align: right;\n",
       "    }\n",
       "</style>\n",
       "<table border=\"1\" class=\"dataframe\">\n",
       "  <thead>\n",
       "    <tr style=\"text-align: right;\">\n",
       "      <th></th>\n",
       "      <th>customer_id</th>\n",
       "      <th>name</th>\n",
       "      <th>age</th>\n",
       "      <th>gender</th>\n",
       "      <th>owns_car</th>\n",
       "      <th>owns_house</th>\n",
       "      <th>no_of_children</th>\n",
       "      <th>net_yearly_income</th>\n",
       "      <th>no_of_days_employed</th>\n",
       "      <th>occupation_type</th>\n",
       "      <th>total_family_members</th>\n",
       "      <th>migrant_worker</th>\n",
       "      <th>yearly_debt_payments</th>\n",
       "      <th>credit_limit</th>\n",
       "      <th>credit_limit_used(%)</th>\n",
       "      <th>credit_score</th>\n",
       "      <th>prev_defaults</th>\n",
       "      <th>default_in_last_6months</th>\n",
       "      <th>credit_card_default</th>\n",
       "    </tr>\n",
       "  </thead>\n",
       "  <tbody>\n",
       "    <tr>\n",
       "      <th>0</th>\n",
       "      <td>CST_115179</td>\n",
       "      <td>ita Bose</td>\n",
       "      <td>46</td>\n",
       "      <td>F</td>\n",
       "      <td>N</td>\n",
       "      <td>Y</td>\n",
       "      <td>0.0</td>\n",
       "      <td>107934.04</td>\n",
       "      <td>612.0</td>\n",
       "      <td>Unknown</td>\n",
       "      <td>1.0</td>\n",
       "      <td>1.0</td>\n",
       "      <td>33070.28</td>\n",
       "      <td>18690.93</td>\n",
       "      <td>73</td>\n",
       "      <td>544.0</td>\n",
       "      <td>2</td>\n",
       "      <td>1</td>\n",
       "      <td>1</td>\n",
       "    </tr>\n",
       "    <tr>\n",
       "      <th>1</th>\n",
       "      <td>CST_121920</td>\n",
       "      <td>Alper Jonathan</td>\n",
       "      <td>29</td>\n",
       "      <td>M</td>\n",
       "      <td>N</td>\n",
       "      <td>Y</td>\n",
       "      <td>0.0</td>\n",
       "      <td>109862.62</td>\n",
       "      <td>2771.0</td>\n",
       "      <td>Laborers</td>\n",
       "      <td>2.0</td>\n",
       "      <td>0.0</td>\n",
       "      <td>15329.53</td>\n",
       "      <td>37745.19</td>\n",
       "      <td>52</td>\n",
       "      <td>857.0</td>\n",
       "      <td>0</td>\n",
       "      <td>0</td>\n",
       "      <td>0</td>\n",
       "    </tr>\n",
       "    <tr>\n",
       "      <th>2</th>\n",
       "      <td>CST_109330</td>\n",
       "      <td>Umesh Desai</td>\n",
       "      <td>37</td>\n",
       "      <td>M</td>\n",
       "      <td>N</td>\n",
       "      <td>Y</td>\n",
       "      <td>0.0</td>\n",
       "      <td>230153.17</td>\n",
       "      <td>204.0</td>\n",
       "      <td>Laborers</td>\n",
       "      <td>2.0</td>\n",
       "      <td>0.0</td>\n",
       "      <td>48416.60</td>\n",
       "      <td>41598.36</td>\n",
       "      <td>43</td>\n",
       "      <td>650.0</td>\n",
       "      <td>0</td>\n",
       "      <td>0</td>\n",
       "      <td>0</td>\n",
       "    </tr>\n",
       "    <tr>\n",
       "      <th>3</th>\n",
       "      <td>CST_128288</td>\n",
       "      <td>Rie</td>\n",
       "      <td>39</td>\n",
       "      <td>F</td>\n",
       "      <td>N</td>\n",
       "      <td>Y</td>\n",
       "      <td>0.0</td>\n",
       "      <td>122325.82</td>\n",
       "      <td>11941.0</td>\n",
       "      <td>Core staff</td>\n",
       "      <td>2.0</td>\n",
       "      <td>0.0</td>\n",
       "      <td>22574.36</td>\n",
       "      <td>32627.76</td>\n",
       "      <td>20</td>\n",
       "      <td>754.0</td>\n",
       "      <td>0</td>\n",
       "      <td>0</td>\n",
       "      <td>0</td>\n",
       "    </tr>\n",
       "    <tr>\n",
       "      <th>4</th>\n",
       "      <td>CST_151355</td>\n",
       "      <td>McCool</td>\n",
       "      <td>46</td>\n",
       "      <td>M</td>\n",
       "      <td>Y</td>\n",
       "      <td>Y</td>\n",
       "      <td>0.0</td>\n",
       "      <td>387286.00</td>\n",
       "      <td>1459.0</td>\n",
       "      <td>Core staff</td>\n",
       "      <td>1.0</td>\n",
       "      <td>0.0</td>\n",
       "      <td>38282.95</td>\n",
       "      <td>52950.64</td>\n",
       "      <td>75</td>\n",
       "      <td>927.0</td>\n",
       "      <td>0</td>\n",
       "      <td>0</td>\n",
       "      <td>0</td>\n",
       "    </tr>\n",
       "  </tbody>\n",
       "</table>\n",
       "</div>"
      ],
      "text/plain": [
       "  customer_id            name  age gender owns_car owns_house  no_of_children  \\\n",
       "0  CST_115179        ita Bose   46      F        N          Y             0.0   \n",
       "1  CST_121920  Alper Jonathan   29      M        N          Y             0.0   \n",
       "2  CST_109330     Umesh Desai   37      M        N          Y             0.0   \n",
       "3  CST_128288             Rie   39      F        N          Y             0.0   \n",
       "4  CST_151355          McCool   46      M        Y          Y             0.0   \n",
       "\n",
       "   net_yearly_income  no_of_days_employed occupation_type  \\\n",
       "0          107934.04                612.0         Unknown   \n",
       "1          109862.62               2771.0        Laborers   \n",
       "2          230153.17                204.0        Laborers   \n",
       "3          122325.82              11941.0      Core staff   \n",
       "4          387286.00               1459.0      Core staff   \n",
       "\n",
       "   total_family_members  migrant_worker  yearly_debt_payments  credit_limit  \\\n",
       "0                   1.0             1.0              33070.28      18690.93   \n",
       "1                   2.0             0.0              15329.53      37745.19   \n",
       "2                   2.0             0.0              48416.60      41598.36   \n",
       "3                   2.0             0.0              22574.36      32627.76   \n",
       "4                   1.0             0.0              38282.95      52950.64   \n",
       "\n",
       "   credit_limit_used(%)  credit_score  prev_defaults  default_in_last_6months  \\\n",
       "0                    73         544.0              2                        1   \n",
       "1                    52         857.0              0                        0   \n",
       "2                    43         650.0              0                        0   \n",
       "3                    20         754.0              0                        0   \n",
       "4                    75         927.0              0                        0   \n",
       "\n",
       "   credit_card_default  \n",
       "0                    1  \n",
       "1                    0  \n",
       "2                    0  \n",
       "3                    0  \n",
       "4                    0  "
      ]
     },
     "execution_count": 3,
     "metadata": {},
     "output_type": "execute_result"
    }
   ],
   "source": [
    "train_data = pd.read_csv('dataset/train.csv')\n",
    "train_data.head()"
   ]
  },
  {
   "cell_type": "code",
   "execution_count": 4,
   "metadata": {
    "execution": {
     "iopub.execute_input": "2021-12-05T10:36:54.906333Z",
     "iopub.status.busy": "2021-12-05T10:36:54.905977Z",
     "iopub.status.idle": "2021-12-05T10:36:54.978511Z",
     "shell.execute_reply": "2021-12-05T10:36:54.977647Z",
     "shell.execute_reply.started": "2021-12-05T10:36:54.906292Z"
    }
   },
   "outputs": [
    {
     "data": {
      "text/html": [
       "<div>\n",
       "<style scoped>\n",
       "    .dataframe tbody tr th:only-of-type {\n",
       "        vertical-align: middle;\n",
       "    }\n",
       "\n",
       "    .dataframe tbody tr th {\n",
       "        vertical-align: top;\n",
       "    }\n",
       "\n",
       "    .dataframe thead th {\n",
       "        text-align: right;\n",
       "    }\n",
       "</style>\n",
       "<table border=\"1\" class=\"dataframe\">\n",
       "  <thead>\n",
       "    <tr style=\"text-align: right;\">\n",
       "      <th></th>\n",
       "      <th>customer_id</th>\n",
       "      <th>name</th>\n",
       "      <th>age</th>\n",
       "      <th>gender</th>\n",
       "      <th>owns_car</th>\n",
       "      <th>owns_house</th>\n",
       "      <th>no_of_children</th>\n",
       "      <th>net_yearly_income</th>\n",
       "      <th>no_of_days_employed</th>\n",
       "      <th>occupation_type</th>\n",
       "      <th>total_family_members</th>\n",
       "      <th>migrant_worker</th>\n",
       "      <th>yearly_debt_payments</th>\n",
       "      <th>credit_limit</th>\n",
       "      <th>credit_limit_used(%)</th>\n",
       "      <th>credit_score</th>\n",
       "      <th>prev_defaults</th>\n",
       "      <th>default_in_last_6months</th>\n",
       "    </tr>\n",
       "  </thead>\n",
       "  <tbody>\n",
       "    <tr>\n",
       "      <th>0</th>\n",
       "      <td>CST_142525</td>\n",
       "      <td>Siva</td>\n",
       "      <td>52</td>\n",
       "      <td>F</td>\n",
       "      <td>Y</td>\n",
       "      <td>N</td>\n",
       "      <td>0.0</td>\n",
       "      <td>232640.53</td>\n",
       "      <td>998.0</td>\n",
       "      <td>Unknown</td>\n",
       "      <td>2.0</td>\n",
       "      <td>0.0</td>\n",
       "      <td>14406.73</td>\n",
       "      <td>26524.40</td>\n",
       "      <td>4</td>\n",
       "      <td>779.0</td>\n",
       "      <td>0</td>\n",
       "      <td>0</td>\n",
       "    </tr>\n",
       "    <tr>\n",
       "      <th>1</th>\n",
       "      <td>CST_129215</td>\n",
       "      <td>Scott</td>\n",
       "      <td>48</td>\n",
       "      <td>F</td>\n",
       "      <td>N</td>\n",
       "      <td>N</td>\n",
       "      <td>1.0</td>\n",
       "      <td>284396.79</td>\n",
       "      <td>1338.0</td>\n",
       "      <td>Unknown</td>\n",
       "      <td>3.0</td>\n",
       "      <td>0.0</td>\n",
       "      <td>57479.99</td>\n",
       "      <td>68998.72</td>\n",
       "      <td>70</td>\n",
       "      <td>806.0</td>\n",
       "      <td>0</td>\n",
       "      <td>0</td>\n",
       "    </tr>\n",
       "    <tr>\n",
       "      <th>2</th>\n",
       "      <td>CST_138443</td>\n",
       "      <td>Victoria</td>\n",
       "      <td>50</td>\n",
       "      <td>F</td>\n",
       "      <td>N</td>\n",
       "      <td>N</td>\n",
       "      <td>1.0</td>\n",
       "      <td>149419.28</td>\n",
       "      <td>1210.0</td>\n",
       "      <td>Unknown</td>\n",
       "      <td>3.0</td>\n",
       "      <td>0.0</td>\n",
       "      <td>21611.01</td>\n",
       "      <td>25187.80</td>\n",
       "      <td>71</td>\n",
       "      <td>528.0</td>\n",
       "      <td>2</td>\n",
       "      <td>0</td>\n",
       "    </tr>\n",
       "    <tr>\n",
       "      <th>3</th>\n",
       "      <td>CST_123812</td>\n",
       "      <td>John McCrank</td>\n",
       "      <td>30</td>\n",
       "      <td>F</td>\n",
       "      <td>N</td>\n",
       "      <td>N</td>\n",
       "      <td>1.0</td>\n",
       "      <td>160437.54</td>\n",
       "      <td>503.0</td>\n",
       "      <td>Laborers</td>\n",
       "      <td>2.0</td>\n",
       "      <td>1.0</td>\n",
       "      <td>28990.76</td>\n",
       "      <td>29179.39</td>\n",
       "      <td>9</td>\n",
       "      <td>815.0</td>\n",
       "      <td>0</td>\n",
       "      <td>0</td>\n",
       "    </tr>\n",
       "    <tr>\n",
       "      <th>4</th>\n",
       "      <td>CST_144450</td>\n",
       "      <td>Martinne</td>\n",
       "      <td>52</td>\n",
       "      <td>M</td>\n",
       "      <td>N</td>\n",
       "      <td>Y</td>\n",
       "      <td>0.0</td>\n",
       "      <td>233480.37</td>\n",
       "      <td>157.0</td>\n",
       "      <td>Laborers</td>\n",
       "      <td>2.0</td>\n",
       "      <td>1.0</td>\n",
       "      <td>54213.72</td>\n",
       "      <td>82331.82</td>\n",
       "      <td>82</td>\n",
       "      <td>613.0</td>\n",
       "      <td>1</td>\n",
       "      <td>1</td>\n",
       "    </tr>\n",
       "  </tbody>\n",
       "</table>\n",
       "</div>"
      ],
      "text/plain": [
       "  customer_id          name  age gender owns_car owns_house  no_of_children  \\\n",
       "0  CST_142525          Siva   52      F        Y          N             0.0   \n",
       "1  CST_129215         Scott   48      F        N          N             1.0   \n",
       "2  CST_138443      Victoria   50      F        N          N             1.0   \n",
       "3  CST_123812  John McCrank   30      F        N          N             1.0   \n",
       "4  CST_144450      Martinne   52      M        N          Y             0.0   \n",
       "\n",
       "   net_yearly_income  no_of_days_employed occupation_type  \\\n",
       "0          232640.53                998.0         Unknown   \n",
       "1          284396.79               1338.0         Unknown   \n",
       "2          149419.28               1210.0         Unknown   \n",
       "3          160437.54                503.0        Laborers   \n",
       "4          233480.37                157.0        Laborers   \n",
       "\n",
       "   total_family_members  migrant_worker  yearly_debt_payments  credit_limit  \\\n",
       "0                   2.0             0.0              14406.73      26524.40   \n",
       "1                   3.0             0.0              57479.99      68998.72   \n",
       "2                   3.0             0.0              21611.01      25187.80   \n",
       "3                   2.0             1.0              28990.76      29179.39   \n",
       "4                   2.0             1.0              54213.72      82331.82   \n",
       "\n",
       "   credit_limit_used(%)  credit_score  prev_defaults  default_in_last_6months  \n",
       "0                     4         779.0              0                        0  \n",
       "1                    70         806.0              0                        0  \n",
       "2                    71         528.0              2                        0  \n",
       "3                     9         815.0              0                        0  \n",
       "4                    82         613.0              1                        1  "
      ]
     },
     "execution_count": 4,
     "metadata": {},
     "output_type": "execute_result"
    }
   ],
   "source": [
    "test_data = pd.read_csv('dataset/test.csv')\n",
    "test_data.head()"
   ]
  },
  {
   "cell_type": "markdown",
   "metadata": {},
   "source": [
    "### Inspect data and treat data"
   ]
  },
  {
   "cell_type": "code",
   "execution_count": 5,
   "metadata": {
    "execution": {
     "iopub.execute_input": "2021-12-05T10:36:54.980626Z",
     "iopub.status.busy": "2021-12-05T10:36:54.979931Z",
     "iopub.status.idle": "2021-12-05T10:36:54.985027Z",
     "shell.execute_reply": "2021-12-05T10:36:54.984487Z",
     "shell.execute_reply.started": "2021-12-05T10:36:54.980577Z"
    }
   },
   "outputs": [
    {
     "name": "stdout",
     "output_type": "stream",
     "text": [
      "(45528, 19)\n",
      "45528\n"
     ]
    }
   ],
   "source": [
    "# check shape and length\n",
    "print(train_data.shape)\n",
    "print(len(train_data))"
   ]
  },
  {
   "cell_type": "code",
   "execution_count": 6,
   "metadata": {
    "execution": {
     "iopub.execute_input": "2021-12-05T10:36:54.986489Z",
     "iopub.status.busy": "2021-12-05T10:36:54.986286Z",
     "iopub.status.idle": "2021-12-05T10:36:54.996487Z",
     "shell.execute_reply": "2021-12-05T10:36:54.995930Z",
     "shell.execute_reply.started": "2021-12-05T10:36:54.986464Z"
    }
   },
   "outputs": [
    {
     "name": "stdout",
     "output_type": "stream",
     "text": [
      "(11383, 18)\n",
      "11383\n"
     ]
    }
   ],
   "source": [
    "print(test_data.shape)\n",
    "print(len(test_data))"
   ]
  },
  {
   "cell_type": "code",
   "execution_count": 7,
   "metadata": {
    "execution": {
     "iopub.execute_input": "2021-12-05T10:36:54.997734Z",
     "iopub.status.busy": "2021-12-05T10:36:54.997471Z",
     "iopub.status.idle": "2021-12-05T10:36:55.057265Z",
     "shell.execute_reply": "2021-12-05T10:36:55.056463Z",
     "shell.execute_reply.started": "2021-12-05T10:36:54.997706Z"
    }
   },
   "outputs": [
    {
     "name": "stdout",
     "output_type": "stream",
     "text": [
      "<class 'pandas.core.frame.DataFrame'>\n",
      "RangeIndex: 45528 entries, 0 to 45527\n",
      "Data columns (total 19 columns):\n",
      " #   Column                   Non-Null Count  Dtype  \n",
      "---  ------                   --------------  -----  \n",
      " 0   customer_id              45528 non-null  object \n",
      " 1   name                     45528 non-null  object \n",
      " 2   age                      45528 non-null  int64  \n",
      " 3   gender                   45528 non-null  object \n",
      " 4   owns_car                 44981 non-null  object \n",
      " 5   owns_house               45528 non-null  object \n",
      " 6   no_of_children           44754 non-null  float64\n",
      " 7   net_yearly_income        45528 non-null  float64\n",
      " 8   no_of_days_employed      45065 non-null  float64\n",
      " 9   occupation_type          45528 non-null  object \n",
      " 10  total_family_members     45445 non-null  float64\n",
      " 11  migrant_worker           45441 non-null  float64\n",
      " 12  yearly_debt_payments     45433 non-null  float64\n",
      " 13  credit_limit             45528 non-null  float64\n",
      " 14  credit_limit_used(%)     45528 non-null  int64  \n",
      " 15  credit_score             45520 non-null  float64\n",
      " 16  prev_defaults            45528 non-null  int64  \n",
      " 17  default_in_last_6months  45528 non-null  int64  \n",
      " 18  credit_card_default      45528 non-null  int64  \n",
      "dtypes: float64(8), int64(5), object(6)\n",
      "memory usage: 6.6+ MB\n"
     ]
    }
   ],
   "source": [
    "train_data.info()"
   ]
  },
  {
   "cell_type": "code",
   "execution_count": 8,
   "metadata": {
    "execution": {
     "iopub.execute_input": "2021-12-05T10:36:55.058665Z",
     "iopub.status.busy": "2021-12-05T10:36:55.058376Z",
     "iopub.status.idle": "2021-12-05T10:36:55.097724Z",
     "shell.execute_reply": "2021-12-05T10:36:55.096797Z",
     "shell.execute_reply.started": "2021-12-05T10:36:55.058637Z"
    }
   },
   "outputs": [
    {
     "data": {
      "text/plain": [
       "customer_id                0.000000\n",
       "name                       0.000000\n",
       "age                        0.000000\n",
       "gender                     0.000000\n",
       "owns_car                   1.201458\n",
       "owns_house                 0.000000\n",
       "no_of_children             1.700053\n",
       "net_yearly_income          0.000000\n",
       "no_of_days_employed        1.016957\n",
       "occupation_type            0.000000\n",
       "total_family_members       0.182305\n",
       "migrant_worker             0.191091\n",
       "yearly_debt_payments       0.208663\n",
       "credit_limit               0.000000\n",
       "credit_limit_used(%)       0.000000\n",
       "credit_score               0.017572\n",
       "prev_defaults              0.000000\n",
       "default_in_last_6months    0.000000\n",
       "credit_card_default        0.000000\n",
       "dtype: float64"
      ]
     },
     "execution_count": 8,
     "metadata": {},
     "output_type": "execute_result"
    }
   ],
   "source": [
    "# check for null values\n",
    "train_data.isna().mean()*100"
   ]
  },
  {
   "cell_type": "code",
   "execution_count": 9,
   "metadata": {
    "execution": {
     "iopub.execute_input": "2021-12-05T10:36:55.099509Z",
     "iopub.status.busy": "2021-12-05T10:36:55.099110Z",
     "iopub.status.idle": "2021-12-05T10:36:55.142135Z",
     "shell.execute_reply": "2021-12-05T10:36:55.141266Z",
     "shell.execute_reply.started": "2021-12-05T10:36:55.099466Z"
    }
   },
   "outputs": [
    {
     "data": {
      "text/plain": [
       "customer_id                  0\n",
       "name                         0\n",
       "age                          0\n",
       "gender                       0\n",
       "owns_car                   547\n",
       "owns_house                   0\n",
       "no_of_children             774\n",
       "net_yearly_income            0\n",
       "no_of_days_employed        463\n",
       "occupation_type              0\n",
       "total_family_members        83\n",
       "migrant_worker              87\n",
       "yearly_debt_payments        95\n",
       "credit_limit                 0\n",
       "credit_limit_used(%)         0\n",
       "credit_score                 8\n",
       "prev_defaults                0\n",
       "default_in_last_6months      0\n",
       "credit_card_default          0\n",
       "dtype: int64"
      ]
     },
     "execution_count": 9,
     "metadata": {},
     "output_type": "execute_result"
    }
   ],
   "source": [
    "train_data.isna().sum()"
   ]
  },
  {
   "cell_type": "markdown",
   "metadata": {},
   "source": [
    "Check for data imbalance"
   ]
  },
  {
   "cell_type": "code",
   "execution_count": 10,
   "metadata": {
    "execution": {
     "iopub.execute_input": "2021-12-05T10:36:55.145908Z",
     "iopub.status.busy": "2021-12-05T10:36:55.145676Z",
     "iopub.status.idle": "2021-12-05T10:36:55.153422Z",
     "shell.execute_reply": "2021-12-05T10:36:55.152877Z",
     "shell.execute_reply.started": "2021-12-05T10:36:55.145874Z"
    }
   },
   "outputs": [
    {
     "data": {
      "text/plain": [
       "0    91.879722\n",
       "1     8.120278\n",
       "Name: credit_card_default, dtype: float64"
      ]
     },
     "execution_count": 10,
     "metadata": {},
     "output_type": "execute_result"
    }
   ],
   "source": [
    "# check data imbalance\n",
    "train_data.credit_card_default.value_counts(normalize=True)*100"
   ]
  },
  {
   "cell_type": "code",
   "execution_count": 11,
   "metadata": {
    "execution": {
     "iopub.execute_input": "2021-12-05T10:36:55.155440Z",
     "iopub.status.busy": "2021-12-05T10:36:55.154878Z",
     "iopub.status.idle": "2021-12-05T10:36:55.183710Z",
     "shell.execute_reply": "2021-12-05T10:36:55.183000Z",
     "shell.execute_reply.started": "2021-12-05T10:36:55.155403Z"
    }
   },
   "outputs": [
    {
     "data": {
      "text/html": [
       "<div>\n",
       "<style scoped>\n",
       "    .dataframe tbody tr th:only-of-type {\n",
       "        vertical-align: middle;\n",
       "    }\n",
       "\n",
       "    .dataframe tbody tr th {\n",
       "        vertical-align: top;\n",
       "    }\n",
       "\n",
       "    .dataframe thead th {\n",
       "        text-align: right;\n",
       "    }\n",
       "</style>\n",
       "<table border=\"1\" class=\"dataframe\">\n",
       "  <thead>\n",
       "    <tr style=\"text-align: right;\">\n",
       "      <th></th>\n",
       "      <th>customer_id</th>\n",
       "      <th>name</th>\n",
       "      <th>age</th>\n",
       "      <th>gender</th>\n",
       "      <th>owns_car</th>\n",
       "      <th>owns_house</th>\n",
       "      <th>no_of_children</th>\n",
       "      <th>net_yearly_income</th>\n",
       "      <th>no_of_days_employed</th>\n",
       "      <th>occupation_type</th>\n",
       "      <th>total_family_members</th>\n",
       "      <th>migrant_worker</th>\n",
       "      <th>yearly_debt_payments</th>\n",
       "      <th>credit_limit</th>\n",
       "      <th>credit_limit_used(%)</th>\n",
       "      <th>credit_score</th>\n",
       "      <th>prev_defaults</th>\n",
       "      <th>default_in_last_6months</th>\n",
       "      <th>credit_card_default</th>\n",
       "    </tr>\n",
       "  </thead>\n",
       "  <tbody>\n",
       "    <tr>\n",
       "      <th>0</th>\n",
       "      <td>CST_115179</td>\n",
       "      <td>ita Bose</td>\n",
       "      <td>46</td>\n",
       "      <td>F</td>\n",
       "      <td>N</td>\n",
       "      <td>Y</td>\n",
       "      <td>0.0</td>\n",
       "      <td>107934.04</td>\n",
       "      <td>612.0</td>\n",
       "      <td>Unknown</td>\n",
       "      <td>1.0</td>\n",
       "      <td>1.0</td>\n",
       "      <td>33070.28</td>\n",
       "      <td>18690.93</td>\n",
       "      <td>73</td>\n",
       "      <td>544.0</td>\n",
       "      <td>2</td>\n",
       "      <td>1</td>\n",
       "      <td>1</td>\n",
       "    </tr>\n",
       "    <tr>\n",
       "      <th>1</th>\n",
       "      <td>CST_121920</td>\n",
       "      <td>Alper Jonathan</td>\n",
       "      <td>29</td>\n",
       "      <td>M</td>\n",
       "      <td>N</td>\n",
       "      <td>Y</td>\n",
       "      <td>0.0</td>\n",
       "      <td>109862.62</td>\n",
       "      <td>2771.0</td>\n",
       "      <td>Laborers</td>\n",
       "      <td>2.0</td>\n",
       "      <td>0.0</td>\n",
       "      <td>15329.53</td>\n",
       "      <td>37745.19</td>\n",
       "      <td>52</td>\n",
       "      <td>857.0</td>\n",
       "      <td>0</td>\n",
       "      <td>0</td>\n",
       "      <td>0</td>\n",
       "    </tr>\n",
       "    <tr>\n",
       "      <th>2</th>\n",
       "      <td>CST_109330</td>\n",
       "      <td>Umesh Desai</td>\n",
       "      <td>37</td>\n",
       "      <td>M</td>\n",
       "      <td>N</td>\n",
       "      <td>Y</td>\n",
       "      <td>0.0</td>\n",
       "      <td>230153.17</td>\n",
       "      <td>204.0</td>\n",
       "      <td>Laborers</td>\n",
       "      <td>2.0</td>\n",
       "      <td>0.0</td>\n",
       "      <td>48416.60</td>\n",
       "      <td>41598.36</td>\n",
       "      <td>43</td>\n",
       "      <td>650.0</td>\n",
       "      <td>0</td>\n",
       "      <td>0</td>\n",
       "      <td>0</td>\n",
       "    </tr>\n",
       "    <tr>\n",
       "      <th>3</th>\n",
       "      <td>CST_128288</td>\n",
       "      <td>Rie</td>\n",
       "      <td>39</td>\n",
       "      <td>F</td>\n",
       "      <td>N</td>\n",
       "      <td>Y</td>\n",
       "      <td>0.0</td>\n",
       "      <td>122325.82</td>\n",
       "      <td>11941.0</td>\n",
       "      <td>Core staff</td>\n",
       "      <td>2.0</td>\n",
       "      <td>0.0</td>\n",
       "      <td>22574.36</td>\n",
       "      <td>32627.76</td>\n",
       "      <td>20</td>\n",
       "      <td>754.0</td>\n",
       "      <td>0</td>\n",
       "      <td>0</td>\n",
       "      <td>0</td>\n",
       "    </tr>\n",
       "    <tr>\n",
       "      <th>4</th>\n",
       "      <td>CST_151355</td>\n",
       "      <td>McCool</td>\n",
       "      <td>46</td>\n",
       "      <td>M</td>\n",
       "      <td>Y</td>\n",
       "      <td>Y</td>\n",
       "      <td>0.0</td>\n",
       "      <td>387286.00</td>\n",
       "      <td>1459.0</td>\n",
       "      <td>Core staff</td>\n",
       "      <td>1.0</td>\n",
       "      <td>0.0</td>\n",
       "      <td>38282.95</td>\n",
       "      <td>52950.64</td>\n",
       "      <td>75</td>\n",
       "      <td>927.0</td>\n",
       "      <td>0</td>\n",
       "      <td>0</td>\n",
       "      <td>0</td>\n",
       "    </tr>\n",
       "  </tbody>\n",
       "</table>\n",
       "</div>"
      ],
      "text/plain": [
       "  customer_id            name  age gender owns_car owns_house  no_of_children  \\\n",
       "0  CST_115179        ita Bose   46      F        N          Y             0.0   \n",
       "1  CST_121920  Alper Jonathan   29      M        N          Y             0.0   \n",
       "2  CST_109330     Umesh Desai   37      M        N          Y             0.0   \n",
       "3  CST_128288             Rie   39      F        N          Y             0.0   \n",
       "4  CST_151355          McCool   46      M        Y          Y             0.0   \n",
       "\n",
       "   net_yearly_income  no_of_days_employed occupation_type  \\\n",
       "0          107934.04                612.0         Unknown   \n",
       "1          109862.62               2771.0        Laborers   \n",
       "2          230153.17                204.0        Laborers   \n",
       "3          122325.82              11941.0      Core staff   \n",
       "4          387286.00               1459.0      Core staff   \n",
       "\n",
       "   total_family_members  migrant_worker  yearly_debt_payments  credit_limit  \\\n",
       "0                   1.0             1.0              33070.28      18690.93   \n",
       "1                   2.0             0.0              15329.53      37745.19   \n",
       "2                   2.0             0.0              48416.60      41598.36   \n",
       "3                   2.0             0.0              22574.36      32627.76   \n",
       "4                   1.0             0.0              38282.95      52950.64   \n",
       "\n",
       "   credit_limit_used(%)  credit_score  prev_defaults  default_in_last_6months  \\\n",
       "0                    73         544.0              2                        1   \n",
       "1                    52         857.0              0                        0   \n",
       "2                    43         650.0              0                        0   \n",
       "3                    20         754.0              0                        0   \n",
       "4                    75         927.0              0                        0   \n",
       "\n",
       "   credit_card_default  \n",
       "0                    1  \n",
       "1                    0  \n",
       "2                    0  \n",
       "3                    0  \n",
       "4                    0  "
      ]
     },
     "execution_count": 11,
     "metadata": {},
     "output_type": "execute_result"
    }
   ],
   "source": [
    "train_data.head()"
   ]
  },
  {
   "cell_type": "code",
   "execution_count": 12,
   "metadata": {
    "execution": {
     "iopub.execute_input": "2021-12-05T10:36:55.185159Z",
     "iopub.status.busy": "2021-12-05T10:36:55.184967Z",
     "iopub.status.idle": "2021-12-05T10:36:55.312192Z",
     "shell.execute_reply": "2021-12-05T10:36:55.311301Z",
     "shell.execute_reply.started": "2021-12-05T10:36:55.185135Z"
    }
   },
   "outputs": [
    {
     "name": "stdout",
     "output_type": "stream",
     "text": [
      "Column Name: gender\n",
      "F      29957\n",
      "M      15570\n",
      "XNA        1\n",
      "Name: gender, dtype: int64\n",
      "**************************************************\n",
      "Column Name: owns_car\n",
      "N    29743\n",
      "Y    15238\n",
      "Name: owns_car, dtype: int64\n",
      "**************************************************\n",
      "Column Name: owns_house\n",
      "Y    31642\n",
      "N    13886\n",
      "Name: owns_house, dtype: int64\n",
      "**************************************************\n",
      "Column Name: no_of_children\n",
      "0.0    31241\n",
      "1.0     8985\n",
      "2.0     3862\n",
      "3.0      584\n",
      "4.0       60\n",
      "5.0       13\n",
      "6.0        6\n",
      "8.0        1\n",
      "7.0        1\n",
      "9.0        1\n",
      "Name: no_of_children, dtype: int64\n",
      "**************************************************\n",
      "Column Name: occupation_type\n",
      "Unknown                  14299\n",
      "Laborers                  8134\n",
      "Sales staff               4725\n",
      "Core staff                4062\n",
      "Managers                  3168\n",
      "Drivers                   2747\n",
      "High skill tech staff     1682\n",
      "Accountants               1474\n",
      "Medicine staff            1275\n",
      "Security staff            1025\n",
      "Cooking staff              902\n",
      "Cleaning staff             665\n",
      "Private service staff      387\n",
      "Low-skill Laborers         336\n",
      "Waiters/barmen staff       203\n",
      "Secretaries                199\n",
      "Realty agents              101\n",
      "HR staff                    78\n",
      "IT staff                    66\n",
      "Name: occupation_type, dtype: int64\n",
      "**************************************************\n",
      "Column Name: total_family_members\n",
      "2.0     23455\n",
      "1.0      9913\n",
      "3.0      7812\n",
      "4.0      3623\n",
      "5.0       564\n",
      "6.0        57\n",
      "7.0        12\n",
      "8.0         6\n",
      "10.0        2\n",
      "9.0         1\n",
      "Name: total_family_members, dtype: int64\n",
      "**************************************************\n",
      "Column Name: migrant_worker\n",
      "0.0    37302\n",
      "1.0     8139\n",
      "Name: migrant_worker, dtype: int64\n",
      "**************************************************\n",
      "Column Name: prev_defaults\n",
      "0    43060\n",
      "1     2172\n",
      "2      296\n",
      "Name: prev_defaults, dtype: int64\n",
      "**************************************************\n",
      "Column Name: default_in_last_6months\n",
      "0    43227\n",
      "1     2301\n",
      "Name: default_in_last_6months, dtype: int64\n",
      "**************************************************\n",
      "Column Name: credit_card_default\n",
      "0    41831\n",
      "1     3697\n",
      "Name: credit_card_default, dtype: int64\n",
      "**************************************************\n"
     ]
    }
   ],
   "source": [
    "# get all categorical features\n",
    "cols = train_data.columns \n",
    "\n",
    "for i in cols:\n",
    "    if len(train_data[i].value_counts())<=20:\n",
    "        print(\"Column Name:\",i)\n",
    "        print(train_data[i].value_counts())\n",
    "        print(\"*\"*50)"
   ]
  },
  {
   "cell_type": "markdown",
   "metadata": {},
   "source": [
    "As there are missing values mostly less than 2%, so, let us impute all missing values with statistical way.\n",
    "<br>\n",
    "That is, FillNA by MODE if it is categorical variable and FillNA by MEDIAN if it is numerical variable"
   ]
  },
  {
   "cell_type": "code",
   "execution_count": 13,
   "metadata": {
    "execution": {
     "iopub.execute_input": "2021-12-05T10:36:55.313583Z",
     "iopub.status.busy": "2021-12-05T10:36:55.313358Z",
     "iopub.status.idle": "2021-12-05T10:36:55.353777Z",
     "shell.execute_reply": "2021-12-05T10:36:55.353014Z",
     "shell.execute_reply.started": "2021-12-05T10:36:55.313553Z"
    }
   },
   "outputs": [
    {
     "data": {
      "text/plain": [
       "no_of_children             774\n",
       "owns_car                   547\n",
       "no_of_days_employed        463\n",
       "yearly_debt_payments        95\n",
       "migrant_worker              87\n",
       "total_family_members        83\n",
       "credit_score                 8\n",
       "customer_id                  0\n",
       "default_in_last_6months      0\n",
       "prev_defaults                0\n",
       "dtype: int64"
      ]
     },
     "execution_count": 13,
     "metadata": {},
     "output_type": "execute_result"
    }
   ],
   "source": [
    "train_data.isna().sum().sort_values(ascending=False).head(10)"
   ]
  },
  {
   "cell_type": "code",
   "execution_count": 14,
   "metadata": {
    "execution": {
     "iopub.execute_input": "2021-12-05T10:36:55.355368Z",
     "iopub.status.busy": "2021-12-05T10:36:55.355073Z",
     "iopub.status.idle": "2021-12-05T10:36:55.385024Z",
     "shell.execute_reply": "2021-12-05T10:36:55.384492Z",
     "shell.execute_reply.started": "2021-12-05T10:36:55.355335Z"
    }
   },
   "outputs": [
    {
     "data": {
      "text/html": [
       "<div>\n",
       "<style scoped>\n",
       "    .dataframe tbody tr th:only-of-type {\n",
       "        vertical-align: middle;\n",
       "    }\n",
       "\n",
       "    .dataframe tbody tr th {\n",
       "        vertical-align: top;\n",
       "    }\n",
       "\n",
       "    .dataframe thead th {\n",
       "        text-align: right;\n",
       "    }\n",
       "</style>\n",
       "<table border=\"1\" class=\"dataframe\">\n",
       "  <thead>\n",
       "    <tr style=\"text-align: right;\">\n",
       "      <th></th>\n",
       "      <th>customer_id</th>\n",
       "      <th>name</th>\n",
       "      <th>age</th>\n",
       "      <th>gender</th>\n",
       "      <th>owns_car</th>\n",
       "      <th>owns_house</th>\n",
       "      <th>no_of_children</th>\n",
       "      <th>net_yearly_income</th>\n",
       "      <th>no_of_days_employed</th>\n",
       "      <th>occupation_type</th>\n",
       "      <th>total_family_members</th>\n",
       "      <th>migrant_worker</th>\n",
       "      <th>yearly_debt_payments</th>\n",
       "      <th>credit_limit</th>\n",
       "      <th>credit_limit_used(%)</th>\n",
       "      <th>credit_score</th>\n",
       "      <th>prev_defaults</th>\n",
       "      <th>default_in_last_6months</th>\n",
       "      <th>credit_card_default</th>\n",
       "    </tr>\n",
       "  </thead>\n",
       "  <tbody>\n",
       "    <tr>\n",
       "      <th>28498</th>\n",
       "      <td>CST_144669</td>\n",
       "      <td>ernard</td>\n",
       "      <td>52</td>\n",
       "      <td>XNA</td>\n",
       "      <td>N</td>\n",
       "      <td>Y</td>\n",
       "      <td>2.0</td>\n",
       "      <td>203596.95</td>\n",
       "      <td>2806.0</td>\n",
       "      <td>Low-skill Laborers</td>\n",
       "      <td>4.0</td>\n",
       "      <td>0.0</td>\n",
       "      <td>14700.2</td>\n",
       "      <td>65487.34</td>\n",
       "      <td>40</td>\n",
       "      <td>669.0</td>\n",
       "      <td>0</td>\n",
       "      <td>0</td>\n",
       "      <td>0</td>\n",
       "    </tr>\n",
       "  </tbody>\n",
       "</table>\n",
       "</div>"
      ],
      "text/plain": [
       "      customer_id    name  age gender owns_car owns_house  no_of_children  \\\n",
       "28498  CST_144669  ernard   52    XNA        N          Y             2.0   \n",
       "\n",
       "       net_yearly_income  no_of_days_employed     occupation_type  \\\n",
       "28498          203596.95               2806.0  Low-skill Laborers   \n",
       "\n",
       "       total_family_members  migrant_worker  yearly_debt_payments  \\\n",
       "28498                   4.0             0.0               14700.2   \n",
       "\n",
       "       credit_limit  credit_limit_used(%)  credit_score  prev_defaults  \\\n",
       "28498      65487.34                    40         669.0              0   \n",
       "\n",
       "       default_in_last_6months  credit_card_default  \n",
       "28498                        0                    0  "
      ]
     },
     "execution_count": 14,
     "metadata": {},
     "output_type": "execute_result"
    }
   ],
   "source": [
    "train_data[train_data['gender'] == 'XNA']"
   ]
  },
  {
   "cell_type": "code",
   "execution_count": 15,
   "metadata": {
    "execution": {
     "iopub.execute_input": "2021-12-05T10:36:55.386886Z",
     "iopub.status.busy": "2021-12-05T10:36:55.386361Z",
     "iopub.status.idle": "2021-12-05T10:36:55.413988Z",
     "shell.execute_reply": "2021-12-05T10:36:55.413452Z",
     "shell.execute_reply.started": "2021-12-05T10:36:55.386841Z"
    }
   },
   "outputs": [
    {
     "data": {
      "text/plain": [
       "F    29957\n",
       "M    15571\n",
       "Name: gender, dtype: int64"
      ]
     },
     "execution_count": 15,
     "metadata": {},
     "output_type": "execute_result"
    }
   ],
   "source": [
    "# change it to M as the name pronunces as Male\n",
    "train_data['gender'] = train_data['gender'].apply(lambda x: 'M' if x=='XNA' else x)\n",
    "train_data['gender'].value_counts()"
   ]
  },
  {
   "cell_type": "markdown",
   "metadata": {},
   "source": [
    "impute <i>no_of_children</i> using mode of the data"
   ]
  },
  {
   "cell_type": "code",
   "execution_count": 16,
   "metadata": {
    "execution": {
     "iopub.execute_input": "2021-12-05T10:36:55.415495Z",
     "iopub.status.busy": "2021-12-05T10:36:55.414827Z",
     "iopub.status.idle": "2021-12-05T10:36:55.420290Z",
     "shell.execute_reply": "2021-12-05T10:36:55.419500Z",
     "shell.execute_reply.started": "2021-12-05T10:36:55.415464Z"
    }
   },
   "outputs": [],
   "source": [
    "# fill no_of_children with mode of the data\n",
    "train_data['no_of_children'].fillna(train_data['no_of_children'].mode()[0], inplace=True)"
   ]
  },
  {
   "cell_type": "markdown",
   "metadata": {},
   "source": [
    "impute <i>owns_car</i> using mode of the data"
   ]
  },
  {
   "cell_type": "code",
   "execution_count": 17,
   "metadata": {
    "execution": {
     "iopub.execute_input": "2021-12-05T10:36:55.421905Z",
     "iopub.status.busy": "2021-12-05T10:36:55.421489Z",
     "iopub.status.idle": "2021-12-05T10:36:55.443902Z",
     "shell.execute_reply": "2021-12-05T10:36:55.443146Z",
     "shell.execute_reply.started": "2021-12-05T10:36:55.421876Z"
    }
   },
   "outputs": [],
   "source": [
    "# fill owns_car with mode of the data\n",
    "train_data['owns_car'].fillna(train_data['owns_car'].mode()[0], inplace=True)"
   ]
  },
  {
   "cell_type": "markdown",
   "metadata": {},
   "source": [
    "impute <i>no_of_days_employed</i> using Median based on <i>occupation_type</i> of the data"
   ]
  },
  {
   "cell_type": "code",
   "execution_count": 18,
   "metadata": {
    "execution": {
     "iopub.execute_input": "2021-12-05T10:36:55.445900Z",
     "iopub.status.busy": "2021-12-05T10:36:55.445502Z",
     "iopub.status.idle": "2021-12-05T10:36:55.467510Z",
     "shell.execute_reply": "2021-12-05T10:36:55.466790Z",
     "shell.execute_reply.started": "2021-12-05T10:36:55.445856Z"
    }
   },
   "outputs": [
    {
     "data": {
      "text/plain": [
       "occupation_type\n",
       "Accountants                1822.0\n",
       "Cleaning staff             1509.0\n",
       "Cooking staff              1429.5\n",
       "Core staff                 1883.0\n",
       "Drivers                    1342.0\n",
       "HR staff                   1528.0\n",
       "High skill tech staff      1728.0\n",
       "IT staff                   1747.0\n",
       "Laborers                   1687.0\n",
       "Low-skill Laborers          983.0\n",
       "Managers                   2118.0\n",
       "Medicine staff             2826.0\n",
       "Private service staff      1718.0\n",
       "Realty agents              1390.0\n",
       "Sales staff                1276.0\n",
       "Secretaries                2001.5\n",
       "Security staff             1419.0\n",
       "Unknown                  365241.0\n",
       "Waiters/barmen staff       1258.0\n",
       "Name: no_of_days_employed, dtype: float64"
      ]
     },
     "execution_count": 18,
     "metadata": {},
     "output_type": "execute_result"
    }
   ],
   "source": [
    "# impute 'no_of_days_employed' with median based on 'occupation_type'\n",
    "occp_days_employed = train_data.groupby(by='occupation_type')['no_of_days_employed'].median()\n",
    "occp_days_employed"
   ]
  },
  {
   "cell_type": "code",
   "execution_count": 19,
   "metadata": {
    "execution": {
     "iopub.execute_input": "2021-12-05T10:36:55.469051Z",
     "iopub.status.busy": "2021-12-05T10:36:55.468835Z",
     "iopub.status.idle": "2021-12-05T10:36:55.474165Z",
     "shell.execute_reply": "2021-12-05T10:36:55.473301Z",
     "shell.execute_reply.started": "2021-12-05T10:36:55.469025Z"
    }
   },
   "outputs": [
    {
     "data": {
      "text/plain": [
       "1822.0"
      ]
     },
     "execution_count": 19,
     "metadata": {},
     "output_type": "execute_result"
    }
   ],
   "source": [
    "occp_days_employed['Accountants']"
   ]
  },
  {
   "cell_type": "code",
   "execution_count": 20,
   "metadata": {
    "execution": {
     "iopub.execute_input": "2021-12-05T10:36:55.475800Z",
     "iopub.status.busy": "2021-12-05T10:36:55.475115Z",
     "iopub.status.idle": "2021-12-05T10:36:55.625029Z",
     "shell.execute_reply": "2021-12-05T10:36:55.624074Z",
     "shell.execute_reply.started": "2021-12-05T10:36:55.475766Z"
    }
   },
   "outputs": [],
   "source": [
    "# impute 'no_of_days_employed' with median based on 'occupation_type'\n",
    "for i in occp_days_employed.index:\n",
    "    train_data['no_of_days_employed'] = np.where((train_data['no_of_days_employed'].isna()) & (train_data['occupation_type'] == i), occp_days_employed[i], train_data['no_of_days_employed'])"
   ]
  },
  {
   "cell_type": "code",
   "execution_count": 21,
   "metadata": {
    "execution": {
     "iopub.execute_input": "2021-12-05T10:36:55.626236Z",
     "iopub.status.busy": "2021-12-05T10:36:55.626025Z",
     "iopub.status.idle": "2021-12-05T10:36:55.632537Z",
     "shell.execute_reply": "2021-12-05T10:36:55.631788Z",
     "shell.execute_reply.started": "2021-12-05T10:36:55.626212Z"
    }
   },
   "outputs": [
    {
     "data": {
      "text/plain": [
       "0"
      ]
     },
     "execution_count": 21,
     "metadata": {},
     "output_type": "execute_result"
    }
   ],
   "source": [
    "train_data.no_of_days_employed.isna().sum()"
   ]
  },
  {
   "cell_type": "code",
   "execution_count": 22,
   "metadata": {},
   "outputs": [
    {
     "data": {
      "text/html": [
       "<div>\n",
       "<style scoped>\n",
       "    .dataframe tbody tr th:only-of-type {\n",
       "        vertical-align: middle;\n",
       "    }\n",
       "\n",
       "    .dataframe tbody tr th {\n",
       "        vertical-align: top;\n",
       "    }\n",
       "\n",
       "    .dataframe thead th {\n",
       "        text-align: right;\n",
       "    }\n",
       "</style>\n",
       "<table border=\"1\" class=\"dataframe\">\n",
       "  <thead>\n",
       "    <tr style=\"text-align: right;\">\n",
       "      <th></th>\n",
       "      <th>customer_id</th>\n",
       "      <th>name</th>\n",
       "      <th>age</th>\n",
       "      <th>gender</th>\n",
       "      <th>owns_car</th>\n",
       "      <th>owns_house</th>\n",
       "      <th>no_of_children</th>\n",
       "      <th>net_yearly_income</th>\n",
       "      <th>no_of_days_employed</th>\n",
       "      <th>occupation_type</th>\n",
       "      <th>total_family_members</th>\n",
       "      <th>migrant_worker</th>\n",
       "      <th>yearly_debt_payments</th>\n",
       "      <th>credit_limit</th>\n",
       "      <th>credit_limit_used(%)</th>\n",
       "      <th>credit_score</th>\n",
       "      <th>prev_defaults</th>\n",
       "      <th>default_in_last_6months</th>\n",
       "      <th>credit_card_default</th>\n",
       "    </tr>\n",
       "  </thead>\n",
       "  <tbody>\n",
       "    <tr>\n",
       "      <th>0</th>\n",
       "      <td>CST_115179</td>\n",
       "      <td>ita Bose</td>\n",
       "      <td>46</td>\n",
       "      <td>F</td>\n",
       "      <td>N</td>\n",
       "      <td>Y</td>\n",
       "      <td>0.0</td>\n",
       "      <td>107934.04</td>\n",
       "      <td>612.0</td>\n",
       "      <td>Unknown</td>\n",
       "      <td>1.0</td>\n",
       "      <td>1.0</td>\n",
       "      <td>33070.28</td>\n",
       "      <td>18690.93</td>\n",
       "      <td>73</td>\n",
       "      <td>544.0</td>\n",
       "      <td>2</td>\n",
       "      <td>1</td>\n",
       "      <td>1</td>\n",
       "    </tr>\n",
       "    <tr>\n",
       "      <th>1</th>\n",
       "      <td>CST_121920</td>\n",
       "      <td>Alper Jonathan</td>\n",
       "      <td>29</td>\n",
       "      <td>M</td>\n",
       "      <td>N</td>\n",
       "      <td>Y</td>\n",
       "      <td>0.0</td>\n",
       "      <td>109862.62</td>\n",
       "      <td>2771.0</td>\n",
       "      <td>Laborers</td>\n",
       "      <td>2.0</td>\n",
       "      <td>0.0</td>\n",
       "      <td>15329.53</td>\n",
       "      <td>37745.19</td>\n",
       "      <td>52</td>\n",
       "      <td>857.0</td>\n",
       "      <td>0</td>\n",
       "      <td>0</td>\n",
       "      <td>0</td>\n",
       "    </tr>\n",
       "    <tr>\n",
       "      <th>2</th>\n",
       "      <td>CST_109330</td>\n",
       "      <td>Umesh Desai</td>\n",
       "      <td>37</td>\n",
       "      <td>M</td>\n",
       "      <td>N</td>\n",
       "      <td>Y</td>\n",
       "      <td>0.0</td>\n",
       "      <td>230153.17</td>\n",
       "      <td>204.0</td>\n",
       "      <td>Laborers</td>\n",
       "      <td>2.0</td>\n",
       "      <td>0.0</td>\n",
       "      <td>48416.60</td>\n",
       "      <td>41598.36</td>\n",
       "      <td>43</td>\n",
       "      <td>650.0</td>\n",
       "      <td>0</td>\n",
       "      <td>0</td>\n",
       "      <td>0</td>\n",
       "    </tr>\n",
       "    <tr>\n",
       "      <th>3</th>\n",
       "      <td>CST_128288</td>\n",
       "      <td>Rie</td>\n",
       "      <td>39</td>\n",
       "      <td>F</td>\n",
       "      <td>N</td>\n",
       "      <td>Y</td>\n",
       "      <td>0.0</td>\n",
       "      <td>122325.82</td>\n",
       "      <td>11941.0</td>\n",
       "      <td>Core staff</td>\n",
       "      <td>2.0</td>\n",
       "      <td>0.0</td>\n",
       "      <td>22574.36</td>\n",
       "      <td>32627.76</td>\n",
       "      <td>20</td>\n",
       "      <td>754.0</td>\n",
       "      <td>0</td>\n",
       "      <td>0</td>\n",
       "      <td>0</td>\n",
       "    </tr>\n",
       "    <tr>\n",
       "      <th>4</th>\n",
       "      <td>CST_151355</td>\n",
       "      <td>McCool</td>\n",
       "      <td>46</td>\n",
       "      <td>M</td>\n",
       "      <td>Y</td>\n",
       "      <td>Y</td>\n",
       "      <td>0.0</td>\n",
       "      <td>387286.00</td>\n",
       "      <td>1459.0</td>\n",
       "      <td>Core staff</td>\n",
       "      <td>1.0</td>\n",
       "      <td>0.0</td>\n",
       "      <td>38282.95</td>\n",
       "      <td>52950.64</td>\n",
       "      <td>75</td>\n",
       "      <td>927.0</td>\n",
       "      <td>0</td>\n",
       "      <td>0</td>\n",
       "      <td>0</td>\n",
       "    </tr>\n",
       "  </tbody>\n",
       "</table>\n",
       "</div>"
      ],
      "text/plain": [
       "  customer_id            name  age gender owns_car owns_house  no_of_children  \\\n",
       "0  CST_115179        ita Bose   46      F        N          Y             0.0   \n",
       "1  CST_121920  Alper Jonathan   29      M        N          Y             0.0   \n",
       "2  CST_109330     Umesh Desai   37      M        N          Y             0.0   \n",
       "3  CST_128288             Rie   39      F        N          Y             0.0   \n",
       "4  CST_151355          McCool   46      M        Y          Y             0.0   \n",
       "\n",
       "   net_yearly_income  no_of_days_employed occupation_type  \\\n",
       "0          107934.04                612.0         Unknown   \n",
       "1          109862.62               2771.0        Laborers   \n",
       "2          230153.17                204.0        Laborers   \n",
       "3          122325.82              11941.0      Core staff   \n",
       "4          387286.00               1459.0      Core staff   \n",
       "\n",
       "   total_family_members  migrant_worker  yearly_debt_payments  credit_limit  \\\n",
       "0                   1.0             1.0              33070.28      18690.93   \n",
       "1                   2.0             0.0              15329.53      37745.19   \n",
       "2                   2.0             0.0              48416.60      41598.36   \n",
       "3                   2.0             0.0              22574.36      32627.76   \n",
       "4                   1.0             0.0              38282.95      52950.64   \n",
       "\n",
       "   credit_limit_used(%)  credit_score  prev_defaults  default_in_last_6months  \\\n",
       "0                    73         544.0              2                        1   \n",
       "1                    52         857.0              0                        0   \n",
       "2                    43         650.0              0                        0   \n",
       "3                    20         754.0              0                        0   \n",
       "4                    75         927.0              0                        0   \n",
       "\n",
       "   credit_card_default  \n",
       "0                    1  \n",
       "1                    0  \n",
       "2                    0  \n",
       "3                    0  \n",
       "4                    0  "
      ]
     },
     "execution_count": 22,
     "metadata": {},
     "output_type": "execute_result"
    }
   ],
   "source": [
    "train_data.head()"
   ]
  },
  {
   "cell_type": "code",
   "execution_count": 23,
   "metadata": {},
   "outputs": [
    {
     "data": {
      "image/png": "[encoded data removed]",
      "text/plain": [
       "<Figure size 432x288 with 1 Axes>"
      ]
     },
     "metadata": {
      "needs_background": "light"
     },
     "output_type": "display_data"
    }
   ],
   "source": [
    "# Lets create bins for net_yearly_income\n",
    "# boxplot of net_yearly_income\n",
    "\n",
    "train_data.net_yearly_income.plot.box()\n",
    "plt.show()"
   ]
  },
  {
   "cell_type": "code",
   "execution_count": 24,
   "metadata": {},
   "outputs": [
    {
     "data": {
      "text/plain": [
       "0.25    1.263458e+05\n",
       "0.50    1.717149e+05\n",
       "0.75    2.406038e+05\n",
       "0.99    5.779015e+05\n",
       "1.00    1.407590e+08\n",
       "Name: net_yearly_income, dtype: float64"
      ]
     },
     "execution_count": 24,
     "metadata": {},
     "output_type": "execute_result"
    }
   ],
   "source": [
    "train_data.net_yearly_income.quantile([0.25, 0.5, 0.75, 0.99, 1.00])"
   ]
  },
  {
   "cell_type": "code",
   "execution_count": 25,
   "metadata": {},
   "outputs": [
    {
     "data": {
      "text/html": [
       "<div>\n",
       "<style scoped>\n",
       "    .dataframe tbody tr th:only-of-type {\n",
       "        vertical-align: middle;\n",
       "    }\n",
       "\n",
       "    .dataframe tbody tr th {\n",
       "        vertical-align: top;\n",
       "    }\n",
       "\n",
       "    .dataframe thead th {\n",
       "        text-align: right;\n",
       "    }\n",
       "</style>\n",
       "<table border=\"1\" class=\"dataframe\">\n",
       "  <thead>\n",
       "    <tr style=\"text-align: right;\">\n",
       "      <th></th>\n",
       "      <th>customer_id</th>\n",
       "      <th>name</th>\n",
       "      <th>age</th>\n",
       "      <th>gender</th>\n",
       "      <th>owns_car</th>\n",
       "      <th>owns_house</th>\n",
       "      <th>no_of_children</th>\n",
       "      <th>net_yearly_income</th>\n",
       "      <th>no_of_days_employed</th>\n",
       "      <th>occupation_type</th>\n",
       "      <th>total_family_members</th>\n",
       "      <th>migrant_worker</th>\n",
       "      <th>yearly_debt_payments</th>\n",
       "      <th>credit_limit</th>\n",
       "      <th>credit_limit_used(%)</th>\n",
       "      <th>credit_score</th>\n",
       "      <th>prev_defaults</th>\n",
       "      <th>default_in_last_6months</th>\n",
       "      <th>credit_card_default</th>\n",
       "    </tr>\n",
       "  </thead>\n",
       "  <tbody>\n",
       "    <tr>\n",
       "      <th>15</th>\n",
       "      <td>CST_106781</td>\n",
       "      <td>Lesley Wroughton</td>\n",
       "      <td>37</td>\n",
       "      <td>F</td>\n",
       "      <td>N</td>\n",
       "      <td>N</td>\n",
       "      <td>0.0</td>\n",
       "      <td>746959.12</td>\n",
       "      <td>2229.0</td>\n",
       "      <td>Unknown</td>\n",
       "      <td>2.0</td>\n",
       "      <td>0.0</td>\n",
       "      <td>16834.71</td>\n",
       "      <td>188438.82</td>\n",
       "      <td>63</td>\n",
       "      <td>666.0</td>\n",
       "      <td>0</td>\n",
       "      <td>0</td>\n",
       "      <td>0</td>\n",
       "    </tr>\n",
       "    <tr>\n",
       "      <th>150</th>\n",
       "      <td>CST_144508</td>\n",
       "      <td>Kevin</td>\n",
       "      <td>43</td>\n",
       "      <td>M</td>\n",
       "      <td>N</td>\n",
       "      <td>Y</td>\n",
       "      <td>0.0</td>\n",
       "      <td>610226.68</td>\n",
       "      <td>3251.0</td>\n",
       "      <td>Managers</td>\n",
       "      <td>2.0</td>\n",
       "      <td>0.0</td>\n",
       "      <td>48463.33</td>\n",
       "      <td>148288.36</td>\n",
       "      <td>78</td>\n",
       "      <td>823.0</td>\n",
       "      <td>0</td>\n",
       "      <td>0</td>\n",
       "      <td>0</td>\n",
       "    </tr>\n",
       "    <tr>\n",
       "      <th>237</th>\n",
       "      <td>CST_134049</td>\n",
       "      <td>Alison</td>\n",
       "      <td>34</td>\n",
       "      <td>M</td>\n",
       "      <td>Y</td>\n",
       "      <td>Y</td>\n",
       "      <td>0.0</td>\n",
       "      <td>649425.86</td>\n",
       "      <td>505.0</td>\n",
       "      <td>Managers</td>\n",
       "      <td>2.0</td>\n",
       "      <td>0.0</td>\n",
       "      <td>57770.89</td>\n",
       "      <td>73137.97</td>\n",
       "      <td>44</td>\n",
       "      <td>871.0</td>\n",
       "      <td>0</td>\n",
       "      <td>0</td>\n",
       "      <td>0</td>\n",
       "    </tr>\n",
       "    <tr>\n",
       "      <th>335</th>\n",
       "      <td>CST_117197</td>\n",
       "      <td>Alison Griswold</td>\n",
       "      <td>37</td>\n",
       "      <td>M</td>\n",
       "      <td>Y</td>\n",
       "      <td>Y</td>\n",
       "      <td>0.0</td>\n",
       "      <td>879553.84</td>\n",
       "      <td>2279.0</td>\n",
       "      <td>Managers</td>\n",
       "      <td>1.0</td>\n",
       "      <td>0.0</td>\n",
       "      <td>52839.41</td>\n",
       "      <td>194618.06</td>\n",
       "      <td>74</td>\n",
       "      <td>503.0</td>\n",
       "      <td>1</td>\n",
       "      <td>0</td>\n",
       "      <td>1</td>\n",
       "    </tr>\n",
       "    <tr>\n",
       "      <th>347</th>\n",
       "      <td>CST_130343</td>\n",
       "      <td>John</td>\n",
       "      <td>33</td>\n",
       "      <td>M</td>\n",
       "      <td>N</td>\n",
       "      <td>Y</td>\n",
       "      <td>3.0</td>\n",
       "      <td>600445.87</td>\n",
       "      <td>2110.0</td>\n",
       "      <td>Managers</td>\n",
       "      <td>5.0</td>\n",
       "      <td>1.0</td>\n",
       "      <td>NaN</td>\n",
       "      <td>148313.03</td>\n",
       "      <td>40</td>\n",
       "      <td>774.0</td>\n",
       "      <td>0</td>\n",
       "      <td>0</td>\n",
       "      <td>0</td>\n",
       "    </tr>\n",
       "    <tr>\n",
       "      <th>...</th>\n",
       "      <td>...</td>\n",
       "      <td>...</td>\n",
       "      <td>...</td>\n",
       "      <td>...</td>\n",
       "      <td>...</td>\n",
       "      <td>...</td>\n",
       "      <td>...</td>\n",
       "      <td>...</td>\n",
       "      <td>...</td>\n",
       "      <td>...</td>\n",
       "      <td>...</td>\n",
       "      <td>...</td>\n",
       "      <td>...</td>\n",
       "      <td>...</td>\n",
       "      <td>...</td>\n",
       "      <td>...</td>\n",
       "      <td>...</td>\n",
       "      <td>...</td>\n",
       "      <td>...</td>\n",
       "    </tr>\n",
       "    <tr>\n",
       "      <th>45158</th>\n",
       "      <td>CST_147033</td>\n",
       "      <td>Kihara</td>\n",
       "      <td>33</td>\n",
       "      <td>M</td>\n",
       "      <td>Y</td>\n",
       "      <td>N</td>\n",
       "      <td>2.0</td>\n",
       "      <td>984019.98</td>\n",
       "      <td>2488.0</td>\n",
       "      <td>Unknown</td>\n",
       "      <td>4.0</td>\n",
       "      <td>1.0</td>\n",
       "      <td>72571.25</td>\n",
       "      <td>315461.88</td>\n",
       "      <td>29</td>\n",
       "      <td>789.0</td>\n",
       "      <td>0</td>\n",
       "      <td>0</td>\n",
       "      <td>0</td>\n",
       "    </tr>\n",
       "    <tr>\n",
       "      <th>45233</th>\n",
       "      <td>CST_116873</td>\n",
       "      <td>Alexei Oreskovic</td>\n",
       "      <td>43</td>\n",
       "      <td>M</td>\n",
       "      <td>Y</td>\n",
       "      <td>Y</td>\n",
       "      <td>0.0</td>\n",
       "      <td>694994.90</td>\n",
       "      <td>5564.0</td>\n",
       "      <td>Managers</td>\n",
       "      <td>2.0</td>\n",
       "      <td>0.0</td>\n",
       "      <td>21687.67</td>\n",
       "      <td>113084.03</td>\n",
       "      <td>39</td>\n",
       "      <td>846.0</td>\n",
       "      <td>0</td>\n",
       "      <td>0</td>\n",
       "      <td>0</td>\n",
       "    </tr>\n",
       "    <tr>\n",
       "      <th>45296</th>\n",
       "      <td>CST_131492</td>\n",
       "      <td>Sarah</td>\n",
       "      <td>42</td>\n",
       "      <td>F</td>\n",
       "      <td>N</td>\n",
       "      <td>Y</td>\n",
       "      <td>2.0</td>\n",
       "      <td>822367.44</td>\n",
       "      <td>318.0</td>\n",
       "      <td>High skill tech staff</td>\n",
       "      <td>4.0</td>\n",
       "      <td>0.0</td>\n",
       "      <td>97654.32</td>\n",
       "      <td>283544.16</td>\n",
       "      <td>38</td>\n",
       "      <td>697.0</td>\n",
       "      <td>0</td>\n",
       "      <td>0</td>\n",
       "      <td>0</td>\n",
       "    </tr>\n",
       "    <tr>\n",
       "      <th>45365</th>\n",
       "      <td>CST_111037</td>\n",
       "      <td>asil Katz</td>\n",
       "      <td>32</td>\n",
       "      <td>F</td>\n",
       "      <td>Y</td>\n",
       "      <td>N</td>\n",
       "      <td>0.0</td>\n",
       "      <td>866722.07</td>\n",
       "      <td>7194.0</td>\n",
       "      <td>Managers</td>\n",
       "      <td>2.0</td>\n",
       "      <td>0.0</td>\n",
       "      <td>62775.26</td>\n",
       "      <td>189329.45</td>\n",
       "      <td>11</td>\n",
       "      <td>803.0</td>\n",
       "      <td>0</td>\n",
       "      <td>0</td>\n",
       "      <td>0</td>\n",
       "    </tr>\n",
       "    <tr>\n",
       "      <th>45386</th>\n",
       "      <td>CST_133631</td>\n",
       "      <td>David</td>\n",
       "      <td>33</td>\n",
       "      <td>M</td>\n",
       "      <td>Y</td>\n",
       "      <td>Y</td>\n",
       "      <td>0.0</td>\n",
       "      <td>963669.25</td>\n",
       "      <td>4160.0</td>\n",
       "      <td>Managers</td>\n",
       "      <td>2.0</td>\n",
       "      <td>1.0</td>\n",
       "      <td>54304.52</td>\n",
       "      <td>258464.20</td>\n",
       "      <td>83</td>\n",
       "      <td>775.0</td>\n",
       "      <td>0</td>\n",
       "      <td>0</td>\n",
       "      <td>0</td>\n",
       "    </tr>\n",
       "  </tbody>\n",
       "</table>\n",
       "<p>456 rows × 19 columns</p>\n",
       "</div>"
      ],
      "text/plain": [
       "      customer_id              name  age gender owns_car owns_house  \\\n",
       "15     CST_106781  Lesley Wroughton   37      F        N          N   \n",
       "150    CST_144508             Kevin   43      M        N          Y   \n",
       "237    CST_134049            Alison   34      M        Y          Y   \n",
       "335    CST_117197   Alison Griswold   37      M        Y          Y   \n",
       "347    CST_130343              John   33      M        N          Y   \n",
       "...           ...               ...  ...    ...      ...        ...   \n",
       "45158  CST_147033            Kihara   33      M        Y          N   \n",
       "45233  CST_116873  Alexei Oreskovic   43      M        Y          Y   \n",
       "45296  CST_131492             Sarah   42      F        N          Y   \n",
       "45365  CST_111037         asil Katz   32      F        Y          N   \n",
       "45386  CST_133631             David   33      M        Y          Y   \n",
       "\n",
       "       no_of_children  net_yearly_income  no_of_days_employed  \\\n",
       "15                0.0          746959.12               2229.0   \n",
       "150               0.0          610226.68               3251.0   \n",
       "237               0.0          649425.86                505.0   \n",
       "335               0.0          879553.84               2279.0   \n",
       "347               3.0          600445.87               2110.0   \n",
       "...               ...                ...                  ...   \n",
       "45158             2.0          984019.98               2488.0   \n",
       "45233             0.0          694994.90               5564.0   \n",
       "45296             2.0          822367.44                318.0   \n",
       "45365             0.0          866722.07               7194.0   \n",
       "45386             0.0          963669.25               4160.0   \n",
       "\n",
       "             occupation_type  total_family_members  migrant_worker  \\\n",
       "15                   Unknown                   2.0             0.0   \n",
       "150                 Managers                   2.0             0.0   \n",
       "237                 Managers                   2.0             0.0   \n",
       "335                 Managers                   1.0             0.0   \n",
       "347                 Managers                   5.0             1.0   \n",
       "...                      ...                   ...             ...   \n",
       "45158                Unknown                   4.0             1.0   \n",
       "45233               Managers                   2.0             0.0   \n",
       "45296  High skill tech staff                   4.0             0.0   \n",
       "45365               Managers                   2.0             0.0   \n",
       "45386               Managers                   2.0             1.0   \n",
       "\n",
       "       yearly_debt_payments  credit_limit  credit_limit_used(%)  credit_score  \\\n",
       "15                 16834.71     188438.82                    63         666.0   \n",
       "150                48463.33     148288.36                    78         823.0   \n",
       "237                57770.89      73137.97                    44         871.0   \n",
       "335                52839.41     194618.06                    74         503.0   \n",
       "347                     NaN     148313.03                    40         774.0   \n",
       "...                     ...           ...                   ...           ...   \n",
       "45158              72571.25     315461.88                    29         789.0   \n",
       "45233              21687.67     113084.03                    39         846.0   \n",
       "45296              97654.32     283544.16                    38         697.0   \n",
       "45365              62775.26     189329.45                    11         803.0   \n",
       "45386              54304.52     258464.20                    83         775.0   \n",
       "\n",
       "       prev_defaults  default_in_last_6months  credit_card_default  \n",
       "15                 0                        0                    0  \n",
       "150                0                        0                    0  \n",
       "237                0                        0                    0  \n",
       "335                1                        0                    1  \n",
       "347                0                        0                    0  \n",
       "...              ...                      ...                  ...  \n",
       "45158              0                        0                    0  \n",
       "45233              0                        0                    0  \n",
       "45296              0                        0                    0  \n",
       "45365              0                        0                    0  \n",
       "45386              0                        0                    0  \n",
       "\n",
       "[456 rows x 19 columns]"
      ]
     },
     "execution_count": 25,
     "metadata": {},
     "output_type": "execute_result"
    }
   ],
   "source": [
    "train_data[train_data.net_yearly_income > train_data.net_yearly_income.quantile(0.99)]"
   ]
  },
  {
   "cell_type": "code",
   "execution_count": 26,
   "metadata": {},
   "outputs": [
    {
     "data": {
      "text/html": [
       "<div>\n",
       "<style scoped>\n",
       "    .dataframe tbody tr th:only-of-type {\n",
       "        vertical-align: middle;\n",
       "    }\n",
       "\n",
       "    .dataframe tbody tr th {\n",
       "        vertical-align: top;\n",
       "    }\n",
       "\n",
       "    .dataframe thead th {\n",
       "        text-align: right;\n",
       "    }\n",
       "</style>\n",
       "<table border=\"1\" class=\"dataframe\">\n",
       "  <thead>\n",
       "    <tr style=\"text-align: right;\">\n",
       "      <th></th>\n",
       "      <th>customer_id</th>\n",
       "      <th>name</th>\n",
       "      <th>age</th>\n",
       "      <th>gender</th>\n",
       "      <th>owns_car</th>\n",
       "      <th>owns_house</th>\n",
       "      <th>no_of_children</th>\n",
       "      <th>net_yearly_income</th>\n",
       "      <th>no_of_days_employed</th>\n",
       "      <th>occupation_type</th>\n",
       "      <th>total_family_members</th>\n",
       "      <th>migrant_worker</th>\n",
       "      <th>yearly_debt_payments</th>\n",
       "      <th>credit_limit</th>\n",
       "      <th>credit_limit_used(%)</th>\n",
       "      <th>credit_score</th>\n",
       "      <th>prev_defaults</th>\n",
       "      <th>default_in_last_6months</th>\n",
       "      <th>credit_card_default</th>\n",
       "    </tr>\n",
       "  </thead>\n",
       "  <tbody>\n",
       "    <tr>\n",
       "      <th>0</th>\n",
       "      <td>CST_115179</td>\n",
       "      <td>ita Bose</td>\n",
       "      <td>46</td>\n",
       "      <td>F</td>\n",
       "      <td>N</td>\n",
       "      <td>Y</td>\n",
       "      <td>0.0</td>\n",
       "      <td>107934.04</td>\n",
       "      <td>612.0</td>\n",
       "      <td>Unknown</td>\n",
       "      <td>1.0</td>\n",
       "      <td>1.0</td>\n",
       "      <td>33070.28</td>\n",
       "      <td>18690.93</td>\n",
       "      <td>73</td>\n",
       "      <td>544.0</td>\n",
       "      <td>2</td>\n",
       "      <td>1</td>\n",
       "      <td>1</td>\n",
       "    </tr>\n",
       "    <tr>\n",
       "      <th>1</th>\n",
       "      <td>CST_121920</td>\n",
       "      <td>Alper Jonathan</td>\n",
       "      <td>29</td>\n",
       "      <td>M</td>\n",
       "      <td>N</td>\n",
       "      <td>Y</td>\n",
       "      <td>0.0</td>\n",
       "      <td>109862.62</td>\n",
       "      <td>2771.0</td>\n",
       "      <td>Laborers</td>\n",
       "      <td>2.0</td>\n",
       "      <td>0.0</td>\n",
       "      <td>15329.53</td>\n",
       "      <td>37745.19</td>\n",
       "      <td>52</td>\n",
       "      <td>857.0</td>\n",
       "      <td>0</td>\n",
       "      <td>0</td>\n",
       "      <td>0</td>\n",
       "    </tr>\n",
       "    <tr>\n",
       "      <th>2</th>\n",
       "      <td>CST_109330</td>\n",
       "      <td>Umesh Desai</td>\n",
       "      <td>37</td>\n",
       "      <td>M</td>\n",
       "      <td>N</td>\n",
       "      <td>Y</td>\n",
       "      <td>0.0</td>\n",
       "      <td>230153.17</td>\n",
       "      <td>204.0</td>\n",
       "      <td>Laborers</td>\n",
       "      <td>2.0</td>\n",
       "      <td>0.0</td>\n",
       "      <td>48416.60</td>\n",
       "      <td>41598.36</td>\n",
       "      <td>43</td>\n",
       "      <td>650.0</td>\n",
       "      <td>0</td>\n",
       "      <td>0</td>\n",
       "      <td>0</td>\n",
       "    </tr>\n",
       "    <tr>\n",
       "      <th>3</th>\n",
       "      <td>CST_128288</td>\n",
       "      <td>Rie</td>\n",
       "      <td>39</td>\n",
       "      <td>F</td>\n",
       "      <td>N</td>\n",
       "      <td>Y</td>\n",
       "      <td>0.0</td>\n",
       "      <td>122325.82</td>\n",
       "      <td>11941.0</td>\n",
       "      <td>Core staff</td>\n",
       "      <td>2.0</td>\n",
       "      <td>0.0</td>\n",
       "      <td>22574.36</td>\n",
       "      <td>32627.76</td>\n",
       "      <td>20</td>\n",
       "      <td>754.0</td>\n",
       "      <td>0</td>\n",
       "      <td>0</td>\n",
       "      <td>0</td>\n",
       "    </tr>\n",
       "    <tr>\n",
       "      <th>4</th>\n",
       "      <td>CST_151355</td>\n",
       "      <td>McCool</td>\n",
       "      <td>46</td>\n",
       "      <td>M</td>\n",
       "      <td>Y</td>\n",
       "      <td>Y</td>\n",
       "      <td>0.0</td>\n",
       "      <td>387286.00</td>\n",
       "      <td>1459.0</td>\n",
       "      <td>Core staff</td>\n",
       "      <td>1.0</td>\n",
       "      <td>0.0</td>\n",
       "      <td>38282.95</td>\n",
       "      <td>52950.64</td>\n",
       "      <td>75</td>\n",
       "      <td>927.0</td>\n",
       "      <td>0</td>\n",
       "      <td>0</td>\n",
       "      <td>0</td>\n",
       "    </tr>\n",
       "  </tbody>\n",
       "</table>\n",
       "</div>"
      ],
      "text/plain": [
       "  customer_id            name  age gender owns_car owns_house  no_of_children  \\\n",
       "0  CST_115179        ita Bose   46      F        N          Y             0.0   \n",
       "1  CST_121920  Alper Jonathan   29      M        N          Y             0.0   \n",
       "2  CST_109330     Umesh Desai   37      M        N          Y             0.0   \n",
       "3  CST_128288             Rie   39      F        N          Y             0.0   \n",
       "4  CST_151355          McCool   46      M        Y          Y             0.0   \n",
       "\n",
       "   net_yearly_income  no_of_days_employed occupation_type  \\\n",
       "0          107934.04                612.0         Unknown   \n",
       "1          109862.62               2771.0        Laborers   \n",
       "2          230153.17                204.0        Laborers   \n",
       "3          122325.82              11941.0      Core staff   \n",
       "4          387286.00               1459.0      Core staff   \n",
       "\n",
       "   total_family_members  migrant_worker  yearly_debt_payments  credit_limit  \\\n",
       "0                   1.0             1.0              33070.28      18690.93   \n",
       "1                   2.0             0.0              15329.53      37745.19   \n",
       "2                   2.0             0.0              48416.60      41598.36   \n",
       "3                   2.0             0.0              22574.36      32627.76   \n",
       "4                   1.0             0.0              38282.95      52950.64   \n",
       "\n",
       "   credit_limit_used(%)  credit_score  prev_defaults  default_in_last_6months  \\\n",
       "0                    73         544.0              2                        1   \n",
       "1                    52         857.0              0                        0   \n",
       "2                    43         650.0              0                        0   \n",
       "3                    20         754.0              0                        0   \n",
       "4                    75         927.0              0                        0   \n",
       "\n",
       "   credit_card_default  \n",
       "0                    1  \n",
       "1                    0  \n",
       "2                    0  \n",
       "3                    0  \n",
       "4                    0  "
      ]
     },
     "execution_count": 26,
     "metadata": {},
     "output_type": "execute_result"
    }
   ],
   "source": [
    "# Lets drop the data above 99%ile \n",
    "train_data = train_data[train_data.net_yearly_income <= train_data.net_yearly_income.quantile(0.99)]\n",
    "train_data.head()"
   ]
  },
  {
   "cell_type": "code",
   "execution_count": 27,
   "metadata": {},
   "outputs": [
    {
     "data": {
      "image/png": "[encoded data removed]",
      "text/plain": [
       "<Figure size 432x288 with 1 Axes>"
      ]
     },
     "metadata": {
      "needs_background": "light"
     },
     "output_type": "display_data"
    }
   ],
   "source": [
    "train_data.net_yearly_income.plot.box()\n",
    "plt.show()"
   ]
  },
  {
   "cell_type": "code",
   "execution_count": 28,
   "metadata": {},
   "outputs": [
    {
     "data": {
      "text/plain": [
       "0.25    125824.5050\n",
       "0.50    170968.0300\n",
       "0.75    237768.9200\n",
       "0.99    494553.0015\n",
       "1.00    577850.1200\n",
       "Name: net_yearly_income, dtype: float64"
      ]
     },
     "execution_count": 28,
     "metadata": {},
     "output_type": "execute_result"
    }
   ],
   "source": [
    "train_data.net_yearly_income.quantile([0.25, 0.5, 0.75, 0.99, 1.00])"
   ]
  },
  {
   "cell_type": "code",
   "execution_count": 29,
   "metadata": {},
   "outputs": [],
   "source": [
    "# binning of net_yearly_income into categories\n",
    "def income_binning(x):\n",
    "    if x <= 125824.5050:\n",
    "        return 'Low'\n",
    "    elif x > 125824.5050 and x <= 170968.0300:\n",
    "        return 'Below Avg'\n",
    "    elif x > 170968.0300 and x <= 237768.9200:\n",
    "        return 'Above Avg'\n",
    "    else:\n",
    "        return 'High'\n"
   ]
  },
  {
   "cell_type": "code",
   "execution_count": 30,
   "metadata": {},
   "outputs": [],
   "source": [
    "train_data['income_categories'] = train_data.net_yearly_income.apply(income_binning)"
   ]
  },
  {
   "cell_type": "code",
   "execution_count": 31,
   "metadata": {},
   "outputs": [
    {
     "data": {
      "text/html": [
       "<div>\n",
       "<style scoped>\n",
       "    .dataframe tbody tr th:only-of-type {\n",
       "        vertical-align: middle;\n",
       "    }\n",
       "\n",
       "    .dataframe tbody tr th {\n",
       "        vertical-align: top;\n",
       "    }\n",
       "\n",
       "    .dataframe thead th {\n",
       "        text-align: right;\n",
       "    }\n",
       "</style>\n",
       "<table border=\"1\" class=\"dataframe\">\n",
       "  <thead>\n",
       "    <tr style=\"text-align: right;\">\n",
       "      <th></th>\n",
       "      <th>customer_id</th>\n",
       "      <th>name</th>\n",
       "      <th>age</th>\n",
       "      <th>gender</th>\n",
       "      <th>owns_car</th>\n",
       "      <th>owns_house</th>\n",
       "      <th>no_of_children</th>\n",
       "      <th>net_yearly_income</th>\n",
       "      <th>no_of_days_employed</th>\n",
       "      <th>occupation_type</th>\n",
       "      <th>total_family_members</th>\n",
       "      <th>migrant_worker</th>\n",
       "      <th>yearly_debt_payments</th>\n",
       "      <th>credit_limit</th>\n",
       "      <th>credit_limit_used(%)</th>\n",
       "      <th>credit_score</th>\n",
       "      <th>prev_defaults</th>\n",
       "      <th>default_in_last_6months</th>\n",
       "      <th>credit_card_default</th>\n",
       "      <th>income_categories</th>\n",
       "    </tr>\n",
       "  </thead>\n",
       "  <tbody>\n",
       "    <tr>\n",
       "      <th>0</th>\n",
       "      <td>CST_115179</td>\n",
       "      <td>ita Bose</td>\n",
       "      <td>46</td>\n",
       "      <td>F</td>\n",
       "      <td>N</td>\n",
       "      <td>Y</td>\n",
       "      <td>0.0</td>\n",
       "      <td>107934.04</td>\n",
       "      <td>612.0</td>\n",
       "      <td>Unknown</td>\n",
       "      <td>1.0</td>\n",
       "      <td>1.0</td>\n",
       "      <td>33070.28</td>\n",
       "      <td>18690.93</td>\n",
       "      <td>73</td>\n",
       "      <td>544.0</td>\n",
       "      <td>2</td>\n",
       "      <td>1</td>\n",
       "      <td>1</td>\n",
       "      <td>Low</td>\n",
       "    </tr>\n",
       "    <tr>\n",
       "      <th>1</th>\n",
       "      <td>CST_121920</td>\n",
       "      <td>Alper Jonathan</td>\n",
       "      <td>29</td>\n",
       "      <td>M</td>\n",
       "      <td>N</td>\n",
       "      <td>Y</td>\n",
       "      <td>0.0</td>\n",
       "      <td>109862.62</td>\n",
       "      <td>2771.0</td>\n",
       "      <td>Laborers</td>\n",
       "      <td>2.0</td>\n",
       "      <td>0.0</td>\n",
       "      <td>15329.53</td>\n",
       "      <td>37745.19</td>\n",
       "      <td>52</td>\n",
       "      <td>857.0</td>\n",
       "      <td>0</td>\n",
       "      <td>0</td>\n",
       "      <td>0</td>\n",
       "      <td>Low</td>\n",
       "    </tr>\n",
       "    <tr>\n",
       "      <th>2</th>\n",
       "      <td>CST_109330</td>\n",
       "      <td>Umesh Desai</td>\n",
       "      <td>37</td>\n",
       "      <td>M</td>\n",
       "      <td>N</td>\n",
       "      <td>Y</td>\n",
       "      <td>0.0</td>\n",
       "      <td>230153.17</td>\n",
       "      <td>204.0</td>\n",
       "      <td>Laborers</td>\n",
       "      <td>2.0</td>\n",
       "      <td>0.0</td>\n",
       "      <td>48416.60</td>\n",
       "      <td>41598.36</td>\n",
       "      <td>43</td>\n",
       "      <td>650.0</td>\n",
       "      <td>0</td>\n",
       "      <td>0</td>\n",
       "      <td>0</td>\n",
       "      <td>Above Avg</td>\n",
       "    </tr>\n",
       "    <tr>\n",
       "      <th>3</th>\n",
       "      <td>CST_128288</td>\n",
       "      <td>Rie</td>\n",
       "      <td>39</td>\n",
       "      <td>F</td>\n",
       "      <td>N</td>\n",
       "      <td>Y</td>\n",
       "      <td>0.0</td>\n",
       "      <td>122325.82</td>\n",
       "      <td>11941.0</td>\n",
       "      <td>Core staff</td>\n",
       "      <td>2.0</td>\n",
       "      <td>0.0</td>\n",
       "      <td>22574.36</td>\n",
       "      <td>32627.76</td>\n",
       "      <td>20</td>\n",
       "      <td>754.0</td>\n",
       "      <td>0</td>\n",
       "      <td>0</td>\n",
       "      <td>0</td>\n",
       "      <td>Low</td>\n",
       "    </tr>\n",
       "    <tr>\n",
       "      <th>4</th>\n",
       "      <td>CST_151355</td>\n",
       "      <td>McCool</td>\n",
       "      <td>46</td>\n",
       "      <td>M</td>\n",
       "      <td>Y</td>\n",
       "      <td>Y</td>\n",
       "      <td>0.0</td>\n",
       "      <td>387286.00</td>\n",
       "      <td>1459.0</td>\n",
       "      <td>Core staff</td>\n",
       "      <td>1.0</td>\n",
       "      <td>0.0</td>\n",
       "      <td>38282.95</td>\n",
       "      <td>52950.64</td>\n",
       "      <td>75</td>\n",
       "      <td>927.0</td>\n",
       "      <td>0</td>\n",
       "      <td>0</td>\n",
       "      <td>0</td>\n",
       "      <td>High</td>\n",
       "    </tr>\n",
       "  </tbody>\n",
       "</table>\n",
       "</div>"
      ],
      "text/plain": [
       "  customer_id            name  age gender owns_car owns_house  no_of_children  \\\n",
       "0  CST_115179        ita Bose   46      F        N          Y             0.0   \n",
       "1  CST_121920  Alper Jonathan   29      M        N          Y             0.0   \n",
       "2  CST_109330     Umesh Desai   37      M        N          Y             0.0   \n",
       "3  CST_128288             Rie   39      F        N          Y             0.0   \n",
       "4  CST_151355          McCool   46      M        Y          Y             0.0   \n",
       "\n",
       "   net_yearly_income  no_of_days_employed occupation_type  \\\n",
       "0          107934.04                612.0         Unknown   \n",
       "1          109862.62               2771.0        Laborers   \n",
       "2          230153.17                204.0        Laborers   \n",
       "3          122325.82              11941.0      Core staff   \n",
       "4          387286.00               1459.0      Core staff   \n",
       "\n",
       "   total_family_members  migrant_worker  yearly_debt_payments  credit_limit  \\\n",
       "0                   1.0             1.0              33070.28      18690.93   \n",
       "1                   2.0             0.0              15329.53      37745.19   \n",
       "2                   2.0             0.0              48416.60      41598.36   \n",
       "3                   2.0             0.0              22574.36      32627.76   \n",
       "4                   1.0             0.0              38282.95      52950.64   \n",
       "\n",
       "   credit_limit_used(%)  credit_score  prev_defaults  default_in_last_6months  \\\n",
       "0                    73         544.0              2                        1   \n",
       "1                    52         857.0              0                        0   \n",
       "2                    43         650.0              0                        0   \n",
       "3                    20         754.0              0                        0   \n",
       "4                    75         927.0              0                        0   \n",
       "\n",
       "   credit_card_default income_categories  \n",
       "0                    1               Low  \n",
       "1                    0               Low  \n",
       "2                    0         Above Avg  \n",
       "3                    0               Low  \n",
       "4                    0              High  "
      ]
     },
     "execution_count": 31,
     "metadata": {},
     "output_type": "execute_result"
    }
   ],
   "source": [
    "train_data.head()"
   ]
  },
  {
   "cell_type": "code",
   "execution_count": null,
   "metadata": {},
   "outputs": [],
   "source": []
  },
  {
   "cell_type": "code",
   "execution_count": 32,
   "metadata": {},
   "outputs": [],
   "source": [
    "# "
   ]
  },
  {
   "cell_type": "code",
   "execution_count": null,
   "metadata": {},
   "outputs": [],
   "source": []
  },
  {
   "cell_type": "code",
   "execution_count": null,
   "metadata": {},
   "outputs": [],
   "source": []
  },
  {
   "cell_type": "code",
   "execution_count": null,
   "metadata": {},
   "outputs": [],
   "source": []
  },
  {
   "cell_type": "code",
   "execution_count": null,
   "metadata": {},
   "outputs": [],
   "source": []
  },
  {
   "cell_type": "code",
   "execution_count": null,
   "metadata": {},
   "outputs": [],
   "source": []
  },
  {
   "cell_type": "markdown",
   "metadata": {},
   "source": [
    "impute <i>yearly_debt_payments</i> using Median based on <i>credit_card_default</i> of the data"
   ]
  },
  {
   "cell_type": "code",
   "execution_count": 33,
   "metadata": {
    "execution": {
     "iopub.execute_input": "2021-12-05T10:36:55.634110Z",
     "iopub.status.busy": "2021-12-05T10:36:55.633896Z",
     "iopub.status.idle": "2021-12-05T10:36:55.647437Z",
     "shell.execute_reply": "2021-12-05T10:36:55.646622Z",
     "shell.execute_reply.started": "2021-12-05T10:36:55.634075Z"
    }
   },
   "outputs": [
    {
     "data": {
      "text/plain": [
       "credit_card_default\n",
       "0    28942.95\n",
       "1    29068.55\n",
       "Name: yearly_debt_payments, dtype: float64"
      ]
     },
     "execution_count": 33,
     "metadata": {},
     "output_type": "execute_result"
    }
   ],
   "source": [
    "# impute 'yearly_debt_payments' with median based on 'credit_card_default'\n",
    "yearDebt_credit = train_data.groupby(by='credit_card_default')['yearly_debt_payments'].median()\n",
    "yearDebt_credit"
   ]
  },
  {
   "cell_type": "code",
   "execution_count": 34,
   "metadata": {
    "execution": {
     "iopub.execute_input": "2021-12-05T10:36:55.648712Z",
     "iopub.status.busy": "2021-12-05T10:36:55.648477Z",
     "iopub.status.idle": "2021-12-05T10:36:55.655568Z",
     "shell.execute_reply": "2021-12-05T10:36:55.654843Z",
     "shell.execute_reply.started": "2021-12-05T10:36:55.648683Z"
    }
   },
   "outputs": [],
   "source": [
    "# impute 'yearly_debt_payments' with median based on 'credit_card_default'\n",
    "for i in yearDebt_credit.index:\n",
    "    train_data['yearly_debt_payments'] = np.where((train_data['yearly_debt_payments'].isna()) & (train_data['credit_card_default'] == i), yearDebt_credit[i], train_data['yearly_debt_payments'])"
   ]
  },
  {
   "cell_type": "code",
   "execution_count": 35,
   "metadata": {
    "execution": {
     "iopub.execute_input": "2021-12-05T10:36:55.657788Z",
     "iopub.status.busy": "2021-12-05T10:36:55.657057Z",
     "iopub.status.idle": "2021-12-05T10:36:55.667009Z",
     "shell.execute_reply": "2021-12-05T10:36:55.666125Z",
     "shell.execute_reply.started": "2021-12-05T10:36:55.657751Z"
    }
   },
   "outputs": [
    {
     "data": {
      "text/plain": [
       "0"
      ]
     },
     "execution_count": 35,
     "metadata": {},
     "output_type": "execute_result"
    }
   ],
   "source": [
    "train_data['yearly_debt_payments'].isna().sum()"
   ]
  },
  {
   "cell_type": "markdown",
   "metadata": {},
   "source": [
    "Let's check any more null values pending in features"
   ]
  },
  {
   "cell_type": "code",
   "execution_count": 36,
   "metadata": {
    "execution": {
     "iopub.execute_input": "2021-12-05T10:36:55.669283Z",
     "iopub.status.busy": "2021-12-05T10:36:55.668658Z",
     "iopub.status.idle": "2021-12-05T10:36:55.711133Z",
     "shell.execute_reply": "2021-12-05T10:36:55.710589Z",
     "shell.execute_reply.started": "2021-12-05T10:36:55.669241Z"
    }
   },
   "outputs": [
    {
     "data": {
      "text/plain": [
       "migrant_worker             85\n",
       "total_family_members       83\n",
       "credit_score                8\n",
       "name                        0\n",
       "credit_card_default         0\n",
       "default_in_last_6months     0\n",
       "prev_defaults               0\n",
       "credit_limit_used(%)        0\n",
       "credit_limit                0\n",
       "yearly_debt_payments        0\n",
       "dtype: int64"
      ]
     },
     "execution_count": 36,
     "metadata": {},
     "output_type": "execute_result"
    }
   ],
   "source": [
    "train_data.isna().sum().sort_values(ascending=False).head(10)"
   ]
  },
  {
   "cell_type": "markdown",
   "metadata": {},
   "source": [
    "impute <i>migrant_worker</i> using Mode of the data"
   ]
  },
  {
   "cell_type": "code",
   "execution_count": 37,
   "metadata": {
    "execution": {
     "iopub.execute_input": "2021-12-05T10:36:55.712438Z",
     "iopub.status.busy": "2021-12-05T10:36:55.712117Z",
     "iopub.status.idle": "2021-12-05T10:36:55.718842Z",
     "shell.execute_reply": "2021-12-05T10:36:55.718001Z",
     "shell.execute_reply.started": "2021-12-05T10:36:55.712410Z"
    }
   },
   "outputs": [
    {
     "data": {
      "text/plain": [
       "0.0"
      ]
     },
     "execution_count": 37,
     "metadata": {},
     "output_type": "execute_result"
    }
   ],
   "source": [
    "train_data['migrant_worker'].mode()[0]"
   ]
  },
  {
   "cell_type": "code",
   "execution_count": 38,
   "metadata": {
    "execution": {
     "iopub.execute_input": "2021-12-05T10:36:55.720301Z",
     "iopub.status.busy": "2021-12-05T10:36:55.720016Z",
     "iopub.status.idle": "2021-12-05T10:36:55.732418Z",
     "shell.execute_reply": "2021-12-05T10:36:55.731685Z",
     "shell.execute_reply.started": "2021-12-05T10:36:55.720272Z"
    }
   },
   "outputs": [
    {
     "data": {
      "text/plain": [
       "0"
      ]
     },
     "execution_count": 38,
     "metadata": {},
     "output_type": "execute_result"
    }
   ],
   "source": [
    "# imputing with mode of the data\n",
    "train_data['migrant_worker'].fillna(train_data['migrant_worker'].mode()[0], inplace=True)\n",
    "\n",
    "# check null values count\n",
    "train_data['migrant_worker'].isna().sum()"
   ]
  },
  {
   "cell_type": "markdown",
   "metadata": {},
   "source": [
    "impute <i>total_family_members</i> using Mode of the data"
   ]
  },
  {
   "cell_type": "code",
   "execution_count": 39,
   "metadata": {
    "execution": {
     "iopub.execute_input": "2021-12-05T10:36:55.739699Z",
     "iopub.status.busy": "2021-12-05T10:36:55.739121Z",
     "iopub.status.idle": "2021-12-05T10:36:55.745536Z",
     "shell.execute_reply": "2021-12-05T10:36:55.744679Z",
     "shell.execute_reply.started": "2021-12-05T10:36:55.739667Z"
    }
   },
   "outputs": [
    {
     "data": {
      "text/plain": [
       "2.0"
      ]
     },
     "execution_count": 39,
     "metadata": {},
     "output_type": "execute_result"
    }
   ],
   "source": [
    "train_data['total_family_members'].mode()[0]"
   ]
  },
  {
   "cell_type": "code",
   "execution_count": 40,
   "metadata": {
    "execution": {
     "iopub.execute_input": "2021-12-05T10:36:55.747208Z",
     "iopub.status.busy": "2021-12-05T10:36:55.746927Z",
     "iopub.status.idle": "2021-12-05T10:36:55.761863Z",
     "shell.execute_reply": "2021-12-05T10:36:55.760902Z",
     "shell.execute_reply.started": "2021-12-05T10:36:55.747170Z"
    }
   },
   "outputs": [
    {
     "data": {
      "text/plain": [
       "0"
      ]
     },
     "execution_count": 40,
     "metadata": {},
     "output_type": "execute_result"
    }
   ],
   "source": [
    "# imputing with mode of the data\n",
    "train_data['total_family_members'].fillna(train_data['total_family_members'].mode()[0], inplace=True)\n",
    "\n",
    "# check null values count\n",
    "train_data['total_family_members'].isna().sum()"
   ]
  },
  {
   "cell_type": "markdown",
   "metadata": {},
   "source": [
    "impute <i>credit_score</i> using Median based on <i>credit_card_default</i> of the data"
   ]
  },
  {
   "cell_type": "code",
   "execution_count": 41,
   "metadata": {
    "execution": {
     "iopub.execute_input": "2021-12-05T10:36:55.763029Z",
     "iopub.status.busy": "2021-12-05T10:36:55.762831Z",
     "iopub.status.idle": "2021-12-05T10:36:55.777432Z",
     "shell.execute_reply": "2021-12-05T10:36:55.776895Z",
     "shell.execute_reply.started": "2021-12-05T10:36:55.763004Z"
    }
   },
   "outputs": [
    {
     "data": {
      "text/plain": [
       "credit_card_default\n",
       "0    799.0\n",
       "1    599.0\n",
       "Name: credit_score, dtype: float64"
      ]
     },
     "execution_count": 41,
     "metadata": {},
     "output_type": "execute_result"
    }
   ],
   "source": [
    "# check medians of credit_score wrt credit_card_default\n",
    "cred_score = train_data.groupby(by='credit_card_default')['credit_score'].median()\n",
    "cred_score"
   ]
  },
  {
   "cell_type": "code",
   "execution_count": 42,
   "metadata": {
    "execution": {
     "iopub.execute_input": "2021-12-05T10:36:55.779026Z",
     "iopub.status.busy": "2021-12-05T10:36:55.778596Z",
     "iopub.status.idle": "2021-12-05T10:36:55.788979Z",
     "shell.execute_reply": "2021-12-05T10:36:55.788434Z",
     "shell.execute_reply.started": "2021-12-05T10:36:55.778995Z"
    }
   },
   "outputs": [
    {
     "data": {
      "text/plain": [
       "0"
      ]
     },
     "execution_count": 42,
     "metadata": {},
     "output_type": "execute_result"
    }
   ],
   "source": [
    "# impute 'credit_score' with median based on 'credit_card_default'\n",
    "for i in cred_score.index:\n",
    "    train_data['credit_score'] = np.where((train_data['credit_score'].isna()) & (train_data['credit_card_default'] == i), cred_score[i], train_data['credit_score'])\n",
    "\n",
    "# check for null values in 'credit_score'\n",
    "train_data['credit_score'].isna().sum()"
   ]
  },
  {
   "cell_type": "markdown",
   "metadata": {},
   "source": [
    "**Check for Null values in the Data Set**"
   ]
  },
  {
   "cell_type": "code",
   "execution_count": 43,
   "metadata": {
    "execution": {
     "iopub.execute_input": "2021-12-05T10:36:55.790367Z",
     "iopub.status.busy": "2021-12-05T10:36:55.790022Z",
     "iopub.status.idle": "2021-12-05T10:36:55.836577Z",
     "shell.execute_reply": "2021-12-05T10:36:55.835671Z",
     "shell.execute_reply.started": "2021-12-05T10:36:55.790337Z"
    }
   },
   "outputs": [
    {
     "data": {
      "text/plain": [
       "customer_id                0.0\n",
       "name                       0.0\n",
       "age                        0.0\n",
       "gender                     0.0\n",
       "owns_car                   0.0\n",
       "owns_house                 0.0\n",
       "no_of_children             0.0\n",
       "net_yearly_income          0.0\n",
       "no_of_days_employed        0.0\n",
       "occupation_type            0.0\n",
       "total_family_members       0.0\n",
       "migrant_worker             0.0\n",
       "yearly_debt_payments       0.0\n",
       "credit_limit               0.0\n",
       "credit_limit_used(%)       0.0\n",
       "credit_score               0.0\n",
       "prev_defaults              0.0\n",
       "default_in_last_6months    0.0\n",
       "credit_card_default        0.0\n",
       "income_categories          0.0\n",
       "dtype: float64"
      ]
     },
     "execution_count": 43,
     "metadata": {},
     "output_type": "execute_result"
    }
   ],
   "source": [
    "train_data.isna().mean()*100"
   ]
  },
  {
   "cell_type": "markdown",
   "metadata": {},
   "source": [
    "## EDA"
   ]
  },
  {
   "cell_type": "code",
   "execution_count": 44,
   "metadata": {
    "execution": {
     "iopub.execute_input": "2021-12-05T10:36:55.838251Z",
     "iopub.status.busy": "2021-12-05T10:36:55.838012Z",
     "iopub.status.idle": "2021-12-05T10:36:55.868566Z",
     "shell.execute_reply": "2021-12-05T10:36:55.868015Z",
     "shell.execute_reply.started": "2021-12-05T10:36:55.838221Z"
    }
   },
   "outputs": [
    {
     "data": {
      "text/html": [
       "<div>\n",
       "<style scoped>\n",
       "    .dataframe tbody tr th:only-of-type {\n",
       "        vertical-align: middle;\n",
       "    }\n",
       "\n",
       "    .dataframe tbody tr th {\n",
       "        vertical-align: top;\n",
       "    }\n",
       "\n",
       "    .dataframe thead th {\n",
       "        text-align: right;\n",
       "    }\n",
       "</style>\n",
       "<table border=\"1\" class=\"dataframe\">\n",
       "  <thead>\n",
       "    <tr style=\"text-align: right;\">\n",
       "      <th></th>\n",
       "      <th>customer_id</th>\n",
       "      <th>name</th>\n",
       "      <th>age</th>\n",
       "      <th>gender</th>\n",
       "      <th>owns_car</th>\n",
       "      <th>owns_house</th>\n",
       "      <th>no_of_children</th>\n",
       "      <th>net_yearly_income</th>\n",
       "      <th>no_of_days_employed</th>\n",
       "      <th>occupation_type</th>\n",
       "      <th>total_family_members</th>\n",
       "      <th>migrant_worker</th>\n",
       "      <th>yearly_debt_payments</th>\n",
       "      <th>credit_limit</th>\n",
       "      <th>credit_limit_used(%)</th>\n",
       "      <th>credit_score</th>\n",
       "      <th>prev_defaults</th>\n",
       "      <th>default_in_last_6months</th>\n",
       "      <th>credit_card_default</th>\n",
       "      <th>income_categories</th>\n",
       "    </tr>\n",
       "  </thead>\n",
       "  <tbody>\n",
       "    <tr>\n",
       "      <th>0</th>\n",
       "      <td>CST_115179</td>\n",
       "      <td>ita Bose</td>\n",
       "      <td>46</td>\n",
       "      <td>F</td>\n",
       "      <td>N</td>\n",
       "      <td>Y</td>\n",
       "      <td>0.0</td>\n",
       "      <td>107934.04</td>\n",
       "      <td>612.0</td>\n",
       "      <td>Unknown</td>\n",
       "      <td>1.0</td>\n",
       "      <td>1.0</td>\n",
       "      <td>33070.28</td>\n",
       "      <td>18690.93</td>\n",
       "      <td>73</td>\n",
       "      <td>544.0</td>\n",
       "      <td>2</td>\n",
       "      <td>1</td>\n",
       "      <td>1</td>\n",
       "      <td>Low</td>\n",
       "    </tr>\n",
       "    <tr>\n",
       "      <th>1</th>\n",
       "      <td>CST_121920</td>\n",
       "      <td>Alper Jonathan</td>\n",
       "      <td>29</td>\n",
       "      <td>M</td>\n",
       "      <td>N</td>\n",
       "      <td>Y</td>\n",
       "      <td>0.0</td>\n",
       "      <td>109862.62</td>\n",
       "      <td>2771.0</td>\n",
       "      <td>Laborers</td>\n",
       "      <td>2.0</td>\n",
       "      <td>0.0</td>\n",
       "      <td>15329.53</td>\n",
       "      <td>37745.19</td>\n",
       "      <td>52</td>\n",
       "      <td>857.0</td>\n",
       "      <td>0</td>\n",
       "      <td>0</td>\n",
       "      <td>0</td>\n",
       "      <td>Low</td>\n",
       "    </tr>\n",
       "    <tr>\n",
       "      <th>2</th>\n",
       "      <td>CST_109330</td>\n",
       "      <td>Umesh Desai</td>\n",
       "      <td>37</td>\n",
       "      <td>M</td>\n",
       "      <td>N</td>\n",
       "      <td>Y</td>\n",
       "      <td>0.0</td>\n",
       "      <td>230153.17</td>\n",
       "      <td>204.0</td>\n",
       "      <td>Laborers</td>\n",
       "      <td>2.0</td>\n",
       "      <td>0.0</td>\n",
       "      <td>48416.60</td>\n",
       "      <td>41598.36</td>\n",
       "      <td>43</td>\n",
       "      <td>650.0</td>\n",
       "      <td>0</td>\n",
       "      <td>0</td>\n",
       "      <td>0</td>\n",
       "      <td>Above Avg</td>\n",
       "    </tr>\n",
       "    <tr>\n",
       "      <th>3</th>\n",
       "      <td>CST_128288</td>\n",
       "      <td>Rie</td>\n",
       "      <td>39</td>\n",
       "      <td>F</td>\n",
       "      <td>N</td>\n",
       "      <td>Y</td>\n",
       "      <td>0.0</td>\n",
       "      <td>122325.82</td>\n",
       "      <td>11941.0</td>\n",
       "      <td>Core staff</td>\n",
       "      <td>2.0</td>\n",
       "      <td>0.0</td>\n",
       "      <td>22574.36</td>\n",
       "      <td>32627.76</td>\n",
       "      <td>20</td>\n",
       "      <td>754.0</td>\n",
       "      <td>0</td>\n",
       "      <td>0</td>\n",
       "      <td>0</td>\n",
       "      <td>Low</td>\n",
       "    </tr>\n",
       "    <tr>\n",
       "      <th>4</th>\n",
       "      <td>CST_151355</td>\n",
       "      <td>McCool</td>\n",
       "      <td>46</td>\n",
       "      <td>M</td>\n",
       "      <td>Y</td>\n",
       "      <td>Y</td>\n",
       "      <td>0.0</td>\n",
       "      <td>387286.00</td>\n",
       "      <td>1459.0</td>\n",
       "      <td>Core staff</td>\n",
       "      <td>1.0</td>\n",
       "      <td>0.0</td>\n",
       "      <td>38282.95</td>\n",
       "      <td>52950.64</td>\n",
       "      <td>75</td>\n",
       "      <td>927.0</td>\n",
       "      <td>0</td>\n",
       "      <td>0</td>\n",
       "      <td>0</td>\n",
       "      <td>High</td>\n",
       "    </tr>\n",
       "    <tr>\n",
       "      <th>5</th>\n",
       "      <td>CST_123268</td>\n",
       "      <td>Sarah Marsh</td>\n",
       "      <td>46</td>\n",
       "      <td>F</td>\n",
       "      <td>Y</td>\n",
       "      <td>N</td>\n",
       "      <td>0.0</td>\n",
       "      <td>252765.91</td>\n",
       "      <td>2898.0</td>\n",
       "      <td>Accountants</td>\n",
       "      <td>2.0</td>\n",
       "      <td>1.0</td>\n",
       "      <td>37046.86</td>\n",
       "      <td>40245.64</td>\n",
       "      <td>19</td>\n",
       "      <td>937.0</td>\n",
       "      <td>0</td>\n",
       "      <td>0</td>\n",
       "      <td>0</td>\n",
       "      <td>High</td>\n",
       "    </tr>\n",
       "    <tr>\n",
       "      <th>6</th>\n",
       "      <td>CST_127502</td>\n",
       "      <td>Mason</td>\n",
       "      <td>38</td>\n",
       "      <td>M</td>\n",
       "      <td>N</td>\n",
       "      <td>Y</td>\n",
       "      <td>1.0</td>\n",
       "      <td>262389.20</td>\n",
       "      <td>5541.0</td>\n",
       "      <td>High skill tech staff</td>\n",
       "      <td>3.0</td>\n",
       "      <td>0.0</td>\n",
       "      <td>50839.39</td>\n",
       "      <td>41311.08</td>\n",
       "      <td>42</td>\n",
       "      <td>733.0</td>\n",
       "      <td>0</td>\n",
       "      <td>0</td>\n",
       "      <td>0</td>\n",
       "      <td>High</td>\n",
       "    </tr>\n",
       "    <tr>\n",
       "      <th>7</th>\n",
       "      <td>CST_151722</td>\n",
       "      <td>Saba</td>\n",
       "      <td>46</td>\n",
       "      <td>F</td>\n",
       "      <td>Y</td>\n",
       "      <td>Y</td>\n",
       "      <td>1.0</td>\n",
       "      <td>241211.39</td>\n",
       "      <td>1448.0</td>\n",
       "      <td>Core staff</td>\n",
       "      <td>3.0</td>\n",
       "      <td>0.0</td>\n",
       "      <td>30008.46</td>\n",
       "      <td>32209.22</td>\n",
       "      <td>91</td>\n",
       "      <td>906.0</td>\n",
       "      <td>0</td>\n",
       "      <td>0</td>\n",
       "      <td>0</td>\n",
       "      <td>High</td>\n",
       "    </tr>\n",
       "    <tr>\n",
       "      <th>8</th>\n",
       "      <td>CST_133768</td>\n",
       "      <td>Ashutosh</td>\n",
       "      <td>40</td>\n",
       "      <td>F</td>\n",
       "      <td>N</td>\n",
       "      <td>Y</td>\n",
       "      <td>0.0</td>\n",
       "      <td>210091.43</td>\n",
       "      <td>11551.0</td>\n",
       "      <td>Laborers</td>\n",
       "      <td>2.0</td>\n",
       "      <td>0.0</td>\n",
       "      <td>21521.89</td>\n",
       "      <td>65037.74</td>\n",
       "      <td>14</td>\n",
       "      <td>783.0</td>\n",
       "      <td>0</td>\n",
       "      <td>0</td>\n",
       "      <td>0</td>\n",
       "      <td>Above Avg</td>\n",
       "    </tr>\n",
       "    <tr>\n",
       "      <th>9</th>\n",
       "      <td>CST_111670</td>\n",
       "      <td>David Milliken</td>\n",
       "      <td>39</td>\n",
       "      <td>F</td>\n",
       "      <td>Y</td>\n",
       "      <td>Y</td>\n",
       "      <td>2.0</td>\n",
       "      <td>207109.13</td>\n",
       "      <td>2791.0</td>\n",
       "      <td>High skill tech staff</td>\n",
       "      <td>4.0</td>\n",
       "      <td>0.0</td>\n",
       "      <td>9509.10</td>\n",
       "      <td>28425.52</td>\n",
       "      <td>14</td>\n",
       "      <td>666.0</td>\n",
       "      <td>0</td>\n",
       "      <td>0</td>\n",
       "      <td>0</td>\n",
       "      <td>Above Avg</td>\n",
       "    </tr>\n",
       "  </tbody>\n",
       "</table>\n",
       "</div>"
      ],
      "text/plain": [
       "  customer_id            name  age gender owns_car owns_house  no_of_children  \\\n",
       "0  CST_115179        ita Bose   46      F        N          Y             0.0   \n",
       "1  CST_121920  Alper Jonathan   29      M        N          Y             0.0   \n",
       "2  CST_109330     Umesh Desai   37      M        N          Y             0.0   \n",
       "3  CST_128288             Rie   39      F        N          Y             0.0   \n",
       "4  CST_151355          McCool   46      M        Y          Y             0.0   \n",
       "5  CST_123268     Sarah Marsh   46      F        Y          N             0.0   \n",
       "6  CST_127502           Mason   38      M        N          Y             1.0   \n",
       "7  CST_151722            Saba   46      F        Y          Y             1.0   \n",
       "8  CST_133768        Ashutosh   40      F        N          Y             0.0   \n",
       "9  CST_111670  David Milliken   39      F        Y          Y             2.0   \n",
       "\n",
       "   net_yearly_income  no_of_days_employed        occupation_type  \\\n",
       "0          107934.04                612.0                Unknown   \n",
       "1          109862.62               2771.0               Laborers   \n",
       "2          230153.17                204.0               Laborers   \n",
       "3          122325.82              11941.0             Core staff   \n",
       "4          387286.00               1459.0             Core staff   \n",
       "5          252765.91               2898.0            Accountants   \n",
       "6          262389.20               5541.0  High skill tech staff   \n",
       "7          241211.39               1448.0             Core staff   \n",
       "8          210091.43              11551.0               Laborers   \n",
       "9          207109.13               2791.0  High skill tech staff   \n",
       "\n",
       "   total_family_members  migrant_worker  yearly_debt_payments  credit_limit  \\\n",
       "0                   1.0             1.0              33070.28      18690.93   \n",
       "1                   2.0             0.0              15329.53      37745.19   \n",
       "2                   2.0             0.0              48416.60      41598.36   \n",
       "3                   2.0             0.0              22574.36      32627.76   \n",
       "4                   1.0             0.0              38282.95      52950.64   \n",
       "5                   2.0             1.0              37046.86      40245.64   \n",
       "6                   3.0             0.0              50839.39      41311.08   \n",
       "7                   3.0             0.0              30008.46      32209.22   \n",
       "8                   2.0             0.0              21521.89      65037.74   \n",
       "9                   4.0             0.0               9509.10      28425.52   \n",
       "\n",
       "   credit_limit_used(%)  credit_score  prev_defaults  default_in_last_6months  \\\n",
       "0                    73         544.0              2                        1   \n",
       "1                    52         857.0              0                        0   \n",
       "2                    43         650.0              0                        0   \n",
       "3                    20         754.0              0                        0   \n",
       "4                    75         927.0              0                        0   \n",
       "5                    19         937.0              0                        0   \n",
       "6                    42         733.0              0                        0   \n",
       "7                    91         906.0              0                        0   \n",
       "8                    14         783.0              0                        0   \n",
       "9                    14         666.0              0                        0   \n",
       "\n",
       "   credit_card_default income_categories  \n",
       "0                    1               Low  \n",
       "1                    0               Low  \n",
       "2                    0         Above Avg  \n",
       "3                    0               Low  \n",
       "4                    0              High  \n",
       "5                    0              High  \n",
       "6                    0              High  \n",
       "7                    0              High  \n",
       "8                    0         Above Avg  \n",
       "9                    0         Above Avg  "
      ]
     },
     "execution_count": 44,
     "metadata": {},
     "output_type": "execute_result"
    }
   ],
   "source": [
    "train_data.head(10)"
   ]
  },
  {
   "cell_type": "code",
   "execution_count": 45,
   "metadata": {
    "execution": {
     "iopub.execute_input": "2021-12-05T10:36:55.870004Z",
     "iopub.status.busy": "2021-12-05T10:36:55.869663Z",
     "iopub.status.idle": "2021-12-05T10:36:56.024770Z",
     "shell.execute_reply": "2021-12-05T10:36:56.023993Z",
     "shell.execute_reply.started": "2021-12-05T10:36:55.869971Z"
    }
   },
   "outputs": [
    {
     "data": {
      "image/png": "[encoded data removed]",
      "text/plain": [
       "<Figure size 432x288 with 1 Axes>"
      ]
     },
     "metadata": {},
     "output_type": "display_data"
    }
   ],
   "source": [
    "# Ploting Credit_default ratio\n",
    "total_default_values = train_data.credit_card_default.value_counts(ascending=True).values\n",
    "\n",
    "plt.figure()\n",
    "plt.pie(total_default_values, labels=['Defaulter', 'Not Defaulter'], autopct='%1.1f%%', shadow=True)\n",
    "plt.title('Defaulter Ratio', fontsize=18)\n",
    "plt.show()"
   ]
  },
  {
   "cell_type": "code",
   "execution_count": 46,
   "metadata": {
    "execution": {
     "iopub.execute_input": "2021-12-05T10:36:56.026121Z",
     "iopub.status.busy": "2021-12-05T10:36:56.025774Z",
     "iopub.status.idle": "2021-12-05T10:36:56.504565Z",
     "shell.execute_reply": "2021-12-05T10:36:56.504003Z",
     "shell.execute_reply.started": "2021-12-05T10:36:56.026090Z"
    }
   },
   "outputs": [
    {
     "data": {
      "image/png": "[encoded data removed]",
      "text/plain": [
       "<Figure size 432x288 with 1 Axes>"
      ]
     },
     "metadata": {
      "needs_background": "light"
     },
     "output_type": "display_data"
    }
   ],
   "source": [
    "# visualize AGE feature - distplot\n",
    "plt.figure()\n",
    "sns.distplot(train_data['age'])\n",
    "plt.show()"
   ]
  },
  {
   "cell_type": "code",
   "execution_count": 47,
   "metadata": {
    "execution": {
     "iopub.execute_input": "2021-12-05T10:36:56.505949Z",
     "iopub.status.busy": "2021-12-05T10:36:56.505624Z",
     "iopub.status.idle": "2021-12-05T10:36:56.687075Z",
     "shell.execute_reply": "2021-12-05T10:36:56.686534Z",
     "shell.execute_reply.started": "2021-12-05T10:36:56.505922Z"
    }
   },
   "outputs": [
    {
     "data": {
      "image/png": "[encoded data removed]",
      "text/plain": [
       "<Figure size 504x432 with 1 Axes>"
      ]
     },
     "metadata": {
      "needs_background": "light"
     },
     "output_type": "display_data"
    }
   ],
   "source": [
    "# boxplot of credit_defaulter-credit_score\n",
    "plt.figure(figsize=[7,6])\n",
    "sns.boxplot(train_data['credit_card_default'], train_data['credit_score'])\n",
    "plt.show()"
   ]
  },
  {
   "cell_type": "code",
   "execution_count": 48,
   "metadata": {
    "execution": {
     "iopub.execute_input": "2021-12-05T10:36:56.688393Z",
     "iopub.status.busy": "2021-12-05T10:36:56.688102Z",
     "iopub.status.idle": "2021-12-05T10:36:56.874549Z",
     "shell.execute_reply": "2021-12-05T10:36:56.873753Z",
     "shell.execute_reply.started": "2021-12-05T10:36:56.688365Z"
    }
   },
   "outputs": [
    {
     "data": {
      "image/png": "[encoded data removed]",
      "text/plain": [
       "<Figure size 504x432 with 1 Axes>"
      ]
     },
     "metadata": {
      "needs_background": "light"
     },
     "output_type": "display_data"
    }
   ],
   "source": [
    "# boxplot of credit_defaulter-credit_limit_utilization\n",
    "plt.figure(figsize=[7,6])\n",
    "sns.boxplot(train_data['credit_card_default'], train_data['credit_limit_used(%)'])\n",
    "plt.show()"
   ]
  },
  {
   "cell_type": "code",
   "execution_count": 49,
   "metadata": {
    "execution": {
     "iopub.execute_input": "2021-12-05T10:36:56.875864Z",
     "iopub.status.busy": "2021-12-05T10:36:56.875632Z",
     "iopub.status.idle": "2021-12-05T10:36:58.971389Z",
     "shell.execute_reply": "2021-12-05T10:36:58.970510Z",
     "shell.execute_reply.started": "2021-12-05T10:36:56.875836Z"
    }
   },
   "outputs": [
    {
     "data": {
      "image/png": "[encoded data removed]",
      "text/plain": [
       "<Figure size 1296x576 with 1 Axes>"
      ]
     },
     "metadata": {
      "needs_background": "light"
     },
     "output_type": "display_data"
    }
   ],
   "source": [
    "# barplots for occupation types wrt credit_default\n",
    "plt.figure(figsize=[18,8])\n",
    "sns.barplot(x=train_data['occupation_type'], y=train_data['net_yearly_income'], hue=train_data['credit_card_default'])\n",
    "plt.xticks(rotation=45)\n",
    "plt.show()"
   ]
  },
  {
   "cell_type": "code",
   "execution_count": null,
   "metadata": {},
   "outputs": [],
   "source": []
  },
  {
   "cell_type": "code",
   "execution_count": 50,
   "metadata": {
    "execution": {
     "iopub.execute_input": "2021-12-05T10:36:58.972925Z",
     "iopub.status.busy": "2021-12-05T10:36:58.972641Z",
     "iopub.status.idle": "2021-12-05T10:36:59.217907Z",
     "shell.execute_reply": "2021-12-05T10:36:59.217020Z",
     "shell.execute_reply.started": "2021-12-05T10:36:58.972883Z"
    }
   },
   "outputs": [
    {
     "data": {
      "image/png": "[encoded data removed]",
      "text/plain": [
       "<Figure size 504x432 with 1 Axes>"
      ]
     },
     "metadata": {
      "needs_background": "light"
     },
     "output_type": "display_data"
    }
   ],
   "source": [
    "# male or female defaulters\n",
    "plt.figure(figsize=[7,6])\n",
    "sns.countplot(train_data['gender'], hue=train_data['credit_card_default'])\n",
    "plt.show()"
   ]
  },
  {
   "cell_type": "markdown",
   "metadata": {},
   "source": [
    "**Check outliers for continuous valued features**"
   ]
  },
  {
   "cell_type": "code",
   "execution_count": 51,
   "metadata": {
    "execution": {
     "iopub.execute_input": "2021-12-05T10:36:59.220909Z",
     "iopub.status.busy": "2021-12-05T10:36:59.219156Z",
     "iopub.status.idle": "2021-12-05T10:36:59.245625Z",
     "shell.execute_reply": "2021-12-05T10:36:59.244708Z",
     "shell.execute_reply.started": "2021-12-05T10:36:59.220866Z"
    },
    "scrolled": true
   },
   "outputs": [
    {
     "data": {
      "text/html": [
       "<div>\n",
       "<style scoped>\n",
       "    .dataframe tbody tr th:only-of-type {\n",
       "        vertical-align: middle;\n",
       "    }\n",
       "\n",
       "    .dataframe tbody tr th {\n",
       "        vertical-align: top;\n",
       "    }\n",
       "\n",
       "    .dataframe thead th {\n",
       "        text-align: right;\n",
       "    }\n",
       "</style>\n",
       "<table border=\"1\" class=\"dataframe\">\n",
       "  <thead>\n",
       "    <tr style=\"text-align: right;\">\n",
       "      <th></th>\n",
       "      <th>customer_id</th>\n",
       "      <th>name</th>\n",
       "      <th>age</th>\n",
       "      <th>gender</th>\n",
       "      <th>owns_car</th>\n",
       "      <th>owns_house</th>\n",
       "      <th>no_of_children</th>\n",
       "      <th>net_yearly_income</th>\n",
       "      <th>no_of_days_employed</th>\n",
       "      <th>occupation_type</th>\n",
       "      <th>total_family_members</th>\n",
       "      <th>migrant_worker</th>\n",
       "      <th>yearly_debt_payments</th>\n",
       "      <th>credit_limit</th>\n",
       "      <th>credit_limit_used(%)</th>\n",
       "      <th>credit_score</th>\n",
       "      <th>prev_defaults</th>\n",
       "      <th>default_in_last_6months</th>\n",
       "      <th>credit_card_default</th>\n",
       "      <th>income_categories</th>\n",
       "    </tr>\n",
       "  </thead>\n",
       "  <tbody>\n",
       "    <tr>\n",
       "      <th>0</th>\n",
       "      <td>CST_115179</td>\n",
       "      <td>ita Bose</td>\n",
       "      <td>46</td>\n",
       "      <td>F</td>\n",
       "      <td>N</td>\n",
       "      <td>Y</td>\n",
       "      <td>0.0</td>\n",
       "      <td>107934.04</td>\n",
       "      <td>612.0</td>\n",
       "      <td>Unknown</td>\n",
       "      <td>1.0</td>\n",
       "      <td>1.0</td>\n",
       "      <td>33070.28</td>\n",
       "      <td>18690.93</td>\n",
       "      <td>73</td>\n",
       "      <td>544.0</td>\n",
       "      <td>2</td>\n",
       "      <td>1</td>\n",
       "      <td>1</td>\n",
       "      <td>Low</td>\n",
       "    </tr>\n",
       "    <tr>\n",
       "      <th>1</th>\n",
       "      <td>CST_121920</td>\n",
       "      <td>Alper Jonathan</td>\n",
       "      <td>29</td>\n",
       "      <td>M</td>\n",
       "      <td>N</td>\n",
       "      <td>Y</td>\n",
       "      <td>0.0</td>\n",
       "      <td>109862.62</td>\n",
       "      <td>2771.0</td>\n",
       "      <td>Laborers</td>\n",
       "      <td>2.0</td>\n",
       "      <td>0.0</td>\n",
       "      <td>15329.53</td>\n",
       "      <td>37745.19</td>\n",
       "      <td>52</td>\n",
       "      <td>857.0</td>\n",
       "      <td>0</td>\n",
       "      <td>0</td>\n",
       "      <td>0</td>\n",
       "      <td>Low</td>\n",
       "    </tr>\n",
       "    <tr>\n",
       "      <th>2</th>\n",
       "      <td>CST_109330</td>\n",
       "      <td>Umesh Desai</td>\n",
       "      <td>37</td>\n",
       "      <td>M</td>\n",
       "      <td>N</td>\n",
       "      <td>Y</td>\n",
       "      <td>0.0</td>\n",
       "      <td>230153.17</td>\n",
       "      <td>204.0</td>\n",
       "      <td>Laborers</td>\n",
       "      <td>2.0</td>\n",
       "      <td>0.0</td>\n",
       "      <td>48416.60</td>\n",
       "      <td>41598.36</td>\n",
       "      <td>43</td>\n",
       "      <td>650.0</td>\n",
       "      <td>0</td>\n",
       "      <td>0</td>\n",
       "      <td>0</td>\n",
       "      <td>Above Avg</td>\n",
       "    </tr>\n",
       "    <tr>\n",
       "      <th>3</th>\n",
       "      <td>CST_128288</td>\n",
       "      <td>Rie</td>\n",
       "      <td>39</td>\n",
       "      <td>F</td>\n",
       "      <td>N</td>\n",
       "      <td>Y</td>\n",
       "      <td>0.0</td>\n",
       "      <td>122325.82</td>\n",
       "      <td>11941.0</td>\n",
       "      <td>Core staff</td>\n",
       "      <td>2.0</td>\n",
       "      <td>0.0</td>\n",
       "      <td>22574.36</td>\n",
       "      <td>32627.76</td>\n",
       "      <td>20</td>\n",
       "      <td>754.0</td>\n",
       "      <td>0</td>\n",
       "      <td>0</td>\n",
       "      <td>0</td>\n",
       "      <td>Low</td>\n",
       "    </tr>\n",
       "    <tr>\n",
       "      <th>4</th>\n",
       "      <td>CST_151355</td>\n",
       "      <td>McCool</td>\n",
       "      <td>46</td>\n",
       "      <td>M</td>\n",
       "      <td>Y</td>\n",
       "      <td>Y</td>\n",
       "      <td>0.0</td>\n",
       "      <td>387286.00</td>\n",
       "      <td>1459.0</td>\n",
       "      <td>Core staff</td>\n",
       "      <td>1.0</td>\n",
       "      <td>0.0</td>\n",
       "      <td>38282.95</td>\n",
       "      <td>52950.64</td>\n",
       "      <td>75</td>\n",
       "      <td>927.0</td>\n",
       "      <td>0</td>\n",
       "      <td>0</td>\n",
       "      <td>0</td>\n",
       "      <td>High</td>\n",
       "    </tr>\n",
       "  </tbody>\n",
       "</table>\n",
       "</div>"
      ],
      "text/plain": [
       "  customer_id            name  age gender owns_car owns_house  no_of_children  \\\n",
       "0  CST_115179        ita Bose   46      F        N          Y             0.0   \n",
       "1  CST_121920  Alper Jonathan   29      M        N          Y             0.0   \n",
       "2  CST_109330     Umesh Desai   37      M        N          Y             0.0   \n",
       "3  CST_128288             Rie   39      F        N          Y             0.0   \n",
       "4  CST_151355          McCool   46      M        Y          Y             0.0   \n",
       "\n",
       "   net_yearly_income  no_of_days_employed occupation_type  \\\n",
       "0          107934.04                612.0         Unknown   \n",
       "1          109862.62               2771.0        Laborers   \n",
       "2          230153.17                204.0        Laborers   \n",
       "3          122325.82              11941.0      Core staff   \n",
       "4          387286.00               1459.0      Core staff   \n",
       "\n",
       "   total_family_members  migrant_worker  yearly_debt_payments  credit_limit  \\\n",
       "0                   1.0             1.0              33070.28      18690.93   \n",
       "1                   2.0             0.0              15329.53      37745.19   \n",
       "2                   2.0             0.0              48416.60      41598.36   \n",
       "3                   2.0             0.0              22574.36      32627.76   \n",
       "4                   1.0             0.0              38282.95      52950.64   \n",
       "\n",
       "   credit_limit_used(%)  credit_score  prev_defaults  default_in_last_6months  \\\n",
       "0                    73         544.0              2                        1   \n",
       "1                    52         857.0              0                        0   \n",
       "2                    43         650.0              0                        0   \n",
       "3                    20         754.0              0                        0   \n",
       "4                    75         927.0              0                        0   \n",
       "\n",
       "   credit_card_default income_categories  \n",
       "0                    1               Low  \n",
       "1                    0               Low  \n",
       "2                    0         Above Avg  \n",
       "3                    0               Low  \n",
       "4                    0              High  "
      ]
     },
     "execution_count": 51,
     "metadata": {},
     "output_type": "execute_result"
    }
   ],
   "source": [
    "train_data.head()"
   ]
  },
  {
   "cell_type": "code",
   "execution_count": 52,
   "metadata": {
    "execution": {
     "iopub.execute_input": "2021-12-05T10:36:59.247249Z",
     "iopub.status.busy": "2021-12-05T10:36:59.246881Z",
     "iopub.status.idle": "2021-12-05T10:36:59.891543Z",
     "shell.execute_reply": "2021-12-05T10:36:59.890656Z",
     "shell.execute_reply.started": "2021-12-05T10:36:59.247204Z"
    }
   },
   "outputs": [
    {
     "data": {
      "image/png": "[encoded data removed]",
      "text/plain": [
       "<Figure size 1152x864 with 5 Axes>"
      ]
     },
     "metadata": {
      "needs_background": "light"
     },
     "output_type": "display_data"
    }
   ],
   "source": [
    "# boxplot of all continuous variables\n",
    "\n",
    "plt.figure(figsize=[16, 12])\n",
    "plt.subplot(2,3,1)\n",
    "train_data['net_yearly_income'].plot.box()\n",
    "plt.title('net_yearly_income Box Plot')\n",
    "\n",
    "plt.subplot(2,3,2)\n",
    "train_data['no_of_days_employed'].plot.box()\n",
    "plt.title('no_of_days_employed Box Plot')\n",
    "\n",
    "plt.subplot(2,3,3)\n",
    "train_data['yearly_debt_payments'].plot.box()\n",
    "plt.title('yearly_debt_payments Box Plot')\n",
    "\n",
    "plt.subplot(2,3,4)\n",
    "train_data['credit_limit'].plot.box()\n",
    "plt.title('credit_limit Box Plot')\n",
    "\n",
    "plt.subplot(2,3,5)\n",
    "train_data['credit_score'].plot.box()\n",
    "plt.title('credit_score Box Plot')\n",
    "plt.show()"
   ]
  },
  {
   "cell_type": "markdown",
   "metadata": {},
   "source": [
    "Check and treat outliers for 'net_yearly_income'"
   ]
  },
  {
   "cell_type": "code",
   "execution_count": 53,
   "metadata": {
    "execution": {
     "iopub.execute_input": "2021-12-05T10:36:59.892952Z",
     "iopub.status.busy": "2021-12-05T10:36:59.892667Z",
     "iopub.status.idle": "2021-12-05T10:37:00.418361Z",
     "shell.execute_reply": "2021-12-05T10:37:00.417768Z",
     "shell.execute_reply.started": "2021-12-05T10:36:59.892921Z"
    }
   },
   "outputs": [
    {
     "data": {
      "image/png": "[encoded data removed]",
      "text/plain": [
       "<Figure size 432x288 with 1 Axes>"
      ]
     },
     "metadata": {
      "needs_background": "light"
     },
     "output_type": "display_data"
    }
   ],
   "source": [
    "# net_yearly_income distribution plot\n",
    "sns.distplot(train_data['net_yearly_income'])\n",
    "plt.show()"
   ]
  },
  {
   "cell_type": "code",
   "execution_count": 54,
   "metadata": {
    "execution": {
     "iopub.execute_input": "2021-12-05T10:37:00.420040Z",
     "iopub.status.busy": "2021-12-05T10:37:00.419302Z",
     "iopub.status.idle": "2021-12-05T10:37:00.431279Z",
     "shell.execute_reply": "2021-12-05T10:37:00.430303Z",
     "shell.execute_reply.started": "2021-12-05T10:37:00.420008Z"
    }
   },
   "outputs": [
    {
     "data": {
      "text/plain": [
       "0.250    125824.5050\n",
       "0.500    170968.0300\n",
       "0.750    237768.9200\n",
       "0.990    494553.0015\n",
       "0.998    558422.4061\n",
       "1.000    577850.1200\n",
       "Name: net_yearly_income, dtype: float64"
      ]
     },
     "execution_count": 54,
     "metadata": {},
     "output_type": "execute_result"
    }
   ],
   "source": [
    "train_data['net_yearly_income'].quantile([0.25, 0.5, 0.75, 0.99, 0.998, 1.0])"
   ]
  },
  {
   "cell_type": "code",
   "execution_count": 55,
   "metadata": {
    "execution": {
     "iopub.execute_input": "2021-12-05T10:37:00.432908Z",
     "iopub.status.busy": "2021-12-05T10:37:00.432688Z",
     "iopub.status.idle": "2021-12-05T10:37:00.469177Z",
     "shell.execute_reply": "2021-12-05T10:37:00.468640Z",
     "shell.execute_reply.started": "2021-12-05T10:37:00.432880Z"
    }
   },
   "outputs": [
    {
     "data": {
      "text/html": [
       "<div>\n",
       "<style scoped>\n",
       "    .dataframe tbody tr th:only-of-type {\n",
       "        vertical-align: middle;\n",
       "    }\n",
       "\n",
       "    .dataframe tbody tr th {\n",
       "        vertical-align: top;\n",
       "    }\n",
       "\n",
       "    .dataframe thead th {\n",
       "        text-align: right;\n",
       "    }\n",
       "</style>\n",
       "<table border=\"1\" class=\"dataframe\">\n",
       "  <thead>\n",
       "    <tr style=\"text-align: right;\">\n",
       "      <th></th>\n",
       "      <th>customer_id</th>\n",
       "      <th>name</th>\n",
       "      <th>age</th>\n",
       "      <th>gender</th>\n",
       "      <th>owns_car</th>\n",
       "      <th>owns_house</th>\n",
       "      <th>no_of_children</th>\n",
       "      <th>net_yearly_income</th>\n",
       "      <th>no_of_days_employed</th>\n",
       "      <th>occupation_type</th>\n",
       "      <th>total_family_members</th>\n",
       "      <th>migrant_worker</th>\n",
       "      <th>yearly_debt_payments</th>\n",
       "      <th>credit_limit</th>\n",
       "      <th>credit_limit_used(%)</th>\n",
       "      <th>credit_score</th>\n",
       "      <th>prev_defaults</th>\n",
       "      <th>default_in_last_6months</th>\n",
       "      <th>credit_card_default</th>\n",
       "      <th>income_categories</th>\n",
       "    </tr>\n",
       "  </thead>\n",
       "  <tbody>\n",
       "    <tr>\n",
       "      <th>1336</th>\n",
       "      <td>CST_144147</td>\n",
       "      <td>Leila</td>\n",
       "      <td>34</td>\n",
       "      <td>F</td>\n",
       "      <td>N</td>\n",
       "      <td>Y</td>\n",
       "      <td>1.0</td>\n",
       "      <td>576455.38</td>\n",
       "      <td>607.0</td>\n",
       "      <td>Core staff</td>\n",
       "      <td>3.0</td>\n",
       "      <td>0.0</td>\n",
       "      <td>160536.46</td>\n",
       "      <td>103710.75</td>\n",
       "      <td>18</td>\n",
       "      <td>909.0</td>\n",
       "      <td>0</td>\n",
       "      <td>0</td>\n",
       "      <td>0</td>\n",
       "      <td>High</td>\n",
       "    </tr>\n",
       "    <tr>\n",
       "      <th>2288</th>\n",
       "      <td>CST_124731</td>\n",
       "      <td>Baker</td>\n",
       "      <td>23</td>\n",
       "      <td>F</td>\n",
       "      <td>Y</td>\n",
       "      <td>Y</td>\n",
       "      <td>0.0</td>\n",
       "      <td>576182.88</td>\n",
       "      <td>2555.0</td>\n",
       "      <td>Medicine staff</td>\n",
       "      <td>2.0</td>\n",
       "      <td>0.0</td>\n",
       "      <td>44769.94</td>\n",
       "      <td>172739.21</td>\n",
       "      <td>3</td>\n",
       "      <td>667.0</td>\n",
       "      <td>0</td>\n",
       "      <td>0</td>\n",
       "      <td>0</td>\n",
       "      <td>High</td>\n",
       "    </tr>\n",
       "    <tr>\n",
       "      <th>3188</th>\n",
       "      <td>CST_127738</td>\n",
       "      <td>Sam Forgione</td>\n",
       "      <td>42</td>\n",
       "      <td>F</td>\n",
       "      <td>N</td>\n",
       "      <td>Y</td>\n",
       "      <td>0.0</td>\n",
       "      <td>560253.89</td>\n",
       "      <td>617.0</td>\n",
       "      <td>Unknown</td>\n",
       "      <td>2.0</td>\n",
       "      <td>0.0</td>\n",
       "      <td>33267.52</td>\n",
       "      <td>102291.99</td>\n",
       "      <td>61</td>\n",
       "      <td>799.0</td>\n",
       "      <td>0</td>\n",
       "      <td>0</td>\n",
       "      <td>0</td>\n",
       "      <td>High</td>\n",
       "    </tr>\n",
       "    <tr>\n",
       "      <th>3642</th>\n",
       "      <td>CST_109211</td>\n",
       "      <td>Dhanya Skariachan</td>\n",
       "      <td>39</td>\n",
       "      <td>F</td>\n",
       "      <td>N</td>\n",
       "      <td>Y</td>\n",
       "      <td>0.0</td>\n",
       "      <td>574861.28</td>\n",
       "      <td>365248.0</td>\n",
       "      <td>Unknown</td>\n",
       "      <td>2.0</td>\n",
       "      <td>0.0</td>\n",
       "      <td>35382.93</td>\n",
       "      <td>185726.94</td>\n",
       "      <td>86</td>\n",
       "      <td>815.0</td>\n",
       "      <td>0</td>\n",
       "      <td>0</td>\n",
       "      <td>0</td>\n",
       "      <td>High</td>\n",
       "    </tr>\n",
       "    <tr>\n",
       "      <th>4003</th>\n",
       "      <td>CST_117918</td>\n",
       "      <td>Antoni Slodkowski</td>\n",
       "      <td>53</td>\n",
       "      <td>F</td>\n",
       "      <td>N</td>\n",
       "      <td>N</td>\n",
       "      <td>0.0</td>\n",
       "      <td>572190.87</td>\n",
       "      <td>2820.0</td>\n",
       "      <td>Unknown</td>\n",
       "      <td>1.0</td>\n",
       "      <td>1.0</td>\n",
       "      <td>51490.55</td>\n",
       "      <td>187427.47</td>\n",
       "      <td>54</td>\n",
       "      <td>797.0</td>\n",
       "      <td>0</td>\n",
       "      <td>0</td>\n",
       "      <td>0</td>\n",
       "      <td>High</td>\n",
       "    </tr>\n",
       "    <tr>\n",
       "      <th>...</th>\n",
       "      <td>...</td>\n",
       "      <td>...</td>\n",
       "      <td>...</td>\n",
       "      <td>...</td>\n",
       "      <td>...</td>\n",
       "      <td>...</td>\n",
       "      <td>...</td>\n",
       "      <td>...</td>\n",
       "      <td>...</td>\n",
       "      <td>...</td>\n",
       "      <td>...</td>\n",
       "      <td>...</td>\n",
       "      <td>...</td>\n",
       "      <td>...</td>\n",
       "      <td>...</td>\n",
       "      <td>...</td>\n",
       "      <td>...</td>\n",
       "      <td>...</td>\n",
       "      <td>...</td>\n",
       "      <td>...</td>\n",
       "    </tr>\n",
       "    <tr>\n",
       "      <th>43049</th>\n",
       "      <td>CST_130078</td>\n",
       "      <td>Caroline</td>\n",
       "      <td>34</td>\n",
       "      <td>F</td>\n",
       "      <td>Y</td>\n",
       "      <td>Y</td>\n",
       "      <td>1.0</td>\n",
       "      <td>571518.57</td>\n",
       "      <td>7003.0</td>\n",
       "      <td>Unknown</td>\n",
       "      <td>3.0</td>\n",
       "      <td>0.0</td>\n",
       "      <td>120623.69</td>\n",
       "      <td>59254.08</td>\n",
       "      <td>36</td>\n",
       "      <td>793.0</td>\n",
       "      <td>0</td>\n",
       "      <td>0</td>\n",
       "      <td>0</td>\n",
       "      <td>High</td>\n",
       "    </tr>\n",
       "    <tr>\n",
       "      <th>43641</th>\n",
       "      <td>CST_151413</td>\n",
       "      <td>Tsukimori</td>\n",
       "      <td>51</td>\n",
       "      <td>F</td>\n",
       "      <td>Y</td>\n",
       "      <td>Y</td>\n",
       "      <td>0.0</td>\n",
       "      <td>573405.99</td>\n",
       "      <td>6608.0</td>\n",
       "      <td>Core staff</td>\n",
       "      <td>2.0</td>\n",
       "      <td>0.0</td>\n",
       "      <td>41199.81</td>\n",
       "      <td>74282.75</td>\n",
       "      <td>26</td>\n",
       "      <td>747.0</td>\n",
       "      <td>0</td>\n",
       "      <td>0</td>\n",
       "      <td>0</td>\n",
       "      <td>High</td>\n",
       "    </tr>\n",
       "    <tr>\n",
       "      <th>44137</th>\n",
       "      <td>CST_156473</td>\n",
       "      <td>Clark</td>\n",
       "      <td>52</td>\n",
       "      <td>M</td>\n",
       "      <td>Y</td>\n",
       "      <td>N</td>\n",
       "      <td>0.0</td>\n",
       "      <td>575691.21</td>\n",
       "      <td>248.0</td>\n",
       "      <td>Managers</td>\n",
       "      <td>1.0</td>\n",
       "      <td>1.0</td>\n",
       "      <td>39062.36</td>\n",
       "      <td>87003.89</td>\n",
       "      <td>9</td>\n",
       "      <td>734.0</td>\n",
       "      <td>0</td>\n",
       "      <td>0</td>\n",
       "      <td>0</td>\n",
       "      <td>High</td>\n",
       "    </tr>\n",
       "    <tr>\n",
       "      <th>44533</th>\n",
       "      <td>CST_142776</td>\n",
       "      <td>Sarah</td>\n",
       "      <td>31</td>\n",
       "      <td>M</td>\n",
       "      <td>N</td>\n",
       "      <td>N</td>\n",
       "      <td>2.0</td>\n",
       "      <td>573360.32</td>\n",
       "      <td>386.0</td>\n",
       "      <td>Managers</td>\n",
       "      <td>4.0</td>\n",
       "      <td>1.0</td>\n",
       "      <td>32790.24</td>\n",
       "      <td>123748.64</td>\n",
       "      <td>22</td>\n",
       "      <td>699.0</td>\n",
       "      <td>0</td>\n",
       "      <td>0</td>\n",
       "      <td>0</td>\n",
       "      <td>High</td>\n",
       "    </tr>\n",
       "    <tr>\n",
       "      <th>44941</th>\n",
       "      <td>CST_103318</td>\n",
       "      <td>Joseph Silha</td>\n",
       "      <td>47</td>\n",
       "      <td>F</td>\n",
       "      <td>N</td>\n",
       "      <td>Y</td>\n",
       "      <td>2.0</td>\n",
       "      <td>571162.57</td>\n",
       "      <td>2718.0</td>\n",
       "      <td>Managers</td>\n",
       "      <td>4.0</td>\n",
       "      <td>0.0</td>\n",
       "      <td>72731.38</td>\n",
       "      <td>94699.00</td>\n",
       "      <td>75</td>\n",
       "      <td>842.0</td>\n",
       "      <td>0</td>\n",
       "      <td>0</td>\n",
       "      <td>0</td>\n",
       "      <td>High</td>\n",
       "    </tr>\n",
       "  </tbody>\n",
       "</table>\n",
       "<p>91 rows × 20 columns</p>\n",
       "</div>"
      ],
      "text/plain": [
       "      customer_id               name  age gender owns_car owns_house  \\\n",
       "1336   CST_144147              Leila   34      F        N          Y   \n",
       "2288   CST_124731              Baker   23      F        Y          Y   \n",
       "3188   CST_127738       Sam Forgione   42      F        N          Y   \n",
       "3642   CST_109211  Dhanya Skariachan   39      F        N          Y   \n",
       "4003   CST_117918  Antoni Slodkowski   53      F        N          N   \n",
       "...           ...                ...  ...    ...      ...        ...   \n",
       "43049  CST_130078           Caroline   34      F        Y          Y   \n",
       "43641  CST_151413          Tsukimori   51      F        Y          Y   \n",
       "44137  CST_156473              Clark   52      M        Y          N   \n",
       "44533  CST_142776              Sarah   31      M        N          N   \n",
       "44941  CST_103318       Joseph Silha   47      F        N          Y   \n",
       "\n",
       "       no_of_children  net_yearly_income  no_of_days_employed occupation_type  \\\n",
       "1336              1.0          576455.38                607.0      Core staff   \n",
       "2288              0.0          576182.88               2555.0  Medicine staff   \n",
       "3188              0.0          560253.89                617.0         Unknown   \n",
       "3642              0.0          574861.28             365248.0         Unknown   \n",
       "4003              0.0          572190.87               2820.0         Unknown   \n",
       "...               ...                ...                  ...             ...   \n",
       "43049             1.0          571518.57               7003.0         Unknown   \n",
       "43641             0.0          573405.99               6608.0      Core staff   \n",
       "44137             0.0          575691.21                248.0        Managers   \n",
       "44533             2.0          573360.32                386.0        Managers   \n",
       "44941             2.0          571162.57               2718.0        Managers   \n",
       "\n",
       "       total_family_members  migrant_worker  yearly_debt_payments  \\\n",
       "1336                    3.0             0.0             160536.46   \n",
       "2288                    2.0             0.0              44769.94   \n",
       "3188                    2.0             0.0              33267.52   \n",
       "3642                    2.0             0.0              35382.93   \n",
       "4003                    1.0             1.0              51490.55   \n",
       "...                     ...             ...                   ...   \n",
       "43049                   3.0             0.0             120623.69   \n",
       "43641                   2.0             0.0              41199.81   \n",
       "44137                   1.0             1.0              39062.36   \n",
       "44533                   4.0             1.0              32790.24   \n",
       "44941                   4.0             0.0              72731.38   \n",
       "\n",
       "       credit_limit  credit_limit_used(%)  credit_score  prev_defaults  \\\n",
       "1336      103710.75                    18         909.0              0   \n",
       "2288      172739.21                     3         667.0              0   \n",
       "3188      102291.99                    61         799.0              0   \n",
       "3642      185726.94                    86         815.0              0   \n",
       "4003      187427.47                    54         797.0              0   \n",
       "...             ...                   ...           ...            ...   \n",
       "43049      59254.08                    36         793.0              0   \n",
       "43641      74282.75                    26         747.0              0   \n",
       "44137      87003.89                     9         734.0              0   \n",
       "44533     123748.64                    22         699.0              0   \n",
       "44941      94699.00                    75         842.0              0   \n",
       "\n",
       "       default_in_last_6months  credit_card_default income_categories  \n",
       "1336                         0                    0              High  \n",
       "2288                         0                    0              High  \n",
       "3188                         0                    0              High  \n",
       "3642                         0                    0              High  \n",
       "4003                         0                    0              High  \n",
       "...                        ...                  ...               ...  \n",
       "43049                        0                    0              High  \n",
       "43641                        0                    0              High  \n",
       "44137                        0                    0              High  \n",
       "44533                        0                    0              High  \n",
       "44941                        0                    0              High  \n",
       "\n",
       "[91 rows x 20 columns]"
      ]
     },
     "execution_count": 55,
     "metadata": {},
     "output_type": "execute_result"
    }
   ],
   "source": [
    "train_data[train_data['net_yearly_income']>train_data['net_yearly_income'].quantile(0.998)]"
   ]
  },
  {
   "cell_type": "markdown",
   "metadata": {},
   "source": [
    "Remove the outlier that are more than 99.8% quantile or net_yearly_income"
   ]
  },
  {
   "cell_type": "code",
   "execution_count": 56,
   "metadata": {
    "execution": {
     "iopub.execute_input": "2021-12-05T10:37:00.470597Z",
     "iopub.status.busy": "2021-12-05T10:37:00.470211Z",
     "iopub.status.idle": "2021-12-05T10:37:00.482289Z",
     "shell.execute_reply": "2021-12-05T10:37:00.481552Z",
     "shell.execute_reply.started": "2021-12-05T10:37:00.470568Z"
    }
   },
   "outputs": [],
   "source": [
    "train_data = train_data[train_data['net_yearly_income']<=train_data['net_yearly_income'].quantile(0.998)]"
   ]
  },
  {
   "cell_type": "code",
   "execution_count": 57,
   "metadata": {
    "execution": {
     "iopub.execute_input": "2021-12-05T10:37:00.484120Z",
     "iopub.status.busy": "2021-12-05T10:37:00.483819Z",
     "iopub.status.idle": "2021-12-05T10:37:01.003987Z",
     "shell.execute_reply": "2021-12-05T10:37:01.003099Z",
     "shell.execute_reply.started": "2021-12-05T10:37:00.484075Z"
    }
   },
   "outputs": [
    {
     "data": {
      "image/png": "[encoded data removed]",
      "text/plain": [
       "<Figure size 432x288 with 1 Axes>"
      ]
     },
     "metadata": {
      "needs_background": "light"
     },
     "output_type": "display_data"
    }
   ],
   "source": [
    "# net_yearly_income distribution plot\n",
    "sns.distplot(train_data['net_yearly_income'])\n",
    "plt.show()"
   ]
  },
  {
   "cell_type": "code",
   "execution_count": 58,
   "metadata": {
    "execution": {
     "iopub.execute_input": "2021-12-05T10:37:01.005379Z",
     "iopub.status.busy": "2021-12-05T10:37:01.005142Z",
     "iopub.status.idle": "2021-12-05T10:37:01.628726Z",
     "shell.execute_reply": "2021-12-05T10:37:01.627908Z",
     "shell.execute_reply.started": "2021-12-05T10:37:01.005349Z"
    }
   },
   "outputs": [
    {
     "data": {
      "image/png": "[encoded data removed]",
      "text/plain": [
       "<Figure size 1152x864 with 5 Axes>"
      ]
     },
     "metadata": {
      "needs_background": "light"
     },
     "output_type": "display_data"
    }
   ],
   "source": [
    "# boxplot of all continuous variables\n",
    "\n",
    "plt.figure(figsize=[16, 12])\n",
    "plt.subplot(2,3,1)\n",
    "train_data['net_yearly_income'].plot.box()\n",
    "plt.title('net_yearly_income Box Plot')\n",
    "\n",
    "plt.subplot(2,3,2)\n",
    "train_data['no_of_days_employed'].plot.box()\n",
    "plt.title('no_of_days_employed Box Plot')\n",
    "\n",
    "plt.subplot(2,3,3)\n",
    "train_data['yearly_debt_payments'].plot.box()\n",
    "plt.title('yearly_debt_payments Box Plot')\n",
    "\n",
    "plt.subplot(2,3,4)\n",
    "train_data['credit_limit'].plot.box()\n",
    "plt.title('credit_limit Box Plot')\n",
    "\n",
    "plt.subplot(2,3,5)\n",
    "train_data['credit_score'].plot.box()\n",
    "plt.title('credit_score Box Plot')\n",
    "plt.show()"
   ]
  },
  {
   "cell_type": "markdown",
   "metadata": {},
   "source": [
    "Check and treat outliers for 'no_of_days_employed'"
   ]
  },
  {
   "cell_type": "code",
   "execution_count": 59,
   "metadata": {
    "execution": {
     "iopub.execute_input": "2021-12-05T10:37:01.630071Z",
     "iopub.status.busy": "2021-12-05T10:37:01.629865Z",
     "iopub.status.idle": "2021-12-05T10:37:02.111741Z",
     "shell.execute_reply": "2021-12-05T10:37:02.110818Z",
     "shell.execute_reply.started": "2021-12-05T10:37:01.630045Z"
    }
   },
   "outputs": [
    {
     "data": {
      "image/png": "[encoded data removed]",
      "text/plain": [
       "<Figure size 432x288 with 1 Axes>"
      ]
     },
     "metadata": {
      "needs_background": "light"
     },
     "output_type": "display_data"
    }
   ],
   "source": [
    "# no_of_days_employed distribution plot\n",
    "sns.distplot(train_data['no_of_days_employed'])\n",
    "plt.show()"
   ]
  },
  {
   "cell_type": "code",
   "execution_count": 60,
   "metadata": {
    "execution": {
     "iopub.execute_input": "2021-12-05T10:37:02.113019Z",
     "iopub.status.busy": "2021-12-05T10:37:02.112790Z",
     "iopub.status.idle": "2021-12-05T10:37:02.123496Z",
     "shell.execute_reply": "2021-12-05T10:37:02.122562Z",
     "shell.execute_reply.started": "2021-12-05T10:37:02.112992Z"
    }
   },
   "outputs": [
    {
     "data": {
      "text/plain": [
       "0.2500       945.0\n",
       "0.5000      2207.0\n",
       "0.7500      5903.0\n",
       "0.8185    365240.0\n",
       "0.9900    365252.0\n",
       "1.0000    365252.0\n",
       "Name: no_of_days_employed, dtype: float64"
      ]
     },
     "execution_count": 60,
     "metadata": {},
     "output_type": "execute_result"
    }
   ],
   "source": [
    "train_data['no_of_days_employed'].quantile([0.25, 0.5, 0.75, 0.8185, 0.99, 1.0])"
   ]
  },
  {
   "cell_type": "markdown",
   "metadata": {},
   "source": [
    "From the above no_of_days_employed feature, there are vales like 365252 days. Which means around 1000 years and makes no sense.\n",
    "<br>\n",
    "So removing those outliers also."
   ]
  },
  {
   "cell_type": "code",
   "execution_count": 61,
   "metadata": {
    "execution": {
     "iopub.execute_input": "2021-12-05T10:37:02.125029Z",
     "iopub.status.busy": "2021-12-05T10:37:02.124816Z",
     "iopub.status.idle": "2021-12-05T10:37:02.162629Z",
     "shell.execute_reply": "2021-12-05T10:37:02.161919Z",
     "shell.execute_reply.started": "2021-12-05T10:37:02.125002Z"
    }
   },
   "outputs": [
    {
     "data": {
      "text/html": [
       "<div>\n",
       "<style scoped>\n",
       "    .dataframe tbody tr th:only-of-type {\n",
       "        vertical-align: middle;\n",
       "    }\n",
       "\n",
       "    .dataframe tbody tr th {\n",
       "        vertical-align: top;\n",
       "    }\n",
       "\n",
       "    .dataframe thead th {\n",
       "        text-align: right;\n",
       "    }\n",
       "</style>\n",
       "<table border=\"1\" class=\"dataframe\">\n",
       "  <thead>\n",
       "    <tr style=\"text-align: right;\">\n",
       "      <th></th>\n",
       "      <th>customer_id</th>\n",
       "      <th>name</th>\n",
       "      <th>age</th>\n",
       "      <th>gender</th>\n",
       "      <th>owns_car</th>\n",
       "      <th>owns_house</th>\n",
       "      <th>no_of_children</th>\n",
       "      <th>net_yearly_income</th>\n",
       "      <th>no_of_days_employed</th>\n",
       "      <th>occupation_type</th>\n",
       "      <th>total_family_members</th>\n",
       "      <th>migrant_worker</th>\n",
       "      <th>yearly_debt_payments</th>\n",
       "      <th>credit_limit</th>\n",
       "      <th>credit_limit_used(%)</th>\n",
       "      <th>credit_score</th>\n",
       "      <th>prev_defaults</th>\n",
       "      <th>default_in_last_6months</th>\n",
       "      <th>credit_card_default</th>\n",
       "      <th>income_categories</th>\n",
       "    </tr>\n",
       "  </thead>\n",
       "  <tbody>\n",
       "    <tr>\n",
       "      <th>12</th>\n",
       "      <td>CST_147654</td>\n",
       "      <td>Baker</td>\n",
       "      <td>39</td>\n",
       "      <td>F</td>\n",
       "      <td>N</td>\n",
       "      <td>Y</td>\n",
       "      <td>0.0</td>\n",
       "      <td>68421.10</td>\n",
       "      <td>365247.0</td>\n",
       "      <td>Unknown</td>\n",
       "      <td>2.0</td>\n",
       "      <td>0.0</td>\n",
       "      <td>13781.53</td>\n",
       "      <td>17110.01</td>\n",
       "      <td>72</td>\n",
       "      <td>643.0</td>\n",
       "      <td>1</td>\n",
       "      <td>1</td>\n",
       "      <td>1</td>\n",
       "      <td>Low</td>\n",
       "    </tr>\n",
       "    <tr>\n",
       "      <th>29</th>\n",
       "      <td>CST_149142</td>\n",
       "      <td>ODonnell\"</td>\n",
       "      <td>26</td>\n",
       "      <td>M</td>\n",
       "      <td>Y</td>\n",
       "      <td>N</td>\n",
       "      <td>0.0</td>\n",
       "      <td>172067.42</td>\n",
       "      <td>365251.0</td>\n",
       "      <td>Unknown</td>\n",
       "      <td>2.0</td>\n",
       "      <td>0.0</td>\n",
       "      <td>24199.23</td>\n",
       "      <td>22155.88</td>\n",
       "      <td>49</td>\n",
       "      <td>886.0</td>\n",
       "      <td>0</td>\n",
       "      <td>0</td>\n",
       "      <td>0</td>\n",
       "      <td>Above Avg</td>\n",
       "    </tr>\n",
       "    <tr>\n",
       "      <th>32</th>\n",
       "      <td>CST_119708</td>\n",
       "      <td>Anna Driver</td>\n",
       "      <td>32</td>\n",
       "      <td>M</td>\n",
       "      <td>Y</td>\n",
       "      <td>N</td>\n",
       "      <td>0.0</td>\n",
       "      <td>206413.69</td>\n",
       "      <td>365247.0</td>\n",
       "      <td>Unknown</td>\n",
       "      <td>2.0</td>\n",
       "      <td>0.0</td>\n",
       "      <td>22419.59</td>\n",
       "      <td>74423.73</td>\n",
       "      <td>72</td>\n",
       "      <td>766.0</td>\n",
       "      <td>0</td>\n",
       "      <td>0</td>\n",
       "      <td>0</td>\n",
       "      <td>Above Avg</td>\n",
       "    </tr>\n",
       "    <tr>\n",
       "      <th>45</th>\n",
       "      <td>CST_105775</td>\n",
       "      <td>Diane Bartz</td>\n",
       "      <td>50</td>\n",
       "      <td>F</td>\n",
       "      <td>Y</td>\n",
       "      <td>Y</td>\n",
       "      <td>0.0</td>\n",
       "      <td>173396.95</td>\n",
       "      <td>365241.0</td>\n",
       "      <td>Unknown</td>\n",
       "      <td>1.0</td>\n",
       "      <td>0.0</td>\n",
       "      <td>10764.89</td>\n",
       "      <td>28296.94</td>\n",
       "      <td>3</td>\n",
       "      <td>811.0</td>\n",
       "      <td>0</td>\n",
       "      <td>0</td>\n",
       "      <td>0</td>\n",
       "      <td>Above Avg</td>\n",
       "    </tr>\n",
       "    <tr>\n",
       "      <th>49</th>\n",
       "      <td>CST_130624</td>\n",
       "      <td>Anirban</td>\n",
       "      <td>24</td>\n",
       "      <td>M</td>\n",
       "      <td>N</td>\n",
       "      <td>N</td>\n",
       "      <td>0.0</td>\n",
       "      <td>49095.08</td>\n",
       "      <td>365247.0</td>\n",
       "      <td>Unknown</td>\n",
       "      <td>2.0</td>\n",
       "      <td>0.0</td>\n",
       "      <td>13738.47</td>\n",
       "      <td>11766.32</td>\n",
       "      <td>90</td>\n",
       "      <td>891.0</td>\n",
       "      <td>0</td>\n",
       "      <td>0</td>\n",
       "      <td>0</td>\n",
       "      <td>Low</td>\n",
       "    </tr>\n",
       "    <tr>\n",
       "      <th>...</th>\n",
       "      <td>...</td>\n",
       "      <td>...</td>\n",
       "      <td>...</td>\n",
       "      <td>...</td>\n",
       "      <td>...</td>\n",
       "      <td>...</td>\n",
       "      <td>...</td>\n",
       "      <td>...</td>\n",
       "      <td>...</td>\n",
       "      <td>...</td>\n",
       "      <td>...</td>\n",
       "      <td>...</td>\n",
       "      <td>...</td>\n",
       "      <td>...</td>\n",
       "      <td>...</td>\n",
       "      <td>...</td>\n",
       "      <td>...</td>\n",
       "      <td>...</td>\n",
       "      <td>...</td>\n",
       "      <td>...</td>\n",
       "    </tr>\n",
       "    <tr>\n",
       "      <th>45509</th>\n",
       "      <td>CST_160135</td>\n",
       "      <td>Sullivan</td>\n",
       "      <td>28</td>\n",
       "      <td>F</td>\n",
       "      <td>N</td>\n",
       "      <td>N</td>\n",
       "      <td>0.0</td>\n",
       "      <td>109872.55</td>\n",
       "      <td>365252.0</td>\n",
       "      <td>Unknown</td>\n",
       "      <td>2.0</td>\n",
       "      <td>0.0</td>\n",
       "      <td>17022.95</td>\n",
       "      <td>23985.85</td>\n",
       "      <td>56</td>\n",
       "      <td>798.0</td>\n",
       "      <td>0</td>\n",
       "      <td>0</td>\n",
       "      <td>0</td>\n",
       "      <td>Low</td>\n",
       "    </tr>\n",
       "    <tr>\n",
       "      <th>45510</th>\n",
       "      <td>CST_116622</td>\n",
       "      <td>Fredrik Dahl</td>\n",
       "      <td>38</td>\n",
       "      <td>F</td>\n",
       "      <td>N</td>\n",
       "      <td>Y</td>\n",
       "      <td>0.0</td>\n",
       "      <td>52827.82</td>\n",
       "      <td>365242.0</td>\n",
       "      <td>Unknown</td>\n",
       "      <td>2.0</td>\n",
       "      <td>0.0</td>\n",
       "      <td>19245.70</td>\n",
       "      <td>13756.60</td>\n",
       "      <td>13</td>\n",
       "      <td>907.0</td>\n",
       "      <td>0</td>\n",
       "      <td>0</td>\n",
       "      <td>0</td>\n",
       "      <td>Low</td>\n",
       "    </tr>\n",
       "    <tr>\n",
       "      <th>45512</th>\n",
       "      <td>CST_101246</td>\n",
       "      <td>Emily Kaiser</td>\n",
       "      <td>24</td>\n",
       "      <td>F</td>\n",
       "      <td>N</td>\n",
       "      <td>Y</td>\n",
       "      <td>0.0</td>\n",
       "      <td>140729.06</td>\n",
       "      <td>365251.0</td>\n",
       "      <td>Unknown</td>\n",
       "      <td>2.0</td>\n",
       "      <td>0.0</td>\n",
       "      <td>18350.70</td>\n",
       "      <td>15661.53</td>\n",
       "      <td>27</td>\n",
       "      <td>752.0</td>\n",
       "      <td>0</td>\n",
       "      <td>0</td>\n",
       "      <td>0</td>\n",
       "      <td>Below Avg</td>\n",
       "    </tr>\n",
       "    <tr>\n",
       "      <th>45513</th>\n",
       "      <td>CST_120555</td>\n",
       "      <td>\"John ODonnell\"</td>\n",
       "      <td>49</td>\n",
       "      <td>M</td>\n",
       "      <td>N</td>\n",
       "      <td>Y</td>\n",
       "      <td>0.0</td>\n",
       "      <td>223193.44</td>\n",
       "      <td>365242.0</td>\n",
       "      <td>Unknown</td>\n",
       "      <td>2.0</td>\n",
       "      <td>0.0</td>\n",
       "      <td>19881.38</td>\n",
       "      <td>48985.19</td>\n",
       "      <td>72</td>\n",
       "      <td>940.0</td>\n",
       "      <td>0</td>\n",
       "      <td>0</td>\n",
       "      <td>0</td>\n",
       "      <td>Above Avg</td>\n",
       "    </tr>\n",
       "    <tr>\n",
       "      <th>45521</th>\n",
       "      <td>CST_161068</td>\n",
       "      <td>Dye</td>\n",
       "      <td>48</td>\n",
       "      <td>F</td>\n",
       "      <td>N</td>\n",
       "      <td>Y</td>\n",
       "      <td>0.0</td>\n",
       "      <td>89435.47</td>\n",
       "      <td>365249.0</td>\n",
       "      <td>Unknown</td>\n",
       "      <td>2.0</td>\n",
       "      <td>0.0</td>\n",
       "      <td>31233.88</td>\n",
       "      <td>21850.77</td>\n",
       "      <td>36</td>\n",
       "      <td>879.0</td>\n",
       "      <td>0</td>\n",
       "      <td>0</td>\n",
       "      <td>0</td>\n",
       "      <td>Low</td>\n",
       "    </tr>\n",
       "  </tbody>\n",
       "</table>\n",
       "<p>7560 rows × 20 columns</p>\n",
       "</div>"
      ],
      "text/plain": [
       "      customer_id             name  age gender owns_car owns_house  \\\n",
       "12     CST_147654            Baker   39      F        N          Y   \n",
       "29     CST_149142        ODonnell\"   26      M        Y          N   \n",
       "32     CST_119708      Anna Driver   32      M        Y          N   \n",
       "45     CST_105775      Diane Bartz   50      F        Y          Y   \n",
       "49     CST_130624          Anirban   24      M        N          N   \n",
       "...           ...              ...  ...    ...      ...        ...   \n",
       "45509  CST_160135         Sullivan   28      F        N          N   \n",
       "45510  CST_116622     Fredrik Dahl   38      F        N          Y   \n",
       "45512  CST_101246     Emily Kaiser   24      F        N          Y   \n",
       "45513  CST_120555  \"John ODonnell\"   49      M        N          Y   \n",
       "45521  CST_161068              Dye   48      F        N          Y   \n",
       "\n",
       "       no_of_children  net_yearly_income  no_of_days_employed occupation_type  \\\n",
       "12                0.0           68421.10             365247.0         Unknown   \n",
       "29                0.0          172067.42             365251.0         Unknown   \n",
       "32                0.0          206413.69             365247.0         Unknown   \n",
       "45                0.0          173396.95             365241.0         Unknown   \n",
       "49                0.0           49095.08             365247.0         Unknown   \n",
       "...               ...                ...                  ...             ...   \n",
       "45509             0.0          109872.55             365252.0         Unknown   \n",
       "45510             0.0           52827.82             365242.0         Unknown   \n",
       "45512             0.0          140729.06             365251.0         Unknown   \n",
       "45513             0.0          223193.44             365242.0         Unknown   \n",
       "45521             0.0           89435.47             365249.0         Unknown   \n",
       "\n",
       "       total_family_members  migrant_worker  yearly_debt_payments  \\\n",
       "12                      2.0             0.0              13781.53   \n",
       "29                      2.0             0.0              24199.23   \n",
       "32                      2.0             0.0              22419.59   \n",
       "45                      1.0             0.0              10764.89   \n",
       "49                      2.0             0.0              13738.47   \n",
       "...                     ...             ...                   ...   \n",
       "45509                   2.0             0.0              17022.95   \n",
       "45510                   2.0             0.0              19245.70   \n",
       "45512                   2.0             0.0              18350.70   \n",
       "45513                   2.0             0.0              19881.38   \n",
       "45521                   2.0             0.0              31233.88   \n",
       "\n",
       "       credit_limit  credit_limit_used(%)  credit_score  prev_defaults  \\\n",
       "12         17110.01                    72         643.0              1   \n",
       "29         22155.88                    49         886.0              0   \n",
       "32         74423.73                    72         766.0              0   \n",
       "45         28296.94                     3         811.0              0   \n",
       "49         11766.32                    90         891.0              0   \n",
       "...             ...                   ...           ...            ...   \n",
       "45509      23985.85                    56         798.0              0   \n",
       "45510      13756.60                    13         907.0              0   \n",
       "45512      15661.53                    27         752.0              0   \n",
       "45513      48985.19                    72         940.0              0   \n",
       "45521      21850.77                    36         879.0              0   \n",
       "\n",
       "       default_in_last_6months  credit_card_default income_categories  \n",
       "12                           1                    1               Low  \n",
       "29                           0                    0         Above Avg  \n",
       "32                           0                    0         Above Avg  \n",
       "45                           0                    0         Above Avg  \n",
       "49                           0                    0               Low  \n",
       "...                        ...                  ...               ...  \n",
       "45509                        0                    0               Low  \n",
       "45510                        0                    0               Low  \n",
       "45512                        0                    0         Below Avg  \n",
       "45513                        0                    0         Above Avg  \n",
       "45521                        0                    0               Low  \n",
       "\n",
       "[7560 rows x 20 columns]"
      ]
     },
     "execution_count": 61,
     "metadata": {},
     "output_type": "execute_result"
    }
   ],
   "source": [
    "# check data greater than 81.85%ile of no_of_days_employed feature\n",
    "new_trainTEST_data = train_data[train_data['no_of_days_employed']>train_data['no_of_days_employed'].quantile(0.8185)]\n",
    "new_trainTEST_data"
   ]
  },
  {
   "cell_type": "code",
   "execution_count": 62,
   "metadata": {},
   "outputs": [
    {
     "data": {
      "text/plain": [
       "0    94.52381\n",
       "1     5.47619\n",
       "Name: credit_card_default, dtype: float64"
      ]
     },
     "execution_count": 62,
     "metadata": {},
     "output_type": "execute_result"
    }
   ],
   "source": [
    "new_trainTEST_data.credit_card_default.value_counts(normalize=True)*100"
   ]
  },
  {
   "cell_type": "markdown",
   "metadata": {},
   "source": [
    "#### Check for anomalies in the new data set we have taken out"
   ]
  },
  {
   "cell_type": "code",
   "execution_count": 63,
   "metadata": {},
   "outputs": [
    {
     "name": "stdout",
     "output_type": "stream",
     "text": [
      "Column Name: gender\n",
      "F    6137\n",
      "M    1423\n",
      "Name: gender, dtype: int64\n",
      "**************************************************\n",
      "Column Name: owns_car\n",
      "N    6179\n",
      "Y    1381\n",
      "Name: owns_car, dtype: int64\n",
      "**************************************************\n",
      "Column Name: owns_house\n",
      "Y    5683\n",
      "N    1877\n",
      "Name: owns_house, dtype: int64\n",
      "**************************************************\n",
      "Column Name: no_of_children\n",
      "0.0    7286\n",
      "1.0     205\n",
      "2.0      53\n",
      "3.0      14\n",
      "5.0       1\n",
      "4.0       1\n",
      "Name: no_of_children, dtype: int64\n",
      "**************************************************\n",
      "Column Name: no_of_days_employed\n",
      "365241.0    754\n",
      "365246.0    683\n",
      "365244.0    667\n",
      "365245.0    628\n",
      "365247.0    622\n",
      "365250.0    608\n",
      "365243.0    606\n",
      "365251.0    605\n",
      "365242.0    599\n",
      "365249.0    598\n",
      "365252.0    598\n",
      "365248.0    592\n",
      "Name: no_of_days_employed, dtype: int64\n",
      "**************************************************\n",
      "Column Name: occupation_type\n",
      "Unknown    7560\n",
      "Name: occupation_type, dtype: int64\n",
      "**************************************************\n",
      "Column Name: total_family_members\n",
      "2.0    4865\n",
      "1.0    2462\n",
      "3.0     170\n",
      "4.0      50\n",
      "5.0      11\n",
      "6.0       1\n",
      "7.0       1\n",
      "Name: total_family_members, dtype: int64\n",
      "**************************************************\n",
      "Column Name: migrant_worker\n",
      "0.0    7543\n",
      "1.0      17\n",
      "Name: migrant_worker, dtype: int64\n",
      "**************************************************\n",
      "Column Name: prev_defaults\n",
      "0    7286\n",
      "1     245\n",
      "2      29\n",
      "Name: prev_defaults, dtype: int64\n",
      "**************************************************\n",
      "Column Name: default_in_last_6months\n",
      "0    7297\n",
      "1     263\n",
      "Name: default_in_last_6months, dtype: int64\n",
      "**************************************************\n",
      "Column Name: credit_card_default\n",
      "0    7146\n",
      "1     414\n",
      "Name: credit_card_default, dtype: int64\n",
      "**************************************************\n",
      "Column Name: income_categories\n",
      "Low          3184\n",
      "Below Avg    1858\n",
      "Above Avg    1416\n",
      "High         1102\n",
      "Name: income_categories, dtype: int64\n",
      "**************************************************\n"
     ]
    }
   ],
   "source": [
    "# get all categorical features of the new dataset\n",
    "cols = train_data.columns \n",
    "\n",
    "for i in cols:\n",
    "    if len(new_trainTEST_data[i].value_counts())<=20:\n",
    "        print(\"Column Name:\",i)\n",
    "        print(new_trainTEST_data[i].value_counts())\n",
    "        print(\"*\"*50)"
   ]
  },
  {
   "cell_type": "code",
   "execution_count": null,
   "metadata": {},
   "outputs": [],
   "source": []
  },
  {
   "cell_type": "code",
   "execution_count": null,
   "metadata": {},
   "outputs": [],
   "source": []
  },
  {
   "cell_type": "code",
   "execution_count": null,
   "metadata": {},
   "outputs": [],
   "source": []
  },
  {
   "cell_type": "code",
   "execution_count": null,
   "metadata": {},
   "outputs": [],
   "source": []
  },
  {
   "cell_type": "code",
   "execution_count": null,
   "metadata": {},
   "outputs": [],
   "source": []
  },
  {
   "cell_type": "code",
   "execution_count": null,
   "metadata": {},
   "outputs": [],
   "source": []
  },
  {
   "cell_type": "code",
   "execution_count": null,
   "metadata": {},
   "outputs": [],
   "source": []
  },
  {
   "cell_type": "code",
   "execution_count": null,
   "metadata": {},
   "outputs": [],
   "source": []
  },
  {
   "cell_type": "code",
   "execution_count": null,
   "metadata": {
    "execution": {
     "iopub.execute_input": "2021-12-05T10:37:02.164043Z",
     "iopub.status.busy": "2021-12-05T10:37:02.163844Z",
     "iopub.status.idle": "2021-12-05T10:37:02.172477Z",
     "shell.execute_reply": "2021-12-05T10:37:02.171647Z",
     "shell.execute_reply.started": "2021-12-05T10:37:02.164018Z"
    }
   },
   "outputs": [],
   "source": []
  },
  {
   "cell_type": "code",
   "execution_count": 64,
   "metadata": {
    "execution": {
     "iopub.execute_input": "2021-12-05T10:37:02.174354Z",
     "iopub.status.busy": "2021-12-05T10:37:02.173896Z",
     "iopub.status.idle": "2021-12-05T10:37:02.188903Z",
     "shell.execute_reply": "2021-12-05T10:37:02.188014Z",
     "shell.execute_reply.started": "2021-12-05T10:37:02.174308Z"
    }
   },
   "outputs": [],
   "source": [
    "new_trainTEST_data_final = train_data[train_data['no_of_days_employed']<=train_data['no_of_days_employed'].quantile(0.8185)]"
   ]
  },
  {
   "cell_type": "code",
   "execution_count": 65,
   "metadata": {
    "execution": {
     "iopub.execute_input": "2021-12-05T10:37:02.190673Z",
     "iopub.status.busy": "2021-12-05T10:37:02.190011Z",
     "iopub.status.idle": "2021-12-05T10:37:02.199557Z",
     "shell.execute_reply": "2021-12-05T10:37:02.198748Z",
     "shell.execute_reply.started": "2021-12-05T10:37:02.190641Z"
    }
   },
   "outputs": [
    {
     "data": {
      "text/plain": [
       "0    91.336415\n",
       "1     8.663585\n",
       "Name: credit_card_default, dtype: float64"
      ]
     },
     "execution_count": 65,
     "metadata": {},
     "output_type": "execute_result"
    }
   ],
   "source": [
    "new_trainTEST_data_final.credit_card_default.value_counts(normalize=True)*100"
   ]
  },
  {
   "cell_type": "markdown",
   "metadata": {},
   "source": [
    "**Let us remove those 20% of the outliers in our initial training and proceed with the remaining 81.85%ile as the the data imbalance percentage doesn't change even after droping those data points**"
   ]
  },
  {
   "cell_type": "code",
   "execution_count": 66,
   "metadata": {
    "execution": {
     "iopub.execute_input": "2021-12-05T10:37:02.201242Z",
     "iopub.status.busy": "2021-12-05T10:37:02.200927Z",
     "iopub.status.idle": "2021-12-05T10:37:02.219835Z",
     "shell.execute_reply": "2021-12-05T10:37:02.218810Z",
     "shell.execute_reply.started": "2021-12-05T10:37:02.201201Z"
    }
   },
   "outputs": [],
   "source": [
    "# remove outliers greater than 81.85%ile of no_of_days_employed\n",
    "train_data = train_data[train_data['no_of_days_employed']<=train_data['no_of_days_employed'].quantile(0.8185)]"
   ]
  },
  {
   "cell_type": "code",
   "execution_count": 67,
   "metadata": {
    "execution": {
     "iopub.execute_input": "2021-12-05T10:37:02.221450Z",
     "iopub.status.busy": "2021-12-05T10:37:02.221073Z",
     "iopub.status.idle": "2021-12-05T10:37:02.226988Z",
     "shell.execute_reply": "2021-12-05T10:37:02.226217Z",
     "shell.execute_reply.started": "2021-12-05T10:37:02.221409Z"
    }
   },
   "outputs": [
    {
     "data": {
      "text/plain": [
       "(37421, 20)"
      ]
     },
     "execution_count": 67,
     "metadata": {},
     "output_type": "execute_result"
    }
   ],
   "source": [
    "# check the shape of remaining data\n",
    "train_data.shape"
   ]
  },
  {
   "cell_type": "code",
   "execution_count": 68,
   "metadata": {
    "execution": {
     "iopub.execute_input": "2021-12-05T10:37:02.228889Z",
     "iopub.status.busy": "2021-12-05T10:37:02.228422Z",
     "iopub.status.idle": "2021-12-05T10:37:02.991984Z",
     "shell.execute_reply": "2021-12-05T10:37:02.991132Z",
     "shell.execute_reply.started": "2021-12-05T10:37:02.228846Z"
    }
   },
   "outputs": [
    {
     "data": {
      "image/png": "[encoded data removed]",
      "text/plain": [
       "<Figure size 1080x720 with 5 Axes>"
      ]
     },
     "metadata": {
      "needs_background": "light"
     },
     "output_type": "display_data"
    }
   ],
   "source": [
    "# boxplot of all continuous variables\n",
    "\n",
    "plt.figure(figsize=[15, 10])\n",
    "plt.subplot(2,3,1)\n",
    "train_data['net_yearly_income'].plot.box()\n",
    "plt.title('net_yearly_income Box Plot')\n",
    "\n",
    "plt.subplot(2,3,2)\n",
    "train_data['no_of_days_employed'].plot.box()\n",
    "plt.title('no_of_days_employed Box Plot')\n",
    "\n",
    "plt.subplot(2,3,3)\n",
    "train_data['yearly_debt_payments'].plot.box()\n",
    "plt.title('yearly_debt_payments Box Plot')\n",
    "\n",
    "plt.subplot(2,3,4)\n",
    "train_data['credit_limit'].plot.box()\n",
    "plt.title('credit_limit Box Plot')\n",
    "\n",
    "plt.subplot(2,3,5)\n",
    "train_data['credit_score'].plot.box()\n",
    "plt.title('credit_score Box Plot')\n",
    "plt.show()"
   ]
  },
  {
   "cell_type": "code",
   "execution_count": 69,
   "metadata": {
    "execution": {
     "iopub.execute_input": "2021-12-05T10:37:02.993896Z",
     "iopub.status.busy": "2021-12-05T10:37:02.993425Z",
     "iopub.status.idle": "2021-12-05T10:37:03.018026Z",
     "shell.execute_reply": "2021-12-05T10:37:03.017211Z",
     "shell.execute_reply.started": "2021-12-05T10:37:02.993854Z"
    }
   },
   "outputs": [
    {
     "data": {
      "text/html": [
       "<div>\n",
       "<style scoped>\n",
       "    .dataframe tbody tr th:only-of-type {\n",
       "        vertical-align: middle;\n",
       "    }\n",
       "\n",
       "    .dataframe tbody tr th {\n",
       "        vertical-align: top;\n",
       "    }\n",
       "\n",
       "    .dataframe thead th {\n",
       "        text-align: right;\n",
       "    }\n",
       "</style>\n",
       "<table border=\"1\" class=\"dataframe\">\n",
       "  <thead>\n",
       "    <tr style=\"text-align: right;\">\n",
       "      <th></th>\n",
       "      <th>customer_id</th>\n",
       "      <th>name</th>\n",
       "      <th>age</th>\n",
       "      <th>gender</th>\n",
       "      <th>owns_car</th>\n",
       "      <th>owns_house</th>\n",
       "      <th>no_of_children</th>\n",
       "      <th>net_yearly_income</th>\n",
       "      <th>no_of_days_employed</th>\n",
       "      <th>occupation_type</th>\n",
       "      <th>total_family_members</th>\n",
       "      <th>migrant_worker</th>\n",
       "      <th>yearly_debt_payments</th>\n",
       "      <th>credit_limit</th>\n",
       "      <th>credit_limit_used(%)</th>\n",
       "      <th>credit_score</th>\n",
       "      <th>prev_defaults</th>\n",
       "      <th>default_in_last_6months</th>\n",
       "      <th>credit_card_default</th>\n",
       "      <th>income_categories</th>\n",
       "    </tr>\n",
       "  </thead>\n",
       "  <tbody>\n",
       "    <tr>\n",
       "      <th>0</th>\n",
       "      <td>CST_115179</td>\n",
       "      <td>ita Bose</td>\n",
       "      <td>46</td>\n",
       "      <td>F</td>\n",
       "      <td>N</td>\n",
       "      <td>Y</td>\n",
       "      <td>0.0</td>\n",
       "      <td>107934.04</td>\n",
       "      <td>612.0</td>\n",
       "      <td>Unknown</td>\n",
       "      <td>1.0</td>\n",
       "      <td>1.0</td>\n",
       "      <td>33070.28</td>\n",
       "      <td>18690.93</td>\n",
       "      <td>73</td>\n",
       "      <td>544.0</td>\n",
       "      <td>2</td>\n",
       "      <td>1</td>\n",
       "      <td>1</td>\n",
       "      <td>Low</td>\n",
       "    </tr>\n",
       "    <tr>\n",
       "      <th>1</th>\n",
       "      <td>CST_121920</td>\n",
       "      <td>Alper Jonathan</td>\n",
       "      <td>29</td>\n",
       "      <td>M</td>\n",
       "      <td>N</td>\n",
       "      <td>Y</td>\n",
       "      <td>0.0</td>\n",
       "      <td>109862.62</td>\n",
       "      <td>2771.0</td>\n",
       "      <td>Laborers</td>\n",
       "      <td>2.0</td>\n",
       "      <td>0.0</td>\n",
       "      <td>15329.53</td>\n",
       "      <td>37745.19</td>\n",
       "      <td>52</td>\n",
       "      <td>857.0</td>\n",
       "      <td>0</td>\n",
       "      <td>0</td>\n",
       "      <td>0</td>\n",
       "      <td>Low</td>\n",
       "    </tr>\n",
       "    <tr>\n",
       "      <th>2</th>\n",
       "      <td>CST_109330</td>\n",
       "      <td>Umesh Desai</td>\n",
       "      <td>37</td>\n",
       "      <td>M</td>\n",
       "      <td>N</td>\n",
       "      <td>Y</td>\n",
       "      <td>0.0</td>\n",
       "      <td>230153.17</td>\n",
       "      <td>204.0</td>\n",
       "      <td>Laborers</td>\n",
       "      <td>2.0</td>\n",
       "      <td>0.0</td>\n",
       "      <td>48416.60</td>\n",
       "      <td>41598.36</td>\n",
       "      <td>43</td>\n",
       "      <td>650.0</td>\n",
       "      <td>0</td>\n",
       "      <td>0</td>\n",
       "      <td>0</td>\n",
       "      <td>Above Avg</td>\n",
       "    </tr>\n",
       "    <tr>\n",
       "      <th>3</th>\n",
       "      <td>CST_128288</td>\n",
       "      <td>Rie</td>\n",
       "      <td>39</td>\n",
       "      <td>F</td>\n",
       "      <td>N</td>\n",
       "      <td>Y</td>\n",
       "      <td>0.0</td>\n",
       "      <td>122325.82</td>\n",
       "      <td>11941.0</td>\n",
       "      <td>Core staff</td>\n",
       "      <td>2.0</td>\n",
       "      <td>0.0</td>\n",
       "      <td>22574.36</td>\n",
       "      <td>32627.76</td>\n",
       "      <td>20</td>\n",
       "      <td>754.0</td>\n",
       "      <td>0</td>\n",
       "      <td>0</td>\n",
       "      <td>0</td>\n",
       "      <td>Low</td>\n",
       "    </tr>\n",
       "    <tr>\n",
       "      <th>4</th>\n",
       "      <td>CST_151355</td>\n",
       "      <td>McCool</td>\n",
       "      <td>46</td>\n",
       "      <td>M</td>\n",
       "      <td>Y</td>\n",
       "      <td>Y</td>\n",
       "      <td>0.0</td>\n",
       "      <td>387286.00</td>\n",
       "      <td>1459.0</td>\n",
       "      <td>Core staff</td>\n",
       "      <td>1.0</td>\n",
       "      <td>0.0</td>\n",
       "      <td>38282.95</td>\n",
       "      <td>52950.64</td>\n",
       "      <td>75</td>\n",
       "      <td>927.0</td>\n",
       "      <td>0</td>\n",
       "      <td>0</td>\n",
       "      <td>0</td>\n",
       "      <td>High</td>\n",
       "    </tr>\n",
       "  </tbody>\n",
       "</table>\n",
       "</div>"
      ],
      "text/plain": [
       "  customer_id            name  age gender owns_car owns_house  no_of_children  \\\n",
       "0  CST_115179        ita Bose   46      F        N          Y             0.0   \n",
       "1  CST_121920  Alper Jonathan   29      M        N          Y             0.0   \n",
       "2  CST_109330     Umesh Desai   37      M        N          Y             0.0   \n",
       "3  CST_128288             Rie   39      F        N          Y             0.0   \n",
       "4  CST_151355          McCool   46      M        Y          Y             0.0   \n",
       "\n",
       "   net_yearly_income  no_of_days_employed occupation_type  \\\n",
       "0          107934.04                612.0         Unknown   \n",
       "1          109862.62               2771.0        Laborers   \n",
       "2          230153.17                204.0        Laborers   \n",
       "3          122325.82              11941.0      Core staff   \n",
       "4          387286.00               1459.0      Core staff   \n",
       "\n",
       "   total_family_members  migrant_worker  yearly_debt_payments  credit_limit  \\\n",
       "0                   1.0             1.0              33070.28      18690.93   \n",
       "1                   2.0             0.0              15329.53      37745.19   \n",
       "2                   2.0             0.0              48416.60      41598.36   \n",
       "3                   2.0             0.0              22574.36      32627.76   \n",
       "4                   1.0             0.0              38282.95      52950.64   \n",
       "\n",
       "   credit_limit_used(%)  credit_score  prev_defaults  default_in_last_6months  \\\n",
       "0                    73         544.0              2                        1   \n",
       "1                    52         857.0              0                        0   \n",
       "2                    43         650.0              0                        0   \n",
       "3                    20         754.0              0                        0   \n",
       "4                    75         927.0              0                        0   \n",
       "\n",
       "   credit_card_default income_categories  \n",
       "0                    1               Low  \n",
       "1                    0               Low  \n",
       "2                    0         Above Avg  \n",
       "3                    0               Low  \n",
       "4                    0              High  "
      ]
     },
     "execution_count": 69,
     "metadata": {},
     "output_type": "execute_result"
    }
   ],
   "source": [
    "train_data.head()"
   ]
  },
  {
   "cell_type": "code",
   "execution_count": null,
   "metadata": {},
   "outputs": [],
   "source": []
  },
  {
   "cell_type": "markdown",
   "metadata": {},
   "source": [
    "### Data Preparation"
   ]
  },
  {
   "cell_type": "code",
   "execution_count": 70,
   "metadata": {
    "execution": {
     "iopub.execute_input": "2021-12-05T10:37:03.020221Z",
     "iopub.status.busy": "2021-12-05T10:37:03.020008Z",
     "iopub.status.idle": "2021-12-05T10:37:03.049289Z",
     "shell.execute_reply": "2021-12-05T10:37:03.048580Z",
     "shell.execute_reply.started": "2021-12-05T10:37:03.020194Z"
    }
   },
   "outputs": [
    {
     "data": {
      "text/html": [
       "<div>\n",
       "<style scoped>\n",
       "    .dataframe tbody tr th:only-of-type {\n",
       "        vertical-align: middle;\n",
       "    }\n",
       "\n",
       "    .dataframe tbody tr th {\n",
       "        vertical-align: top;\n",
       "    }\n",
       "\n",
       "    .dataframe thead th {\n",
       "        text-align: right;\n",
       "    }\n",
       "</style>\n",
       "<table border=\"1\" class=\"dataframe\">\n",
       "  <thead>\n",
       "    <tr style=\"text-align: right;\">\n",
       "      <th></th>\n",
       "      <th>age</th>\n",
       "      <th>gender</th>\n",
       "      <th>owns_car</th>\n",
       "      <th>owns_house</th>\n",
       "      <th>no_of_children</th>\n",
       "      <th>net_yearly_income</th>\n",
       "      <th>no_of_days_employed</th>\n",
       "      <th>occupation_type</th>\n",
       "      <th>total_family_members</th>\n",
       "      <th>migrant_worker</th>\n",
       "      <th>yearly_debt_payments</th>\n",
       "      <th>credit_limit</th>\n",
       "      <th>credit_limit_used(%)</th>\n",
       "      <th>credit_score</th>\n",
       "      <th>prev_defaults</th>\n",
       "      <th>default_in_last_6months</th>\n",
       "      <th>credit_card_default</th>\n",
       "      <th>income_categories</th>\n",
       "    </tr>\n",
       "  </thead>\n",
       "  <tbody>\n",
       "    <tr>\n",
       "      <th>0</th>\n",
       "      <td>46</td>\n",
       "      <td>F</td>\n",
       "      <td>N</td>\n",
       "      <td>Y</td>\n",
       "      <td>0.0</td>\n",
       "      <td>107934.04</td>\n",
       "      <td>612.0</td>\n",
       "      <td>Unknown</td>\n",
       "      <td>1.0</td>\n",
       "      <td>1.0</td>\n",
       "      <td>33070.28</td>\n",
       "      <td>18690.93</td>\n",
       "      <td>73</td>\n",
       "      <td>544.0</td>\n",
       "      <td>2</td>\n",
       "      <td>1</td>\n",
       "      <td>1</td>\n",
       "      <td>Low</td>\n",
       "    </tr>\n",
       "    <tr>\n",
       "      <th>1</th>\n",
       "      <td>29</td>\n",
       "      <td>M</td>\n",
       "      <td>N</td>\n",
       "      <td>Y</td>\n",
       "      <td>0.0</td>\n",
       "      <td>109862.62</td>\n",
       "      <td>2771.0</td>\n",
       "      <td>Laborers</td>\n",
       "      <td>2.0</td>\n",
       "      <td>0.0</td>\n",
       "      <td>15329.53</td>\n",
       "      <td>37745.19</td>\n",
       "      <td>52</td>\n",
       "      <td>857.0</td>\n",
       "      <td>0</td>\n",
       "      <td>0</td>\n",
       "      <td>0</td>\n",
       "      <td>Low</td>\n",
       "    </tr>\n",
       "    <tr>\n",
       "      <th>2</th>\n",
       "      <td>37</td>\n",
       "      <td>M</td>\n",
       "      <td>N</td>\n",
       "      <td>Y</td>\n",
       "      <td>0.0</td>\n",
       "      <td>230153.17</td>\n",
       "      <td>204.0</td>\n",
       "      <td>Laborers</td>\n",
       "      <td>2.0</td>\n",
       "      <td>0.0</td>\n",
       "      <td>48416.60</td>\n",
       "      <td>41598.36</td>\n",
       "      <td>43</td>\n",
       "      <td>650.0</td>\n",
       "      <td>0</td>\n",
       "      <td>0</td>\n",
       "      <td>0</td>\n",
       "      <td>Above Avg</td>\n",
       "    </tr>\n",
       "    <tr>\n",
       "      <th>3</th>\n",
       "      <td>39</td>\n",
       "      <td>F</td>\n",
       "      <td>N</td>\n",
       "      <td>Y</td>\n",
       "      <td>0.0</td>\n",
       "      <td>122325.82</td>\n",
       "      <td>11941.0</td>\n",
       "      <td>Core staff</td>\n",
       "      <td>2.0</td>\n",
       "      <td>0.0</td>\n",
       "      <td>22574.36</td>\n",
       "      <td>32627.76</td>\n",
       "      <td>20</td>\n",
       "      <td>754.0</td>\n",
       "      <td>0</td>\n",
       "      <td>0</td>\n",
       "      <td>0</td>\n",
       "      <td>Low</td>\n",
       "    </tr>\n",
       "    <tr>\n",
       "      <th>4</th>\n",
       "      <td>46</td>\n",
       "      <td>M</td>\n",
       "      <td>Y</td>\n",
       "      <td>Y</td>\n",
       "      <td>0.0</td>\n",
       "      <td>387286.00</td>\n",
       "      <td>1459.0</td>\n",
       "      <td>Core staff</td>\n",
       "      <td>1.0</td>\n",
       "      <td>0.0</td>\n",
       "      <td>38282.95</td>\n",
       "      <td>52950.64</td>\n",
       "      <td>75</td>\n",
       "      <td>927.0</td>\n",
       "      <td>0</td>\n",
       "      <td>0</td>\n",
       "      <td>0</td>\n",
       "      <td>High</td>\n",
       "    </tr>\n",
       "  </tbody>\n",
       "</table>\n",
       "</div>"
      ],
      "text/plain": [
       "   age gender owns_car owns_house  no_of_children  net_yearly_income  \\\n",
       "0   46      F        N          Y             0.0          107934.04   \n",
       "1   29      M        N          Y             0.0          109862.62   \n",
       "2   37      M        N          Y             0.0          230153.17   \n",
       "3   39      F        N          Y             0.0          122325.82   \n",
       "4   46      M        Y          Y             0.0          387286.00   \n",
       "\n",
       "   no_of_days_employed occupation_type  total_family_members  migrant_worker  \\\n",
       "0                612.0         Unknown                   1.0             1.0   \n",
       "1               2771.0        Laborers                   2.0             0.0   \n",
       "2                204.0        Laborers                   2.0             0.0   \n",
       "3              11941.0      Core staff                   2.0             0.0   \n",
       "4               1459.0      Core staff                   1.0             0.0   \n",
       "\n",
       "   yearly_debt_payments  credit_limit  credit_limit_used(%)  credit_score  \\\n",
       "0              33070.28      18690.93                    73         544.0   \n",
       "1              15329.53      37745.19                    52         857.0   \n",
       "2              48416.60      41598.36                    43         650.0   \n",
       "3              22574.36      32627.76                    20         754.0   \n",
       "4              38282.95      52950.64                    75         927.0   \n",
       "\n",
       "   prev_defaults  default_in_last_6months  credit_card_default  \\\n",
       "0              2                        1                    1   \n",
       "1              0                        0                    0   \n",
       "2              0                        0                    0   \n",
       "3              0                        0                    0   \n",
       "4              0                        0                    0   \n",
       "\n",
       "  income_categories  \n",
       "0               Low  \n",
       "1               Low  \n",
       "2         Above Avg  \n",
       "3               Low  \n",
       "4              High  "
      ]
     },
     "execution_count": 70,
     "metadata": {},
     "output_type": "execute_result"
    }
   ],
   "source": [
    "# dropping text columns that aren't necessary like 'customer_id' and 'name'\n",
    "train_data.drop(['customer_id', 'name'], axis=1, inplace=True)\n",
    "train_data.head()"
   ]
  },
  {
   "cell_type": "markdown",
   "metadata": {},
   "source": [
    "**Encode Categorical Column labels with value between 0 and n_classes-1**"
   ]
  },
  {
   "cell_type": "code",
   "execution_count": 71,
   "metadata": {
    "execution": {
     "iopub.execute_input": "2021-12-05T10:37:03.050578Z",
     "iopub.status.busy": "2021-12-05T10:37:03.050373Z",
     "iopub.status.idle": "2021-12-05T10:37:03.129503Z",
     "shell.execute_reply": "2021-12-05T10:37:03.128744Z",
     "shell.execute_reply.started": "2021-12-05T10:37:03.050553Z"
    }
   },
   "outputs": [
    {
     "data": {
      "text/html": [
       "<div>\n",
       "<style scoped>\n",
       "    .dataframe tbody tr th:only-of-type {\n",
       "        vertical-align: middle;\n",
       "    }\n",
       "\n",
       "    .dataframe tbody tr th {\n",
       "        vertical-align: top;\n",
       "    }\n",
       "\n",
       "    .dataframe thead th {\n",
       "        text-align: right;\n",
       "    }\n",
       "</style>\n",
       "<table border=\"1\" class=\"dataframe\">\n",
       "  <thead>\n",
       "    <tr style=\"text-align: right;\">\n",
       "      <th></th>\n",
       "      <th>age</th>\n",
       "      <th>gender</th>\n",
       "      <th>owns_car</th>\n",
       "      <th>owns_house</th>\n",
       "      <th>no_of_children</th>\n",
       "      <th>net_yearly_income</th>\n",
       "      <th>no_of_days_employed</th>\n",
       "      <th>occupation_type</th>\n",
       "      <th>total_family_members</th>\n",
       "      <th>migrant_worker</th>\n",
       "      <th>yearly_debt_payments</th>\n",
       "      <th>credit_limit</th>\n",
       "      <th>credit_limit_used(%)</th>\n",
       "      <th>credit_score</th>\n",
       "      <th>prev_defaults</th>\n",
       "      <th>default_in_last_6months</th>\n",
       "      <th>credit_card_default</th>\n",
       "      <th>income_categories</th>\n",
       "    </tr>\n",
       "  </thead>\n",
       "  <tbody>\n",
       "    <tr>\n",
       "      <th>0</th>\n",
       "      <td>46</td>\n",
       "      <td>0</td>\n",
       "      <td>0</td>\n",
       "      <td>1</td>\n",
       "      <td>0.0</td>\n",
       "      <td>107934.04</td>\n",
       "      <td>612.0</td>\n",
       "      <td>17</td>\n",
       "      <td>1.0</td>\n",
       "      <td>1.0</td>\n",
       "      <td>33070.28</td>\n",
       "      <td>18690.93</td>\n",
       "      <td>73</td>\n",
       "      <td>544.0</td>\n",
       "      <td>2</td>\n",
       "      <td>1</td>\n",
       "      <td>1</td>\n",
       "      <td>3</td>\n",
       "    </tr>\n",
       "    <tr>\n",
       "      <th>1</th>\n",
       "      <td>29</td>\n",
       "      <td>1</td>\n",
       "      <td>0</td>\n",
       "      <td>1</td>\n",
       "      <td>0.0</td>\n",
       "      <td>109862.62</td>\n",
       "      <td>2771.0</td>\n",
       "      <td>8</td>\n",
       "      <td>2.0</td>\n",
       "      <td>0.0</td>\n",
       "      <td>15329.53</td>\n",
       "      <td>37745.19</td>\n",
       "      <td>52</td>\n",
       "      <td>857.0</td>\n",
       "      <td>0</td>\n",
       "      <td>0</td>\n",
       "      <td>0</td>\n",
       "      <td>3</td>\n",
       "    </tr>\n",
       "    <tr>\n",
       "      <th>2</th>\n",
       "      <td>37</td>\n",
       "      <td>1</td>\n",
       "      <td>0</td>\n",
       "      <td>1</td>\n",
       "      <td>0.0</td>\n",
       "      <td>230153.17</td>\n",
       "      <td>204.0</td>\n",
       "      <td>8</td>\n",
       "      <td>2.0</td>\n",
       "      <td>0.0</td>\n",
       "      <td>48416.60</td>\n",
       "      <td>41598.36</td>\n",
       "      <td>43</td>\n",
       "      <td>650.0</td>\n",
       "      <td>0</td>\n",
       "      <td>0</td>\n",
       "      <td>0</td>\n",
       "      <td>0</td>\n",
       "    </tr>\n",
       "    <tr>\n",
       "      <th>3</th>\n",
       "      <td>39</td>\n",
       "      <td>0</td>\n",
       "      <td>0</td>\n",
       "      <td>1</td>\n",
       "      <td>0.0</td>\n",
       "      <td>122325.82</td>\n",
       "      <td>11941.0</td>\n",
       "      <td>3</td>\n",
       "      <td>2.0</td>\n",
       "      <td>0.0</td>\n",
       "      <td>22574.36</td>\n",
       "      <td>32627.76</td>\n",
       "      <td>20</td>\n",
       "      <td>754.0</td>\n",
       "      <td>0</td>\n",
       "      <td>0</td>\n",
       "      <td>0</td>\n",
       "      <td>3</td>\n",
       "    </tr>\n",
       "    <tr>\n",
       "      <th>4</th>\n",
       "      <td>46</td>\n",
       "      <td>1</td>\n",
       "      <td>1</td>\n",
       "      <td>1</td>\n",
       "      <td>0.0</td>\n",
       "      <td>387286.00</td>\n",
       "      <td>1459.0</td>\n",
       "      <td>3</td>\n",
       "      <td>1.0</td>\n",
       "      <td>0.0</td>\n",
       "      <td>38282.95</td>\n",
       "      <td>52950.64</td>\n",
       "      <td>75</td>\n",
       "      <td>927.0</td>\n",
       "      <td>0</td>\n",
       "      <td>0</td>\n",
       "      <td>0</td>\n",
       "      <td>2</td>\n",
       "    </tr>\n",
       "  </tbody>\n",
       "</table>\n",
       "</div>"
      ],
      "text/plain": [
       "   age  gender  owns_car  owns_house  no_of_children  net_yearly_income  \\\n",
       "0   46       0         0           1             0.0          107934.04   \n",
       "1   29       1         0           1             0.0          109862.62   \n",
       "2   37       1         0           1             0.0          230153.17   \n",
       "3   39       0         0           1             0.0          122325.82   \n",
       "4   46       1         1           1             0.0          387286.00   \n",
       "\n",
       "   no_of_days_employed  occupation_type  total_family_members  migrant_worker  \\\n",
       "0                612.0               17                   1.0             1.0   \n",
       "1               2771.0                8                   2.0             0.0   \n",
       "2                204.0                8                   2.0             0.0   \n",
       "3              11941.0                3                   2.0             0.0   \n",
       "4               1459.0                3                   1.0             0.0   \n",
       "\n",
       "   yearly_debt_payments  credit_limit  credit_limit_used(%)  credit_score  \\\n",
       "0              33070.28      18690.93                    73         544.0   \n",
       "1              15329.53      37745.19                    52         857.0   \n",
       "2              48416.60      41598.36                    43         650.0   \n",
       "3              22574.36      32627.76                    20         754.0   \n",
       "4              38282.95      52950.64                    75         927.0   \n",
       "\n",
       "   prev_defaults  default_in_last_6months  credit_card_default  \\\n",
       "0              2                        1                    1   \n",
       "1              0                        0                    0   \n",
       "2              0                        0                    0   \n",
       "3              0                        0                    0   \n",
       "4              0                        0                    0   \n",
       "\n",
       "   income_categories  \n",
       "0                  3  \n",
       "1                  3  \n",
       "2                  0  \n",
       "3                  3  \n",
       "4                  2  "
      ]
     },
     "execution_count": 71,
     "metadata": {},
     "output_type": "execute_result"
    }
   ],
   "source": [
    "lm = LabelEncoder()\n",
    "\n",
    "# get categorical columns\n",
    "cat_cols = train_data.select_dtypes(include=['object']).columns\n",
    "\n",
    "# encode labels for categorical columns\n",
    "for i in cat_cols:\n",
    "    train_data[i] = lm.fit_transform(train_data[i])\n",
    "    \n",
    "train_data.head()"
   ]
  },
  {
   "cell_type": "markdown",
   "metadata": {},
   "source": [
    "## Train-Test Split"
   ]
  },
  {
   "cell_type": "code",
   "execution_count": 72,
   "metadata": {
    "execution": {
     "iopub.execute_input": "2021-12-05T10:37:03.130889Z",
     "iopub.status.busy": "2021-12-05T10:37:03.130654Z",
     "iopub.status.idle": "2021-12-05T10:37:03.177419Z",
     "shell.execute_reply": "2021-12-05T10:37:03.175665Z",
     "shell.execute_reply.started": "2021-12-05T10:37:03.130860Z"
    }
   },
   "outputs": [
    {
     "name": "stdout",
     "output_type": "stream",
     "text": [
      "X= (26194, 17) (11227, 17)\n",
      "y= (26194,) (11227,)\n"
     ]
    }
   ],
   "source": [
    "# split train-test data\n",
    "X = train_data.drop(['credit_card_default'], axis=1)\n",
    "y = train_data['credit_card_default']\n",
    "\n",
    "X_train, X_test, y_train, y_test = train_test_split(X, y, test_size=0.3, stratify=y, random_state=100)\n",
    "\n",
    "print(\"X=\",X_train.shape, X_test.shape)\n",
    "print(\"y=\",y_train.shape, y_test.shape)"
   ]
  },
  {
   "cell_type": "markdown",
   "metadata": {},
   "source": [
    "### Feature Scaling"
   ]
  },
  {
   "cell_type": "code",
   "execution_count": 73,
   "metadata": {
    "execution": {
     "iopub.execute_input": "2021-12-05T10:37:03.178832Z",
     "iopub.status.busy": "2021-12-05T10:37:03.178466Z",
     "iopub.status.idle": "2021-12-05T10:37:03.214594Z",
     "shell.execute_reply": "2021-12-05T10:37:03.213903Z",
     "shell.execute_reply.started": "2021-12-05T10:37:03.178799Z"
    }
   },
   "outputs": [],
   "source": [
    "# scaling the features to standardize\n",
    "scaler = MinMaxScaler()\n",
    "\n",
    "cols = X_train.columns\n",
    "X_train[cols] = scaler.fit_transform(X_train[cols])\n",
    "X_test[cols] = scaler.transform(X_test[cols])"
   ]
  },
  {
   "cell_type": "code",
   "execution_count": 74,
   "metadata": {
    "execution": {
     "iopub.execute_input": "2021-12-05T10:37:03.218150Z",
     "iopub.status.busy": "2021-12-05T10:37:03.217929Z",
     "iopub.status.idle": "2021-12-05T10:37:03.238638Z",
     "shell.execute_reply": "2021-12-05T10:37:03.237746Z",
     "shell.execute_reply.started": "2021-12-05T10:37:03.218124Z"
    }
   },
   "outputs": [
    {
     "data": {
      "text/html": [
       "<div>\n",
       "<style scoped>\n",
       "    .dataframe tbody tr th:only-of-type {\n",
       "        vertical-align: middle;\n",
       "    }\n",
       "\n",
       "    .dataframe tbody tr th {\n",
       "        vertical-align: top;\n",
       "    }\n",
       "\n",
       "    .dataframe thead th {\n",
       "        text-align: right;\n",
       "    }\n",
       "</style>\n",
       "<table border=\"1\" class=\"dataframe\">\n",
       "  <thead>\n",
       "    <tr style=\"text-align: right;\">\n",
       "      <th></th>\n",
       "      <th>age</th>\n",
       "      <th>gender</th>\n",
       "      <th>owns_car</th>\n",
       "      <th>owns_house</th>\n",
       "      <th>no_of_children</th>\n",
       "      <th>net_yearly_income</th>\n",
       "      <th>no_of_days_employed</th>\n",
       "      <th>occupation_type</th>\n",
       "      <th>total_family_members</th>\n",
       "      <th>migrant_worker</th>\n",
       "      <th>yearly_debt_payments</th>\n",
       "      <th>credit_limit</th>\n",
       "      <th>credit_limit_used(%)</th>\n",
       "      <th>credit_score</th>\n",
       "      <th>prev_defaults</th>\n",
       "      <th>default_in_last_6months</th>\n",
       "      <th>income_categories</th>\n",
       "    </tr>\n",
       "  </thead>\n",
       "  <tbody>\n",
       "    <tr>\n",
       "      <th>33494</th>\n",
       "      <td>0.37500</td>\n",
       "      <td>0.0</td>\n",
       "      <td>0.0</td>\n",
       "      <td>0.0</td>\n",
       "      <td>0.111111</td>\n",
       "      <td>0.152219</td>\n",
       "      <td>0.002467</td>\n",
       "      <td>0.000000</td>\n",
       "      <td>0.222222</td>\n",
       "      <td>1.0</td>\n",
       "      <td>0.096273</td>\n",
       "      <td>0.085426</td>\n",
       "      <td>0.545455</td>\n",
       "      <td>0.712695</td>\n",
       "      <td>0.0</td>\n",
       "      <td>0.0</td>\n",
       "      <td>1.000000</td>\n",
       "    </tr>\n",
       "    <tr>\n",
       "      <th>45014</th>\n",
       "      <td>0.46875</td>\n",
       "      <td>1.0</td>\n",
       "      <td>0.0</td>\n",
       "      <td>1.0</td>\n",
       "      <td>0.000000</td>\n",
       "      <td>0.317429</td>\n",
       "      <td>0.002869</td>\n",
       "      <td>0.444444</td>\n",
       "      <td>0.111111</td>\n",
       "      <td>0.0</td>\n",
       "      <td>0.158336</td>\n",
       "      <td>0.156060</td>\n",
       "      <td>0.242424</td>\n",
       "      <td>0.351893</td>\n",
       "      <td>0.0</td>\n",
       "      <td>0.0</td>\n",
       "      <td>0.000000</td>\n",
       "    </tr>\n",
       "    <tr>\n",
       "      <th>3492</th>\n",
       "      <td>0.81250</td>\n",
       "      <td>0.0</td>\n",
       "      <td>0.0</td>\n",
       "      <td>1.0</td>\n",
       "      <td>0.000000</td>\n",
       "      <td>0.322998</td>\n",
       "      <td>0.003077</td>\n",
       "      <td>0.777778</td>\n",
       "      <td>0.000000</td>\n",
       "      <td>0.0</td>\n",
       "      <td>0.140594</td>\n",
       "      <td>0.233354</td>\n",
       "      <td>0.949495</td>\n",
       "      <td>0.387528</td>\n",
       "      <td>0.0</td>\n",
       "      <td>0.0</td>\n",
       "      <td>0.000000</td>\n",
       "    </tr>\n",
       "    <tr>\n",
       "      <th>38950</th>\n",
       "      <td>0.53125</td>\n",
       "      <td>0.0</td>\n",
       "      <td>0.0</td>\n",
       "      <td>1.0</td>\n",
       "      <td>0.000000</td>\n",
       "      <td>0.215840</td>\n",
       "      <td>0.010111</td>\n",
       "      <td>0.944444</td>\n",
       "      <td>0.111111</td>\n",
       "      <td>0.0</td>\n",
       "      <td>0.080930</td>\n",
       "      <td>0.115734</td>\n",
       "      <td>0.080808</td>\n",
       "      <td>0.407572</td>\n",
       "      <td>0.0</td>\n",
       "      <td>0.0</td>\n",
       "      <td>0.333333</td>\n",
       "    </tr>\n",
       "    <tr>\n",
       "      <th>3793</th>\n",
       "      <td>0.50000</td>\n",
       "      <td>0.0</td>\n",
       "      <td>0.0</td>\n",
       "      <td>1.0</td>\n",
       "      <td>0.000000</td>\n",
       "      <td>0.215873</td>\n",
       "      <td>0.008400</td>\n",
       "      <td>0.444444</td>\n",
       "      <td>0.111111</td>\n",
       "      <td>0.0</td>\n",
       "      <td>0.271049</td>\n",
       "      <td>0.213307</td>\n",
       "      <td>0.151515</td>\n",
       "      <td>0.868597</td>\n",
       "      <td>0.0</td>\n",
       "      <td>0.0</td>\n",
       "      <td>0.333333</td>\n",
       "    </tr>\n",
       "  </tbody>\n",
       "</table>\n",
       "</div>"
      ],
      "text/plain": [
       "           age  gender  owns_car  owns_house  no_of_children  \\\n",
       "33494  0.37500     0.0       0.0         0.0        0.111111   \n",
       "45014  0.46875     1.0       0.0         1.0        0.000000   \n",
       "3492   0.81250     0.0       0.0         1.0        0.000000   \n",
       "38950  0.53125     0.0       0.0         1.0        0.000000   \n",
       "3793   0.50000     0.0       0.0         1.0        0.000000   \n",
       "\n",
       "       net_yearly_income  no_of_days_employed  occupation_type  \\\n",
       "33494           0.152219             0.002467         0.000000   \n",
       "45014           0.317429             0.002869         0.444444   \n",
       "3492            0.322998             0.003077         0.777778   \n",
       "38950           0.215840             0.010111         0.944444   \n",
       "3793            0.215873             0.008400         0.444444   \n",
       "\n",
       "       total_family_members  migrant_worker  yearly_debt_payments  \\\n",
       "33494              0.222222             1.0              0.096273   \n",
       "45014              0.111111             0.0              0.158336   \n",
       "3492               0.000000             0.0              0.140594   \n",
       "38950              0.111111             0.0              0.080930   \n",
       "3793               0.111111             0.0              0.271049   \n",
       "\n",
       "       credit_limit  credit_limit_used(%)  credit_score  prev_defaults  \\\n",
       "33494      0.085426              0.545455      0.712695            0.0   \n",
       "45014      0.156060              0.242424      0.351893            0.0   \n",
       "3492       0.233354              0.949495      0.387528            0.0   \n",
       "38950      0.115734              0.080808      0.407572            0.0   \n",
       "3793       0.213307              0.151515      0.868597            0.0   \n",
       "\n",
       "       default_in_last_6months  income_categories  \n",
       "33494                      0.0           1.000000  \n",
       "45014                      0.0           0.000000  \n",
       "3492                       0.0           0.000000  \n",
       "38950                      0.0           0.333333  \n",
       "3793                       0.0           0.333333  "
      ]
     },
     "execution_count": 74,
     "metadata": {},
     "output_type": "execute_result"
    }
   ],
   "source": [
    "X_train.head()"
   ]
  },
  {
   "cell_type": "markdown",
   "metadata": {},
   "source": [
    "#### Data Imbalance Handling"
   ]
  },
  {
   "cell_type": "markdown",
   "metadata": {},
   "source": [
    "Using SMOTE method, we can balance the data w.r.t. credit_card_default variable and proceed further"
   ]
  },
  {
   "cell_type": "code",
   "execution_count": 75,
   "metadata": {
    "execution": {
     "iopub.execute_input": "2021-12-05T10:37:03.239952Z",
     "iopub.status.busy": "2021-12-05T10:37:03.239744Z",
     "iopub.status.idle": "2021-12-05T10:37:03.405195Z",
     "shell.execute_reply": "2021-12-05T10:37:03.404448Z",
     "shell.execute_reply.started": "2021-12-05T10:37:03.239925Z"
    }
   },
   "outputs": [],
   "source": [
    "# initialize SMOTE method\n",
    "sm = SMOTE(random_state=42)\n",
    "X_train,y_train = sm.fit_resample(X_train,y_train)"
   ]
  },
  {
   "cell_type": "code",
   "execution_count": 76,
   "metadata": {
    "execution": {
     "iopub.execute_input": "2021-12-05T10:37:03.406496Z",
     "iopub.status.busy": "2021-12-05T10:37:03.406281Z",
     "iopub.status.idle": "2021-12-05T10:37:03.411817Z",
     "shell.execute_reply": "2021-12-05T10:37:03.411036Z",
     "shell.execute_reply.started": "2021-12-05T10:37:03.406470Z"
    }
   },
   "outputs": [
    {
     "name": "stdout",
     "output_type": "stream",
     "text": [
      "Dimension of X_train_sm Shape: (47850, 17)\n",
      "Dimension of y_train_sm Shape: (47850,)\n"
     ]
    }
   ],
   "source": [
    "print(\"Dimension of X_train_sm Shape:\", X_train.shape)\n",
    "print(\"Dimension of y_train_sm Shape:\", y_train.shape)"
   ]
  },
  {
   "cell_type": "code",
   "execution_count": 77,
   "metadata": {
    "execution": {
     "iopub.execute_input": "2021-12-05T10:37:03.413155Z",
     "iopub.status.busy": "2021-12-05T10:37:03.412925Z",
     "iopub.status.idle": "2021-12-05T10:37:03.441088Z",
     "shell.execute_reply": "2021-12-05T10:37:03.440310Z",
     "shell.execute_reply.started": "2021-12-05T10:37:03.413117Z"
    }
   },
   "outputs": [
    {
     "name": "stdout",
     "output_type": "stream",
     "text": [
      "X_train.shape: (47850, 17)\n",
      "y_train.shape: (47850,)\n"
     ]
    },
    {
     "data": {
      "text/html": [
       "<div>\n",
       "<style scoped>\n",
       "    .dataframe tbody tr th:only-of-type {\n",
       "        vertical-align: middle;\n",
       "    }\n",
       "\n",
       "    .dataframe tbody tr th {\n",
       "        vertical-align: top;\n",
       "    }\n",
       "\n",
       "    .dataframe thead th {\n",
       "        text-align: right;\n",
       "    }\n",
       "</style>\n",
       "<table border=\"1\" class=\"dataframe\">\n",
       "  <thead>\n",
       "    <tr style=\"text-align: right;\">\n",
       "      <th></th>\n",
       "      <th>age</th>\n",
       "      <th>gender</th>\n",
       "      <th>owns_car</th>\n",
       "      <th>owns_house</th>\n",
       "      <th>no_of_children</th>\n",
       "      <th>net_yearly_income</th>\n",
       "      <th>no_of_days_employed</th>\n",
       "      <th>occupation_type</th>\n",
       "      <th>total_family_members</th>\n",
       "      <th>migrant_worker</th>\n",
       "      <th>yearly_debt_payments</th>\n",
       "      <th>credit_limit</th>\n",
       "      <th>credit_limit_used(%)</th>\n",
       "      <th>credit_score</th>\n",
       "      <th>prev_defaults</th>\n",
       "      <th>default_in_last_6months</th>\n",
       "      <th>income_categories</th>\n",
       "    </tr>\n",
       "  </thead>\n",
       "  <tbody>\n",
       "    <tr>\n",
       "      <th>0</th>\n",
       "      <td>0.37500</td>\n",
       "      <td>0.0</td>\n",
       "      <td>0.0</td>\n",
       "      <td>0.0</td>\n",
       "      <td>0.111111</td>\n",
       "      <td>0.152219</td>\n",
       "      <td>0.002467</td>\n",
       "      <td>0.000000</td>\n",
       "      <td>0.222222</td>\n",
       "      <td>1.0</td>\n",
       "      <td>0.096273</td>\n",
       "      <td>0.085426</td>\n",
       "      <td>0.545455</td>\n",
       "      <td>0.712695</td>\n",
       "      <td>0.0</td>\n",
       "      <td>0.0</td>\n",
       "      <td>1.000000</td>\n",
       "    </tr>\n",
       "    <tr>\n",
       "      <th>1</th>\n",
       "      <td>0.46875</td>\n",
       "      <td>1.0</td>\n",
       "      <td>0.0</td>\n",
       "      <td>1.0</td>\n",
       "      <td>0.000000</td>\n",
       "      <td>0.317429</td>\n",
       "      <td>0.002869</td>\n",
       "      <td>0.444444</td>\n",
       "      <td>0.111111</td>\n",
       "      <td>0.0</td>\n",
       "      <td>0.158336</td>\n",
       "      <td>0.156060</td>\n",
       "      <td>0.242424</td>\n",
       "      <td>0.351893</td>\n",
       "      <td>0.0</td>\n",
       "      <td>0.0</td>\n",
       "      <td>0.000000</td>\n",
       "    </tr>\n",
       "    <tr>\n",
       "      <th>2</th>\n",
       "      <td>0.81250</td>\n",
       "      <td>0.0</td>\n",
       "      <td>0.0</td>\n",
       "      <td>1.0</td>\n",
       "      <td>0.000000</td>\n",
       "      <td>0.322998</td>\n",
       "      <td>0.003077</td>\n",
       "      <td>0.777778</td>\n",
       "      <td>0.000000</td>\n",
       "      <td>0.0</td>\n",
       "      <td>0.140594</td>\n",
       "      <td>0.233354</td>\n",
       "      <td>0.949495</td>\n",
       "      <td>0.387528</td>\n",
       "      <td>0.0</td>\n",
       "      <td>0.0</td>\n",
       "      <td>0.000000</td>\n",
       "    </tr>\n",
       "    <tr>\n",
       "      <th>3</th>\n",
       "      <td>0.53125</td>\n",
       "      <td>0.0</td>\n",
       "      <td>0.0</td>\n",
       "      <td>1.0</td>\n",
       "      <td>0.000000</td>\n",
       "      <td>0.215840</td>\n",
       "      <td>0.010111</td>\n",
       "      <td>0.944444</td>\n",
       "      <td>0.111111</td>\n",
       "      <td>0.0</td>\n",
       "      <td>0.080930</td>\n",
       "      <td>0.115734</td>\n",
       "      <td>0.080808</td>\n",
       "      <td>0.407572</td>\n",
       "      <td>0.0</td>\n",
       "      <td>0.0</td>\n",
       "      <td>0.333333</td>\n",
       "    </tr>\n",
       "    <tr>\n",
       "      <th>4</th>\n",
       "      <td>0.50000</td>\n",
       "      <td>0.0</td>\n",
       "      <td>0.0</td>\n",
       "      <td>1.0</td>\n",
       "      <td>0.000000</td>\n",
       "      <td>0.215873</td>\n",
       "      <td>0.008400</td>\n",
       "      <td>0.444444</td>\n",
       "      <td>0.111111</td>\n",
       "      <td>0.0</td>\n",
       "      <td>0.271049</td>\n",
       "      <td>0.213307</td>\n",
       "      <td>0.151515</td>\n",
       "      <td>0.868597</td>\n",
       "      <td>0.0</td>\n",
       "      <td>0.0</td>\n",
       "      <td>0.333333</td>\n",
       "    </tr>\n",
       "  </tbody>\n",
       "</table>\n",
       "</div>"
      ],
      "text/plain": [
       "       age  gender  owns_car  owns_house  no_of_children  net_yearly_income  \\\n",
       "0  0.37500     0.0       0.0         0.0        0.111111           0.152219   \n",
       "1  0.46875     1.0       0.0         1.0        0.000000           0.317429   \n",
       "2  0.81250     0.0       0.0         1.0        0.000000           0.322998   \n",
       "3  0.53125     0.0       0.0         1.0        0.000000           0.215840   \n",
       "4  0.50000     0.0       0.0         1.0        0.000000           0.215873   \n",
       "\n",
       "   no_of_days_employed  occupation_type  total_family_members  migrant_worker  \\\n",
       "0             0.002467         0.000000              0.222222             1.0   \n",
       "1             0.002869         0.444444              0.111111             0.0   \n",
       "2             0.003077         0.777778              0.000000             0.0   \n",
       "3             0.010111         0.944444              0.111111             0.0   \n",
       "4             0.008400         0.444444              0.111111             0.0   \n",
       "\n",
       "   yearly_debt_payments  credit_limit  credit_limit_used(%)  credit_score  \\\n",
       "0              0.096273      0.085426              0.545455      0.712695   \n",
       "1              0.158336      0.156060              0.242424      0.351893   \n",
       "2              0.140594      0.233354              0.949495      0.387528   \n",
       "3              0.080930      0.115734              0.080808      0.407572   \n",
       "4              0.271049      0.213307              0.151515      0.868597   \n",
       "\n",
       "   prev_defaults  default_in_last_6months  income_categories  \n",
       "0            0.0                      0.0           1.000000  \n",
       "1            0.0                      0.0           0.000000  \n",
       "2            0.0                      0.0           0.000000  \n",
       "3            0.0                      0.0           0.333333  \n",
       "4            0.0                      0.0           0.333333  "
      ]
     },
     "execution_count": 77,
     "metadata": {},
     "output_type": "execute_result"
    }
   ],
   "source": [
    "X_train = pd.DataFrame(data=X_train, columns=cols)\n",
    "print(\"X_train.shape:\",X_train.shape)\n",
    "y_train = pd.Series(y_train)\n",
    "print(\"y_train.shape:\",y_train.shape)\n",
    "X_train.head()"
   ]
  },
  {
   "cell_type": "markdown",
   "metadata": {},
   "source": [
    "## Logistic Regression"
   ]
  },
  {
   "cell_type": "code",
   "execution_count": 78,
   "metadata": {
    "execution": {
     "iopub.execute_input": "2021-12-05T10:37:03.443005Z",
     "iopub.status.busy": "2021-12-05T10:37:03.442521Z",
     "iopub.status.idle": "2021-12-05T10:37:03.862959Z",
     "shell.execute_reply": "2021-12-05T10:37:03.862123Z",
     "shell.execute_reply.started": "2021-12-05T10:37:03.442944Z"
    }
   },
   "outputs": [
    {
     "data": {
      "text/plain": [
       "LogisticRegression()"
      ]
     },
     "execution_count": 78,
     "metadata": {},
     "output_type": "execute_result"
    }
   ],
   "source": [
    "# initialize LogisticRegression and fit the model\n",
    "logreg = LogisticRegression()\n",
    "logreg.fit(X_train, y_train)"
   ]
  },
  {
   "cell_type": "code",
   "execution_count": 79,
   "metadata": {
    "execution": {
     "iopub.execute_input": "2021-12-05T10:37:03.865133Z",
     "iopub.status.busy": "2021-12-05T10:37:03.864517Z",
     "iopub.status.idle": "2021-12-05T10:37:03.877015Z",
     "shell.execute_reply": "2021-12-05T10:37:03.876164Z",
     "shell.execute_reply.started": "2021-12-05T10:37:03.865090Z"
    }
   },
   "outputs": [],
   "source": [
    "# evaluation function\n",
    "def evaluation(model):\n",
    "    y_train_pred = model.predict(X_train)\n",
    "    y_test_pred = model.predict(X_test)\n",
    "    print(\"=\"*50)\n",
    "    print(confusion_matrix(y_train, y_train_pred))\n",
    "    print(classification_report(y_train, y_train_pred))\n",
    "    print(\"Accuracy of TRAIN data:\", 100*accuracy_score(y_train, y_train_pred))\n",
    "    print(\"F1_Score of TRAIN data:\", 100*f1_score(y_train, y_train_pred, average=\"macro\"))\n",
    "    print(\"=\"*50)\n",
    "    print(confusion_matrix(y_test, y_test_pred))\n",
    "    print(classification_report(y_test, y_test_pred))\n",
    "    print(\"Accuracy of TEST data:\", 100*accuracy_score(y_test, y_test_pred))\n",
    "    print(\"F1_Score of TEST data:\", 100*f1_score(y_test, y_test_pred, average=\"macro\"))\n",
    "    print(\"=\"*50)\n",
    "    \n",
    "    # Plot ROC_AUC Curve\n",
    "    plot_roc_curve(model, X_test, y_test)\n",
    "    plt.title('ROC_AUC Curve', fontsize=16)\n",
    "    plt.show()"
   ]
  },
  {
   "cell_type": "markdown",
   "metadata": {},
   "source": [
    "**Prediction**"
   ]
  },
  {
   "cell_type": "code",
   "execution_count": 80,
   "metadata": {
    "execution": {
     "iopub.execute_input": "2021-12-05T10:37:03.879265Z",
     "iopub.status.busy": "2021-12-05T10:37:03.878714Z",
     "iopub.status.idle": "2021-12-05T10:37:04.358308Z",
     "shell.execute_reply": "2021-12-05T10:37:04.357387Z",
     "shell.execute_reply.started": "2021-12-05T10:37:03.879221Z"
    }
   },
   "outputs": [
    {
     "name": "stdout",
     "output_type": "stream",
     "text": [
      "==================================================\n",
      "[[22709  1216]\n",
      " [  640 23285]]\n",
      "              precision    recall  f1-score   support\n",
      "\n",
      "           0       0.97      0.95      0.96     23925\n",
      "           1       0.95      0.97      0.96     23925\n",
      "\n",
      "    accuracy                           0.96     47850\n",
      "   macro avg       0.96      0.96      0.96     47850\n",
      "weighted avg       0.96      0.96      0.96     47850\n",
      "\n",
      "Accuracy of TRAIN data: 96.12121212121212\n",
      "F1_Score of TRAIN data: 96.12064998696074\n",
      "==================================================\n",
      "[[9792  462]\n",
      " [  39  934]]\n",
      "              precision    recall  f1-score   support\n",
      "\n",
      "           0       1.00      0.95      0.98     10254\n",
      "           1       0.67      0.96      0.79       973\n",
      "\n",
      "    accuracy                           0.96     11227\n",
      "   macro avg       0.83      0.96      0.88     11227\n",
      "weighted avg       0.97      0.96      0.96     11227\n",
      "\n",
      "Accuracy of TEST data: 95.53754342210742\n",
      "F1_Score of TEST data: 88.1787187063675\n",
      "==================================================\n"
     ]
    },
    {
     "data": {
      "image/png": "[encoded data removed]",
      "text/plain": [
       "<Figure size 432x288 with 1 Axes>"
      ]
     },
     "metadata": {
      "needs_background": "light"
     },
     "output_type": "display_data"
    }
   ],
   "source": [
    "# prediction\n",
    "evaluation(logreg)"
   ]
  },
  {
   "cell_type": "markdown",
   "metadata": {},
   "source": [
    "## Random Forest"
   ]
  },
  {
   "cell_type": "markdown",
   "metadata": {},
   "source": [
    "**Using Hyper-parameter Tuning**"
   ]
  },
  {
   "cell_type": "code",
   "execution_count": 81,
   "metadata": {
    "execution": {
     "iopub.execute_input": "2021-12-05T10:37:04.402305Z",
     "iopub.status.busy": "2021-12-05T10:37:04.402015Z",
     "iopub.status.idle": "2021-12-05T10:37:04.411999Z",
     "shell.execute_reply": "2021-12-05T10:37:04.411205Z",
     "shell.execute_reply.started": "2021-12-05T10:37:04.402265Z"
    }
   },
   "outputs": [],
   "source": [
    "# params = {\n",
    "#     'max_depth': [10, 16, 20, 30],\n",
    "#     'min_samples_leaf': [10, 30, 50, 80, 100],\n",
    "#     'max_features': [14, 15, 16],\n",
    "#     'n_estimators': [30, 50, 100, 200]}\n",
    "\n",
    "# rfm_basic = RandomForestClassifier(random_state=42, oob_score=True)\n",
    "\n",
    "# grid_search = GridSearchCV(estimator=rfm_basic, param_grid=params,\n",
    "#                           cv=5, n_jobs=-1, verbose=1, scoring=\"accuracy\")"
   ]
  },
  {
   "cell_type": "code",
   "execution_count": 82,
   "metadata": {
    "execution": {
     "iopub.execute_input": "2021-12-05T10:37:04.414147Z",
     "iopub.status.busy": "2021-12-05T10:37:04.413323Z",
     "iopub.status.idle": "2021-12-05T11:52:44.861204Z",
     "shell.execute_reply": "2021-12-05T11:52:44.860212Z",
     "shell.execute_reply.started": "2021-12-05T10:37:04.414102Z"
    }
   },
   "outputs": [],
   "source": [
    "# %%time\n",
    "# grid_search.fit(X_train, y_train)"
   ]
  },
  {
   "cell_type": "code",
   "execution_count": 83,
   "metadata": {
    "execution": {
     "iopub.execute_input": "2021-12-05T11:56:04.763346Z",
     "iopub.status.busy": "2021-12-05T11:56:04.762799Z",
     "iopub.status.idle": "2021-12-05T11:56:04.769043Z",
     "shell.execute_reply": "2021-12-05T11:56:04.768533Z",
     "shell.execute_reply.started": "2021-12-05T11:56:04.763309Z"
    }
   },
   "outputs": [],
   "source": [
    "# rfm_best = grid_search.best_estimator_\n",
    "# rfm_best"
   ]
  },
  {
   "cell_type": "code",
   "execution_count": 84,
   "metadata": {
    "execution": {
     "iopub.execute_input": "2021-12-05T11:56:38.474479Z",
     "iopub.status.busy": "2021-12-05T11:56:38.473821Z",
     "iopub.status.idle": "2021-12-05T11:56:39.000386Z",
     "shell.execute_reply": "2021-12-05T11:56:38.999543Z",
     "shell.execute_reply.started": "2021-12-05T11:56:38.474446Z"
    }
   },
   "outputs": [],
   "source": [
    "# # prediction and model evaluation\n",
    "# evaluation(rfm_best)"
   ]
  },
  {
   "cell_type": "markdown",
   "metadata": {},
   "source": [
    "## XGBoost Model"
   ]
  },
  {
   "cell_type": "markdown",
   "metadata": {},
   "source": [
    "**Using Hyper-Parameter Tuning**"
   ]
  },
  {
   "cell_type": "code",
   "execution_count": 85,
   "metadata": {},
   "outputs": [
    {
     "name": "stdout",
     "output_type": "stream",
     "text": [
      "[19:52:57] WARNING: C:/Users/Administrator/workspace/xgboost-win64_release_1.4.0/src/learner.cc:1095: Starting in XGBoost 1.3.0, the default evaluation metric used with the objective 'binary:logistic' was changed from 'error' to 'logloss'. Explicitly set eval_metric if you'd like to restore the old behavior.\n"
     ]
    },
    {
     "data": {
      "text/plain": [
       "GridSearchCV(cv=3,\n",
       "             estimator=XGBClassifier(base_score=None, booster=None,\n",
       "                                     colsample_bylevel=None,\n",
       "                                     colsample_bynode=None,\n",
       "                                     colsample_bytree=None, gamma=None,\n",
       "                                     gpu_id=None, importance_type='gain',\n",
       "                                     interaction_constraints=None,\n",
       "                                     learning_rate=None, max_delta_step=None,\n",
       "                                     max_depth=None, min_child_weight=None,\n",
       "                                     missing=nan, monotone_constraints=None,\n",
       "                                     n_estimators=100, n_jobs=-1,\n",
       "                                     num_parallel_tree=None, random_state=42,\n",
       "                                     reg_alpha=None, reg_lambda=None,\n",
       "                                     scale_pos_weight=None, subsample=None,\n",
       "                                     tree_method=None, validate_parameters=None,\n",
       "                                     verbosity=None),\n",
       "             n_jobs=-1,\n",
       "             param_grid={'learning_rate': [0.1, 0.2, 0.3, 0.4, 0.5],\n",
       "                         'max_depth': [8, 10, 16, 20, 30],\n",
       "                         'min_child_weight': [10, 30, 50, 80, 100],\n",
       "                         'n_estimators': [50, 100, 150, 200, 300]},\n",
       "             scoring='accuracy')"
      ]
     },
     "execution_count": 85,
     "metadata": {},
     "output_type": "execute_result"
    }
   ],
   "source": [
    "# hyperparameters\n",
    "xgb_model = XGBClassifier(random_state=42, n_jobs=-1)\n",
    "\n",
    "parameters = {'learning_rate': [0.1, 0.2, 0.3, 0.4, 0.5],\n",
    "              'max_depth': [8, 10, 16, 20, 30],\n",
    "              'min_child_weight': [10, 30, 50, 80, 100],\n",
    "              'n_estimators': [50, 100, 150, 200, 300]}\n",
    "\n",
    "# scorer = metrics.make_scorer(metrics.accuracy_score,\n",
    "#                              greater_is_better=True,\n",
    "#                              needs_proba=True,\n",
    "#                              needs_threshold=False)\n",
    "clf_xgb = GridSearchCV(estimator=xgb_model,\n",
    "                                       param_grid=parameters,\n",
    "                                       n_jobs=-1,\n",
    "                                       cv=3,\n",
    "                                       scoring='accuracy',\n",
    "                                       refit=True)\n",
    "\n",
    "clf_xgb.fit(X_train, y_train)"
   ]
  },
  {
   "cell_type": "code",
   "execution_count": 86,
   "metadata": {},
   "outputs": [
    {
     "name": "stdout",
     "output_type": "stream",
     "text": [
      "{'learning_rate': 0.3, 'max_depth': 30, 'min_child_weight': 10, 'n_estimators': 200}\n",
      "0.9829467084639498\n",
      "XGBClassifier(base_score=0.5, booster='gbtree', colsample_bylevel=1,\n",
      "              colsample_bynode=1, colsample_bytree=1, gamma=0, gpu_id=-1,\n",
      "              importance_type='gain', interaction_constraints='',\n",
      "              learning_rate=0.3, max_delta_step=0, max_depth=30,\n",
      "              min_child_weight=10, missing=nan, monotone_constraints='()',\n",
      "              n_estimators=200, n_jobs=-1, num_parallel_tree=1, random_state=42,\n",
      "              reg_alpha=0, reg_lambda=1, scale_pos_weight=1, subsample=1,\n",
      "              tree_method='exact', validate_parameters=1, verbosity=None)\n"
     ]
    }
   ],
   "source": [
    "print(clf_xgb.best_params_)\n",
    "print(clf_xgb.best_score_)\n",
    "print(clf_xgb.best_estimator_)"
   ]
  },
  {
   "cell_type": "code",
   "execution_count": 87,
   "metadata": {},
   "outputs": [
    {
     "name": "stdout",
     "output_type": "stream",
     "text": [
      "==================================================\n",
      "[[23925     0]\n",
      " [    0 23925]]\n",
      "              precision    recall  f1-score   support\n",
      "\n",
      "           0       1.00      1.00      1.00     23925\n",
      "           1       1.00      1.00      1.00     23925\n",
      "\n",
      "    accuracy                           1.00     47850\n",
      "   macro avg       1.00      1.00      1.00     47850\n",
      "weighted avg       1.00      1.00      1.00     47850\n",
      "\n",
      "Accuracy of TRAIN data: 100.0\n",
      "F1_Score of TRAIN data: 100.0\n",
      "==================================================\n",
      "[[10102   152]\n",
      " [  146   827]]\n",
      "              precision    recall  f1-score   support\n",
      "\n",
      "           0       0.99      0.99      0.99     10254\n",
      "           1       0.84      0.85      0.85       973\n",
      "\n",
      "    accuracy                           0.97     11227\n",
      "   macro avg       0.92      0.92      0.92     11227\n",
      "weighted avg       0.97      0.97      0.97     11227\n",
      "\n",
      "Accuracy of TEST data: 97.3456845105549\n",
      "F1_Score of TEST data: 91.64004491365097\n",
      "==================================================\n"
     ]
    },
    {
     "data": {
      "image/png": "[encoded data removed]",
      "text/plain": [
       "<Figure size 432x288 with 1 Axes>"
      ]
     },
     "metadata": {
      "needs_background": "light"
     },
     "output_type": "display_data"
    }
   ],
   "source": [
    "#prediction and evaluation\n",
    "xgb_best_model = clf_xgb.best_estimator_\n",
    "evaluation(xgb_best_model)"
   ]
  },
  {
   "cell_type": "code",
   "execution_count": 139,
   "metadata": {},
   "outputs": [
    {
     "name": "stdout",
     "output_type": "stream",
     "text": [
      "[20:51:29] WARNING: C:/Users/Administrator/workspace/xgboost-win64_release_1.4.0/src/learner.cc:1095: Starting in XGBoost 1.3.0, the default evaluation metric used with the objective 'binary:logistic' was changed from 'error' to 'logloss'. Explicitly set eval_metric if you'd like to restore the old behavior.\n"
     ]
    },
    {
     "data": {
      "text/plain": [
       "GridSearchCV(cv=3,\n",
       "             estimator=XGBClassifier(base_score=None, booster=None,\n",
       "                                     colsample_bylevel=None,\n",
       "                                     colsample_bynode=None,\n",
       "                                     colsample_bytree=None, gamma=None,\n",
       "                                     gpu_id=None, importance_type='gain',\n",
       "                                     interaction_constraints=None,\n",
       "                                     learning_rate=None, max_delta_step=None,\n",
       "                                     max_depth=None, min_child_weight=None,\n",
       "                                     missing=nan, monotone_constraints=None,\n",
       "                                     n_estimators=100, n_jobs=-1,\n",
       "                                     num_parallel_tree=None, random_state=42,\n",
       "                                     reg_alpha=None, reg_lambda=None,\n",
       "                                     scale_pos_weight=None, subsample=None,\n",
       "                                     tree_method=None, validate_parameters=None,\n",
       "                                     verbosity=None),\n",
       "             n_jobs=-1,\n",
       "             param_grid={'learning_rate': [0.25, 0.3, 0.325, 0.35],\n",
       "                         'max_depth': [25, 30, 35, 40],\n",
       "                         'min_child_weight': [10, 15, 20],\n",
       "                         'n_estimators': [175, 200, 225, 250]},\n",
       "             scoring='accuracy')"
      ]
     },
     "execution_count": 139,
     "metadata": {},
     "output_type": "execute_result"
    }
   ],
   "source": [
    "# hyperparameters Tuning-2\n",
    "xgb_model = XGBClassifier(random_state=42, n_jobs=-1)\n",
    "\n",
    "parameters = {'learning_rate': [0.25, 0.3, 0.325, 0.35],\n",
    "              'max_depth': [25, 30, 35, 40],\n",
    "              'min_child_weight': [10, 15, 20],\n",
    "              'n_estimators': [175, 200, 225, 250]}\n",
    "\n",
    "clf_xgb = GridSearchCV(estimator=xgb_model,\n",
    "                                       param_grid=parameters,\n",
    "                                       n_jobs=-1,\n",
    "                                       cv=3,\n",
    "                                       scoring='accuracy',\n",
    "                                       refit=True)\n",
    "\n",
    "clf_xgb.fit(X_train, y_train)"
   ]
  },
  {
   "cell_type": "code",
   "execution_count": 140,
   "metadata": {},
   "outputs": [
    {
     "name": "stdout",
     "output_type": "stream",
     "text": [
      "==================================================\n",
      "[[23925     0]\n",
      " [    0 23925]]\n",
      "              precision    recall  f1-score   support\n",
      "\n",
      "           0       1.00      1.00      1.00     23925\n",
      "           1       1.00      1.00      1.00     23925\n",
      "\n",
      "    accuracy                           1.00     47850\n",
      "   macro avg       1.00      1.00      1.00     47850\n",
      "weighted avg       1.00      1.00      1.00     47850\n",
      "\n",
      "Accuracy of TRAIN data: 100.0\n",
      "F1_Score of TRAIN data: 100.0\n",
      "==================================================\n",
      "[[10103   151]\n",
      " [  149   824]]\n",
      "              precision    recall  f1-score   support\n",
      "\n",
      "           0       0.99      0.99      0.99     10254\n",
      "           1       0.85      0.85      0.85       973\n",
      "\n",
      "    accuracy                           0.97     11227\n",
      "   macro avg       0.92      0.92      0.92     11227\n",
      "weighted avg       0.97      0.97      0.97     11227\n",
      "\n",
      "Accuracy of TEST data: 97.32787031263918\n",
      "F1_Score of TEST data: 91.56830143969482\n",
      "==================================================\n"
     ]
    },
    {
     "data": {
      "image/png": "[encoded data removed]",
      "text/plain": [
       "<Figure size 432x288 with 1 Axes>"
      ]
     },
     "metadata": {
      "needs_background": "light"
     },
     "output_type": "display_data"
    }
   ],
   "source": [
    "#prediction and evaluation after second parameter tuning-2\n",
    "xgb_best_model = clf_xgb.best_estimator_\n",
    "evaluation(xgb_best_model)"
   ]
  },
  {
   "cell_type": "markdown",
   "metadata": {},
   "source": [
    "## Using ANN"
   ]
  },
  {
   "cell_type": "code",
   "execution_count": 88,
   "metadata": {},
   "outputs": [],
   "source": [
    "# ANN Architecture\n",
    "model = keras.Sequential([\n",
    "    keras.layers.Dense(17, input_shape=(17,), activation='relu'),\n",
    "    keras.layers.Dense(15, activation='relu'),\n",
    "    keras.layers.Dense(10, activation='relu'),\n",
    "    keras.layers.Dense(1, activation='sigmoid')\n",
    "])\n",
    "\n",
    "model.compile(optimizer='adam',\n",
    "             loss='binary_crossentropy',\n",
    "             metrics=['accuracy'])"
   ]
  },
  {
   "cell_type": "code",
   "execution_count": 89,
   "metadata": {},
   "outputs": [
    {
     "name": "stdout",
     "output_type": "stream",
     "text": [
      "Epoch 1/20\n",
      "1496/1496 [==============================] - 4s 1ms/step - loss: 0.1466 - accuracy: 0.9396 - val_loss: 0.0786 - val_accuracy: 0.9605\n",
      "Epoch 2/20\n",
      "1496/1496 [==============================] - 2s 1ms/step - loss: 0.0971 - accuracy: 0.9583 - val_loss: 0.1035 - val_accuracy: 0.9494\n",
      "Epoch 3/20\n",
      "1496/1496 [==============================] - 2s 2ms/step - loss: 0.0940 - accuracy: 0.9603 - val_loss: 0.0846 - val_accuracy: 0.9560\n",
      "Epoch 4/20\n",
      "1496/1496 [==============================] - 2s 1ms/step - loss: 0.0927 - accuracy: 0.9610 - val_loss: 0.0877 - val_accuracy: 0.9526\n",
      "Epoch 5/20\n",
      "1496/1496 [==============================] - 2s 2ms/step - loss: 0.0912 - accuracy: 0.9612 - val_loss: 0.0849 - val_accuracy: 0.9526\n",
      "Epoch 6/20\n",
      "1496/1496 [==============================] - 3s 2ms/step - loss: 0.0900 - accuracy: 0.9619 - val_loss: 0.0700 - val_accuracy: 0.9629\n",
      "Epoch 7/20\n",
      "1496/1496 [==============================] - 2s 2ms/step - loss: 0.0898 - accuracy: 0.9621 - val_loss: 0.0816 - val_accuracy: 0.9545\n",
      "Epoch 8/20\n",
      "1496/1496 [==============================] - 3s 2ms/step - loss: 0.0879 - accuracy: 0.9627 - val_loss: 0.1042 - val_accuracy: 0.9417\n",
      "Epoch 9/20\n",
      "1496/1496 [==============================] - 3s 2ms/step - loss: 0.0864 - accuracy: 0.9634 - val_loss: 0.0666 - val_accuracy: 0.9613\n",
      "Epoch 10/20\n",
      "1496/1496 [==============================] - 3s 2ms/step - loss: 0.0863 - accuracy: 0.9637 - val_loss: 0.0952 - val_accuracy: 0.9462\n",
      "Epoch 11/20\n",
      "1496/1496 [==============================] - 2s 2ms/step - loss: 0.0847 - accuracy: 0.9642 - val_loss: 0.0976 - val_accuracy: 0.9435\n",
      "Epoch 12/20\n",
      "1496/1496 [==============================] - 2s 1ms/step - loss: 0.0833 - accuracy: 0.9650 - val_loss: 0.0744 - val_accuracy: 0.9579\n",
      "Epoch 13/20\n",
      "1496/1496 [==============================] - 3s 2ms/step - loss: 0.0824 - accuracy: 0.9647 - val_loss: 0.0982 - val_accuracy: 0.9477\n",
      "Epoch 14/20\n",
      "1496/1496 [==============================] - 2s 2ms/step - loss: 0.0815 - accuracy: 0.9655 - val_loss: 0.0818 - val_accuracy: 0.9521\n",
      "Epoch 15/20\n",
      "1496/1496 [==============================] - 2s 2ms/step - loss: 0.0799 - accuracy: 0.9667 - val_loss: 0.0759 - val_accuracy: 0.9579\n",
      "Epoch 16/20\n",
      "1496/1496 [==============================] - 3s 2ms/step - loss: 0.0793 - accuracy: 0.9668 - val_loss: 0.0844 - val_accuracy: 0.9515\n",
      "Epoch 17/20\n",
      "1496/1496 [==============================] - 3s 2ms/step - loss: 0.0780 - accuracy: 0.9680 - val_loss: 0.0883 - val_accuracy: 0.9489\n",
      "Epoch 18/20\n",
      "1496/1496 [==============================] - 2s 1ms/step - loss: 0.0771 - accuracy: 0.9676 - val_loss: 0.0802 - val_accuracy: 0.9548\n",
      "Epoch 19/20\n",
      "1496/1496 [==============================] - 2s 2ms/step - loss: 0.0756 - accuracy: 0.9693 - val_loss: 0.0852 - val_accuracy: 0.9523\n",
      "Epoch 20/20\n",
      "1496/1496 [==============================] - 2s 2ms/step - loss: 0.0749 - accuracy: 0.9693 - val_loss: 0.0954 - val_accuracy: 0.9496\n"
     ]
    }
   ],
   "source": [
    "epochs=20\n",
    "history = model.fit(X_train, y_train,epochs=epochs,\n",
    "         validation_data=(X_test, y_test))"
   ]
  },
  {
   "cell_type": "code",
   "execution_count": 90,
   "metadata": {},
   "outputs": [
    {
     "data": {
      "image/png": "[encoded data removed]",
      "text/plain": [
       "<Figure size 864x504 with 2 Axes>"
      ]
     },
     "metadata": {
      "needs_background": "light"
     },
     "output_type": "display_data"
    }
   ],
   "source": [
    "acc = history.history['accuracy']\n",
    "val_acc = history.history['val_accuracy']\n",
    "\n",
    "loss = history.history['loss']\n",
    "val_loss = history.history['val_loss']\n",
    "\n",
    "epochs_range = range(epochs)\n",
    "\n",
    "plt.figure(figsize=(12, 7))\n",
    "plt.subplot(1, 2, 1)\n",
    "plt.plot(epochs_range, acc, label='Training Accuracy')\n",
    "plt.plot(epochs_range, val_acc, label='Validation Accuracy')\n",
    "plt.legend(loc='lower right')\n",
    "plt.title('Training and Validation Accuracy')\n",
    "\n",
    "plt.subplot(1, 2, 2)\n",
    "plt.plot(epochs_range, loss, label='Training Loss')\n",
    "plt.plot(epochs_range, val_loss, label='Validation Loss')\n",
    "plt.legend(loc='upper right')\n",
    "plt.title('Training and Validation Loss')\n",
    "plt.show()"
   ]
  },
  {
   "cell_type": "code",
   "execution_count": 91,
   "metadata": {},
   "outputs": [
    {
     "name": "stdout",
     "output_type": "stream",
     "text": [
      "351/351 [==============================] - 0s 869us/step - loss: 0.0954 - accuracy: 0.9496\n"
     ]
    },
    {
     "data": {
      "text/plain": [
       "[0.09543143957853317, 0.9495857954025269]"
      ]
     },
     "execution_count": 91,
     "metadata": {},
     "output_type": "execute_result"
    }
   ],
   "source": [
    "model.evaluate(X_test, y_test)"
   ]
  },
  {
   "cell_type": "code",
   "execution_count": 92,
   "metadata": {},
   "outputs": [
    {
     "data": {
      "text/plain": [
       "array([[2.3171306e-04],\n",
       "       [3.8979806e-07],\n",
       "       [8.1118378e-06],\n",
       "       [2.1949558e-14],\n",
       "       [6.9800019e-04]], dtype=float32)"
      ]
     },
     "execution_count": 92,
     "metadata": {},
     "output_type": "execute_result"
    }
   ],
   "source": [
    "y_pred_test = model.predict(X_test)\n",
    "y_pred_test[:5]"
   ]
  },
  {
   "cell_type": "code",
   "execution_count": 93,
   "metadata": {},
   "outputs": [
    {
     "data": {
      "text/plain": [
       "array([2.3171306e-04, 3.8979806e-07, 8.1118378e-06, 2.1949558e-14,\n",
       "       6.9800019e-04, 1.0000000e+00, 7.8304744e-01, 3.9830293e-21,\n",
       "       1.6392599e-07, 5.1920519e-15], dtype=float32)"
      ]
     },
     "execution_count": 93,
     "metadata": {},
     "output_type": "execute_result"
    }
   ],
   "source": [
    "# converting 2D array to 1D array\n",
    "y_pred_test = np.reshape(y_pred_test, len(y_pred_test))\n",
    "y_pred_test[:10]"
   ]
  },
  {
   "cell_type": "code",
   "execution_count": 94,
   "metadata": {},
   "outputs": [
    {
     "data": {
      "text/html": [
       "<div>\n",
       "<style scoped>\n",
       "    .dataframe tbody tr th:only-of-type {\n",
       "        vertical-align: middle;\n",
       "    }\n",
       "\n",
       "    .dataframe tbody tr th {\n",
       "        vertical-align: top;\n",
       "    }\n",
       "\n",
       "    .dataframe thead th {\n",
       "        text-align: right;\n",
       "    }\n",
       "</style>\n",
       "<table border=\"1\" class=\"dataframe\">\n",
       "  <thead>\n",
       "    <tr style=\"text-align: right;\">\n",
       "      <th></th>\n",
       "      <th>CustIDs</th>\n",
       "      <th>Defaulters</th>\n",
       "      <th>Default_Prob</th>\n",
       "    </tr>\n",
       "  </thead>\n",
       "  <tbody>\n",
       "    <tr>\n",
       "      <th>0</th>\n",
       "      <td>38967</td>\n",
       "      <td>0</td>\n",
       "      <td>2.317131e-04</td>\n",
       "    </tr>\n",
       "    <tr>\n",
       "      <th>1</th>\n",
       "      <td>44459</td>\n",
       "      <td>0</td>\n",
       "      <td>3.897981e-07</td>\n",
       "    </tr>\n",
       "    <tr>\n",
       "      <th>2</th>\n",
       "      <td>17243</td>\n",
       "      <td>0</td>\n",
       "      <td>8.111838e-06</td>\n",
       "    </tr>\n",
       "    <tr>\n",
       "      <th>3</th>\n",
       "      <td>7277</td>\n",
       "      <td>0</td>\n",
       "      <td>2.194956e-14</td>\n",
       "    </tr>\n",
       "    <tr>\n",
       "      <th>4</th>\n",
       "      <td>15892</td>\n",
       "      <td>0</td>\n",
       "      <td>6.980002e-04</td>\n",
       "    </tr>\n",
       "  </tbody>\n",
       "</table>\n",
       "</div>"
      ],
      "text/plain": [
       "   CustIDs  Defaulters  Default_Prob\n",
       "0    38967           0  2.317131e-04\n",
       "1    44459           0  3.897981e-07\n",
       "2    17243           0  8.111838e-06\n",
       "3     7277           0  2.194956e-14\n",
       "4    15892           0  6.980002e-04"
      ]
     },
     "execution_count": 94,
     "metadata": {},
     "output_type": "execute_result"
    }
   ],
   "source": [
    "# create a dataframe for the probabilities\n",
    "new_evaluation_df = pd.DataFrame({'CustIDs': y_test.index, 'Defaulters': y_test.values, 'Default_Prob':y_pred_test})\n",
    "new_evaluation_df.head()"
   ]
  },
  {
   "cell_type": "code",
   "execution_count": 95,
   "metadata": {},
   "outputs": [],
   "source": [
    "# roc_auc curve\n",
    "def draw_roc( actual, probs ):\n",
    "    fpr, tpr, thresholds = metrics.roc_curve( actual, probs,\n",
    "                                              drop_intermediate = False )\n",
    "    auc_score = metrics.roc_auc_score( actual, probs )\n",
    "    plt.figure(figsize=(5, 5))\n",
    "    plt.plot( fpr, tpr, label='ROC curve (area = %0.2f)' % auc_score )\n",
    "    plt.plot([0, 1], [0, 1], 'k--')\n",
    "    plt.xlim([0.0, 1.0])\n",
    "    plt.ylim([0.0, 1.05])\n",
    "    plt.xlabel('False Positive Rate or [1 - True Negative Rate]')\n",
    "    plt.ylabel('True Positive Rate')\n",
    "    plt.title('Receiver operating characteristic example')\n",
    "    plt.legend(loc=\"lower right\")\n",
    "    plt.show()\n",
    "\n",
    "    return None"
   ]
  },
  {
   "cell_type": "code",
   "execution_count": 96,
   "metadata": {},
   "outputs": [],
   "source": [
    "fpr, tpr, thresholds = metrics.roc_curve( new_evaluation_df.Defaulters, new_evaluation_df.Default_Prob, drop_intermediate = False )"
   ]
  },
  {
   "cell_type": "code",
   "execution_count": 97,
   "metadata": {},
   "outputs": [
    {
     "data": {
      "image/png": "[encoded data removed]",
      "text/plain": [
       "<Figure size 360x360 with 1 Axes>"
      ]
     },
     "metadata": {
      "needs_background": "light"
     },
     "output_type": "display_data"
    }
   ],
   "source": [
    "draw_roc(new_evaluation_df.Defaulters, new_evaluation_df.Default_Prob)"
   ]
  },
  {
   "cell_type": "code",
   "execution_count": 98,
   "metadata": {},
   "outputs": [
    {
     "data": {
      "text/html": [
       "<div>\n",
       "<style scoped>\n",
       "    .dataframe tbody tr th:only-of-type {\n",
       "        vertical-align: middle;\n",
       "    }\n",
       "\n",
       "    .dataframe tbody tr th {\n",
       "        vertical-align: top;\n",
       "    }\n",
       "\n",
       "    .dataframe thead th {\n",
       "        text-align: right;\n",
       "    }\n",
       "</style>\n",
       "<table border=\"1\" class=\"dataframe\">\n",
       "  <thead>\n",
       "    <tr style=\"text-align: right;\">\n",
       "      <th></th>\n",
       "      <th>CustIDs</th>\n",
       "      <th>Defaulters</th>\n",
       "      <th>Default_Prob</th>\n",
       "      <th>0.0</th>\n",
       "      <th>0.1</th>\n",
       "      <th>0.2</th>\n",
       "      <th>0.3</th>\n",
       "      <th>0.4</th>\n",
       "      <th>0.5</th>\n",
       "      <th>0.6</th>\n",
       "      <th>0.7</th>\n",
       "      <th>0.8</th>\n",
       "      <th>0.9</th>\n",
       "    </tr>\n",
       "  </thead>\n",
       "  <tbody>\n",
       "    <tr>\n",
       "      <th>0</th>\n",
       "      <td>38967</td>\n",
       "      <td>0</td>\n",
       "      <td>2.317131e-04</td>\n",
       "      <td>1</td>\n",
       "      <td>0</td>\n",
       "      <td>0</td>\n",
       "      <td>0</td>\n",
       "      <td>0</td>\n",
       "      <td>0</td>\n",
       "      <td>0</td>\n",
       "      <td>0</td>\n",
       "      <td>0</td>\n",
       "      <td>0</td>\n",
       "    </tr>\n",
       "    <tr>\n",
       "      <th>1</th>\n",
       "      <td>44459</td>\n",
       "      <td>0</td>\n",
       "      <td>3.897981e-07</td>\n",
       "      <td>1</td>\n",
       "      <td>0</td>\n",
       "      <td>0</td>\n",
       "      <td>0</td>\n",
       "      <td>0</td>\n",
       "      <td>0</td>\n",
       "      <td>0</td>\n",
       "      <td>0</td>\n",
       "      <td>0</td>\n",
       "      <td>0</td>\n",
       "    </tr>\n",
       "    <tr>\n",
       "      <th>2</th>\n",
       "      <td>17243</td>\n",
       "      <td>0</td>\n",
       "      <td>8.111838e-06</td>\n",
       "      <td>1</td>\n",
       "      <td>0</td>\n",
       "      <td>0</td>\n",
       "      <td>0</td>\n",
       "      <td>0</td>\n",
       "      <td>0</td>\n",
       "      <td>0</td>\n",
       "      <td>0</td>\n",
       "      <td>0</td>\n",
       "      <td>0</td>\n",
       "    </tr>\n",
       "    <tr>\n",
       "      <th>3</th>\n",
       "      <td>7277</td>\n",
       "      <td>0</td>\n",
       "      <td>2.194956e-14</td>\n",
       "      <td>1</td>\n",
       "      <td>0</td>\n",
       "      <td>0</td>\n",
       "      <td>0</td>\n",
       "      <td>0</td>\n",
       "      <td>0</td>\n",
       "      <td>0</td>\n",
       "      <td>0</td>\n",
       "      <td>0</td>\n",
       "      <td>0</td>\n",
       "    </tr>\n",
       "    <tr>\n",
       "      <th>4</th>\n",
       "      <td>15892</td>\n",
       "      <td>0</td>\n",
       "      <td>6.980002e-04</td>\n",
       "      <td>1</td>\n",
       "      <td>0</td>\n",
       "      <td>0</td>\n",
       "      <td>0</td>\n",
       "      <td>0</td>\n",
       "      <td>0</td>\n",
       "      <td>0</td>\n",
       "      <td>0</td>\n",
       "      <td>0</td>\n",
       "      <td>0</td>\n",
       "    </tr>\n",
       "  </tbody>\n",
       "</table>\n",
       "</div>"
      ],
      "text/plain": [
       "   CustIDs  Defaulters  Default_Prob  0.0  0.1  0.2  0.3  0.4  0.5  0.6  0.7  \\\n",
       "0    38967           0  2.317131e-04    1    0    0    0    0    0    0    0   \n",
       "1    44459           0  3.897981e-07    1    0    0    0    0    0    0    0   \n",
       "2    17243           0  8.111838e-06    1    0    0    0    0    0    0    0   \n",
       "3     7277           0  2.194956e-14    1    0    0    0    0    0    0    0   \n",
       "4    15892           0  6.980002e-04    1    0    0    0    0    0    0    0   \n",
       "\n",
       "   0.8  0.9  \n",
       "0    0    0  \n",
       "1    0    0  \n",
       "2    0    0  \n",
       "3    0    0  \n",
       "4    0    0  "
      ]
     },
     "execution_count": 98,
     "metadata": {},
     "output_type": "execute_result"
    }
   ],
   "source": [
    "# Let's create columns with different probability cutoffs \n",
    "numbers = [float(x)/10 for x in range(10)]\n",
    "for i in numbers:\n",
    "    new_evaluation_df[i]= new_evaluation_df.Default_Prob.map(lambda x: 1 if x > i else 0)\n",
    "new_evaluation_df.head()"
   ]
  },
  {
   "cell_type": "code",
   "execution_count": 99,
   "metadata": {},
   "outputs": [
    {
     "name": "stdout",
     "output_type": "stream",
     "text": [
      "     prob  accuracy     sensi     speci\n",
      "0.0   0.0  0.086666  1.000000  0.000000\n",
      "0.1   0.1  0.932217  0.995889  0.926175\n",
      "0.2   0.2  0.938897  0.993834  0.933684\n",
      "0.3   0.3  0.943351  0.988695  0.939048\n",
      "0.4   0.4  0.946201  0.984584  0.942559\n",
      "0.5   0.5  0.949586  0.981501  0.946557\n",
      "0.6   0.6  0.951991  0.973279  0.949971\n",
      "0.7   0.7  0.956890  0.952724  0.957285\n",
      "0.8   0.8  0.966955  0.907503  0.972596\n",
      "0.9   0.9  0.976663  0.797533  0.993661\n"
     ]
    }
   ],
   "source": [
    "# Now let's calculate accuracy sensitivity and specificity for various probability cutoffs.\n",
    "cutoff_df = pd.DataFrame( columns = ['prob','accuracy','sensi','speci'])\n",
    "\n",
    "# TP = confusion[1,1] # true positive \n",
    "# TN = confusion[0,0] # true negatives\n",
    "# FP = confusion[0,1] # false positives\n",
    "# FN = confusion[1,0] # false negatives\n",
    "\n",
    "num = [0.0,0.1,0.2,0.3,0.4,0.5,0.6,0.7,0.8,0.9]\n",
    "for i in num:\n",
    "    cm1 = metrics.confusion_matrix(new_evaluation_df.Defaulters, new_evaluation_df[i] )\n",
    "    total1=sum(sum(cm1))\n",
    "    accuracy = (cm1[0,0]+cm1[1,1])/total1\n",
    "    \n",
    "    speci = cm1[0,0]/(cm1[0,0]+cm1[0,1])\n",
    "    sensi = cm1[1,1]/(cm1[1,0]+cm1[1,1])\n",
    "    cutoff_df.loc[i] =[ i ,accuracy,sensi,speci]\n",
    "print(cutoff_df)"
   ]
  },
  {
   "cell_type": "code",
   "execution_count": 100,
   "metadata": {},
   "outputs": [
    {
     "data": {
      "image/png": "[encoded data removed]",
      "text/plain": [
       "<Figure size 432x288 with 1 Axes>"
      ]
     },
     "metadata": {
      "needs_background": "light"
     },
     "output_type": "display_data"
    }
   ],
   "source": [
    "# Let's plot accuracy sensitivity and specificity for various probabilities.\n",
    "cutoff_df.plot.line(x='prob', y=['accuracy','sensi','speci'])\n",
    "plt.show()"
   ]
  },
  {
   "cell_type": "markdown",
   "metadata": {},
   "source": [
    "Lets add probabilities from 0.6 to 0.7"
   ]
  },
  {
   "cell_type": "code",
   "execution_count": 101,
   "metadata": {},
   "outputs": [
    {
     "data": {
      "text/html": [
       "<div>\n",
       "<style scoped>\n",
       "    .dataframe tbody tr th:only-of-type {\n",
       "        vertical-align: middle;\n",
       "    }\n",
       "\n",
       "    .dataframe tbody tr th {\n",
       "        vertical-align: top;\n",
       "    }\n",
       "\n",
       "    .dataframe thead th {\n",
       "        text-align: right;\n",
       "    }\n",
       "</style>\n",
       "<table border=\"1\" class=\"dataframe\">\n",
       "  <thead>\n",
       "    <tr style=\"text-align: right;\">\n",
       "      <th></th>\n",
       "      <th>CustIDs</th>\n",
       "      <th>Defaulters</th>\n",
       "      <th>Default_Prob</th>\n",
       "      <th>0.0</th>\n",
       "      <th>0.1</th>\n",
       "      <th>0.2</th>\n",
       "      <th>0.3</th>\n",
       "      <th>0.4</th>\n",
       "      <th>0.5</th>\n",
       "      <th>0.6</th>\n",
       "      <th>...</th>\n",
       "      <th>0.9</th>\n",
       "      <th>0.61</th>\n",
       "      <th>0.62</th>\n",
       "      <th>0.63</th>\n",
       "      <th>0.64</th>\n",
       "      <th>0.65</th>\n",
       "      <th>0.66</th>\n",
       "      <th>0.67</th>\n",
       "      <th>0.68</th>\n",
       "      <th>0.69</th>\n",
       "    </tr>\n",
       "  </thead>\n",
       "  <tbody>\n",
       "    <tr>\n",
       "      <th>0</th>\n",
       "      <td>38967</td>\n",
       "      <td>0</td>\n",
       "      <td>2.317131e-04</td>\n",
       "      <td>1</td>\n",
       "      <td>0</td>\n",
       "      <td>0</td>\n",
       "      <td>0</td>\n",
       "      <td>0</td>\n",
       "      <td>0</td>\n",
       "      <td>0</td>\n",
       "      <td>...</td>\n",
       "      <td>0</td>\n",
       "      <td>0</td>\n",
       "      <td>0</td>\n",
       "      <td>0</td>\n",
       "      <td>0</td>\n",
       "      <td>0</td>\n",
       "      <td>0</td>\n",
       "      <td>0</td>\n",
       "      <td>0</td>\n",
       "      <td>0</td>\n",
       "    </tr>\n",
       "    <tr>\n",
       "      <th>1</th>\n",
       "      <td>44459</td>\n",
       "      <td>0</td>\n",
       "      <td>3.897981e-07</td>\n",
       "      <td>1</td>\n",
       "      <td>0</td>\n",
       "      <td>0</td>\n",
       "      <td>0</td>\n",
       "      <td>0</td>\n",
       "      <td>0</td>\n",
       "      <td>0</td>\n",
       "      <td>...</td>\n",
       "      <td>0</td>\n",
       "      <td>0</td>\n",
       "      <td>0</td>\n",
       "      <td>0</td>\n",
       "      <td>0</td>\n",
       "      <td>0</td>\n",
       "      <td>0</td>\n",
       "      <td>0</td>\n",
       "      <td>0</td>\n",
       "      <td>0</td>\n",
       "    </tr>\n",
       "    <tr>\n",
       "      <th>2</th>\n",
       "      <td>17243</td>\n",
       "      <td>0</td>\n",
       "      <td>8.111838e-06</td>\n",
       "      <td>1</td>\n",
       "      <td>0</td>\n",
       "      <td>0</td>\n",
       "      <td>0</td>\n",
       "      <td>0</td>\n",
       "      <td>0</td>\n",
       "      <td>0</td>\n",
       "      <td>...</td>\n",
       "      <td>0</td>\n",
       "      <td>0</td>\n",
       "      <td>0</td>\n",
       "      <td>0</td>\n",
       "      <td>0</td>\n",
       "      <td>0</td>\n",
       "      <td>0</td>\n",
       "      <td>0</td>\n",
       "      <td>0</td>\n",
       "      <td>0</td>\n",
       "    </tr>\n",
       "    <tr>\n",
       "      <th>3</th>\n",
       "      <td>7277</td>\n",
       "      <td>0</td>\n",
       "      <td>2.194956e-14</td>\n",
       "      <td>1</td>\n",
       "      <td>0</td>\n",
       "      <td>0</td>\n",
       "      <td>0</td>\n",
       "      <td>0</td>\n",
       "      <td>0</td>\n",
       "      <td>0</td>\n",
       "      <td>...</td>\n",
       "      <td>0</td>\n",
       "      <td>0</td>\n",
       "      <td>0</td>\n",
       "      <td>0</td>\n",
       "      <td>0</td>\n",
       "      <td>0</td>\n",
       "      <td>0</td>\n",
       "      <td>0</td>\n",
       "      <td>0</td>\n",
       "      <td>0</td>\n",
       "    </tr>\n",
       "    <tr>\n",
       "      <th>4</th>\n",
       "      <td>15892</td>\n",
       "      <td>0</td>\n",
       "      <td>6.980002e-04</td>\n",
       "      <td>1</td>\n",
       "      <td>0</td>\n",
       "      <td>0</td>\n",
       "      <td>0</td>\n",
       "      <td>0</td>\n",
       "      <td>0</td>\n",
       "      <td>0</td>\n",
       "      <td>...</td>\n",
       "      <td>0</td>\n",
       "      <td>0</td>\n",
       "      <td>0</td>\n",
       "      <td>0</td>\n",
       "      <td>0</td>\n",
       "      <td>0</td>\n",
       "      <td>0</td>\n",
       "      <td>0</td>\n",
       "      <td>0</td>\n",
       "      <td>0</td>\n",
       "    </tr>\n",
       "  </tbody>\n",
       "</table>\n",
       "<p>5 rows × 22 columns</p>\n",
       "</div>"
      ],
      "text/plain": [
       "   CustIDs  Defaulters  Default_Prob  0.0  0.1  0.2  0.3  0.4  0.5  0.6  ...  \\\n",
       "0    38967           0  2.317131e-04    1    0    0    0    0    0    0  ...   \n",
       "1    44459           0  3.897981e-07    1    0    0    0    0    0    0  ...   \n",
       "2    17243           0  8.111838e-06    1    0    0    0    0    0    0  ...   \n",
       "3     7277           0  2.194956e-14    1    0    0    0    0    0    0  ...   \n",
       "4    15892           0  6.980002e-04    1    0    0    0    0    0    0  ...   \n",
       "\n",
       "   0.9  0.61  0.62  0.63  0.64  0.65  0.66  0.67  0.68  0.69  \n",
       "0    0     0     0     0     0     0     0     0     0     0  \n",
       "1    0     0     0     0     0     0     0     0     0     0  \n",
       "2    0     0     0     0     0     0     0     0     0     0  \n",
       "3    0     0     0     0     0     0     0     0     0     0  \n",
       "4    0     0     0     0     0     0     0     0     0     0  \n",
       "\n",
       "[5 rows x 22 columns]"
      ]
     },
     "execution_count": 101,
     "metadata": {},
     "output_type": "execute_result"
    }
   ],
   "source": [
    "numbers = [float(x)/100 for x in range(61,70)]\n",
    "for i in numbers:\n",
    "    new_evaluation_df[i]= new_evaluation_df.Default_Prob.map(lambda x: 1 if x > i else 0)\n",
    "new_evaluation_df.head()"
   ]
  },
  {
   "cell_type": "code",
   "execution_count": 102,
   "metadata": {},
   "outputs": [
    {
     "name": "stdout",
     "output_type": "stream",
     "text": [
      "      prob  accuracy     sensi     speci\n",
      "0.60  0.60  0.951991  0.973279  0.949971\n",
      "0.61  0.61  0.952347  0.973279  0.950361\n",
      "0.62  0.62  0.952525  0.971223  0.950751\n",
      "0.63  0.63  0.953149  0.970195  0.951531\n",
      "0.64  0.64  0.953149  0.966084  0.951921\n",
      "0.65  0.65  0.953950  0.964029  0.952994\n",
      "0.66  0.66  0.954663  0.964029  0.953774\n",
      "0.67  0.67  0.955554  0.961973  0.954944\n",
      "0.68  0.68  0.955910  0.959918  0.955530\n",
      "0.69  0.69  0.956088  0.955807  0.956115\n",
      "0.70  0.70  0.956890  0.952724  0.957285\n"
     ]
    }
   ],
   "source": [
    "# Now let's calculate accuracy sensitivity and specificity for various probability cutoffs.\n",
    "cutoff_df = pd.DataFrame( columns = ['prob','accuracy','sensi','speci'])\n",
    "\n",
    "# TP = confusion[1,1] # true positive \n",
    "# TN = confusion[0,0] # true negatives\n",
    "# FP = confusion[0,1] # false positives\n",
    "# FN = confusion[1,0] # false negatives\n",
    "\n",
    "num = [0.60, 0.61, 0.62, 0.63, 0.64, 0.65, 0.66, 0.67, 0.68, 0.69, 0.70]\n",
    "for i in num:\n",
    "    cm1 = metrics.confusion_matrix(new_evaluation_df.Defaulters, new_evaluation_df[i] )\n",
    "    total1=sum(sum(cm1))\n",
    "    accuracy = (cm1[0,0]+cm1[1,1])/total1\n",
    "    \n",
    "    speci = cm1[0,0]/(cm1[0,0]+cm1[0,1])\n",
    "    sensi = cm1[1,1]/(cm1[1,0]+cm1[1,1])\n",
    "    cutoff_df.loc[i] =[ i ,accuracy,sensi,speci]\n",
    "print(cutoff_df)"
   ]
  },
  {
   "cell_type": "code",
   "execution_count": 103,
   "metadata": {},
   "outputs": [
    {
     "data": {
      "image/png": "[encoded data removed]",
      "text/plain": [
       "<Figure size 432x288 with 1 Axes>"
      ]
     },
     "metadata": {
      "needs_background": "light"
     },
     "output_type": "display_data"
    }
   ],
   "source": [
    "# Let's plot accuracy sensitivity and specificity for various probabilities.\n",
    "cutoff_df.plot.line(x='prob', y=['accuracy','sensi','speci'])\n",
    "plt.show()"
   ]
  },
  {
   "cell_type": "markdown",
   "metadata": {},
   "source": [
    "From the above graph the cutoff point could be around **prob=0.675**"
   ]
  },
  {
   "cell_type": "code",
   "execution_count": 104,
   "metadata": {},
   "outputs": [
    {
     "data": {
      "text/html": [
       "<div>\n",
       "<style scoped>\n",
       "    .dataframe tbody tr th:only-of-type {\n",
       "        vertical-align: middle;\n",
       "    }\n",
       "\n",
       "    .dataframe tbody tr th {\n",
       "        vertical-align: top;\n",
       "    }\n",
       "\n",
       "    .dataframe thead th {\n",
       "        text-align: right;\n",
       "    }\n",
       "</style>\n",
       "<table border=\"1\" class=\"dataframe\">\n",
       "  <thead>\n",
       "    <tr style=\"text-align: right;\">\n",
       "      <th></th>\n",
       "      <th>CustIDs</th>\n",
       "      <th>Defaulters</th>\n",
       "      <th>Default_Prob</th>\n",
       "      <th>0.0</th>\n",
       "      <th>0.1</th>\n",
       "      <th>0.2</th>\n",
       "      <th>0.3</th>\n",
       "      <th>0.4</th>\n",
       "      <th>0.5</th>\n",
       "      <th>0.6</th>\n",
       "      <th>...</th>\n",
       "      <th>0.61</th>\n",
       "      <th>0.62</th>\n",
       "      <th>0.63</th>\n",
       "      <th>0.64</th>\n",
       "      <th>0.65</th>\n",
       "      <th>0.66</th>\n",
       "      <th>0.67</th>\n",
       "      <th>0.68</th>\n",
       "      <th>0.69</th>\n",
       "      <th>0.675</th>\n",
       "    </tr>\n",
       "  </thead>\n",
       "  <tbody>\n",
       "    <tr>\n",
       "      <th>0</th>\n",
       "      <td>38967</td>\n",
       "      <td>0</td>\n",
       "      <td>2.317131e-04</td>\n",
       "      <td>1</td>\n",
       "      <td>0</td>\n",
       "      <td>0</td>\n",
       "      <td>0</td>\n",
       "      <td>0</td>\n",
       "      <td>0</td>\n",
       "      <td>0</td>\n",
       "      <td>...</td>\n",
       "      <td>0</td>\n",
       "      <td>0</td>\n",
       "      <td>0</td>\n",
       "      <td>0</td>\n",
       "      <td>0</td>\n",
       "      <td>0</td>\n",
       "      <td>0</td>\n",
       "      <td>0</td>\n",
       "      <td>0</td>\n",
       "      <td>0</td>\n",
       "    </tr>\n",
       "    <tr>\n",
       "      <th>1</th>\n",
       "      <td>44459</td>\n",
       "      <td>0</td>\n",
       "      <td>3.897981e-07</td>\n",
       "      <td>1</td>\n",
       "      <td>0</td>\n",
       "      <td>0</td>\n",
       "      <td>0</td>\n",
       "      <td>0</td>\n",
       "      <td>0</td>\n",
       "      <td>0</td>\n",
       "      <td>...</td>\n",
       "      <td>0</td>\n",
       "      <td>0</td>\n",
       "      <td>0</td>\n",
       "      <td>0</td>\n",
       "      <td>0</td>\n",
       "      <td>0</td>\n",
       "      <td>0</td>\n",
       "      <td>0</td>\n",
       "      <td>0</td>\n",
       "      <td>0</td>\n",
       "    </tr>\n",
       "    <tr>\n",
       "      <th>2</th>\n",
       "      <td>17243</td>\n",
       "      <td>0</td>\n",
       "      <td>8.111838e-06</td>\n",
       "      <td>1</td>\n",
       "      <td>0</td>\n",
       "      <td>0</td>\n",
       "      <td>0</td>\n",
       "      <td>0</td>\n",
       "      <td>0</td>\n",
       "      <td>0</td>\n",
       "      <td>...</td>\n",
       "      <td>0</td>\n",
       "      <td>0</td>\n",
       "      <td>0</td>\n",
       "      <td>0</td>\n",
       "      <td>0</td>\n",
       "      <td>0</td>\n",
       "      <td>0</td>\n",
       "      <td>0</td>\n",
       "      <td>0</td>\n",
       "      <td>0</td>\n",
       "    </tr>\n",
       "    <tr>\n",
       "      <th>3</th>\n",
       "      <td>7277</td>\n",
       "      <td>0</td>\n",
       "      <td>2.194956e-14</td>\n",
       "      <td>1</td>\n",
       "      <td>0</td>\n",
       "      <td>0</td>\n",
       "      <td>0</td>\n",
       "      <td>0</td>\n",
       "      <td>0</td>\n",
       "      <td>0</td>\n",
       "      <td>...</td>\n",
       "      <td>0</td>\n",
       "      <td>0</td>\n",
       "      <td>0</td>\n",
       "      <td>0</td>\n",
       "      <td>0</td>\n",
       "      <td>0</td>\n",
       "      <td>0</td>\n",
       "      <td>0</td>\n",
       "      <td>0</td>\n",
       "      <td>0</td>\n",
       "    </tr>\n",
       "    <tr>\n",
       "      <th>4</th>\n",
       "      <td>15892</td>\n",
       "      <td>0</td>\n",
       "      <td>6.980002e-04</td>\n",
       "      <td>1</td>\n",
       "      <td>0</td>\n",
       "      <td>0</td>\n",
       "      <td>0</td>\n",
       "      <td>0</td>\n",
       "      <td>0</td>\n",
       "      <td>0</td>\n",
       "      <td>...</td>\n",
       "      <td>0</td>\n",
       "      <td>0</td>\n",
       "      <td>0</td>\n",
       "      <td>0</td>\n",
       "      <td>0</td>\n",
       "      <td>0</td>\n",
       "      <td>0</td>\n",
       "      <td>0</td>\n",
       "      <td>0</td>\n",
       "      <td>0</td>\n",
       "    </tr>\n",
       "  </tbody>\n",
       "</table>\n",
       "<p>5 rows × 23 columns</p>\n",
       "</div>"
      ],
      "text/plain": [
       "   CustIDs  Defaulters  Default_Prob  0.0  0.1  0.2  0.3  0.4  0.5  0.6  ...  \\\n",
       "0    38967           0  2.317131e-04    1    0    0    0    0    0    0  ...   \n",
       "1    44459           0  3.897981e-07    1    0    0    0    0    0    0  ...   \n",
       "2    17243           0  8.111838e-06    1    0    0    0    0    0    0  ...   \n",
       "3     7277           0  2.194956e-14    1    0    0    0    0    0    0  ...   \n",
       "4    15892           0  6.980002e-04    1    0    0    0    0    0    0  ...   \n",
       "\n",
       "   0.61  0.62  0.63  0.64  0.65  0.66  0.67  0.68  0.69  0.675  \n",
       "0     0     0     0     0     0     0     0     0     0      0  \n",
       "1     0     0     0     0     0     0     0     0     0      0  \n",
       "2     0     0     0     0     0     0     0     0     0      0  \n",
       "3     0     0     0     0     0     0     0     0     0      0  \n",
       "4     0     0     0     0     0     0     0     0     0      0  \n",
       "\n",
       "[5 rows x 23 columns]"
      ]
     },
     "execution_count": 104,
     "metadata": {},
     "output_type": "execute_result"
    }
   ],
   "source": [
    "# setting cutoff point at 0.675\n",
    "new_evaluation_df['0.675']= new_evaluation_df.Default_Prob.map(lambda x: 1 if x > 0.675 else 0)\n",
    "new_evaluation_df.head()"
   ]
  },
  {
   "cell_type": "code",
   "execution_count": null,
   "metadata": {},
   "outputs": [],
   "source": []
  },
  {
   "cell_type": "code",
   "execution_count": null,
   "metadata": {},
   "outputs": [],
   "source": []
  },
  {
   "cell_type": "code",
   "execution_count": null,
   "metadata": {},
   "outputs": [],
   "source": []
  },
  {
   "cell_type": "code",
   "execution_count": null,
   "metadata": {},
   "outputs": [],
   "source": []
  },
  {
   "cell_type": "code",
   "execution_count": null,
   "metadata": {},
   "outputs": [],
   "source": []
  },
  {
   "cell_type": "markdown",
   "metadata": {},
   "source": [
    "## Predict on Actual TEST Data"
   ]
  },
  {
   "cell_type": "code",
   "execution_count": 105,
   "metadata": {
    "execution": {
     "iopub.execute_input": "2021-12-05T11:52:44.891022Z",
     "iopub.status.busy": "2021-12-05T11:52:44.890530Z",
     "iopub.status.idle": "2021-12-05T11:52:44.919988Z",
     "shell.execute_reply": "2021-12-05T11:52:44.919193Z",
     "shell.execute_reply.started": "2021-12-05T11:52:44.890991Z"
    }
   },
   "outputs": [
    {
     "data": {
      "text/html": [
       "<div>\n",
       "<style scoped>\n",
       "    .dataframe tbody tr th:only-of-type {\n",
       "        vertical-align: middle;\n",
       "    }\n",
       "\n",
       "    .dataframe tbody tr th {\n",
       "        vertical-align: top;\n",
       "    }\n",
       "\n",
       "    .dataframe thead th {\n",
       "        text-align: right;\n",
       "    }\n",
       "</style>\n",
       "<table border=\"1\" class=\"dataframe\">\n",
       "  <thead>\n",
       "    <tr style=\"text-align: right;\">\n",
       "      <th></th>\n",
       "      <th>customer_id</th>\n",
       "      <th>name</th>\n",
       "      <th>age</th>\n",
       "      <th>gender</th>\n",
       "      <th>owns_car</th>\n",
       "      <th>owns_house</th>\n",
       "      <th>no_of_children</th>\n",
       "      <th>net_yearly_income</th>\n",
       "      <th>no_of_days_employed</th>\n",
       "      <th>occupation_type</th>\n",
       "      <th>total_family_members</th>\n",
       "      <th>migrant_worker</th>\n",
       "      <th>yearly_debt_payments</th>\n",
       "      <th>credit_limit</th>\n",
       "      <th>credit_limit_used(%)</th>\n",
       "      <th>credit_score</th>\n",
       "      <th>prev_defaults</th>\n",
       "      <th>default_in_last_6months</th>\n",
       "    </tr>\n",
       "  </thead>\n",
       "  <tbody>\n",
       "    <tr>\n",
       "      <th>0</th>\n",
       "      <td>CST_142525</td>\n",
       "      <td>Siva</td>\n",
       "      <td>52</td>\n",
       "      <td>F</td>\n",
       "      <td>Y</td>\n",
       "      <td>N</td>\n",
       "      <td>0.0</td>\n",
       "      <td>232640.53</td>\n",
       "      <td>998.0</td>\n",
       "      <td>Unknown</td>\n",
       "      <td>2.0</td>\n",
       "      <td>0.0</td>\n",
       "      <td>14406.73</td>\n",
       "      <td>26524.40</td>\n",
       "      <td>4</td>\n",
       "      <td>779.0</td>\n",
       "      <td>0</td>\n",
       "      <td>0</td>\n",
       "    </tr>\n",
       "    <tr>\n",
       "      <th>1</th>\n",
       "      <td>CST_129215</td>\n",
       "      <td>Scott</td>\n",
       "      <td>48</td>\n",
       "      <td>F</td>\n",
       "      <td>N</td>\n",
       "      <td>N</td>\n",
       "      <td>1.0</td>\n",
       "      <td>284396.79</td>\n",
       "      <td>1338.0</td>\n",
       "      <td>Unknown</td>\n",
       "      <td>3.0</td>\n",
       "      <td>0.0</td>\n",
       "      <td>57479.99</td>\n",
       "      <td>68998.72</td>\n",
       "      <td>70</td>\n",
       "      <td>806.0</td>\n",
       "      <td>0</td>\n",
       "      <td>0</td>\n",
       "    </tr>\n",
       "    <tr>\n",
       "      <th>2</th>\n",
       "      <td>CST_138443</td>\n",
       "      <td>Victoria</td>\n",
       "      <td>50</td>\n",
       "      <td>F</td>\n",
       "      <td>N</td>\n",
       "      <td>N</td>\n",
       "      <td>1.0</td>\n",
       "      <td>149419.28</td>\n",
       "      <td>1210.0</td>\n",
       "      <td>Unknown</td>\n",
       "      <td>3.0</td>\n",
       "      <td>0.0</td>\n",
       "      <td>21611.01</td>\n",
       "      <td>25187.80</td>\n",
       "      <td>71</td>\n",
       "      <td>528.0</td>\n",
       "      <td>2</td>\n",
       "      <td>0</td>\n",
       "    </tr>\n",
       "    <tr>\n",
       "      <th>3</th>\n",
       "      <td>CST_123812</td>\n",
       "      <td>John McCrank</td>\n",
       "      <td>30</td>\n",
       "      <td>F</td>\n",
       "      <td>N</td>\n",
       "      <td>N</td>\n",
       "      <td>1.0</td>\n",
       "      <td>160437.54</td>\n",
       "      <td>503.0</td>\n",
       "      <td>Laborers</td>\n",
       "      <td>2.0</td>\n",
       "      <td>1.0</td>\n",
       "      <td>28990.76</td>\n",
       "      <td>29179.39</td>\n",
       "      <td>9</td>\n",
       "      <td>815.0</td>\n",
       "      <td>0</td>\n",
       "      <td>0</td>\n",
       "    </tr>\n",
       "    <tr>\n",
       "      <th>4</th>\n",
       "      <td>CST_144450</td>\n",
       "      <td>Martinne</td>\n",
       "      <td>52</td>\n",
       "      <td>M</td>\n",
       "      <td>N</td>\n",
       "      <td>Y</td>\n",
       "      <td>0.0</td>\n",
       "      <td>233480.37</td>\n",
       "      <td>157.0</td>\n",
       "      <td>Laborers</td>\n",
       "      <td>2.0</td>\n",
       "      <td>1.0</td>\n",
       "      <td>54213.72</td>\n",
       "      <td>82331.82</td>\n",
       "      <td>82</td>\n",
       "      <td>613.0</td>\n",
       "      <td>1</td>\n",
       "      <td>1</td>\n",
       "    </tr>\n",
       "  </tbody>\n",
       "</table>\n",
       "</div>"
      ],
      "text/plain": [
       "  customer_id          name  age gender owns_car owns_house  no_of_children  \\\n",
       "0  CST_142525          Siva   52      F        Y          N             0.0   \n",
       "1  CST_129215         Scott   48      F        N          N             1.0   \n",
       "2  CST_138443      Victoria   50      F        N          N             1.0   \n",
       "3  CST_123812  John McCrank   30      F        N          N             1.0   \n",
       "4  CST_144450      Martinne   52      M        N          Y             0.0   \n",
       "\n",
       "   net_yearly_income  no_of_days_employed occupation_type  \\\n",
       "0          232640.53                998.0         Unknown   \n",
       "1          284396.79               1338.0         Unknown   \n",
       "2          149419.28               1210.0         Unknown   \n",
       "3          160437.54                503.0        Laborers   \n",
       "4          233480.37                157.0        Laborers   \n",
       "\n",
       "   total_family_members  migrant_worker  yearly_debt_payments  credit_limit  \\\n",
       "0                   2.0             0.0              14406.73      26524.40   \n",
       "1                   3.0             0.0              57479.99      68998.72   \n",
       "2                   3.0             0.0              21611.01      25187.80   \n",
       "3                   2.0             1.0              28990.76      29179.39   \n",
       "4                   2.0             1.0              54213.72      82331.82   \n",
       "\n",
       "   credit_limit_used(%)  credit_score  prev_defaults  default_in_last_6months  \n",
       "0                     4         779.0              0                        0  \n",
       "1                    70         806.0              0                        0  \n",
       "2                    71         528.0              2                        0  \n",
       "3                     9         815.0              0                        0  \n",
       "4                    82         613.0              1                        1  "
      ]
     },
     "execution_count": 105,
     "metadata": {},
     "output_type": "execute_result"
    }
   ],
   "source": [
    "test_data.head()"
   ]
  },
  {
   "cell_type": "code",
   "execution_count": 106,
   "metadata": {
    "execution": {
     "iopub.execute_input": "2021-12-05T11:52:44.922422Z",
     "iopub.status.busy": "2021-12-05T11:52:44.921457Z",
     "iopub.status.idle": "2021-12-05T11:52:44.933855Z",
     "shell.execute_reply": "2021-12-05T11:52:44.933159Z",
     "shell.execute_reply.started": "2021-12-05T11:52:44.922376Z"
    }
   },
   "outputs": [
    {
     "data": {
      "text/plain": [
       "(11383, 18)"
      ]
     },
     "execution_count": 106,
     "metadata": {},
     "output_type": "execute_result"
    }
   ],
   "source": [
    "test_data.shape"
   ]
  },
  {
   "cell_type": "code",
   "execution_count": 107,
   "metadata": {
    "execution": {
     "iopub.execute_input": "2021-12-05T11:52:44.935428Z",
     "iopub.status.busy": "2021-12-05T11:52:44.935036Z",
     "iopub.status.idle": "2021-12-05T11:52:44.957596Z",
     "shell.execute_reply": "2021-12-05T11:52:44.956836Z",
     "shell.execute_reply.started": "2021-12-05T11:52:44.935399Z"
    }
   },
   "outputs": [
    {
     "data": {
      "text/plain": [
       "customer_id                0.000000\n",
       "name                       0.000000\n",
       "age                        0.000000\n",
       "gender                     0.000000\n",
       "owns_car                   1.159624\n",
       "owns_house                 0.000000\n",
       "no_of_children             1.669156\n",
       "net_yearly_income          0.000000\n",
       "no_of_days_employed        0.922428\n",
       "occupation_type            0.000000\n",
       "total_family_members       0.272336\n",
       "migrant_worker             0.228411\n",
       "yearly_debt_payments       0.193271\n",
       "credit_limit               0.000000\n",
       "credit_limit_used(%)       0.000000\n",
       "credit_score               0.026355\n",
       "prev_defaults              0.000000\n",
       "default_in_last_6months    0.000000\n",
       "dtype: float64"
      ]
     },
     "execution_count": 107,
     "metadata": {},
     "output_type": "execute_result"
    }
   ],
   "source": [
    "test_data.isna().mean()*100"
   ]
  },
  {
   "cell_type": "code",
   "execution_count": 108,
   "metadata": {
    "execution": {
     "iopub.execute_input": "2021-12-05T11:52:44.958993Z",
     "iopub.status.busy": "2021-12-05T11:52:44.958670Z",
     "iopub.status.idle": "2021-12-05T11:52:44.975248Z",
     "shell.execute_reply": "2021-12-05T11:52:44.974719Z",
     "shell.execute_reply.started": "2021-12-05T11:52:44.958965Z"
    }
   },
   "outputs": [
    {
     "data": {
      "text/plain": [
       "no_of_children          190\n",
       "owns_car                132\n",
       "no_of_days_employed     105\n",
       "total_family_members     31\n",
       "migrant_worker           26\n",
       "yearly_debt_payments     22\n",
       "credit_score              3\n",
       "customer_id               0\n",
       "prev_defaults             0\n",
       "credit_limit_used(%)      0\n",
       "dtype: int64"
      ]
     },
     "execution_count": 108,
     "metadata": {},
     "output_type": "execute_result"
    }
   ],
   "source": [
    "test_data.isna().sum().sort_values(ascending=False).head(10)"
   ]
  },
  {
   "cell_type": "markdown",
   "metadata": {},
   "source": [
    "impute <i>no_of_children</i> with mode of the data\n",
    "\n",
    "impute <i>owns_car</i> using mode of the data\n",
    "\n",
    "impute <i>no_of_days_employed</i> using median of the data"
   ]
  },
  {
   "cell_type": "code",
   "execution_count": 109,
   "metadata": {
    "execution": {
     "iopub.execute_input": "2021-12-05T11:52:44.976511Z",
     "iopub.status.busy": "2021-12-05T11:52:44.976207Z",
     "iopub.status.idle": "2021-12-05T11:52:44.987144Z",
     "shell.execute_reply": "2021-12-05T11:52:44.986402Z",
     "shell.execute_reply.started": "2021-12-05T11:52:44.976484Z"
    }
   },
   "outputs": [],
   "source": [
    "# fill no_of_children with mode of the data\n",
    "test_data['no_of_children'].fillna(test_data['no_of_children'].mode()[0], inplace=True)\n",
    "\n",
    "# fill owns_car with mode of the data\n",
    "test_data['owns_car'].fillna(test_data['owns_car'].mode()[0], inplace=True)\n",
    "\n",
    "# fill no_of_days_employed with median of the data\n",
    "test_data['no_of_days_employed'].fillna(test_data['no_of_days_employed'].median(), inplace=True)"
   ]
  },
  {
   "cell_type": "markdown",
   "metadata": {},
   "source": [
    "impute <i>total_family_members</i> with mode, <i>migrant_worker</i> with mode, <i>yearly_debt_payments</i> with median and <i>credit_score</i> with median"
   ]
  },
  {
   "cell_type": "code",
   "execution_count": 110,
   "metadata": {
    "execution": {
     "iopub.execute_input": "2021-12-05T11:52:44.996081Z",
     "iopub.status.busy": "2021-12-05T11:52:44.995815Z",
     "iopub.status.idle": "2021-12-05T11:52:45.005214Z",
     "shell.execute_reply": "2021-12-05T11:52:45.004668Z",
     "shell.execute_reply.started": "2021-12-05T11:52:44.996050Z"
    }
   },
   "outputs": [],
   "source": [
    "# fillna wrt to their medians and modes\n",
    "test_data['total_family_members'].fillna(test_data['total_family_members'].mode()[0], inplace=True)\n",
    "test_data['migrant_worker'].fillna(test_data['migrant_worker'].mode()[0], inplace=True)\n",
    "test_data['yearly_debt_payments'].fillna(test_data['yearly_debt_payments'].median(), inplace=True)\n",
    "test_data['credit_score'].fillna(test_data['credit_score'].median(), inplace=True)"
   ]
  },
  {
   "cell_type": "code",
   "execution_count": 111,
   "metadata": {
    "execution": {
     "iopub.execute_input": "2021-12-05T11:52:45.007037Z",
     "iopub.status.busy": "2021-12-05T11:52:45.006300Z",
     "iopub.status.idle": "2021-12-05T11:52:45.027245Z",
     "shell.execute_reply": "2021-12-05T11:52:45.026676Z",
     "shell.execute_reply.started": "2021-12-05T11:52:45.006991Z"
    }
   },
   "outputs": [
    {
     "data": {
      "text/plain": [
       "customer_id                0\n",
       "name                       0\n",
       "age                        0\n",
       "gender                     0\n",
       "owns_car                   0\n",
       "owns_house                 0\n",
       "no_of_children             0\n",
       "net_yearly_income          0\n",
       "no_of_days_employed        0\n",
       "occupation_type            0\n",
       "total_family_members       0\n",
       "migrant_worker             0\n",
       "yearly_debt_payments       0\n",
       "credit_limit               0\n",
       "credit_limit_used(%)       0\n",
       "credit_score               0\n",
       "prev_defaults              0\n",
       "default_in_last_6months    0\n",
       "dtype: int64"
      ]
     },
     "execution_count": 111,
     "metadata": {},
     "output_type": "execute_result"
    }
   ],
   "source": [
    "# check for null values\n",
    "test_data.isna().sum()"
   ]
  },
  {
   "cell_type": "code",
   "execution_count": 112,
   "metadata": {
    "execution": {
     "iopub.execute_input": "2021-12-05T11:52:45.028823Z",
     "iopub.status.busy": "2021-12-05T11:52:45.028112Z",
     "iopub.status.idle": "2021-12-05T11:52:45.051721Z",
     "shell.execute_reply": "2021-12-05T11:52:45.050835Z",
     "shell.execute_reply.started": "2021-12-05T11:52:45.028789Z"
    }
   },
   "outputs": [
    {
     "data": {
      "text/html": [
       "<div>\n",
       "<style scoped>\n",
       "    .dataframe tbody tr th:only-of-type {\n",
       "        vertical-align: middle;\n",
       "    }\n",
       "\n",
       "    .dataframe tbody tr th {\n",
       "        vertical-align: top;\n",
       "    }\n",
       "\n",
       "    .dataframe thead th {\n",
       "        text-align: right;\n",
       "    }\n",
       "</style>\n",
       "<table border=\"1\" class=\"dataframe\">\n",
       "  <thead>\n",
       "    <tr style=\"text-align: right;\">\n",
       "      <th></th>\n",
       "      <th>customer_id</th>\n",
       "      <th>name</th>\n",
       "      <th>age</th>\n",
       "      <th>gender</th>\n",
       "      <th>owns_car</th>\n",
       "      <th>owns_house</th>\n",
       "      <th>no_of_children</th>\n",
       "      <th>net_yearly_income</th>\n",
       "      <th>no_of_days_employed</th>\n",
       "      <th>occupation_type</th>\n",
       "      <th>total_family_members</th>\n",
       "      <th>migrant_worker</th>\n",
       "      <th>yearly_debt_payments</th>\n",
       "      <th>credit_limit</th>\n",
       "      <th>credit_limit_used(%)</th>\n",
       "      <th>credit_score</th>\n",
       "      <th>prev_defaults</th>\n",
       "      <th>default_in_last_6months</th>\n",
       "    </tr>\n",
       "  </thead>\n",
       "  <tbody>\n",
       "    <tr>\n",
       "      <th>0</th>\n",
       "      <td>CST_142525</td>\n",
       "      <td>Siva</td>\n",
       "      <td>52</td>\n",
       "      <td>F</td>\n",
       "      <td>Y</td>\n",
       "      <td>N</td>\n",
       "      <td>0.0</td>\n",
       "      <td>232640.53</td>\n",
       "      <td>998.0</td>\n",
       "      <td>Unknown</td>\n",
       "      <td>2.0</td>\n",
       "      <td>0.0</td>\n",
       "      <td>14406.73</td>\n",
       "      <td>26524.40</td>\n",
       "      <td>4</td>\n",
       "      <td>779.0</td>\n",
       "      <td>0</td>\n",
       "      <td>0</td>\n",
       "    </tr>\n",
       "    <tr>\n",
       "      <th>1</th>\n",
       "      <td>CST_129215</td>\n",
       "      <td>Scott</td>\n",
       "      <td>48</td>\n",
       "      <td>F</td>\n",
       "      <td>N</td>\n",
       "      <td>N</td>\n",
       "      <td>1.0</td>\n",
       "      <td>284396.79</td>\n",
       "      <td>1338.0</td>\n",
       "      <td>Unknown</td>\n",
       "      <td>3.0</td>\n",
       "      <td>0.0</td>\n",
       "      <td>57479.99</td>\n",
       "      <td>68998.72</td>\n",
       "      <td>70</td>\n",
       "      <td>806.0</td>\n",
       "      <td>0</td>\n",
       "      <td>0</td>\n",
       "    </tr>\n",
       "    <tr>\n",
       "      <th>2</th>\n",
       "      <td>CST_138443</td>\n",
       "      <td>Victoria</td>\n",
       "      <td>50</td>\n",
       "      <td>F</td>\n",
       "      <td>N</td>\n",
       "      <td>N</td>\n",
       "      <td>1.0</td>\n",
       "      <td>149419.28</td>\n",
       "      <td>1210.0</td>\n",
       "      <td>Unknown</td>\n",
       "      <td>3.0</td>\n",
       "      <td>0.0</td>\n",
       "      <td>21611.01</td>\n",
       "      <td>25187.80</td>\n",
       "      <td>71</td>\n",
       "      <td>528.0</td>\n",
       "      <td>2</td>\n",
       "      <td>0</td>\n",
       "    </tr>\n",
       "    <tr>\n",
       "      <th>3</th>\n",
       "      <td>CST_123812</td>\n",
       "      <td>John McCrank</td>\n",
       "      <td>30</td>\n",
       "      <td>F</td>\n",
       "      <td>N</td>\n",
       "      <td>N</td>\n",
       "      <td>1.0</td>\n",
       "      <td>160437.54</td>\n",
       "      <td>503.0</td>\n",
       "      <td>Laborers</td>\n",
       "      <td>2.0</td>\n",
       "      <td>1.0</td>\n",
       "      <td>28990.76</td>\n",
       "      <td>29179.39</td>\n",
       "      <td>9</td>\n",
       "      <td>815.0</td>\n",
       "      <td>0</td>\n",
       "      <td>0</td>\n",
       "    </tr>\n",
       "    <tr>\n",
       "      <th>4</th>\n",
       "      <td>CST_144450</td>\n",
       "      <td>Martinne</td>\n",
       "      <td>52</td>\n",
       "      <td>M</td>\n",
       "      <td>N</td>\n",
       "      <td>Y</td>\n",
       "      <td>0.0</td>\n",
       "      <td>233480.37</td>\n",
       "      <td>157.0</td>\n",
       "      <td>Laborers</td>\n",
       "      <td>2.0</td>\n",
       "      <td>1.0</td>\n",
       "      <td>54213.72</td>\n",
       "      <td>82331.82</td>\n",
       "      <td>82</td>\n",
       "      <td>613.0</td>\n",
       "      <td>1</td>\n",
       "      <td>1</td>\n",
       "    </tr>\n",
       "  </tbody>\n",
       "</table>\n",
       "</div>"
      ],
      "text/plain": [
       "  customer_id          name  age gender owns_car owns_house  no_of_children  \\\n",
       "0  CST_142525          Siva   52      F        Y          N             0.0   \n",
       "1  CST_129215         Scott   48      F        N          N             1.0   \n",
       "2  CST_138443      Victoria   50      F        N          N             1.0   \n",
       "3  CST_123812  John McCrank   30      F        N          N             1.0   \n",
       "4  CST_144450      Martinne   52      M        N          Y             0.0   \n",
       "\n",
       "   net_yearly_income  no_of_days_employed occupation_type  \\\n",
       "0          232640.53                998.0         Unknown   \n",
       "1          284396.79               1338.0         Unknown   \n",
       "2          149419.28               1210.0         Unknown   \n",
       "3          160437.54                503.0        Laborers   \n",
       "4          233480.37                157.0        Laborers   \n",
       "\n",
       "   total_family_members  migrant_worker  yearly_debt_payments  credit_limit  \\\n",
       "0                   2.0             0.0              14406.73      26524.40   \n",
       "1                   3.0             0.0              57479.99      68998.72   \n",
       "2                   3.0             0.0              21611.01      25187.80   \n",
       "3                   2.0             1.0              28990.76      29179.39   \n",
       "4                   2.0             1.0              54213.72      82331.82   \n",
       "\n",
       "   credit_limit_used(%)  credit_score  prev_defaults  default_in_last_6months  \n",
       "0                     4         779.0              0                        0  \n",
       "1                    70         806.0              0                        0  \n",
       "2                    71         528.0              2                        0  \n",
       "3                     9         815.0              0                        0  \n",
       "4                    82         613.0              1                        1  "
      ]
     },
     "execution_count": 112,
     "metadata": {},
     "output_type": "execute_result"
    }
   ],
   "source": [
    "test_data.head()"
   ]
  },
  {
   "cell_type": "code",
   "execution_count": 113,
   "metadata": {
    "execution": {
     "iopub.execute_input": "2021-12-05T11:52:45.053703Z",
     "iopub.status.busy": "2021-12-05T11:52:45.053202Z",
     "iopub.status.idle": "2021-12-05T11:52:45.111868Z",
     "shell.execute_reply": "2021-12-05T11:52:45.111265Z",
     "shell.execute_reply.started": "2021-12-05T11:52:45.053659Z"
    }
   },
   "outputs": [
    {
     "name": "stdout",
     "output_type": "stream",
     "text": [
      "Column Name: gender\n",
      "F      7443\n",
      "M      3939\n",
      "XNA       1\n",
      "Name: gender, dtype: int64\n",
      "**************************************************\n",
      "Column Name: owns_car\n",
      "N    7504\n",
      "Y    3879\n",
      "Name: owns_car, dtype: int64\n",
      "**************************************************\n",
      "Column Name: owns_house\n",
      "Y    7861\n",
      "N    3522\n",
      "Name: owns_house, dtype: int64\n",
      "**************************************************\n",
      "Column Name: no_of_children\n",
      "0.0     8015\n",
      "1.0     2248\n",
      "2.0      957\n",
      "3.0      138\n",
      "4.0       19\n",
      "5.0        4\n",
      "11.0       1\n",
      "7.0        1\n",
      "Name: no_of_children, dtype: int64\n",
      "**************************************************\n",
      "Column Name: occupation_type\n",
      "Unknown                  3546\n",
      "Laborers                 2071\n",
      "Sales staff              1176\n",
      "Core staff               1018\n",
      "Managers                  806\n",
      "Drivers                   703\n",
      "High skill tech staff     405\n",
      "Accountants               365\n",
      "Medicine staff            318\n",
      "Security staff            252\n",
      "Cooking staff             208\n",
      "Cleaning staff            164\n",
      "Private service staff     109\n",
      "Low-skill Laborers         61\n",
      "Waiters/barmen staff       47\n",
      "Secretaries                42\n",
      "Realty agents              33\n",
      "HR staff                   31\n",
      "IT staff                   28\n",
      "Name: occupation_type, dtype: int64\n",
      "**************************************************\n",
      "Column Name: total_family_members\n",
      "2.0     5866\n",
      "1.0     2493\n",
      "3.0     1961\n",
      "4.0      907\n",
      "5.0      131\n",
      "6.0       19\n",
      "7.0        4\n",
      "9.0        1\n",
      "13.0       1\n",
      "Name: total_family_members, dtype: int64\n",
      "**************************************************\n",
      "Column Name: migrant_worker\n",
      "0.0    9361\n",
      "1.0    2022\n",
      "Name: migrant_worker, dtype: int64\n",
      "**************************************************\n",
      "Column Name: prev_defaults\n",
      "0    10796\n",
      "1      513\n",
      "2       74\n",
      "Name: prev_defaults, dtype: int64\n",
      "**************************************************\n",
      "Column Name: default_in_last_6months\n",
      "0    10829\n",
      "1      554\n",
      "Name: default_in_last_6months, dtype: int64\n",
      "**************************************************\n"
     ]
    }
   ],
   "source": [
    "# get all categorical features\n",
    "cols = test_data.columns \n",
    "\n",
    "for i in cols:\n",
    "    if len(test_data[i].value_counts())<=20:\n",
    "        print(\"Column Name:\",i)\n",
    "        print(test_data[i].value_counts())\n",
    "        print(\"*\"*50)"
   ]
  },
  {
   "cell_type": "code",
   "execution_count": 114,
   "metadata": {
    "execution": {
     "iopub.execute_input": "2021-12-05T11:52:45.113604Z",
     "iopub.status.busy": "2021-12-05T11:52:45.113001Z",
     "iopub.status.idle": "2021-12-05T11:52:45.135104Z",
     "shell.execute_reply": "2021-12-05T11:52:45.134521Z",
     "shell.execute_reply.started": "2021-12-05T11:52:45.113567Z"
    }
   },
   "outputs": [
    {
     "data": {
      "text/html": [
       "<div>\n",
       "<style scoped>\n",
       "    .dataframe tbody tr th:only-of-type {\n",
       "        vertical-align: middle;\n",
       "    }\n",
       "\n",
       "    .dataframe tbody tr th {\n",
       "        vertical-align: top;\n",
       "    }\n",
       "\n",
       "    .dataframe thead th {\n",
       "        text-align: right;\n",
       "    }\n",
       "</style>\n",
       "<table border=\"1\" class=\"dataframe\">\n",
       "  <thead>\n",
       "    <tr style=\"text-align: right;\">\n",
       "      <th></th>\n",
       "      <th>customer_id</th>\n",
       "      <th>name</th>\n",
       "      <th>age</th>\n",
       "      <th>gender</th>\n",
       "      <th>owns_car</th>\n",
       "      <th>owns_house</th>\n",
       "      <th>no_of_children</th>\n",
       "      <th>net_yearly_income</th>\n",
       "      <th>no_of_days_employed</th>\n",
       "      <th>occupation_type</th>\n",
       "      <th>total_family_members</th>\n",
       "      <th>migrant_worker</th>\n",
       "      <th>yearly_debt_payments</th>\n",
       "      <th>credit_limit</th>\n",
       "      <th>credit_limit_used(%)</th>\n",
       "      <th>credit_score</th>\n",
       "      <th>prev_defaults</th>\n",
       "      <th>default_in_last_6months</th>\n",
       "    </tr>\n",
       "  </thead>\n",
       "  <tbody>\n",
       "    <tr>\n",
       "      <th>3510</th>\n",
       "      <td>CST_141289</td>\n",
       "      <td>Jan</td>\n",
       "      <td>25</td>\n",
       "      <td>XNA</td>\n",
       "      <td>Y</td>\n",
       "      <td>Y</td>\n",
       "      <td>0.0</td>\n",
       "      <td>219109.11</td>\n",
       "      <td>10041.0</td>\n",
       "      <td>Unknown</td>\n",
       "      <td>2.0</td>\n",
       "      <td>0.0</td>\n",
       "      <td>22295.99</td>\n",
       "      <td>27709.34</td>\n",
       "      <td>3</td>\n",
       "      <td>807.0</td>\n",
       "      <td>0</td>\n",
       "      <td>0</td>\n",
       "    </tr>\n",
       "  </tbody>\n",
       "</table>\n",
       "</div>"
      ],
      "text/plain": [
       "     customer_id name  age gender owns_car owns_house  no_of_children  \\\n",
       "3510  CST_141289  Jan   25    XNA        Y          Y             0.0   \n",
       "\n",
       "      net_yearly_income  no_of_days_employed occupation_type  \\\n",
       "3510          219109.11              10041.0         Unknown   \n",
       "\n",
       "      total_family_members  migrant_worker  yearly_debt_payments  \\\n",
       "3510                   2.0             0.0              22295.99   \n",
       "\n",
       "      credit_limit  credit_limit_used(%)  credit_score  prev_defaults  \\\n",
       "3510      27709.34                     3         807.0              0   \n",
       "\n",
       "      default_in_last_6months  \n",
       "3510                        0  "
      ]
     },
     "execution_count": 114,
     "metadata": {},
     "output_type": "execute_result"
    }
   ],
   "source": [
    "test_data[test_data['gender'] == 'XNA']"
   ]
  },
  {
   "cell_type": "code",
   "execution_count": 115,
   "metadata": {
    "execution": {
     "iopub.execute_input": "2021-12-05T11:52:45.136728Z",
     "iopub.status.busy": "2021-12-05T11:52:45.136081Z",
     "iopub.status.idle": "2021-12-05T11:52:45.150980Z",
     "shell.execute_reply": "2021-12-05T11:52:45.150043Z",
     "shell.execute_reply.started": "2021-12-05T11:52:45.136693Z"
    }
   },
   "outputs": [
    {
     "data": {
      "text/plain": [
       "F    7444\n",
       "M    3939\n",
       "Name: gender, dtype: int64"
      ]
     },
     "execution_count": 115,
     "metadata": {},
     "output_type": "execute_result"
    }
   ],
   "source": [
    "# lets impute with F as its mode of the feature\n",
    "test_data['gender'] = test_data['gender'].apply(lambda x: 'F' if x=='XNA' else x)\n",
    "test_data['gender'].value_counts()"
   ]
  },
  {
   "cell_type": "code",
   "execution_count": 116,
   "metadata": {
    "execution": {
     "iopub.execute_input": "2021-12-05T11:52:45.152759Z",
     "iopub.status.busy": "2021-12-05T11:52:45.152479Z",
     "iopub.status.idle": "2021-12-05T11:52:45.157105Z",
     "shell.execute_reply": "2021-12-05T11:52:45.156567Z",
     "shell.execute_reply.started": "2021-12-05T11:52:45.152728Z"
    }
   },
   "outputs": [],
   "source": [
    "# get the cutomer_id column to new dataframe and drop in the original data fram\n",
    "final_df = pd.DataFrame(test_data.customer_id)"
   ]
  },
  {
   "cell_type": "code",
   "execution_count": 117,
   "metadata": {
    "execution": {
     "iopub.execute_input": "2021-12-05T11:52:45.158841Z",
     "iopub.status.busy": "2021-12-05T11:52:45.158279Z",
     "iopub.status.idle": "2021-12-05T11:52:45.185439Z",
     "shell.execute_reply": "2021-12-05T11:52:45.184566Z",
     "shell.execute_reply.started": "2021-12-05T11:52:45.158804Z"
    }
   },
   "outputs": [
    {
     "data": {
      "text/html": [
       "<div>\n",
       "<style scoped>\n",
       "    .dataframe tbody tr th:only-of-type {\n",
       "        vertical-align: middle;\n",
       "    }\n",
       "\n",
       "    .dataframe tbody tr th {\n",
       "        vertical-align: top;\n",
       "    }\n",
       "\n",
       "    .dataframe thead th {\n",
       "        text-align: right;\n",
       "    }\n",
       "</style>\n",
       "<table border=\"1\" class=\"dataframe\">\n",
       "  <thead>\n",
       "    <tr style=\"text-align: right;\">\n",
       "      <th></th>\n",
       "      <th>age</th>\n",
       "      <th>gender</th>\n",
       "      <th>owns_car</th>\n",
       "      <th>owns_house</th>\n",
       "      <th>no_of_children</th>\n",
       "      <th>net_yearly_income</th>\n",
       "      <th>no_of_days_employed</th>\n",
       "      <th>occupation_type</th>\n",
       "      <th>total_family_members</th>\n",
       "      <th>migrant_worker</th>\n",
       "      <th>yearly_debt_payments</th>\n",
       "      <th>credit_limit</th>\n",
       "      <th>credit_limit_used(%)</th>\n",
       "      <th>credit_score</th>\n",
       "      <th>prev_defaults</th>\n",
       "      <th>default_in_last_6months</th>\n",
       "    </tr>\n",
       "  </thead>\n",
       "  <tbody>\n",
       "    <tr>\n",
       "      <th>0</th>\n",
       "      <td>52</td>\n",
       "      <td>F</td>\n",
       "      <td>Y</td>\n",
       "      <td>N</td>\n",
       "      <td>0.0</td>\n",
       "      <td>232640.53</td>\n",
       "      <td>998.0</td>\n",
       "      <td>Unknown</td>\n",
       "      <td>2.0</td>\n",
       "      <td>0.0</td>\n",
       "      <td>14406.73</td>\n",
       "      <td>26524.40</td>\n",
       "      <td>4</td>\n",
       "      <td>779.0</td>\n",
       "      <td>0</td>\n",
       "      <td>0</td>\n",
       "    </tr>\n",
       "    <tr>\n",
       "      <th>1</th>\n",
       "      <td>48</td>\n",
       "      <td>F</td>\n",
       "      <td>N</td>\n",
       "      <td>N</td>\n",
       "      <td>1.0</td>\n",
       "      <td>284396.79</td>\n",
       "      <td>1338.0</td>\n",
       "      <td>Unknown</td>\n",
       "      <td>3.0</td>\n",
       "      <td>0.0</td>\n",
       "      <td>57479.99</td>\n",
       "      <td>68998.72</td>\n",
       "      <td>70</td>\n",
       "      <td>806.0</td>\n",
       "      <td>0</td>\n",
       "      <td>0</td>\n",
       "    </tr>\n",
       "    <tr>\n",
       "      <th>2</th>\n",
       "      <td>50</td>\n",
       "      <td>F</td>\n",
       "      <td>N</td>\n",
       "      <td>N</td>\n",
       "      <td>1.0</td>\n",
       "      <td>149419.28</td>\n",
       "      <td>1210.0</td>\n",
       "      <td>Unknown</td>\n",
       "      <td>3.0</td>\n",
       "      <td>0.0</td>\n",
       "      <td>21611.01</td>\n",
       "      <td>25187.80</td>\n",
       "      <td>71</td>\n",
       "      <td>528.0</td>\n",
       "      <td>2</td>\n",
       "      <td>0</td>\n",
       "    </tr>\n",
       "    <tr>\n",
       "      <th>3</th>\n",
       "      <td>30</td>\n",
       "      <td>F</td>\n",
       "      <td>N</td>\n",
       "      <td>N</td>\n",
       "      <td>1.0</td>\n",
       "      <td>160437.54</td>\n",
       "      <td>503.0</td>\n",
       "      <td>Laborers</td>\n",
       "      <td>2.0</td>\n",
       "      <td>1.0</td>\n",
       "      <td>28990.76</td>\n",
       "      <td>29179.39</td>\n",
       "      <td>9</td>\n",
       "      <td>815.0</td>\n",
       "      <td>0</td>\n",
       "      <td>0</td>\n",
       "    </tr>\n",
       "    <tr>\n",
       "      <th>4</th>\n",
       "      <td>52</td>\n",
       "      <td>M</td>\n",
       "      <td>N</td>\n",
       "      <td>Y</td>\n",
       "      <td>0.0</td>\n",
       "      <td>233480.37</td>\n",
       "      <td>157.0</td>\n",
       "      <td>Laborers</td>\n",
       "      <td>2.0</td>\n",
       "      <td>1.0</td>\n",
       "      <td>54213.72</td>\n",
       "      <td>82331.82</td>\n",
       "      <td>82</td>\n",
       "      <td>613.0</td>\n",
       "      <td>1</td>\n",
       "      <td>1</td>\n",
       "    </tr>\n",
       "  </tbody>\n",
       "</table>\n",
       "</div>"
      ],
      "text/plain": [
       "   age gender owns_car owns_house  no_of_children  net_yearly_income  \\\n",
       "0   52      F        Y          N             0.0          232640.53   \n",
       "1   48      F        N          N             1.0          284396.79   \n",
       "2   50      F        N          N             1.0          149419.28   \n",
       "3   30      F        N          N             1.0          160437.54   \n",
       "4   52      M        N          Y             0.0          233480.37   \n",
       "\n",
       "   no_of_days_employed occupation_type  total_family_members  migrant_worker  \\\n",
       "0                998.0         Unknown                   2.0             0.0   \n",
       "1               1338.0         Unknown                   3.0             0.0   \n",
       "2               1210.0         Unknown                   3.0             0.0   \n",
       "3                503.0        Laborers                   2.0             1.0   \n",
       "4                157.0        Laborers                   2.0             1.0   \n",
       "\n",
       "   yearly_debt_payments  credit_limit  credit_limit_used(%)  credit_score  \\\n",
       "0              14406.73      26524.40                     4         779.0   \n",
       "1              57479.99      68998.72                    70         806.0   \n",
       "2              21611.01      25187.80                    71         528.0   \n",
       "3              28990.76      29179.39                     9         815.0   \n",
       "4              54213.72      82331.82                    82         613.0   \n",
       "\n",
       "   prev_defaults  default_in_last_6months  \n",
       "0              0                        0  \n",
       "1              0                        0  \n",
       "2              2                        0  \n",
       "3              0                        0  \n",
       "4              1                        1  "
      ]
     },
     "execution_count": 117,
     "metadata": {},
     "output_type": "execute_result"
    }
   ],
   "source": [
    "test_data.drop(['customer_id', 'name'], axis=1, inplace=True)\n",
    "test_data.head()"
   ]
  },
  {
   "cell_type": "code",
   "execution_count": 118,
   "metadata": {},
   "outputs": [],
   "source": [
    "# binning of net_yearly_income into categories\n",
    "def income_binning(x):\n",
    "    if x <= 125824.5050:\n",
    "        return 'Low'\n",
    "    elif x > 125824.5050 and x <= 170968.0300:\n",
    "        return 'Below Avg'\n",
    "    elif x > 170968.0300 and x <= 237768.9200:\n",
    "        return 'Above Avg'\n",
    "    else:\n",
    "        return 'High'\n"
   ]
  },
  {
   "cell_type": "code",
   "execution_count": 119,
   "metadata": {},
   "outputs": [],
   "source": [
    "test_data['income_categories'] = test_data.net_yearly_income.apply(income_binning)"
   ]
  },
  {
   "cell_type": "code",
   "execution_count": 120,
   "metadata": {},
   "outputs": [
    {
     "data": {
      "text/html": [
       "<div>\n",
       "<style scoped>\n",
       "    .dataframe tbody tr th:only-of-type {\n",
       "        vertical-align: middle;\n",
       "    }\n",
       "\n",
       "    .dataframe tbody tr th {\n",
       "        vertical-align: top;\n",
       "    }\n",
       "\n",
       "    .dataframe thead th {\n",
       "        text-align: right;\n",
       "    }\n",
       "</style>\n",
       "<table border=\"1\" class=\"dataframe\">\n",
       "  <thead>\n",
       "    <tr style=\"text-align: right;\">\n",
       "      <th></th>\n",
       "      <th>age</th>\n",
       "      <th>gender</th>\n",
       "      <th>owns_car</th>\n",
       "      <th>owns_house</th>\n",
       "      <th>no_of_children</th>\n",
       "      <th>net_yearly_income</th>\n",
       "      <th>no_of_days_employed</th>\n",
       "      <th>occupation_type</th>\n",
       "      <th>total_family_members</th>\n",
       "      <th>migrant_worker</th>\n",
       "      <th>yearly_debt_payments</th>\n",
       "      <th>credit_limit</th>\n",
       "      <th>credit_limit_used(%)</th>\n",
       "      <th>credit_score</th>\n",
       "      <th>prev_defaults</th>\n",
       "      <th>default_in_last_6months</th>\n",
       "      <th>income_categories</th>\n",
       "    </tr>\n",
       "  </thead>\n",
       "  <tbody>\n",
       "    <tr>\n",
       "      <th>0</th>\n",
       "      <td>52</td>\n",
       "      <td>F</td>\n",
       "      <td>Y</td>\n",
       "      <td>N</td>\n",
       "      <td>0.0</td>\n",
       "      <td>232640.53</td>\n",
       "      <td>998.0</td>\n",
       "      <td>Unknown</td>\n",
       "      <td>2.0</td>\n",
       "      <td>0.0</td>\n",
       "      <td>14406.73</td>\n",
       "      <td>26524.40</td>\n",
       "      <td>4</td>\n",
       "      <td>779.0</td>\n",
       "      <td>0</td>\n",
       "      <td>0</td>\n",
       "      <td>Above Avg</td>\n",
       "    </tr>\n",
       "    <tr>\n",
       "      <th>1</th>\n",
       "      <td>48</td>\n",
       "      <td>F</td>\n",
       "      <td>N</td>\n",
       "      <td>N</td>\n",
       "      <td>1.0</td>\n",
       "      <td>284396.79</td>\n",
       "      <td>1338.0</td>\n",
       "      <td>Unknown</td>\n",
       "      <td>3.0</td>\n",
       "      <td>0.0</td>\n",
       "      <td>57479.99</td>\n",
       "      <td>68998.72</td>\n",
       "      <td>70</td>\n",
       "      <td>806.0</td>\n",
       "      <td>0</td>\n",
       "      <td>0</td>\n",
       "      <td>High</td>\n",
       "    </tr>\n",
       "    <tr>\n",
       "      <th>2</th>\n",
       "      <td>50</td>\n",
       "      <td>F</td>\n",
       "      <td>N</td>\n",
       "      <td>N</td>\n",
       "      <td>1.0</td>\n",
       "      <td>149419.28</td>\n",
       "      <td>1210.0</td>\n",
       "      <td>Unknown</td>\n",
       "      <td>3.0</td>\n",
       "      <td>0.0</td>\n",
       "      <td>21611.01</td>\n",
       "      <td>25187.80</td>\n",
       "      <td>71</td>\n",
       "      <td>528.0</td>\n",
       "      <td>2</td>\n",
       "      <td>0</td>\n",
       "      <td>Below Avg</td>\n",
       "    </tr>\n",
       "    <tr>\n",
       "      <th>3</th>\n",
       "      <td>30</td>\n",
       "      <td>F</td>\n",
       "      <td>N</td>\n",
       "      <td>N</td>\n",
       "      <td>1.0</td>\n",
       "      <td>160437.54</td>\n",
       "      <td>503.0</td>\n",
       "      <td>Laborers</td>\n",
       "      <td>2.0</td>\n",
       "      <td>1.0</td>\n",
       "      <td>28990.76</td>\n",
       "      <td>29179.39</td>\n",
       "      <td>9</td>\n",
       "      <td>815.0</td>\n",
       "      <td>0</td>\n",
       "      <td>0</td>\n",
       "      <td>Below Avg</td>\n",
       "    </tr>\n",
       "    <tr>\n",
       "      <th>4</th>\n",
       "      <td>52</td>\n",
       "      <td>M</td>\n",
       "      <td>N</td>\n",
       "      <td>Y</td>\n",
       "      <td>0.0</td>\n",
       "      <td>233480.37</td>\n",
       "      <td>157.0</td>\n",
       "      <td>Laborers</td>\n",
       "      <td>2.0</td>\n",
       "      <td>1.0</td>\n",
       "      <td>54213.72</td>\n",
       "      <td>82331.82</td>\n",
       "      <td>82</td>\n",
       "      <td>613.0</td>\n",
       "      <td>1</td>\n",
       "      <td>1</td>\n",
       "      <td>Above Avg</td>\n",
       "    </tr>\n",
       "  </tbody>\n",
       "</table>\n",
       "</div>"
      ],
      "text/plain": [
       "   age gender owns_car owns_house  no_of_children  net_yearly_income  \\\n",
       "0   52      F        Y          N             0.0          232640.53   \n",
       "1   48      F        N          N             1.0          284396.79   \n",
       "2   50      F        N          N             1.0          149419.28   \n",
       "3   30      F        N          N             1.0          160437.54   \n",
       "4   52      M        N          Y             0.0          233480.37   \n",
       "\n",
       "   no_of_days_employed occupation_type  total_family_members  migrant_worker  \\\n",
       "0                998.0         Unknown                   2.0             0.0   \n",
       "1               1338.0         Unknown                   3.0             0.0   \n",
       "2               1210.0         Unknown                   3.0             0.0   \n",
       "3                503.0        Laborers                   2.0             1.0   \n",
       "4                157.0        Laborers                   2.0             1.0   \n",
       "\n",
       "   yearly_debt_payments  credit_limit  credit_limit_used(%)  credit_score  \\\n",
       "0              14406.73      26524.40                     4         779.0   \n",
       "1              57479.99      68998.72                    70         806.0   \n",
       "2              21611.01      25187.80                    71         528.0   \n",
       "3              28990.76      29179.39                     9         815.0   \n",
       "4              54213.72      82331.82                    82         613.0   \n",
       "\n",
       "   prev_defaults  default_in_last_6months income_categories  \n",
       "0              0                        0         Above Avg  \n",
       "1              0                        0              High  \n",
       "2              2                        0         Below Avg  \n",
       "3              0                        0         Below Avg  \n",
       "4              1                        1         Above Avg  "
      ]
     },
     "execution_count": 120,
     "metadata": {},
     "output_type": "execute_result"
    }
   ],
   "source": [
    "test_data.head()"
   ]
  },
  {
   "cell_type": "markdown",
   "metadata": {},
   "source": [
    "### Data Preparation"
   ]
  },
  {
   "cell_type": "markdown",
   "metadata": {},
   "source": [
    "#### Label Encoding"
   ]
  },
  {
   "cell_type": "code",
   "execution_count": 121,
   "metadata": {
    "execution": {
     "iopub.execute_input": "2021-12-05T11:52:45.187444Z",
     "iopub.status.busy": "2021-12-05T11:52:45.186742Z",
     "iopub.status.idle": "2021-12-05T11:52:45.231237Z",
     "shell.execute_reply": "2021-12-05T11:52:45.230570Z",
     "shell.execute_reply.started": "2021-12-05T11:52:45.187398Z"
    }
   },
   "outputs": [
    {
     "data": {
      "text/html": [
       "<div>\n",
       "<style scoped>\n",
       "    .dataframe tbody tr th:only-of-type {\n",
       "        vertical-align: middle;\n",
       "    }\n",
       "\n",
       "    .dataframe tbody tr th {\n",
       "        vertical-align: top;\n",
       "    }\n",
       "\n",
       "    .dataframe thead th {\n",
       "        text-align: right;\n",
       "    }\n",
       "</style>\n",
       "<table border=\"1\" class=\"dataframe\">\n",
       "  <thead>\n",
       "    <tr style=\"text-align: right;\">\n",
       "      <th></th>\n",
       "      <th>age</th>\n",
       "      <th>gender</th>\n",
       "      <th>owns_car</th>\n",
       "      <th>owns_house</th>\n",
       "      <th>no_of_children</th>\n",
       "      <th>net_yearly_income</th>\n",
       "      <th>no_of_days_employed</th>\n",
       "      <th>occupation_type</th>\n",
       "      <th>total_family_members</th>\n",
       "      <th>migrant_worker</th>\n",
       "      <th>yearly_debt_payments</th>\n",
       "      <th>credit_limit</th>\n",
       "      <th>credit_limit_used(%)</th>\n",
       "      <th>credit_score</th>\n",
       "      <th>prev_defaults</th>\n",
       "      <th>default_in_last_6months</th>\n",
       "      <th>income_categories</th>\n",
       "    </tr>\n",
       "  </thead>\n",
       "  <tbody>\n",
       "    <tr>\n",
       "      <th>0</th>\n",
       "      <td>52</td>\n",
       "      <td>0</td>\n",
       "      <td>1</td>\n",
       "      <td>0</td>\n",
       "      <td>0.0</td>\n",
       "      <td>232640.53</td>\n",
       "      <td>998.0</td>\n",
       "      <td>17</td>\n",
       "      <td>2.0</td>\n",
       "      <td>0.0</td>\n",
       "      <td>14406.73</td>\n",
       "      <td>26524.40</td>\n",
       "      <td>4</td>\n",
       "      <td>779.0</td>\n",
       "      <td>0</td>\n",
       "      <td>0</td>\n",
       "      <td>0</td>\n",
       "    </tr>\n",
       "    <tr>\n",
       "      <th>1</th>\n",
       "      <td>48</td>\n",
       "      <td>0</td>\n",
       "      <td>0</td>\n",
       "      <td>0</td>\n",
       "      <td>1.0</td>\n",
       "      <td>284396.79</td>\n",
       "      <td>1338.0</td>\n",
       "      <td>17</td>\n",
       "      <td>3.0</td>\n",
       "      <td>0.0</td>\n",
       "      <td>57479.99</td>\n",
       "      <td>68998.72</td>\n",
       "      <td>70</td>\n",
       "      <td>806.0</td>\n",
       "      <td>0</td>\n",
       "      <td>0</td>\n",
       "      <td>2</td>\n",
       "    </tr>\n",
       "    <tr>\n",
       "      <th>2</th>\n",
       "      <td>50</td>\n",
       "      <td>0</td>\n",
       "      <td>0</td>\n",
       "      <td>0</td>\n",
       "      <td>1.0</td>\n",
       "      <td>149419.28</td>\n",
       "      <td>1210.0</td>\n",
       "      <td>17</td>\n",
       "      <td>3.0</td>\n",
       "      <td>0.0</td>\n",
       "      <td>21611.01</td>\n",
       "      <td>25187.80</td>\n",
       "      <td>71</td>\n",
       "      <td>528.0</td>\n",
       "      <td>2</td>\n",
       "      <td>0</td>\n",
       "      <td>1</td>\n",
       "    </tr>\n",
       "    <tr>\n",
       "      <th>3</th>\n",
       "      <td>30</td>\n",
       "      <td>0</td>\n",
       "      <td>0</td>\n",
       "      <td>0</td>\n",
       "      <td>1.0</td>\n",
       "      <td>160437.54</td>\n",
       "      <td>503.0</td>\n",
       "      <td>8</td>\n",
       "      <td>2.0</td>\n",
       "      <td>1.0</td>\n",
       "      <td>28990.76</td>\n",
       "      <td>29179.39</td>\n",
       "      <td>9</td>\n",
       "      <td>815.0</td>\n",
       "      <td>0</td>\n",
       "      <td>0</td>\n",
       "      <td>1</td>\n",
       "    </tr>\n",
       "    <tr>\n",
       "      <th>4</th>\n",
       "      <td>52</td>\n",
       "      <td>1</td>\n",
       "      <td>0</td>\n",
       "      <td>1</td>\n",
       "      <td>0.0</td>\n",
       "      <td>233480.37</td>\n",
       "      <td>157.0</td>\n",
       "      <td>8</td>\n",
       "      <td>2.0</td>\n",
       "      <td>1.0</td>\n",
       "      <td>54213.72</td>\n",
       "      <td>82331.82</td>\n",
       "      <td>82</td>\n",
       "      <td>613.0</td>\n",
       "      <td>1</td>\n",
       "      <td>1</td>\n",
       "      <td>0</td>\n",
       "    </tr>\n",
       "  </tbody>\n",
       "</table>\n",
       "</div>"
      ],
      "text/plain": [
       "   age  gender  owns_car  owns_house  no_of_children  net_yearly_income  \\\n",
       "0   52       0         1           0             0.0          232640.53   \n",
       "1   48       0         0           0             1.0          284396.79   \n",
       "2   50       0         0           0             1.0          149419.28   \n",
       "3   30       0         0           0             1.0          160437.54   \n",
       "4   52       1         0           1             0.0          233480.37   \n",
       "\n",
       "   no_of_days_employed  occupation_type  total_family_members  migrant_worker  \\\n",
       "0                998.0               17                   2.0             0.0   \n",
       "1               1338.0               17                   3.0             0.0   \n",
       "2               1210.0               17                   3.0             0.0   \n",
       "3                503.0                8                   2.0             1.0   \n",
       "4                157.0                8                   2.0             1.0   \n",
       "\n",
       "   yearly_debt_payments  credit_limit  credit_limit_used(%)  credit_score  \\\n",
       "0              14406.73      26524.40                     4         779.0   \n",
       "1              57479.99      68998.72                    70         806.0   \n",
       "2              21611.01      25187.80                    71         528.0   \n",
       "3              28990.76      29179.39                     9         815.0   \n",
       "4              54213.72      82331.82                    82         613.0   \n",
       "\n",
       "   prev_defaults  default_in_last_6months  income_categories  \n",
       "0              0                        0                  0  \n",
       "1              0                        0                  2  \n",
       "2              2                        0                  1  \n",
       "3              0                        0                  1  \n",
       "4              1                        1                  0  "
      ]
     },
     "execution_count": 121,
     "metadata": {},
     "output_type": "execute_result"
    }
   ],
   "source": [
    "# get categorical columns\n",
    "cat_cols_test = test_data.select_dtypes(include=['object']).columns\n",
    "\n",
    "# encode labels for categorical columns\n",
    "for i in cat_cols_test:\n",
    "    test_data[i] = lm.fit_transform(test_data[i])\n",
    "    \n",
    "test_data.head()"
   ]
  },
  {
   "cell_type": "code",
   "execution_count": 122,
   "metadata": {
    "execution": {
     "iopub.execute_input": "2021-12-05T11:52:45.232747Z",
     "iopub.status.busy": "2021-12-05T11:52:45.232247Z",
     "iopub.status.idle": "2021-12-05T11:52:45.252365Z",
     "shell.execute_reply": "2021-12-05T11:52:45.251840Z",
     "shell.execute_reply.started": "2021-12-05T11:52:45.232712Z"
    },
    "scrolled": true
   },
   "outputs": [
    {
     "data": {
      "text/html": [
       "<div>\n",
       "<style scoped>\n",
       "    .dataframe tbody tr th:only-of-type {\n",
       "        vertical-align: middle;\n",
       "    }\n",
       "\n",
       "    .dataframe tbody tr th {\n",
       "        vertical-align: top;\n",
       "    }\n",
       "\n",
       "    .dataframe thead th {\n",
       "        text-align: right;\n",
       "    }\n",
       "</style>\n",
       "<table border=\"1\" class=\"dataframe\">\n",
       "  <thead>\n",
       "    <tr style=\"text-align: right;\">\n",
       "      <th></th>\n",
       "      <th>age</th>\n",
       "      <th>gender</th>\n",
       "      <th>owns_car</th>\n",
       "      <th>owns_house</th>\n",
       "      <th>no_of_children</th>\n",
       "      <th>net_yearly_income</th>\n",
       "      <th>no_of_days_employed</th>\n",
       "      <th>occupation_type</th>\n",
       "      <th>total_family_members</th>\n",
       "      <th>migrant_worker</th>\n",
       "      <th>yearly_debt_payments</th>\n",
       "      <th>credit_limit</th>\n",
       "      <th>credit_limit_used(%)</th>\n",
       "      <th>credit_score</th>\n",
       "      <th>prev_defaults</th>\n",
       "      <th>default_in_last_6months</th>\n",
       "      <th>income_categories</th>\n",
       "    </tr>\n",
       "  </thead>\n",
       "  <tbody>\n",
       "    <tr>\n",
       "      <th>0</th>\n",
       "      <td>52</td>\n",
       "      <td>0</td>\n",
       "      <td>1</td>\n",
       "      <td>0</td>\n",
       "      <td>0.0</td>\n",
       "      <td>232640.53</td>\n",
       "      <td>998.0</td>\n",
       "      <td>17</td>\n",
       "      <td>2.0</td>\n",
       "      <td>0.0</td>\n",
       "      <td>14406.73</td>\n",
       "      <td>26524.40</td>\n",
       "      <td>4</td>\n",
       "      <td>779.0</td>\n",
       "      <td>0</td>\n",
       "      <td>0</td>\n",
       "      <td>0</td>\n",
       "    </tr>\n",
       "    <tr>\n",
       "      <th>1</th>\n",
       "      <td>48</td>\n",
       "      <td>0</td>\n",
       "      <td>0</td>\n",
       "      <td>0</td>\n",
       "      <td>1.0</td>\n",
       "      <td>284396.79</td>\n",
       "      <td>1338.0</td>\n",
       "      <td>17</td>\n",
       "      <td>3.0</td>\n",
       "      <td>0.0</td>\n",
       "      <td>57479.99</td>\n",
       "      <td>68998.72</td>\n",
       "      <td>70</td>\n",
       "      <td>806.0</td>\n",
       "      <td>0</td>\n",
       "      <td>0</td>\n",
       "      <td>2</td>\n",
       "    </tr>\n",
       "    <tr>\n",
       "      <th>2</th>\n",
       "      <td>50</td>\n",
       "      <td>0</td>\n",
       "      <td>0</td>\n",
       "      <td>0</td>\n",
       "      <td>1.0</td>\n",
       "      <td>149419.28</td>\n",
       "      <td>1210.0</td>\n",
       "      <td>17</td>\n",
       "      <td>3.0</td>\n",
       "      <td>0.0</td>\n",
       "      <td>21611.01</td>\n",
       "      <td>25187.80</td>\n",
       "      <td>71</td>\n",
       "      <td>528.0</td>\n",
       "      <td>2</td>\n",
       "      <td>0</td>\n",
       "      <td>1</td>\n",
       "    </tr>\n",
       "    <tr>\n",
       "      <th>3</th>\n",
       "      <td>30</td>\n",
       "      <td>0</td>\n",
       "      <td>0</td>\n",
       "      <td>0</td>\n",
       "      <td>1.0</td>\n",
       "      <td>160437.54</td>\n",
       "      <td>503.0</td>\n",
       "      <td>8</td>\n",
       "      <td>2.0</td>\n",
       "      <td>1.0</td>\n",
       "      <td>28990.76</td>\n",
       "      <td>29179.39</td>\n",
       "      <td>9</td>\n",
       "      <td>815.0</td>\n",
       "      <td>0</td>\n",
       "      <td>0</td>\n",
       "      <td>1</td>\n",
       "    </tr>\n",
       "    <tr>\n",
       "      <th>4</th>\n",
       "      <td>52</td>\n",
       "      <td>1</td>\n",
       "      <td>0</td>\n",
       "      <td>1</td>\n",
       "      <td>0.0</td>\n",
       "      <td>233480.37</td>\n",
       "      <td>157.0</td>\n",
       "      <td>8</td>\n",
       "      <td>2.0</td>\n",
       "      <td>1.0</td>\n",
       "      <td>54213.72</td>\n",
       "      <td>82331.82</td>\n",
       "      <td>82</td>\n",
       "      <td>613.0</td>\n",
       "      <td>1</td>\n",
       "      <td>1</td>\n",
       "      <td>0</td>\n",
       "    </tr>\n",
       "  </tbody>\n",
       "</table>\n",
       "</div>"
      ],
      "text/plain": [
       "   age  gender  owns_car  owns_house  no_of_children  net_yearly_income  \\\n",
       "0   52       0         1           0             0.0          232640.53   \n",
       "1   48       0         0           0             1.0          284396.79   \n",
       "2   50       0         0           0             1.0          149419.28   \n",
       "3   30       0         0           0             1.0          160437.54   \n",
       "4   52       1         0           1             0.0          233480.37   \n",
       "\n",
       "   no_of_days_employed  occupation_type  total_family_members  migrant_worker  \\\n",
       "0                998.0               17                   2.0             0.0   \n",
       "1               1338.0               17                   3.0             0.0   \n",
       "2               1210.0               17                   3.0             0.0   \n",
       "3                503.0                8                   2.0             1.0   \n",
       "4                157.0                8                   2.0             1.0   \n",
       "\n",
       "   yearly_debt_payments  credit_limit  credit_limit_used(%)  credit_score  \\\n",
       "0              14406.73      26524.40                     4         779.0   \n",
       "1              57479.99      68998.72                    70         806.0   \n",
       "2              21611.01      25187.80                    71         528.0   \n",
       "3              28990.76      29179.39                     9         815.0   \n",
       "4              54213.72      82331.82                    82         613.0   \n",
       "\n",
       "   prev_defaults  default_in_last_6months  income_categories  \n",
       "0              0                        0                  0  \n",
       "1              0                        0                  2  \n",
       "2              2                        0                  1  \n",
       "3              0                        0                  1  \n",
       "4              1                        1                  0  "
      ]
     },
     "execution_count": 122,
     "metadata": {},
     "output_type": "execute_result"
    }
   ],
   "source": [
    "test_data.head()"
   ]
  },
  {
   "cell_type": "code",
   "execution_count": 123,
   "metadata": {
    "execution": {
     "iopub.execute_input": "2021-12-05T11:52:45.253701Z",
     "iopub.status.busy": "2021-12-05T11:52:45.253365Z",
     "iopub.status.idle": "2021-12-05T11:52:45.264405Z",
     "shell.execute_reply": "2021-12-05T11:52:45.263647Z",
     "shell.execute_reply.started": "2021-12-05T11:52:45.253662Z"
    }
   },
   "outputs": [
    {
     "data": {
      "text/plain": [
       "Index(['age', 'gender', 'owns_car', 'owns_house', 'no_of_children',\n",
       "       'net_yearly_income', 'no_of_days_employed', 'occupation_type',\n",
       "       'total_family_members', 'migrant_worker', 'yearly_debt_payments',\n",
       "       'credit_limit', 'credit_limit_used(%)', 'credit_score', 'prev_defaults',\n",
       "       'default_in_last_6months', 'income_categories'],\n",
       "      dtype='object')"
      ]
     },
     "execution_count": 123,
     "metadata": {},
     "output_type": "execute_result"
    }
   ],
   "source": [
    "cols_test = test_data.columns\n",
    "cols_test"
   ]
  },
  {
   "cell_type": "markdown",
   "metadata": {},
   "source": [
    "#### Feature Scaling"
   ]
  },
  {
   "cell_type": "code",
   "execution_count": 124,
   "metadata": {
    "execution": {
     "iopub.execute_input": "2021-12-05T11:52:45.265781Z",
     "iopub.status.busy": "2021-12-05T11:52:45.265564Z",
     "iopub.status.idle": "2021-12-05T11:52:45.297673Z",
     "shell.execute_reply": "2021-12-05T11:52:45.296142Z",
     "shell.execute_reply.started": "2021-12-05T11:52:45.265754Z"
    }
   },
   "outputs": [
    {
     "data": {
      "text/html": [
       "<div>\n",
       "<style scoped>\n",
       "    .dataframe tbody tr th:only-of-type {\n",
       "        vertical-align: middle;\n",
       "    }\n",
       "\n",
       "    .dataframe tbody tr th {\n",
       "        vertical-align: top;\n",
       "    }\n",
       "\n",
       "    .dataframe thead th {\n",
       "        text-align: right;\n",
       "    }\n",
       "</style>\n",
       "<table border=\"1\" class=\"dataframe\">\n",
       "  <thead>\n",
       "    <tr style=\"text-align: right;\">\n",
       "      <th></th>\n",
       "      <th>age</th>\n",
       "      <th>gender</th>\n",
       "      <th>owns_car</th>\n",
       "      <th>owns_house</th>\n",
       "      <th>no_of_children</th>\n",
       "      <th>net_yearly_income</th>\n",
       "      <th>no_of_days_employed</th>\n",
       "      <th>occupation_type</th>\n",
       "      <th>total_family_members</th>\n",
       "      <th>migrant_worker</th>\n",
       "      <th>yearly_debt_payments</th>\n",
       "      <th>credit_limit</th>\n",
       "      <th>credit_limit_used(%)</th>\n",
       "      <th>credit_score</th>\n",
       "      <th>prev_defaults</th>\n",
       "      <th>default_in_last_6months</th>\n",
       "      <th>income_categories</th>\n",
       "    </tr>\n",
       "  </thead>\n",
       "  <tbody>\n",
       "    <tr>\n",
       "      <th>0</th>\n",
       "      <td>0.90625</td>\n",
       "      <td>0.0</td>\n",
       "      <td>1.0</td>\n",
       "      <td>0.0</td>\n",
       "      <td>0.000000</td>\n",
       "      <td>0.384499</td>\n",
       "      <td>0.002727</td>\n",
       "      <td>0.944444</td>\n",
       "      <td>0.111111</td>\n",
       "      <td>0.0</td>\n",
       "      <td>0.043927</td>\n",
       "      <td>0.118874</td>\n",
       "      <td>0.040404</td>\n",
       "      <td>0.621381</td>\n",
       "      <td>0.0</td>\n",
       "      <td>0.0</td>\n",
       "      <td>0.000000</td>\n",
       "    </tr>\n",
       "    <tr>\n",
       "      <th>1</th>\n",
       "      <td>0.78125</td>\n",
       "      <td>0.0</td>\n",
       "      <td>0.0</td>\n",
       "      <td>0.0</td>\n",
       "      <td>0.111111</td>\n",
       "      <td>0.482314</td>\n",
       "      <td>0.003658</td>\n",
       "      <td>0.944444</td>\n",
       "      <td>0.222222</td>\n",
       "      <td>0.0</td>\n",
       "      <td>0.199408</td>\n",
       "      <td>0.343462</td>\n",
       "      <td>0.707071</td>\n",
       "      <td>0.681514</td>\n",
       "      <td>0.0</td>\n",
       "      <td>0.0</td>\n",
       "      <td>0.666667</td>\n",
       "    </tr>\n",
       "    <tr>\n",
       "      <th>2</th>\n",
       "      <td>0.84375</td>\n",
       "      <td>0.0</td>\n",
       "      <td>0.0</td>\n",
       "      <td>0.0</td>\n",
       "      <td>0.111111</td>\n",
       "      <td>0.227219</td>\n",
       "      <td>0.003307</td>\n",
       "      <td>0.944444</td>\n",
       "      <td>0.222222</td>\n",
       "      <td>0.0</td>\n",
       "      <td>0.069932</td>\n",
       "      <td>0.111807</td>\n",
       "      <td>0.717172</td>\n",
       "      <td>0.062361</td>\n",
       "      <td>1.0</td>\n",
       "      <td>0.0</td>\n",
       "      <td>0.333333</td>\n",
       "    </tr>\n",
       "    <tr>\n",
       "      <th>3</th>\n",
       "      <td>0.21875</td>\n",
       "      <td>0.0</td>\n",
       "      <td>0.0</td>\n",
       "      <td>0.0</td>\n",
       "      <td>0.111111</td>\n",
       "      <td>0.248043</td>\n",
       "      <td>0.001372</td>\n",
       "      <td>0.444444</td>\n",
       "      <td>0.111111</td>\n",
       "      <td>1.0</td>\n",
       "      <td>0.096571</td>\n",
       "      <td>0.132913</td>\n",
       "      <td>0.090909</td>\n",
       "      <td>0.701559</td>\n",
       "      <td>0.0</td>\n",
       "      <td>0.0</td>\n",
       "      <td>0.333333</td>\n",
       "    </tr>\n",
       "    <tr>\n",
       "      <th>4</th>\n",
       "      <td>0.90625</td>\n",
       "      <td>1.0</td>\n",
       "      <td>0.0</td>\n",
       "      <td>1.0</td>\n",
       "      <td>0.000000</td>\n",
       "      <td>0.386087</td>\n",
       "      <td>0.000424</td>\n",
       "      <td>0.444444</td>\n",
       "      <td>0.111111</td>\n",
       "      <td>1.0</td>\n",
       "      <td>0.187618</td>\n",
       "      <td>0.413962</td>\n",
       "      <td>0.828283</td>\n",
       "      <td>0.251670</td>\n",
       "      <td>0.5</td>\n",
       "      <td>1.0</td>\n",
       "      <td>0.000000</td>\n",
       "    </tr>\n",
       "  </tbody>\n",
       "</table>\n",
       "</div>"
      ],
      "text/plain": [
       "       age  gender  owns_car  owns_house  no_of_children  net_yearly_income  \\\n",
       "0  0.90625     0.0       1.0         0.0        0.000000           0.384499   \n",
       "1  0.78125     0.0       0.0         0.0        0.111111           0.482314   \n",
       "2  0.84375     0.0       0.0         0.0        0.111111           0.227219   \n",
       "3  0.21875     0.0       0.0         0.0        0.111111           0.248043   \n",
       "4  0.90625     1.0       0.0         1.0        0.000000           0.386087   \n",
       "\n",
       "   no_of_days_employed  occupation_type  total_family_members  migrant_worker  \\\n",
       "0             0.002727         0.944444              0.111111             0.0   \n",
       "1             0.003658         0.944444              0.222222             0.0   \n",
       "2             0.003307         0.944444              0.222222             0.0   \n",
       "3             0.001372         0.444444              0.111111             1.0   \n",
       "4             0.000424         0.444444              0.111111             1.0   \n",
       "\n",
       "   yearly_debt_payments  credit_limit  credit_limit_used(%)  credit_score  \\\n",
       "0              0.043927      0.118874              0.040404      0.621381   \n",
       "1              0.199408      0.343462              0.707071      0.681514   \n",
       "2              0.069932      0.111807              0.717172      0.062361   \n",
       "3              0.096571      0.132913              0.090909      0.701559   \n",
       "4              0.187618      0.413962              0.828283      0.251670   \n",
       "\n",
       "   prev_defaults  default_in_last_6months  income_categories  \n",
       "0            0.0                      0.0           0.000000  \n",
       "1            0.0                      0.0           0.666667  \n",
       "2            1.0                      0.0           0.333333  \n",
       "3            0.0                      0.0           0.333333  \n",
       "4            0.5                      1.0           0.000000  "
      ]
     },
     "execution_count": 124,
     "metadata": {},
     "output_type": "execute_result"
    }
   ],
   "source": [
    "cols_test = test_data.columns\n",
    "\n",
    "test_data[cols_test] = scaler.transform(test_data[cols_test])\n",
    "test_data.head()"
   ]
  },
  {
   "cell_type": "markdown",
   "metadata": {},
   "source": [
    "#### Logitic Regression Prediction"
   ]
  },
  {
   "cell_type": "code",
   "execution_count": 125,
   "metadata": {
    "execution": {
     "iopub.execute_input": "2021-12-05T11:52:45.300746Z",
     "iopub.status.busy": "2021-12-05T11:52:45.300482Z",
     "iopub.status.idle": "2021-12-05T11:52:45.311803Z",
     "shell.execute_reply": "2021-12-05T11:52:45.310904Z",
     "shell.execute_reply.started": "2021-12-05T11:52:45.300717Z"
    }
   },
   "outputs": [
    {
     "data": {
      "text/plain": [
       "array([0, 0, 1, 0, 1, 0, 0, 0, 0, 0], dtype=int64)"
      ]
     },
     "execution_count": 125,
     "metadata": {},
     "output_type": "execute_result"
    }
   ],
   "source": [
    "predicted_target = logreg.predict(test_data)\n",
    "predicted_target[:10]"
   ]
  },
  {
   "cell_type": "code",
   "execution_count": 126,
   "metadata": {
    "execution": {
     "iopub.execute_input": "2021-12-05T11:52:45.314195Z",
     "iopub.status.busy": "2021-12-05T11:52:45.313654Z",
     "iopub.status.idle": "2021-12-05T11:52:45.325783Z",
     "shell.execute_reply": "2021-12-05T11:52:45.324854Z",
     "shell.execute_reply.started": "2021-12-05T11:52:45.314153Z"
    }
   },
   "outputs": [],
   "source": [
    "final_df['credit_card_default'] = predicted_target"
   ]
  },
  {
   "cell_type": "code",
   "execution_count": 127,
   "metadata": {
    "execution": {
     "iopub.execute_input": "2021-12-05T11:52:45.328338Z",
     "iopub.status.busy": "2021-12-05T11:52:45.327666Z",
     "iopub.status.idle": "2021-12-05T11:52:45.344228Z",
     "shell.execute_reply": "2021-12-05T11:52:45.343153Z",
     "shell.execute_reply.started": "2021-12-05T11:52:45.328291Z"
    }
   },
   "outputs": [
    {
     "data": {
      "text/html": [
       "<div>\n",
       "<style scoped>\n",
       "    .dataframe tbody tr th:only-of-type {\n",
       "        vertical-align: middle;\n",
       "    }\n",
       "\n",
       "    .dataframe tbody tr th {\n",
       "        vertical-align: top;\n",
       "    }\n",
       "\n",
       "    .dataframe thead th {\n",
       "        text-align: right;\n",
       "    }\n",
       "</style>\n",
       "<table border=\"1\" class=\"dataframe\">\n",
       "  <thead>\n",
       "    <tr style=\"text-align: right;\">\n",
       "      <th></th>\n",
       "      <th>customer_id</th>\n",
       "      <th>credit_card_default</th>\n",
       "    </tr>\n",
       "  </thead>\n",
       "  <tbody>\n",
       "    <tr>\n",
       "      <th>0</th>\n",
       "      <td>CST_142525</td>\n",
       "      <td>0</td>\n",
       "    </tr>\n",
       "    <tr>\n",
       "      <th>1</th>\n",
       "      <td>CST_129215</td>\n",
       "      <td>0</td>\n",
       "    </tr>\n",
       "    <tr>\n",
       "      <th>2</th>\n",
       "      <td>CST_138443</td>\n",
       "      <td>1</td>\n",
       "    </tr>\n",
       "    <tr>\n",
       "      <th>3</th>\n",
       "      <td>CST_123812</td>\n",
       "      <td>0</td>\n",
       "    </tr>\n",
       "    <tr>\n",
       "      <th>4</th>\n",
       "      <td>CST_144450</td>\n",
       "      <td>1</td>\n",
       "    </tr>\n",
       "  </tbody>\n",
       "</table>\n",
       "</div>"
      ],
      "text/plain": [
       "  customer_id  credit_card_default\n",
       "0  CST_142525                    0\n",
       "1  CST_129215                    0\n",
       "2  CST_138443                    1\n",
       "3  CST_123812                    0\n",
       "4  CST_144450                    1"
      ]
     },
     "execution_count": 127,
     "metadata": {},
     "output_type": "execute_result"
    }
   ],
   "source": [
    "final_df.head()"
   ]
  },
  {
   "cell_type": "code",
   "execution_count": 128,
   "metadata": {
    "execution": {
     "iopub.execute_input": "2021-12-05T11:52:45.346460Z",
     "iopub.status.busy": "2021-12-05T11:52:45.345920Z",
     "iopub.status.idle": "2021-12-05T11:52:45.350100Z",
     "shell.execute_reply": "2021-12-05T11:52:45.349341Z",
     "shell.execute_reply.started": "2021-12-05T11:52:45.346417Z"
    }
   },
   "outputs": [],
   "source": [
    "# # save it to file and submit\n",
    "# final_df.to_csv('LogRegg_submission.csv', index=False)\n",
    "# print('Output Saved to CSV File!!')"
   ]
  },
  {
   "cell_type": "markdown",
   "metadata": {},
   "source": [
    "#### Random Forest Prediction"
   ]
  },
  {
   "cell_type": "code",
   "execution_count": 129,
   "metadata": {},
   "outputs": [],
   "source": [
    "# random_final_df = pd.DataFrame(final_df['customer_id'])\n",
    "\n",
    "# random_predicted_target = rfm_best.predict(test_data)\n",
    "# random_predicted_target[:10]"
   ]
  },
  {
   "cell_type": "code",
   "execution_count": 130,
   "metadata": {},
   "outputs": [],
   "source": [
    "# random_final_df['credit_card_default'] = random_predicted_target"
   ]
  },
  {
   "cell_type": "code",
   "execution_count": 131,
   "metadata": {},
   "outputs": [],
   "source": [
    "# random_final_df.head()"
   ]
  },
  {
   "cell_type": "code",
   "execution_count": 132,
   "metadata": {},
   "outputs": [],
   "source": [
    "# # save it to file and submit\n",
    "# random_final_df.to_csv('RandomForest_submission.csv', index=False)\n",
    "# print('Output Saved to CSV File!!')"
   ]
  },
  {
   "cell_type": "markdown",
   "metadata": {},
   "source": [
    "## Here We came to know that both outputs generated by LogReg and RandomForest are same."
   ]
  },
  {
   "cell_type": "markdown",
   "metadata": {},
   "source": [
    "#### XGBoost Prediction"
   ]
  },
  {
   "cell_type": "code",
   "execution_count": 141,
   "metadata": {},
   "outputs": [
    {
     "data": {
      "text/plain": [
       "array([0, 0, 1, 0, 1, 0, 0, 0, 0, 0], dtype=int64)"
      ]
     },
     "execution_count": 141,
     "metadata": {},
     "output_type": "execute_result"
    }
   ],
   "source": [
    "xgboost_final_df = pd.DataFrame(final_df['customer_id'])\n",
    "\n",
    "xgboost_predicted_target = xgb_best_model.predict(test_data)\n",
    "xgboost_predicted_target[:10]"
   ]
  },
  {
   "cell_type": "code",
   "execution_count": 142,
   "metadata": {},
   "outputs": [
    {
     "data": {
      "text/html": [
       "<div>\n",
       "<style scoped>\n",
       "    .dataframe tbody tr th:only-of-type {\n",
       "        vertical-align: middle;\n",
       "    }\n",
       "\n",
       "    .dataframe tbody tr th {\n",
       "        vertical-align: top;\n",
       "    }\n",
       "\n",
       "    .dataframe thead th {\n",
       "        text-align: right;\n",
       "    }\n",
       "</style>\n",
       "<table border=\"1\" class=\"dataframe\">\n",
       "  <thead>\n",
       "    <tr style=\"text-align: right;\">\n",
       "      <th></th>\n",
       "      <th>customer_id</th>\n",
       "      <th>credit_card_default</th>\n",
       "    </tr>\n",
       "  </thead>\n",
       "  <tbody>\n",
       "    <tr>\n",
       "      <th>0</th>\n",
       "      <td>CST_142525</td>\n",
       "      <td>0</td>\n",
       "    </tr>\n",
       "    <tr>\n",
       "      <th>1</th>\n",
       "      <td>CST_129215</td>\n",
       "      <td>0</td>\n",
       "    </tr>\n",
       "    <tr>\n",
       "      <th>2</th>\n",
       "      <td>CST_138443</td>\n",
       "      <td>1</td>\n",
       "    </tr>\n",
       "    <tr>\n",
       "      <th>3</th>\n",
       "      <td>CST_123812</td>\n",
       "      <td>0</td>\n",
       "    </tr>\n",
       "    <tr>\n",
       "      <th>4</th>\n",
       "      <td>CST_144450</td>\n",
       "      <td>1</td>\n",
       "    </tr>\n",
       "  </tbody>\n",
       "</table>\n",
       "</div>"
      ],
      "text/plain": [
       "  customer_id  credit_card_default\n",
       "0  CST_142525                    0\n",
       "1  CST_129215                    0\n",
       "2  CST_138443                    1\n",
       "3  CST_123812                    0\n",
       "4  CST_144450                    1"
      ]
     },
     "execution_count": 142,
     "metadata": {},
     "output_type": "execute_result"
    }
   ],
   "source": [
    "xgboost_final_df['credit_card_default'] = xgboost_predicted_target\n",
    "xgboost_final_df.head()"
   ]
  },
  {
   "cell_type": "code",
   "execution_count": 143,
   "metadata": {},
   "outputs": [
    {
     "name": "stdout",
     "output_type": "stream",
     "text": [
      "Output Saved to CSV File!!\n"
     ]
    }
   ],
   "source": [
    "# # save it to file and submit\n",
    "# xgboost_final_df.to_csv('XGBoost_submission2.csv', index=False)\n",
    "# print('Output Saved to CSV File!!')"
   ]
  },
  {
   "cell_type": "markdown",
   "metadata": {},
   "source": [
    "#### Artificical Neural Networks Prediction"
   ]
  },
  {
   "cell_type": "code",
   "execution_count": 136,
   "metadata": {},
   "outputs": [],
   "source": [
    "# ann_final_df = pd.DataFrame(final_df['customer_id'])\n",
    "\n",
    "# ann_predicted_probs = model.predict(test_data)\n",
    "\n",
    "# # converting 2D array to 1D array\n",
    "# ann_predicted_probs = np.reshape(ann_predicted_probs, len(ann_predicted_probs))\n",
    "# ann_predicted_probs[:10]"
   ]
  },
  {
   "cell_type": "code",
   "execution_count": 137,
   "metadata": {},
   "outputs": [],
   "source": [
    "# ann_final_df['ann_probs'] = ann_predicted_probs\n",
    "\n",
    "# # setting optimal cutoff of 0.675\n",
    "# ann_final_df['credit_card_default']= ann_final_df.ann_probs.map(lambda x: 1 if x > 0.675 else 0)\n",
    "\n",
    "# # drop 'ann_probs' column\n",
    "# ann_final_df.drop('ann_probs', axis=1, inplace=True)\n",
    "# ann_final_df.head()"
   ]
  },
  {
   "cell_type": "code",
   "execution_count": 138,
   "metadata": {},
   "outputs": [],
   "source": [
    "# # save it to file and submit\n",
    "# ann_final_df.to_csv('ANeuralNets_submission.csv', index=False)\n",
    "# print('Output Saved to CSV File!!')"
   ]
  }
 ],
 "metadata": {
  "kernelspec": {
   "display_name": "Python 3",
   "language": "python",
   "name": "python3"
  },
  "language_info": {
   "codemirror_mode": {
    "name": "ipython",
    "version": 3
   },
   "file_extension": ".py",
   "mimetype": "text/x-python",
   "name": "python",
   "nbconvert_exporter": "python",
   "pygments_lexer": "ipython3",
   "version": "3.8.8"
  }
 },
 "nbformat": 4,
 "nbformat_minor": 4
}
